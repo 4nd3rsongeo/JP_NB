{
 "cells": [
  {
   "cell_type": "code",
   "execution_count": 96,
   "metadata": {},
   "outputs": [],
   "source": [
    "import pandas as pd\n",
    "import matplotlib.pyplot as plt\n",
    "import seaborn as sea\n",
    "import numpy as np\n",
    "\n",
    "pd.set_option('display.max_columns', None)\n",
    "pd.set_option('display.max_rows', None)"
   ]
  },
  {
   "cell_type": "markdown",
   "metadata": {},
   "source": [
    "## Managing Dependencies Before Get Started:"
   ]
  },
  {
   "cell_type": "code",
   "execution_count": 3,
   "metadata": {},
   "outputs": [],
   "source": [
    "# check if packages are installed: open conda prompt and run:\n",
    "\n",
    "# conda search scipy\n",
    "# conda search matplotlib\n",
    "# conda search seaborn\n",
    "# verify package version: sea.__version__ (example using seaborn)\n",
    "\n",
    "# installing packages:\n",
    "\n",
    "# when you code using main env:\n",
    "# conda install scipy\n",
    "# or (specific version):\n",
    "# conda install scipy=0.15.0\n",
    "\n",
    "# when you code in many environments (rare):\n",
    "# conda install --name myenv scipy\n"
   ]
  },
  {
   "cell_type": "code",
   "execution_count": null,
   "metadata": {},
   "outputs": [],
   "source": []
  },
  {
   "cell_type": "markdown",
   "metadata": {},
   "source": [
    "# Listas Úteis"
   ]
  },
  {
   "cell_type": "code",
   "execution_count": 54,
   "metadata": {},
   "outputs": [],
   "source": [
    "cover         = ['CG', 'RO']\n",
    "weathered     = ['FMN', 'HCT', 'ICT', 'IMN']\n",
    "mn_rocks      = ['IMN', 'FMN']\n",
    "fresh_clean   = ['HC', 'HF', 'IC', 'IDO', 'IF', 'IFR']\n",
    "str_ore       = ['FMN', 'HCT', 'ICT', 'IMN', 'HC', 'HF', 'IC', 'IDO', 'IF', 'IFR']\n",
    "ore_rocks     = str_ore + cover\n",
    "carb_rocks    = ['IDO', 'DO', 'BR']\n",
    "basin_rocks   = ['IC', 'IF']\n",
    "\n",
    "maiores       = ['FEGL', 'SIGL', 'PGL', 'ALGL', 'MNGL', 'PFGL']\n",
    "menores       = ['CAGL', 'TIGL', 'MGGL', 'CA1A', 'TI1A', 'MG1A', 'CA1B', 'TI1B', 'MG1B', 'CA2','TI2','MG2', 'CA3', 'TI3', 'MG3' ]\n",
    "teores_gl     = ['fegl', 'sigl', 'pgl', 'algl', 'mngl', 'pfgl', 'tigl', 'mggl', 'cagl']\n",
    "faixas        = ['g1', 'g2', 'g3', 'g4']\n",
    "param_event   = ['fegl', 'sigl', 'pgl', 'algl', 'mngl', 'pfgl', 'tigl', 'mggl', 'cagl', 'g1', 'g2', 'g3', 'g4']\n",
    "\n",
    "not_countable = ['furo','na','de','ate','clv','clm','flx_an','flx_an_or','da_ana','da_sam','d_agru','tipo_am','global','mass_t','status']"
   ]
  },
  {
   "cell_type": "markdown",
   "metadata": {},
   "source": [
    "## FORMATOS E TAMANHOS DE FIGURAS"
   ]
  },
  {
   "cell_type": "code",
   "execution_count": 5,
   "metadata": {},
   "outputs": [],
   "source": [
    "chart_size= [10,10]"
   ]
  },
  {
   "cell_type": "markdown",
   "metadata": {},
   "source": [
    "## FUNÇÕES DE CONVENIÊNCIA"
   ]
  },
  {
   "cell_type": "markdown",
   "metadata": {},
   "source": [
    "##### FUNÇÃO DE MÉDIA PONDERADA"
   ]
  },
  {
   "cell_type": "code",
   "execution_count": 6,
   "metadata": {},
   "outputs": [],
   "source": [
    "def wavg(group, avg_name, weight_name):\n",
    "    \"\"\" http://stackoverflow.com/questions/10951341/pandas-dataframe-aggregate-function-using-multiple-columns\n",
    "    In rare instance, we may not have weights, so just return the mean. Customize this if your business case\n",
    "    should return otherwise.\n",
    "    \"\"\"\n",
    "    d = group[avg_name]\n",
    "    w = group[weight_name]\n",
    "    try:\n",
    "        return (d * w).sum() / w.sum()\n",
    "    except ZeroDivisionError:\n",
    "        return d.mean()"
   ]
  },
  {
   "cell_type": "markdown",
   "metadata": {},
   "source": [
    "##### FUNÇÃO PARA TRAMA MINERAL DE ITABIRITOS COMUNS LIMPOS"
   ]
  },
  {
   "cell_type": "code",
   "execution_count": 7,
   "metadata": {},
   "outputs": [],
   "source": [
    "def trama_itab(fegl, sigl):\n",
    "    return fegl * 1.42 + sigl"
   ]
  },
  {
   "cell_type": "markdown",
   "metadata": {},
   "source": [
    "##### FUNÇÃO PARA DELETERIOS TOTAIS"
   ]
  },
  {
   "cell_type": "code",
   "execution_count": 8,
   "metadata": {},
   "outputs": [],
   "source": [
    "def outros(pgl, algl, mngl, pfgl):\n",
    "    return 2.29*pgl + algl + 1.29*mngl + pfgl\n"
   ]
  },
  {
   "cell_type": "markdown",
   "metadata": {},
   "source": [
    "## Load data"
   ]
  },
  {
   "cell_type": "code",
   "execution_count": 9,
   "metadata": {},
   "outputs": [],
   "source": [
    "fso = pd.read_csv('scdscd_fso_assay_para_isotopia.csv', low_memory=False, na_values='-99', encoding=\"latin1\")"
   ]
  },
  {
   "cell_type": "markdown",
   "metadata": {},
   "source": [
    "## Load dummies to test resources\n"
   ]
  },
  {
   "cell_type": "code",
   "execution_count": 10,
   "metadata": {},
   "outputs": [],
   "source": [
    "penguins=sea.load_dataset(\"penguins\")"
   ]
  },
  {
   "cell_type": "code",
   "execution_count": 11,
   "metadata": {},
   "outputs": [],
   "source": [
    "iris=sea.load_dataset(\"iris\")"
   ]
  },
  {
   "cell_type": "code",
   "execution_count": 13,
   "metadata": {
    "scrolled": true
   },
   "outputs": [
    {
     "data": {
      "text/plain": [
       "Index(['furo', 'na', 'de', 'ate', 'comp', 'clv', 'cli', 'intemp', 'estrat',\n",
       "       'fegl',\n",
       "       ...\n",
       "       'fq3', 'rec_am', 'flx_an', 'da_anq', 'd_agru', 'mass_t', 'status',\n",
       "       't_ens', 't_inf', 'modelo'],\n",
       "      dtype='object', length=122)"
      ]
     },
     "execution_count": 13,
     "metadata": {},
     "output_type": "execute_result"
    }
   ],
   "source": [
    "fso.columns"
   ]
  },
  {
   "cell_type": "code",
   "execution_count": 19,
   "metadata": {},
   "outputs": [],
   "source": [
    "fso=fso.rename(columns=str.upper)"
   ]
  },
  {
   "cell_type": "markdown",
   "metadata": {},
   "source": [
    "### Extracting cli fso  database content:"
   ]
  },
  {
   "cell_type": "code",
   "execution_count": 20,
   "metadata": {},
   "outputs": [
    {
     "data": {
      "text/plain": [
       "array(['CE', 'HF', 'MD', 'MS', 'MD_SL', 'JP', 'HMN', 'HC', 'AT', 'SR',\n",
       "       'MSD_SL', 'MS_SL', 'CQ', 'MS_L', 'MD_L', 'MD_DK', 'MSD', 'MS_DK',\n",
       "       'BR_MDJP', 'BR', 'MSD_L', 'CO', 'MSD_DK'], dtype=object)"
      ]
     },
     "execution_count": 20,
     "metadata": {},
     "output_type": "execute_result"
    }
   ],
   "source": [
    "fso.CLI.unique()"
   ]
  },
  {
   "cell_type": "markdown",
   "metadata": {},
   "source": [
    "## Basic Exploratory Data Analysis"
   ]
  },
  {
   "cell_type": "code",
   "execution_count": 37,
   "metadata": {},
   "outputs": [],
   "source": [
    "desc=fso.describe()"
   ]
  },
  {
   "cell_type": "code",
   "execution_count": 38,
   "metadata": {},
   "outputs": [
    {
     "data": {
      "text/html": [
       "<div>\n",
       "<style scoped>\n",
       "    .dataframe tbody tr th:only-of-type {\n",
       "        vertical-align: middle;\n",
       "    }\n",
       "\n",
       "    .dataframe tbody tr th {\n",
       "        vertical-align: top;\n",
       "    }\n",
       "\n",
       "    .dataframe thead th {\n",
       "        text-align: right;\n",
       "    }\n",
       "</style>\n",
       "<table border=\"1\" class=\"dataframe\">\n",
       "  <thead>\n",
       "    <tr style=\"text-align: right;\">\n",
       "      <th></th>\n",
       "      <th>DE</th>\n",
       "      <th>ATE</th>\n",
       "      <th>COMP</th>\n",
       "      <th>FEGL</th>\n",
       "      <th>SIGL</th>\n",
       "      <th>PGL</th>\n",
       "      <th>ALGL</th>\n",
       "      <th>MNGL</th>\n",
       "      <th>PFGL</th>\n",
       "      <th>TIGL</th>\n",
       "      <th>MGGL</th>\n",
       "      <th>CAGL</th>\n",
       "      <th>KGL</th>\n",
       "      <th>CUGL</th>\n",
       "      <th>G1</th>\n",
       "      <th>G1A</th>\n",
       "      <th>G1B</th>\n",
       "      <th>G2</th>\n",
       "      <th>G2A</th>\n",
       "      <th>G2B</th>\n",
       "      <th>G3</th>\n",
       "      <th>FE1</th>\n",
       "      <th>SI1</th>\n",
       "      <th>P1</th>\n",
       "      <th>AL1</th>\n",
       "      <th>MN1</th>\n",
       "      <th>PF1</th>\n",
       "      <th>TI1</th>\n",
       "      <th>MG1</th>\n",
       "      <th>CA1</th>\n",
       "      <th>K1</th>\n",
       "      <th>CU1</th>\n",
       "      <th>FE1A</th>\n",
       "      <th>SI1A</th>\n",
       "      <th>P1A</th>\n",
       "      <th>AL1A</th>\n",
       "      <th>MN1A</th>\n",
       "      <th>PF1A</th>\n",
       "      <th>TI1A</th>\n",
       "      <th>MG1A</th>\n",
       "      <th>CA1A</th>\n",
       "      <th>K1A</th>\n",
       "      <th>CU1A</th>\n",
       "      <th>FE1B</th>\n",
       "      <th>SI1B</th>\n",
       "      <th>P1B</th>\n",
       "      <th>AL1B</th>\n",
       "      <th>MN1B</th>\n",
       "      <th>PF1B</th>\n",
       "      <th>TI1B</th>\n",
       "      <th>MG1B</th>\n",
       "      <th>CA1B</th>\n",
       "      <th>K1B</th>\n",
       "      <th>CU1B</th>\n",
       "      <th>FE2</th>\n",
       "      <th>SI2</th>\n",
       "      <th>P2</th>\n",
       "      <th>AL2</th>\n",
       "      <th>MN2</th>\n",
       "      <th>PF2</th>\n",
       "      <th>TI2</th>\n",
       "      <th>MG2</th>\n",
       "      <th>CA2</th>\n",
       "      <th>K2</th>\n",
       "      <th>CU2</th>\n",
       "      <th>FE2A</th>\n",
       "      <th>SI2A</th>\n",
       "      <th>P2A</th>\n",
       "      <th>AL2A</th>\n",
       "      <th>MN2A</th>\n",
       "      <th>PF2A</th>\n",
       "      <th>TI2A</th>\n",
       "      <th>MG2A</th>\n",
       "      <th>CA2A</th>\n",
       "      <th>K2A</th>\n",
       "      <th>CU2A</th>\n",
       "      <th>FE2B</th>\n",
       "      <th>SI2B</th>\n",
       "      <th>P2B</th>\n",
       "      <th>AL2B</th>\n",
       "      <th>MN2B</th>\n",
       "      <th>PF2B</th>\n",
       "      <th>TI2B</th>\n",
       "      <th>MG2B</th>\n",
       "      <th>CA2B</th>\n",
       "      <th>K2B</th>\n",
       "      <th>CU2B</th>\n",
       "      <th>FE3</th>\n",
       "      <th>SI3</th>\n",
       "      <th>P3</th>\n",
       "      <th>AL3</th>\n",
       "      <th>MN3</th>\n",
       "      <th>PF3</th>\n",
       "      <th>TI3</th>\n",
       "      <th>MG3</th>\n",
       "      <th>CA3</th>\n",
       "      <th>K3</th>\n",
       "      <th>CU3</th>\n",
       "      <th>FGRA</th>\n",
       "      <th>FQGL</th>\n",
       "      <th>FQ1</th>\n",
       "      <th>FQ1A</th>\n",
       "      <th>FQ1B</th>\n",
       "      <th>FQ2</th>\n",
       "      <th>FQ2A</th>\n",
       "      <th>FQ2B</th>\n",
       "      <th>FQ3</th>\n",
       "      <th>REC_AM</th>\n",
       "      <th>MASS_T</th>\n",
       "      <th>STATUS</th>\n",
       "      <th>T_ENS</th>\n",
       "    </tr>\n",
       "  </thead>\n",
       "  <tbody>\n",
       "    <tr>\n",
       "      <th>count</th>\n",
       "      <td>33343.000000</td>\n",
       "      <td>33343.000000</td>\n",
       "      <td>33343.000000</td>\n",
       "      <td>26539.000000</td>\n",
       "      <td>26530.000000</td>\n",
       "      <td>26539.000000</td>\n",
       "      <td>26516.000000</td>\n",
       "      <td>26520.000000</td>\n",
       "      <td>26521.000000</td>\n",
       "      <td>26116.000000</td>\n",
       "      <td>26066.000000</td>\n",
       "      <td>25717.000000</td>\n",
       "      <td>23350.000000</td>\n",
       "      <td>7912.000000</td>\n",
       "      <td>19498.000000</td>\n",
       "      <td>19498.000000</td>\n",
       "      <td>19498.000000</td>\n",
       "      <td>19498.000000</td>\n",
       "      <td>16955.000000</td>\n",
       "      <td>16955.000000</td>\n",
       "      <td>19498.000000</td>\n",
       "      <td>19233.000000</td>\n",
       "      <td>19232.000000</td>\n",
       "      <td>19233.000000</td>\n",
       "      <td>19232.000000</td>\n",
       "      <td>19233.000000</td>\n",
       "      <td>19232.000000</td>\n",
       "      <td>19223.000000</td>\n",
       "      <td>19174.000000</td>\n",
       "      <td>18875.000000</td>\n",
       "      <td>17983.000000</td>\n",
       "      <td>5993.000000</td>\n",
       "      <td>17138.000000</td>\n",
       "      <td>17137.000000</td>\n",
       "      <td>17138.000000</td>\n",
       "      <td>17138.000000</td>\n",
       "      <td>17138.000000</td>\n",
       "      <td>17138.000000</td>\n",
       "      <td>17132.000000</td>\n",
       "      <td>17121.000000</td>\n",
       "      <td>17130.000000</td>\n",
       "      <td>16377.000000</td>\n",
       "      <td>5501.000000</td>\n",
       "      <td>19041.000000</td>\n",
       "      <td>19041.000000</td>\n",
       "      <td>19041.000000</td>\n",
       "      <td>19040.000000</td>\n",
       "      <td>19041.000000</td>\n",
       "      <td>19041.000000</td>\n",
       "      <td>19035.000000</td>\n",
       "      <td>18987.000000</td>\n",
       "      <td>19027.000000</td>\n",
       "      <td>18077.000000</td>\n",
       "      <td>5887.000000</td>\n",
       "      <td>19329.000000</td>\n",
       "      <td>19329.000000</td>\n",
       "      <td>19329.000000</td>\n",
       "      <td>19327.000000</td>\n",
       "      <td>19327.000000</td>\n",
       "      <td>19328.000000</td>\n",
       "      <td>19323.000000</td>\n",
       "      <td>19279.000000</td>\n",
       "      <td>19136.000000</td>\n",
       "      <td>18067.000000</td>\n",
       "      <td>5871.000000</td>\n",
       "      <td>16785.000000</td>\n",
       "      <td>16785.000000</td>\n",
       "      <td>16785.000000</td>\n",
       "      <td>16785.000000</td>\n",
       "      <td>16785.000000</td>\n",
       "      <td>16784.000000</td>\n",
       "      <td>16785.000000</td>\n",
       "      <td>16785.000000</td>\n",
       "      <td>16783.000000</td>\n",
       "      <td>15716.000000</td>\n",
       "      <td>5672.000000</td>\n",
       "      <td>16777.000000</td>\n",
       "      <td>16777.000000</td>\n",
       "      <td>16777.000000</td>\n",
       "      <td>16777.000000</td>\n",
       "      <td>16776.000000</td>\n",
       "      <td>16777.000000</td>\n",
       "      <td>16777.000000</td>\n",
       "      <td>16777.000000</td>\n",
       "      <td>16775.000000</td>\n",
       "      <td>15812.000000</td>\n",
       "      <td>5668.000000</td>\n",
       "      <td>19298.000000</td>\n",
       "      <td>19298.000000</td>\n",
       "      <td>19298.000000</td>\n",
       "      <td>19298.000000</td>\n",
       "      <td>19297.000000</td>\n",
       "      <td>19298.000000</td>\n",
       "      <td>19295.000000</td>\n",
       "      <td>19246.000000</td>\n",
       "      <td>19290.000000</td>\n",
       "      <td>18391.000000</td>\n",
       "      <td>5859.000000</td>\n",
       "      <td>19498.000000</td>\n",
       "      <td>26539.000000</td>\n",
       "      <td>19233.000000</td>\n",
       "      <td>17138.000000</td>\n",
       "      <td>19041.000000</td>\n",
       "      <td>19329.000000</td>\n",
       "      <td>16785.000000</td>\n",
       "      <td>16777.000000</td>\n",
       "      <td>19298.000000</td>\n",
       "      <td>21472.00000</td>\n",
       "      <td>18053.000000</td>\n",
       "      <td>0.0</td>\n",
       "      <td>0.0</td>\n",
       "    </tr>\n",
       "    <tr>\n",
       "      <th>mean</th>\n",
       "      <td>105.252225</td>\n",
       "      <td>116.249701</td>\n",
       "      <td>10.997476</td>\n",
       "      <td>61.449547</td>\n",
       "      <td>6.928560</td>\n",
       "      <td>0.057158</td>\n",
       "      <td>1.601214</td>\n",
       "      <td>0.145172</td>\n",
       "      <td>3.027524</td>\n",
       "      <td>0.106942</td>\n",
       "      <td>0.106956</td>\n",
       "      <td>0.030395</td>\n",
       "      <td>0.033903</td>\n",
       "      <td>0.018458</td>\n",
       "      <td>31.698575</td>\n",
       "      <td>20.399882</td>\n",
       "      <td>11.298717</td>\n",
       "      <td>44.871257</td>\n",
       "      <td>22.959367</td>\n",
       "      <td>20.395519</td>\n",
       "      <td>23.338702</td>\n",
       "      <td>61.869832</td>\n",
       "      <td>6.198626</td>\n",
       "      <td>0.057053</td>\n",
       "      <td>1.574176</td>\n",
       "      <td>0.177496</td>\n",
       "      <td>3.217689</td>\n",
       "      <td>0.080459</td>\n",
       "      <td>0.077766</td>\n",
       "      <td>0.024235</td>\n",
       "      <td>0.018606</td>\n",
       "      <td>0.017455</td>\n",
       "      <td>60.442558</td>\n",
       "      <td>7.169898</td>\n",
       "      <td>0.066061</td>\n",
       "      <td>2.094231</td>\n",
       "      <td>0.202713</td>\n",
       "      <td>3.691894</td>\n",
       "      <td>0.090548</td>\n",
       "      <td>0.082656</td>\n",
       "      <td>0.025463</td>\n",
       "      <td>0.019851</td>\n",
       "      <td>0.018559</td>\n",
       "      <td>62.638000</td>\n",
       "      <td>5.447153</td>\n",
       "      <td>0.054399</td>\n",
       "      <td>1.398227</td>\n",
       "      <td>0.167639</td>\n",
       "      <td>3.064778</td>\n",
       "      <td>0.079042</td>\n",
       "      <td>0.078097</td>\n",
       "      <td>0.020546</td>\n",
       "      <td>0.016980</td>\n",
       "      <td>0.017904</td>\n",
       "      <td>63.348589</td>\n",
       "      <td>4.949838</td>\n",
       "      <td>0.056125</td>\n",
       "      <td>1.132080</td>\n",
       "      <td>0.140508</td>\n",
       "      <td>2.825102</td>\n",
       "      <td>0.086937</td>\n",
       "      <td>0.077782</td>\n",
       "      <td>0.021129</td>\n",
       "      <td>0.016725</td>\n",
       "      <td>0.017679</td>\n",
       "      <td>63.019300</td>\n",
       "      <td>5.366967</td>\n",
       "      <td>0.056319</td>\n",
       "      <td>1.200211</td>\n",
       "      <td>0.151991</td>\n",
       "      <td>2.781140</td>\n",
       "      <td>0.085807</td>\n",
       "      <td>0.082746</td>\n",
       "      <td>0.022400</td>\n",
       "      <td>0.016024</td>\n",
       "      <td>0.017523</td>\n",
       "      <td>62.663549</td>\n",
       "      <td>5.523467</td>\n",
       "      <td>0.064517</td>\n",
       "      <td>1.258682</td>\n",
       "      <td>0.140506</td>\n",
       "      <td>3.039644</td>\n",
       "      <td>0.107233</td>\n",
       "      <td>0.084615</td>\n",
       "      <td>0.023912</td>\n",
       "      <td>0.016804</td>\n",
       "      <td>0.019772</td>\n",
       "      <td>61.523855</td>\n",
       "      <td>7.042633</td>\n",
       "      <td>0.068784</td>\n",
       "      <td>1.319437</td>\n",
       "      <td>0.142949</td>\n",
       "      <td>3.034019</td>\n",
       "      <td>0.123424</td>\n",
       "      <td>0.078169</td>\n",
       "      <td>0.024497</td>\n",
       "      <td>0.023171</td>\n",
       "      <td>0.020396</td>\n",
       "      <td>99.908467</td>\n",
       "      <td>99.980770</td>\n",
       "      <td>100.003990</td>\n",
       "      <td>99.997438</td>\n",
       "      <td>99.994900</td>\n",
       "      <td>99.986968</td>\n",
       "      <td>99.974280</td>\n",
       "      <td>99.969309</td>\n",
       "      <td>99.945324</td>\n",
       "      <td>87.93587</td>\n",
       "      <td>127.599412</td>\n",
       "      <td>NaN</td>\n",
       "      <td>NaN</td>\n",
       "    </tr>\n",
       "    <tr>\n",
       "      <th>std</th>\n",
       "      <td>95.976765</td>\n",
       "      <td>97.960948</td>\n",
       "      <td>16.703344</td>\n",
       "      <td>10.841551</td>\n",
       "      <td>13.749255</td>\n",
       "      <td>0.089839</td>\n",
       "      <td>4.020351</td>\n",
       "      <td>0.531187</td>\n",
       "      <td>2.621058</td>\n",
       "      <td>0.220047</td>\n",
       "      <td>0.518825</td>\n",
       "      <td>0.241966</td>\n",
       "      <td>0.181527</td>\n",
       "      <td>0.034889</td>\n",
       "      <td>28.854335</td>\n",
       "      <td>26.603285</td>\n",
       "      <td>6.218237</td>\n",
       "      <td>19.071669</td>\n",
       "      <td>10.323892</td>\n",
       "      <td>11.880414</td>\n",
       "      <td>14.748401</td>\n",
       "      <td>9.255089</td>\n",
       "      <td>13.057079</td>\n",
       "      <td>0.083388</td>\n",
       "      <td>3.006665</td>\n",
       "      <td>0.790047</td>\n",
       "      <td>2.427524</td>\n",
       "      <td>0.128696</td>\n",
       "      <td>0.277863</td>\n",
       "      <td>0.156488</td>\n",
       "      <td>0.071971</td>\n",
       "      <td>0.035541</td>\n",
       "      <td>9.928889</td>\n",
       "      <td>14.063875</td>\n",
       "      <td>0.092942</td>\n",
       "      <td>3.822213</td>\n",
       "      <td>1.032641</td>\n",
       "      <td>2.681099</td>\n",
       "      <td>0.143497</td>\n",
       "      <td>0.310084</td>\n",
       "      <td>0.165215</td>\n",
       "      <td>0.084763</td>\n",
       "      <td>0.038301</td>\n",
       "      <td>8.699874</td>\n",
       "      <td>12.018251</td>\n",
       "      <td>0.082298</td>\n",
       "      <td>2.830464</td>\n",
       "      <td>0.720540</td>\n",
       "      <td>2.390653</td>\n",
       "      <td>0.129717</td>\n",
       "      <td>0.342317</td>\n",
       "      <td>0.127086</td>\n",
       "      <td>0.058866</td>\n",
       "      <td>0.040280</td>\n",
       "      <td>8.418434</td>\n",
       "      <td>11.294710</td>\n",
       "      <td>0.095383</td>\n",
       "      <td>2.546581</td>\n",
       "      <td>0.478512</td>\n",
       "      <td>2.374919</td>\n",
       "      <td>0.157027</td>\n",
       "      <td>0.347489</td>\n",
       "      <td>0.132585</td>\n",
       "      <td>0.050909</td>\n",
       "      <td>0.047059</td>\n",
       "      <td>8.902445</td>\n",
       "      <td>12.097700</td>\n",
       "      <td>0.094501</td>\n",
       "      <td>2.715241</td>\n",
       "      <td>0.557135</td>\n",
       "      <td>2.424096</td>\n",
       "      <td>0.147807</td>\n",
       "      <td>0.361083</td>\n",
       "      <td>0.135954</td>\n",
       "      <td>0.045088</td>\n",
       "      <td>0.041707</td>\n",
       "      <td>8.978959</td>\n",
       "      <td>11.975879</td>\n",
       "      <td>0.114840</td>\n",
       "      <td>2.674817</td>\n",
       "      <td>0.437033</td>\n",
       "      <td>2.559626</td>\n",
       "      <td>0.204417</td>\n",
       "      <td>0.376975</td>\n",
       "      <td>0.164524</td>\n",
       "      <td>0.049692</td>\n",
       "      <td>0.080105</td>\n",
       "      <td>10.987425</td>\n",
       "      <td>15.357595</td>\n",
       "      <td>0.114547</td>\n",
       "      <td>2.330215</td>\n",
       "      <td>0.491028</td>\n",
       "      <td>2.413951</td>\n",
       "      <td>0.250785</td>\n",
       "      <td>0.341862</td>\n",
       "      <td>0.171478</td>\n",
       "      <td>0.092329</td>\n",
       "      <td>0.046135</td>\n",
       "      <td>0.510125</td>\n",
       "      <td>0.929588</td>\n",
       "      <td>0.527227</td>\n",
       "      <td>0.611433</td>\n",
       "      <td>0.567236</td>\n",
       "      <td>0.503210</td>\n",
       "      <td>0.599226</td>\n",
       "      <td>0.606430</td>\n",
       "      <td>0.578672</td>\n",
       "      <td>20.50865</td>\n",
       "      <td>1298.823136</td>\n",
       "      <td>NaN</td>\n",
       "      <td>NaN</td>\n",
       "    </tr>\n",
       "    <tr>\n",
       "      <th>min</th>\n",
       "      <td>0.000000</td>\n",
       "      <td>0.100000</td>\n",
       "      <td>0.080000</td>\n",
       "      <td>1.260000</td>\n",
       "      <td>0.010000</td>\n",
       "      <td>0.001000</td>\n",
       "      <td>0.018000</td>\n",
       "      <td>0.001000</td>\n",
       "      <td>-1.400000</td>\n",
       "      <td>0.001000</td>\n",
       "      <td>0.001000</td>\n",
       "      <td>0.001000</td>\n",
       "      <td>0.001000</td>\n",
       "      <td>0.001000</td>\n",
       "      <td>0.000000</td>\n",
       "      <td>0.000000</td>\n",
       "      <td>0.000000</td>\n",
       "      <td>0.000000</td>\n",
       "      <td>0.000000</td>\n",
       "      <td>0.000000</td>\n",
       "      <td>0.000000</td>\n",
       "      <td>5.633000</td>\n",
       "      <td>0.028000</td>\n",
       "      <td>0.001000</td>\n",
       "      <td>0.010000</td>\n",
       "      <td>0.004000</td>\n",
       "      <td>-1.400000</td>\n",
       "      <td>0.001000</td>\n",
       "      <td>0.001000</td>\n",
       "      <td>0.001000</td>\n",
       "      <td>0.001000</td>\n",
       "      <td>0.003000</td>\n",
       "      <td>5.690000</td>\n",
       "      <td>0.030000</td>\n",
       "      <td>0.001000</td>\n",
       "      <td>0.010000</td>\n",
       "      <td>0.004000</td>\n",
       "      <td>-1.400000</td>\n",
       "      <td>0.001000</td>\n",
       "      <td>0.001000</td>\n",
       "      <td>0.001000</td>\n",
       "      <td>0.001000</td>\n",
       "      <td>0.001000</td>\n",
       "      <td>5.320000</td>\n",
       "      <td>0.028000</td>\n",
       "      <td>0.001000</td>\n",
       "      <td>0.015000</td>\n",
       "      <td>0.004000</td>\n",
       "      <td>-1.800000</td>\n",
       "      <td>0.001000</td>\n",
       "      <td>0.001000</td>\n",
       "      <td>0.001000</td>\n",
       "      <td>0.001000</td>\n",
       "      <td>0.001000</td>\n",
       "      <td>6.326000</td>\n",
       "      <td>0.028000</td>\n",
       "      <td>0.002000</td>\n",
       "      <td>0.010000</td>\n",
       "      <td>0.004000</td>\n",
       "      <td>-0.668000</td>\n",
       "      <td>0.001000</td>\n",
       "      <td>0.001000</td>\n",
       "      <td>0.001000</td>\n",
       "      <td>0.001000</td>\n",
       "      <td>0.002000</td>\n",
       "      <td>6.220000</td>\n",
       "      <td>0.028000</td>\n",
       "      <td>0.001000</td>\n",
       "      <td>0.010000</td>\n",
       "      <td>0.004000</td>\n",
       "      <td>-0.560000</td>\n",
       "      <td>0.003000</td>\n",
       "      <td>0.001000</td>\n",
       "      <td>0.001000</td>\n",
       "      <td>0.001000</td>\n",
       "      <td>0.001000</td>\n",
       "      <td>6.630000</td>\n",
       "      <td>0.030000</td>\n",
       "      <td>0.002000</td>\n",
       "      <td>0.010000</td>\n",
       "      <td>0.004000</td>\n",
       "      <td>-0.850000</td>\n",
       "      <td>0.001000</td>\n",
       "      <td>0.001000</td>\n",
       "      <td>0.001000</td>\n",
       "      <td>0.001000</td>\n",
       "      <td>0.001000</td>\n",
       "      <td>5.100000</td>\n",
       "      <td>0.030000</td>\n",
       "      <td>0.002000</td>\n",
       "      <td>0.010000</td>\n",
       "      <td>0.004000</td>\n",
       "      <td>-1.190000</td>\n",
       "      <td>0.001000</td>\n",
       "      <td>0.001000</td>\n",
       "      <td>0.001000</td>\n",
       "      <td>0.001000</td>\n",
       "      <td>0.001000</td>\n",
       "      <td>92.715000</td>\n",
       "      <td>31.692000</td>\n",
       "      <td>91.063000</td>\n",
       "      <td>90.918000</td>\n",
       "      <td>91.642000</td>\n",
       "      <td>92.474000</td>\n",
       "      <td>91.548000</td>\n",
       "      <td>92.676000</td>\n",
       "      <td>92.456000</td>\n",
       "      <td>0.00000</td>\n",
       "      <td>0.000000</td>\n",
       "      <td>NaN</td>\n",
       "      <td>NaN</td>\n",
       "    </tr>\n",
       "    <tr>\n",
       "      <th>25%</th>\n",
       "      <td>31.100000</td>\n",
       "      <td>41.500000</td>\n",
       "      <td>6.100000</td>\n",
       "      <td>62.555500</td>\n",
       "      <td>0.684000</td>\n",
       "      <td>0.012000</td>\n",
       "      <td>0.269000</td>\n",
       "      <td>0.025000</td>\n",
       "      <td>1.212000</td>\n",
       "      <td>0.026000</td>\n",
       "      <td>0.030000</td>\n",
       "      <td>0.007000</td>\n",
       "      <td>0.005000</td>\n",
       "      <td>0.005000</td>\n",
       "      <td>9.900000</td>\n",
       "      <td>2.010000</td>\n",
       "      <td>6.800000</td>\n",
       "      <td>32.523500</td>\n",
       "      <td>15.900000</td>\n",
       "      <td>10.639000</td>\n",
       "      <td>11.501000</td>\n",
       "      <td>62.417000</td>\n",
       "      <td>0.669750</td>\n",
       "      <td>0.012000</td>\n",
       "      <td>0.303000</td>\n",
       "      <td>0.024000</td>\n",
       "      <td>1.383750</td>\n",
       "      <td>0.025000</td>\n",
       "      <td>0.025000</td>\n",
       "      <td>0.006000</td>\n",
       "      <td>0.004000</td>\n",
       "      <td>0.004000</td>\n",
       "      <td>59.602500</td>\n",
       "      <td>0.650000</td>\n",
       "      <td>0.013000</td>\n",
       "      <td>0.303000</td>\n",
       "      <td>0.021000</td>\n",
       "      <td>1.640000</td>\n",
       "      <td>0.027000</td>\n",
       "      <td>0.025000</td>\n",
       "      <td>0.006000</td>\n",
       "      <td>0.004000</td>\n",
       "      <td>0.004000</td>\n",
       "      <td>63.220000</td>\n",
       "      <td>0.670000</td>\n",
       "      <td>0.012000</td>\n",
       "      <td>0.300000</td>\n",
       "      <td>0.023000</td>\n",
       "      <td>1.300000</td>\n",
       "      <td>0.024000</td>\n",
       "      <td>0.025000</td>\n",
       "      <td>0.006000</td>\n",
       "      <td>0.004000</td>\n",
       "      <td>0.004000</td>\n",
       "      <td>63.712000</td>\n",
       "      <td>0.705000</td>\n",
       "      <td>0.012000</td>\n",
       "      <td>0.249000</td>\n",
       "      <td>0.025000</td>\n",
       "      <td>1.112000</td>\n",
       "      <td>0.023000</td>\n",
       "      <td>0.026000</td>\n",
       "      <td>0.006000</td>\n",
       "      <td>0.004000</td>\n",
       "      <td>0.004000</td>\n",
       "      <td>63.420000</td>\n",
       "      <td>0.640000</td>\n",
       "      <td>0.011000</td>\n",
       "      <td>0.238000</td>\n",
       "      <td>0.024000</td>\n",
       "      <td>1.040000</td>\n",
       "      <td>0.026000</td>\n",
       "      <td>0.025000</td>\n",
       "      <td>0.006000</td>\n",
       "      <td>0.004000</td>\n",
       "      <td>0.004000</td>\n",
       "      <td>62.510000</td>\n",
       "      <td>0.710000</td>\n",
       "      <td>0.011000</td>\n",
       "      <td>0.240000</td>\n",
       "      <td>0.026000</td>\n",
       "      <td>1.178000</td>\n",
       "      <td>0.025000</td>\n",
       "      <td>0.027000</td>\n",
       "      <td>0.007000</td>\n",
       "      <td>0.004000</td>\n",
       "      <td>0.004000</td>\n",
       "      <td>62.000000</td>\n",
       "      <td>0.720000</td>\n",
       "      <td>0.014000</td>\n",
       "      <td>0.320000</td>\n",
       "      <td>0.029000</td>\n",
       "      <td>1.290000</td>\n",
       "      <td>0.026000</td>\n",
       "      <td>0.025000</td>\n",
       "      <td>0.007000</td>\n",
       "      <td>0.005000</td>\n",
       "      <td>0.005000</td>\n",
       "      <td>100.000000</td>\n",
       "      <td>99.794000</td>\n",
       "      <td>99.801000</td>\n",
       "      <td>99.752250</td>\n",
       "      <td>99.796000</td>\n",
       "      <td>99.788000</td>\n",
       "      <td>99.717000</td>\n",
       "      <td>99.693000</td>\n",
       "      <td>99.701000</td>\n",
       "      <td>85.12000</td>\n",
       "      <td>31.600000</td>\n",
       "      <td>NaN</td>\n",
       "      <td>NaN</td>\n",
       "    </tr>\n",
       "  </tbody>\n",
       "</table>\n",
       "</div>"
      ],
      "text/plain": [
       "                 DE           ATE          COMP          FEGL          SIGL  \\\n",
       "count  33343.000000  33343.000000  33343.000000  26539.000000  26530.000000   \n",
       "mean     105.252225    116.249701     10.997476     61.449547      6.928560   \n",
       "std       95.976765     97.960948     16.703344     10.841551     13.749255   \n",
       "min        0.000000      0.100000      0.080000      1.260000      0.010000   \n",
       "25%       31.100000     41.500000      6.100000     62.555500      0.684000   \n",
       "\n",
       "                PGL          ALGL          MNGL          PFGL          TIGL  \\\n",
       "count  26539.000000  26516.000000  26520.000000  26521.000000  26116.000000   \n",
       "mean       0.057158      1.601214      0.145172      3.027524      0.106942   \n",
       "std        0.089839      4.020351      0.531187      2.621058      0.220047   \n",
       "min        0.001000      0.018000      0.001000     -1.400000      0.001000   \n",
       "25%        0.012000      0.269000      0.025000      1.212000      0.026000   \n",
       "\n",
       "               MGGL          CAGL           KGL         CUGL            G1  \\\n",
       "count  26066.000000  25717.000000  23350.000000  7912.000000  19498.000000   \n",
       "mean       0.106956      0.030395      0.033903     0.018458     31.698575   \n",
       "std        0.518825      0.241966      0.181527     0.034889     28.854335   \n",
       "min        0.001000      0.001000      0.001000     0.001000      0.000000   \n",
       "25%        0.030000      0.007000      0.005000     0.005000      9.900000   \n",
       "\n",
       "                G1A           G1B            G2           G2A           G2B  \\\n",
       "count  19498.000000  19498.000000  19498.000000  16955.000000  16955.000000   \n",
       "mean      20.399882     11.298717     44.871257     22.959367     20.395519   \n",
       "std       26.603285      6.218237     19.071669     10.323892     11.880414   \n",
       "min        0.000000      0.000000      0.000000      0.000000      0.000000   \n",
       "25%        2.010000      6.800000     32.523500     15.900000     10.639000   \n",
       "\n",
       "                 G3           FE1           SI1            P1           AL1  \\\n",
       "count  19498.000000  19233.000000  19232.000000  19233.000000  19232.000000   \n",
       "mean      23.338702     61.869832      6.198626      0.057053      1.574176   \n",
       "std       14.748401      9.255089     13.057079      0.083388      3.006665   \n",
       "min        0.000000      5.633000      0.028000      0.001000      0.010000   \n",
       "25%       11.501000     62.417000      0.669750      0.012000      0.303000   \n",
       "\n",
       "                MN1           PF1           TI1           MG1           CA1  \\\n",
       "count  19233.000000  19232.000000  19223.000000  19174.000000  18875.000000   \n",
       "mean       0.177496      3.217689      0.080459      0.077766      0.024235   \n",
       "std        0.790047      2.427524      0.128696      0.277863      0.156488   \n",
       "min        0.004000     -1.400000      0.001000      0.001000      0.001000   \n",
       "25%        0.024000      1.383750      0.025000      0.025000      0.006000   \n",
       "\n",
       "                 K1          CU1          FE1A          SI1A           P1A  \\\n",
       "count  17983.000000  5993.000000  17138.000000  17137.000000  17138.000000   \n",
       "mean       0.018606     0.017455     60.442558      7.169898      0.066061   \n",
       "std        0.071971     0.035541      9.928889     14.063875      0.092942   \n",
       "min        0.001000     0.003000      5.690000      0.030000      0.001000   \n",
       "25%        0.004000     0.004000     59.602500      0.650000      0.013000   \n",
       "\n",
       "               AL1A          MN1A          PF1A          TI1A          MG1A  \\\n",
       "count  17138.000000  17138.000000  17138.000000  17132.000000  17121.000000   \n",
       "mean       2.094231      0.202713      3.691894      0.090548      0.082656   \n",
       "std        3.822213      1.032641      2.681099      0.143497      0.310084   \n",
       "min        0.010000      0.004000     -1.400000      0.001000      0.001000   \n",
       "25%        0.303000      0.021000      1.640000      0.027000      0.025000   \n",
       "\n",
       "               CA1A           K1A         CU1A          FE1B          SI1B  \\\n",
       "count  17130.000000  16377.000000  5501.000000  19041.000000  19041.000000   \n",
       "mean       0.025463      0.019851     0.018559     62.638000      5.447153   \n",
       "std        0.165215      0.084763     0.038301      8.699874     12.018251   \n",
       "min        0.001000      0.001000     0.001000      5.320000      0.028000   \n",
       "25%        0.006000      0.004000     0.004000     63.220000      0.670000   \n",
       "\n",
       "                P1B          AL1B          MN1B          PF1B          TI1B  \\\n",
       "count  19041.000000  19040.000000  19041.000000  19041.000000  19035.000000   \n",
       "mean       0.054399      1.398227      0.167639      3.064778      0.079042   \n",
       "std        0.082298      2.830464      0.720540      2.390653      0.129717   \n",
       "min        0.001000      0.015000      0.004000     -1.800000      0.001000   \n",
       "25%        0.012000      0.300000      0.023000      1.300000      0.024000   \n",
       "\n",
       "               MG1B          CA1B           K1B         CU1B           FE2  \\\n",
       "count  18987.000000  19027.000000  18077.000000  5887.000000  19329.000000   \n",
       "mean       0.078097      0.020546      0.016980     0.017904     63.348589   \n",
       "std        0.342317      0.127086      0.058866     0.040280      8.418434   \n",
       "min        0.001000      0.001000      0.001000     0.001000      6.326000   \n",
       "25%        0.025000      0.006000      0.004000     0.004000     63.712000   \n",
       "\n",
       "                SI2            P2           AL2           MN2           PF2  \\\n",
       "count  19329.000000  19329.000000  19327.000000  19327.000000  19328.000000   \n",
       "mean       4.949838      0.056125      1.132080      0.140508      2.825102   \n",
       "std       11.294710      0.095383      2.546581      0.478512      2.374919   \n",
       "min        0.028000      0.002000      0.010000      0.004000     -0.668000   \n",
       "25%        0.705000      0.012000      0.249000      0.025000      1.112000   \n",
       "\n",
       "                TI2           MG2           CA2            K2          CU2  \\\n",
       "count  19323.000000  19279.000000  19136.000000  18067.000000  5871.000000   \n",
       "mean       0.086937      0.077782      0.021129      0.016725     0.017679   \n",
       "std        0.157027      0.347489      0.132585      0.050909     0.047059   \n",
       "min        0.001000      0.001000      0.001000      0.001000     0.002000   \n",
       "25%        0.023000      0.026000      0.006000      0.004000     0.004000   \n",
       "\n",
       "               FE2A          SI2A           P2A          AL2A          MN2A  \\\n",
       "count  16785.000000  16785.000000  16785.000000  16785.000000  16785.000000   \n",
       "mean      63.019300      5.366967      0.056319      1.200211      0.151991   \n",
       "std        8.902445     12.097700      0.094501      2.715241      0.557135   \n",
       "min        6.220000      0.028000      0.001000      0.010000      0.004000   \n",
       "25%       63.420000      0.640000      0.011000      0.238000      0.024000   \n",
       "\n",
       "               PF2A          TI2A          MG2A          CA2A           K2A  \\\n",
       "count  16784.000000  16785.000000  16785.000000  16783.000000  15716.000000   \n",
       "mean       2.781140      0.085807      0.082746      0.022400      0.016024   \n",
       "std        2.424096      0.147807      0.361083      0.135954      0.045088   \n",
       "min       -0.560000      0.003000      0.001000      0.001000      0.001000   \n",
       "25%        1.040000      0.026000      0.025000      0.006000      0.004000   \n",
       "\n",
       "              CU2A          FE2B          SI2B           P2B          AL2B  \\\n",
       "count  5672.000000  16777.000000  16777.000000  16777.000000  16777.000000   \n",
       "mean      0.017523     62.663549      5.523467      0.064517      1.258682   \n",
       "std       0.041707      8.978959     11.975879      0.114840      2.674817   \n",
       "min       0.001000      6.630000      0.030000      0.002000      0.010000   \n",
       "25%       0.004000     62.510000      0.710000      0.011000      0.240000   \n",
       "\n",
       "               MN2B          PF2B          TI2B          MG2B          CA2B  \\\n",
       "count  16776.000000  16777.000000  16777.000000  16777.000000  16775.000000   \n",
       "mean       0.140506      3.039644      0.107233      0.084615      0.023912   \n",
       "std        0.437033      2.559626      0.204417      0.376975      0.164524   \n",
       "min        0.004000     -0.850000      0.001000      0.001000      0.001000   \n",
       "25%        0.026000      1.178000      0.025000      0.027000      0.007000   \n",
       "\n",
       "                K2B         CU2B           FE3           SI3            P3  \\\n",
       "count  15812.000000  5668.000000  19298.000000  19298.000000  19298.000000   \n",
       "mean       0.016804     0.019772     61.523855      7.042633      0.068784   \n",
       "std        0.049692     0.080105     10.987425     15.357595      0.114547   \n",
       "min        0.001000     0.001000      5.100000      0.030000      0.002000   \n",
       "25%        0.004000     0.004000     62.000000      0.720000      0.014000   \n",
       "\n",
       "                AL3           MN3           PF3           TI3           MG3  \\\n",
       "count  19298.000000  19297.000000  19298.000000  19295.000000  19246.000000   \n",
       "mean       1.319437      0.142949      3.034019      0.123424      0.078169   \n",
       "std        2.330215      0.491028      2.413951      0.250785      0.341862   \n",
       "min        0.010000      0.004000     -1.190000      0.001000      0.001000   \n",
       "25%        0.320000      0.029000      1.290000      0.026000      0.025000   \n",
       "\n",
       "                CA3            K3          CU3          FGRA          FQGL  \\\n",
       "count  19290.000000  18391.000000  5859.000000  19498.000000  26539.000000   \n",
       "mean       0.024497      0.023171     0.020396     99.908467     99.980770   \n",
       "std        0.171478      0.092329     0.046135      0.510125      0.929588   \n",
       "min        0.001000      0.001000     0.001000     92.715000     31.692000   \n",
       "25%        0.007000      0.005000     0.005000    100.000000     99.794000   \n",
       "\n",
       "                FQ1          FQ1A          FQ1B           FQ2          FQ2A  \\\n",
       "count  19233.000000  17138.000000  19041.000000  19329.000000  16785.000000   \n",
       "mean     100.003990     99.997438     99.994900     99.986968     99.974280   \n",
       "std        0.527227      0.611433      0.567236      0.503210      0.599226   \n",
       "min       91.063000     90.918000     91.642000     92.474000     91.548000   \n",
       "25%       99.801000     99.752250     99.796000     99.788000     99.717000   \n",
       "\n",
       "               FQ2B           FQ3       REC_AM        MASS_T  STATUS  T_ENS  \n",
       "count  16777.000000  19298.000000  21472.00000  18053.000000     0.0    0.0  \n",
       "mean      99.969309     99.945324     87.93587    127.599412     NaN    NaN  \n",
       "std        0.606430      0.578672     20.50865   1298.823136     NaN    NaN  \n",
       "min       92.676000     92.456000      0.00000      0.000000     NaN    NaN  \n",
       "25%       99.693000     99.701000     85.12000     31.600000     NaN    NaN  "
      ]
     },
     "execution_count": 38,
     "metadata": {},
     "output_type": "execute_result"
    }
   ],
   "source": [
    "desc.head()"
   ]
  },
  {
   "cell_type": "code",
   "execution_count": 39,
   "metadata": {},
   "outputs": [
    {
     "data": {
      "text/plain": [
       "'count'"
      ]
     },
     "execution_count": 39,
     "metadata": {},
     "output_type": "execute_result"
    }
   ],
   "source": [
    "desc.index[0]"
   ]
  },
  {
   "cell_type": "code",
   "execution_count": 35,
   "metadata": {},
   "outputs": [
    {
     "data": {
      "text/plain": [
       "['FEGL', 'SIGL', 'PGL', 'ALGL', 'MNGL', 'PFGL']"
      ]
     },
     "execution_count": 35,
     "metadata": {},
     "output_type": "execute_result"
    }
   ],
   "source": [
    "maiores"
   ]
  },
  {
   "cell_type": "code",
   "execution_count": 51,
   "metadata": {
    "scrolled": true
   },
   "outputs": [
    {
     "data": {
      "text/html": [
       "<div>\n",
       "<style scoped>\n",
       "    .dataframe tbody tr th:only-of-type {\n",
       "        vertical-align: middle;\n",
       "    }\n",
       "\n",
       "    .dataframe tbody tr th {\n",
       "        vertical-align: top;\n",
       "    }\n",
       "\n",
       "    .dataframe thead th {\n",
       "        text-align: right;\n",
       "    }\n",
       "</style>\n",
       "<table border=\"1\" class=\"dataframe\">\n",
       "  <thead>\n",
       "    <tr style=\"text-align: right;\">\n",
       "      <th></th>\n",
       "      <th>FEGL</th>\n",
       "      <th>SIGL</th>\n",
       "      <th>PGL</th>\n",
       "      <th>ALGL</th>\n",
       "      <th>MNGL</th>\n",
       "      <th>PFGL</th>\n",
       "    </tr>\n",
       "  </thead>\n",
       "  <tbody>\n",
       "    <tr>\n",
       "      <th>count</th>\n",
       "      <td>26539.000000</td>\n",
       "      <td>26530.000000</td>\n",
       "      <td>26539.000000</td>\n",
       "      <td>26516.000000</td>\n",
       "      <td>26520.000000</td>\n",
       "      <td>26521.000000</td>\n",
       "    </tr>\n",
       "    <tr>\n",
       "      <th>mean</th>\n",
       "      <td>61.449547</td>\n",
       "      <td>6.928560</td>\n",
       "      <td>0.057158</td>\n",
       "      <td>1.601214</td>\n",
       "      <td>0.145172</td>\n",
       "      <td>3.027524</td>\n",
       "    </tr>\n",
       "    <tr>\n",
       "      <th>std</th>\n",
       "      <td>10.841551</td>\n",
       "      <td>13.749255</td>\n",
       "      <td>0.089839</td>\n",
       "      <td>4.020351</td>\n",
       "      <td>0.531187</td>\n",
       "      <td>2.621058</td>\n",
       "    </tr>\n",
       "    <tr>\n",
       "      <th>min</th>\n",
       "      <td>1.260000</td>\n",
       "      <td>0.010000</td>\n",
       "      <td>0.001000</td>\n",
       "      <td>0.018000</td>\n",
       "      <td>0.001000</td>\n",
       "      <td>-1.400000</td>\n",
       "    </tr>\n",
       "    <tr>\n",
       "      <th>25%</th>\n",
       "      <td>62.555500</td>\n",
       "      <td>0.684000</td>\n",
       "      <td>0.012000</td>\n",
       "      <td>0.269000</td>\n",
       "      <td>0.025000</td>\n",
       "      <td>1.212000</td>\n",
       "    </tr>\n",
       "    <tr>\n",
       "      <th>50%</th>\n",
       "      <td>65.896000</td>\n",
       "      <td>0.964000</td>\n",
       "      <td>0.022000</td>\n",
       "      <td>0.491000</td>\n",
       "      <td>0.042000</td>\n",
       "      <td>2.350000</td>\n",
       "    </tr>\n",
       "    <tr>\n",
       "      <th>75%</th>\n",
       "      <td>67.424000</td>\n",
       "      <td>2.499750</td>\n",
       "      <td>0.052000</td>\n",
       "      <td>1.130000</td>\n",
       "      <td>0.090000</td>\n",
       "      <td>4.120000</td>\n",
       "    </tr>\n",
       "    <tr>\n",
       "      <th>max</th>\n",
       "      <td>70.300000</td>\n",
       "      <td>96.890000</td>\n",
       "      <td>1.492000</td>\n",
       "      <td>47.831000</td>\n",
       "      <td>20.000000</td>\n",
       "      <td>26.092000</td>\n",
       "    </tr>\n",
       "  </tbody>\n",
       "</table>\n",
       "</div>"
      ],
      "text/plain": [
       "               FEGL          SIGL           PGL          ALGL          MNGL  \\\n",
       "count  26539.000000  26530.000000  26539.000000  26516.000000  26520.000000   \n",
       "mean      61.449547      6.928560      0.057158      1.601214      0.145172   \n",
       "std       10.841551     13.749255      0.089839      4.020351      0.531187   \n",
       "min        1.260000      0.010000      0.001000      0.018000      0.001000   \n",
       "25%       62.555500      0.684000      0.012000      0.269000      0.025000   \n",
       "50%       65.896000      0.964000      0.022000      0.491000      0.042000   \n",
       "75%       67.424000      2.499750      0.052000      1.130000      0.090000   \n",
       "max       70.300000     96.890000      1.492000     47.831000     20.000000   \n",
       "\n",
       "               PFGL  \n",
       "count  26521.000000  \n",
       "mean       3.027524  \n",
       "std        2.621058  \n",
       "min       -1.400000  \n",
       "25%        1.212000  \n",
       "50%        2.350000  \n",
       "75%        4.120000  \n",
       "max       26.092000  "
      ]
     },
     "execution_count": 51,
     "metadata": {},
     "output_type": "execute_result"
    }
   ],
   "source": [
    "desc[maiores]"
   ]
  },
  {
   "cell_type": "code",
   "execution_count": 108,
   "metadata": {},
   "outputs": [],
   "source": [
    "df_menores=fso.loc[:, ['CLI'] + menores]\n"
   ]
  },
  {
   "cell_type": "code",
   "execution_count": 109,
   "metadata": {},
   "outputs": [
    {
     "data": {
      "text/html": [
       "<div>\n",
       "<style scoped>\n",
       "    .dataframe tbody tr th:only-of-type {\n",
       "        vertical-align: middle;\n",
       "    }\n",
       "\n",
       "    .dataframe tbody tr th {\n",
       "        vertical-align: top;\n",
       "    }\n",
       "\n",
       "    .dataframe thead th {\n",
       "        text-align: right;\n",
       "    }\n",
       "</style>\n",
       "<table border=\"1\" class=\"dataframe\">\n",
       "  <thead>\n",
       "    <tr style=\"text-align: right;\">\n",
       "      <th></th>\n",
       "      <th>CLI</th>\n",
       "      <th>CAGL</th>\n",
       "      <th>TIGL</th>\n",
       "      <th>MGGL</th>\n",
       "      <th>CA1A</th>\n",
       "      <th>TI1A</th>\n",
       "      <th>MG1A</th>\n",
       "      <th>CA1B</th>\n",
       "      <th>TI1B</th>\n",
       "      <th>MG1B</th>\n",
       "      <th>CA2</th>\n",
       "      <th>TI2</th>\n",
       "      <th>MG2</th>\n",
       "      <th>CA3</th>\n",
       "      <th>TI3</th>\n",
       "      <th>MG3</th>\n",
       "    </tr>\n",
       "  </thead>\n",
       "  <tbody>\n",
       "    <tr>\n",
       "      <th>0</th>\n",
       "      <td>CE</td>\n",
       "      <td>0.005</td>\n",
       "      <td>0.248</td>\n",
       "      <td>0.038</td>\n",
       "      <td>NaN</td>\n",
       "      <td>NaN</td>\n",
       "      <td>NaN</td>\n",
       "      <td>NaN</td>\n",
       "      <td>NaN</td>\n",
       "      <td>NaN</td>\n",
       "      <td>NaN</td>\n",
       "      <td>NaN</td>\n",
       "      <td>NaN</td>\n",
       "      <td>NaN</td>\n",
       "      <td>NaN</td>\n",
       "      <td>NaN</td>\n",
       "    </tr>\n",
       "    <tr>\n",
       "      <th>1</th>\n",
       "      <td>CE</td>\n",
       "      <td>0.002</td>\n",
       "      <td>0.356</td>\n",
       "      <td>0.034</td>\n",
       "      <td>NaN</td>\n",
       "      <td>NaN</td>\n",
       "      <td>NaN</td>\n",
       "      <td>NaN</td>\n",
       "      <td>NaN</td>\n",
       "      <td>NaN</td>\n",
       "      <td>NaN</td>\n",
       "      <td>NaN</td>\n",
       "      <td>NaN</td>\n",
       "      <td>NaN</td>\n",
       "      <td>NaN</td>\n",
       "      <td>NaN</td>\n",
       "    </tr>\n",
       "    <tr>\n",
       "      <th>2</th>\n",
       "      <td>HF</td>\n",
       "      <td>0.011</td>\n",
       "      <td>0.090</td>\n",
       "      <td>0.066</td>\n",
       "      <td>0.008</td>\n",
       "      <td>0.065</td>\n",
       "      <td>0.06</td>\n",
       "      <td>0.008</td>\n",
       "      <td>0.086</td>\n",
       "      <td>0.063</td>\n",
       "      <td>0.007</td>\n",
       "      <td>0.055</td>\n",
       "      <td>0.054</td>\n",
       "      <td>0.016</td>\n",
       "      <td>0.137</td>\n",
       "      <td>0.08</td>\n",
       "    </tr>\n",
       "    <tr>\n",
       "      <th>3</th>\n",
       "      <td>MD</td>\n",
       "      <td>0.006</td>\n",
       "      <td>1.755</td>\n",
       "      <td>0.083</td>\n",
       "      <td>NaN</td>\n",
       "      <td>NaN</td>\n",
       "      <td>NaN</td>\n",
       "      <td>NaN</td>\n",
       "      <td>NaN</td>\n",
       "      <td>NaN</td>\n",
       "      <td>NaN</td>\n",
       "      <td>NaN</td>\n",
       "      <td>NaN</td>\n",
       "      <td>NaN</td>\n",
       "      <td>NaN</td>\n",
       "      <td>NaN</td>\n",
       "    </tr>\n",
       "    <tr>\n",
       "      <th>4</th>\n",
       "      <td>MD</td>\n",
       "      <td>NaN</td>\n",
       "      <td>NaN</td>\n",
       "      <td>NaN</td>\n",
       "      <td>NaN</td>\n",
       "      <td>NaN</td>\n",
       "      <td>NaN</td>\n",
       "      <td>NaN</td>\n",
       "      <td>NaN</td>\n",
       "      <td>NaN</td>\n",
       "      <td>NaN</td>\n",
       "      <td>NaN</td>\n",
       "      <td>NaN</td>\n",
       "      <td>NaN</td>\n",
       "      <td>NaN</td>\n",
       "      <td>NaN</td>\n",
       "    </tr>\n",
       "  </tbody>\n",
       "</table>\n",
       "</div>"
      ],
      "text/plain": [
       "  CLI   CAGL   TIGL   MGGL   CA1A   TI1A  MG1A   CA1B   TI1B   MG1B    CA2  \\\n",
       "0  CE  0.005  0.248  0.038    NaN    NaN   NaN    NaN    NaN    NaN    NaN   \n",
       "1  CE  0.002  0.356  0.034    NaN    NaN   NaN    NaN    NaN    NaN    NaN   \n",
       "2  HF  0.011  0.090  0.066  0.008  0.065  0.06  0.008  0.086  0.063  0.007   \n",
       "3  MD  0.006  1.755  0.083    NaN    NaN   NaN    NaN    NaN    NaN    NaN   \n",
       "4  MD    NaN    NaN    NaN    NaN    NaN   NaN    NaN    NaN    NaN    NaN   \n",
       "\n",
       "     TI2    MG2    CA3    TI3   MG3  \n",
       "0    NaN    NaN    NaN    NaN   NaN  \n",
       "1    NaN    NaN    NaN    NaN   NaN  \n",
       "2  0.055  0.054  0.016  0.137  0.08  \n",
       "3    NaN    NaN    NaN    NaN   NaN  \n",
       "4    NaN    NaN    NaN    NaN   NaN  "
      ]
     },
     "execution_count": 109,
     "metadata": {},
     "output_type": "execute_result"
    }
   ],
   "source": [
    "df_menores.head()"
   ]
  },
  {
   "cell_type": "code",
   "execution_count": 110,
   "metadata": {
    "scrolled": true
   },
   "outputs": [
    {
     "data": {
      "text/html": [
       "<div>\n",
       "<style scoped>\n",
       "    .dataframe tbody tr th:only-of-type {\n",
       "        vertical-align: middle;\n",
       "    }\n",
       "\n",
       "    .dataframe tbody tr th {\n",
       "        vertical-align: top;\n",
       "    }\n",
       "\n",
       "    .dataframe thead th {\n",
       "        text-align: right;\n",
       "    }\n",
       "</style>\n",
       "<table border=\"1\" class=\"dataframe\">\n",
       "  <thead>\n",
       "    <tr style=\"text-align: right;\">\n",
       "      <th></th>\n",
       "      <th>CAGL</th>\n",
       "      <th>TIGL</th>\n",
       "      <th>MGGL</th>\n",
       "      <th>CA1A</th>\n",
       "      <th>TI1A</th>\n",
       "      <th>MG1A</th>\n",
       "      <th>CA1B</th>\n",
       "      <th>TI1B</th>\n",
       "      <th>MG1B</th>\n",
       "      <th>CA2</th>\n",
       "      <th>TI2</th>\n",
       "      <th>MG2</th>\n",
       "      <th>CA3</th>\n",
       "      <th>TI3</th>\n",
       "      <th>MG3</th>\n",
       "    </tr>\n",
       "  </thead>\n",
       "  <tbody>\n",
       "    <tr>\n",
       "      <th>count</th>\n",
       "      <td>25717.000000</td>\n",
       "      <td>26116.000000</td>\n",
       "      <td>26066.000000</td>\n",
       "      <td>17130.000000</td>\n",
       "      <td>17132.000000</td>\n",
       "      <td>17121.000000</td>\n",
       "      <td>19027.000000</td>\n",
       "      <td>19035.000000</td>\n",
       "      <td>18987.000000</td>\n",
       "      <td>19136.000000</td>\n",
       "      <td>19323.000000</td>\n",
       "      <td>19279.000000</td>\n",
       "      <td>19290.000000</td>\n",
       "      <td>19295.000000</td>\n",
       "      <td>19246.000000</td>\n",
       "    </tr>\n",
       "    <tr>\n",
       "      <th>mean</th>\n",
       "      <td>0.030395</td>\n",
       "      <td>0.106942</td>\n",
       "      <td>0.106956</td>\n",
       "      <td>0.025463</td>\n",
       "      <td>0.090548</td>\n",
       "      <td>0.082656</td>\n",
       "      <td>0.020546</td>\n",
       "      <td>0.079042</td>\n",
       "      <td>0.078097</td>\n",
       "      <td>0.021129</td>\n",
       "      <td>0.086937</td>\n",
       "      <td>0.077782</td>\n",
       "      <td>0.024497</td>\n",
       "      <td>0.123424</td>\n",
       "      <td>0.078169</td>\n",
       "    </tr>\n",
       "    <tr>\n",
       "      <th>std</th>\n",
       "      <td>0.241966</td>\n",
       "      <td>0.220047</td>\n",
       "      <td>0.518825</td>\n",
       "      <td>0.165215</td>\n",
       "      <td>0.143497</td>\n",
       "      <td>0.310084</td>\n",
       "      <td>0.127086</td>\n",
       "      <td>0.129717</td>\n",
       "      <td>0.342317</td>\n",
       "      <td>0.132585</td>\n",
       "      <td>0.157027</td>\n",
       "      <td>0.347489</td>\n",
       "      <td>0.171478</td>\n",
       "      <td>0.250785</td>\n",
       "      <td>0.341862</td>\n",
       "    </tr>\n",
       "    <tr>\n",
       "      <th>min</th>\n",
       "      <td>0.001000</td>\n",
       "      <td>0.001000</td>\n",
       "      <td>0.001000</td>\n",
       "      <td>0.001000</td>\n",
       "      <td>0.001000</td>\n",
       "      <td>0.001000</td>\n",
       "      <td>0.001000</td>\n",
       "      <td>0.001000</td>\n",
       "      <td>0.001000</td>\n",
       "      <td>0.001000</td>\n",
       "      <td>0.001000</td>\n",
       "      <td>0.001000</td>\n",
       "      <td>0.001000</td>\n",
       "      <td>0.001000</td>\n",
       "      <td>0.001000</td>\n",
       "    </tr>\n",
       "    <tr>\n",
       "      <th>25%</th>\n",
       "      <td>0.007000</td>\n",
       "      <td>0.026000</td>\n",
       "      <td>0.030000</td>\n",
       "      <td>0.006000</td>\n",
       "      <td>0.027000</td>\n",
       "      <td>0.025000</td>\n",
       "      <td>0.006000</td>\n",
       "      <td>0.024000</td>\n",
       "      <td>0.025000</td>\n",
       "      <td>0.006000</td>\n",
       "      <td>0.023000</td>\n",
       "      <td>0.026000</td>\n",
       "      <td>0.007000</td>\n",
       "      <td>0.026000</td>\n",
       "      <td>0.025000</td>\n",
       "    </tr>\n",
       "    <tr>\n",
       "      <th>50%</th>\n",
       "      <td>0.012000</td>\n",
       "      <td>0.044000</td>\n",
       "      <td>0.046000</td>\n",
       "      <td>0.010000</td>\n",
       "      <td>0.048000</td>\n",
       "      <td>0.046000</td>\n",
       "      <td>0.010000</td>\n",
       "      <td>0.044000</td>\n",
       "      <td>0.046000</td>\n",
       "      <td>0.011000</td>\n",
       "      <td>0.044000</td>\n",
       "      <td>0.046000</td>\n",
       "      <td>0.012000</td>\n",
       "      <td>0.045000</td>\n",
       "      <td>0.046000</td>\n",
       "    </tr>\n",
       "    <tr>\n",
       "      <th>75%</th>\n",
       "      <td>0.015000</td>\n",
       "      <td>0.082000</td>\n",
       "      <td>0.076000</td>\n",
       "      <td>0.014000</td>\n",
       "      <td>0.091000</td>\n",
       "      <td>0.077000</td>\n",
       "      <td>0.014000</td>\n",
       "      <td>0.077000</td>\n",
       "      <td>0.073000</td>\n",
       "      <td>0.015000</td>\n",
       "      <td>0.075000</td>\n",
       "      <td>0.074000</td>\n",
       "      <td>0.017000</td>\n",
       "      <td>0.094000</td>\n",
       "      <td>0.068000</td>\n",
       "    </tr>\n",
       "    <tr>\n",
       "      <th>max</th>\n",
       "      <td>8.910000</td>\n",
       "      <td>5.430000</td>\n",
       "      <td>14.500000</td>\n",
       "      <td>5.237000</td>\n",
       "      <td>2.360000</td>\n",
       "      <td>13.528000</td>\n",
       "      <td>5.037000</td>\n",
       "      <td>2.639000</td>\n",
       "      <td>13.802000</td>\n",
       "      <td>5.921000</td>\n",
       "      <td>3.173000</td>\n",
       "      <td>15.670000</td>\n",
       "      <td>8.846000</td>\n",
       "      <td>4.823000</td>\n",
       "      <td>15.200000</td>\n",
       "    </tr>\n",
       "  </tbody>\n",
       "</table>\n",
       "</div>"
      ],
      "text/plain": [
       "               CAGL          TIGL          MGGL          CA1A          TI1A  \\\n",
       "count  25717.000000  26116.000000  26066.000000  17130.000000  17132.000000   \n",
       "mean       0.030395      0.106942      0.106956      0.025463      0.090548   \n",
       "std        0.241966      0.220047      0.518825      0.165215      0.143497   \n",
       "min        0.001000      0.001000      0.001000      0.001000      0.001000   \n",
       "25%        0.007000      0.026000      0.030000      0.006000      0.027000   \n",
       "50%        0.012000      0.044000      0.046000      0.010000      0.048000   \n",
       "75%        0.015000      0.082000      0.076000      0.014000      0.091000   \n",
       "max        8.910000      5.430000     14.500000      5.237000      2.360000   \n",
       "\n",
       "               MG1A          CA1B          TI1B          MG1B           CA2  \\\n",
       "count  17121.000000  19027.000000  19035.000000  18987.000000  19136.000000   \n",
       "mean       0.082656      0.020546      0.079042      0.078097      0.021129   \n",
       "std        0.310084      0.127086      0.129717      0.342317      0.132585   \n",
       "min        0.001000      0.001000      0.001000      0.001000      0.001000   \n",
       "25%        0.025000      0.006000      0.024000      0.025000      0.006000   \n",
       "50%        0.046000      0.010000      0.044000      0.046000      0.011000   \n",
       "75%        0.077000      0.014000      0.077000      0.073000      0.015000   \n",
       "max       13.528000      5.037000      2.639000     13.802000      5.921000   \n",
       "\n",
       "                TI2           MG2           CA3           TI3           MG3  \n",
       "count  19323.000000  19279.000000  19290.000000  19295.000000  19246.000000  \n",
       "mean       0.086937      0.077782      0.024497      0.123424      0.078169  \n",
       "std        0.157027      0.347489      0.171478      0.250785      0.341862  \n",
       "min        0.001000      0.001000      0.001000      0.001000      0.001000  \n",
       "25%        0.023000      0.026000      0.007000      0.026000      0.025000  \n",
       "50%        0.044000      0.046000      0.012000      0.045000      0.046000  \n",
       "75%        0.075000      0.074000      0.017000      0.094000      0.068000  \n",
       "max        3.173000     15.670000      8.846000      4.823000     15.200000  "
      ]
     },
     "execution_count": 110,
     "metadata": {},
     "output_type": "execute_result"
    }
   ],
   "source": [
    "df_menores.describe()"
   ]
  },
  {
   "cell_type": "code",
   "execution_count": 117,
   "metadata": {},
   "outputs": [],
   "source": [
    "df_menores[\"MEN_GL\"]=df_menores[['CAGL','TIGL','MGGL']].sum(axis=1)\n",
    "df_menores[\"MEN_1A\"]=df_menores[['CA1A','TI1A','MG1A']].sum(axis=1)\n",
    "df_menores[\"MEN_1B\"]=df_menores[['CA1B','TI1B','MG1B']].sum(axis=1)\n",
    "df_menores[\"MEN_2\"]=df_menores[['CA2','TI2','MG2']].sum(axis=1)\n",
    "df_menores[\"MEN_3\"]=df_menores[['CA3','TI3','MG3']].sum(axis=1)"
   ]
  },
  {
   "cell_type": "code",
   "execution_count": 118,
   "metadata": {},
   "outputs": [
    {
     "data": {
      "text/html": [
       "<div>\n",
       "<style scoped>\n",
       "    .dataframe tbody tr th:only-of-type {\n",
       "        vertical-align: middle;\n",
       "    }\n",
       "\n",
       "    .dataframe tbody tr th {\n",
       "        vertical-align: top;\n",
       "    }\n",
       "\n",
       "    .dataframe thead th {\n",
       "        text-align: right;\n",
       "    }\n",
       "</style>\n",
       "<table border=\"1\" class=\"dataframe\">\n",
       "  <thead>\n",
       "    <tr style=\"text-align: right;\">\n",
       "      <th></th>\n",
       "      <th>CLI</th>\n",
       "      <th>CAGL</th>\n",
       "      <th>TIGL</th>\n",
       "      <th>MGGL</th>\n",
       "      <th>CA1A</th>\n",
       "      <th>TI1A</th>\n",
       "      <th>MG1A</th>\n",
       "      <th>CA1B</th>\n",
       "      <th>TI1B</th>\n",
       "      <th>MG1B</th>\n",
       "      <th>CA2</th>\n",
       "      <th>TI2</th>\n",
       "      <th>MG2</th>\n",
       "      <th>CA3</th>\n",
       "      <th>TI3</th>\n",
       "      <th>MG3</th>\n",
       "      <th>MEN_GL</th>\n",
       "      <th>MEN_1A</th>\n",
       "      <th>MEN_1B</th>\n",
       "      <th>MEN_2</th>\n",
       "      <th>MEN_3</th>\n",
       "    </tr>\n",
       "  </thead>\n",
       "  <tbody>\n",
       "    <tr>\n",
       "      <th>0</th>\n",
       "      <td>CE</td>\n",
       "      <td>0.005</td>\n",
       "      <td>0.248</td>\n",
       "      <td>0.038</td>\n",
       "      <td>NaN</td>\n",
       "      <td>NaN</td>\n",
       "      <td>NaN</td>\n",
       "      <td>NaN</td>\n",
       "      <td>NaN</td>\n",
       "      <td>NaN</td>\n",
       "      <td>NaN</td>\n",
       "      <td>NaN</td>\n",
       "      <td>NaN</td>\n",
       "      <td>NaN</td>\n",
       "      <td>NaN</td>\n",
       "      <td>NaN</td>\n",
       "      <td>0.291</td>\n",
       "      <td>0.000</td>\n",
       "      <td>0.000</td>\n",
       "      <td>0.000</td>\n",
       "      <td>0.000</td>\n",
       "    </tr>\n",
       "    <tr>\n",
       "      <th>1</th>\n",
       "      <td>CE</td>\n",
       "      <td>0.002</td>\n",
       "      <td>0.356</td>\n",
       "      <td>0.034</td>\n",
       "      <td>NaN</td>\n",
       "      <td>NaN</td>\n",
       "      <td>NaN</td>\n",
       "      <td>NaN</td>\n",
       "      <td>NaN</td>\n",
       "      <td>NaN</td>\n",
       "      <td>NaN</td>\n",
       "      <td>NaN</td>\n",
       "      <td>NaN</td>\n",
       "      <td>NaN</td>\n",
       "      <td>NaN</td>\n",
       "      <td>NaN</td>\n",
       "      <td>0.392</td>\n",
       "      <td>0.000</td>\n",
       "      <td>0.000</td>\n",
       "      <td>0.000</td>\n",
       "      <td>0.000</td>\n",
       "    </tr>\n",
       "    <tr>\n",
       "      <th>2</th>\n",
       "      <td>HF</td>\n",
       "      <td>0.011</td>\n",
       "      <td>0.090</td>\n",
       "      <td>0.066</td>\n",
       "      <td>0.008</td>\n",
       "      <td>0.065</td>\n",
       "      <td>0.06</td>\n",
       "      <td>0.008</td>\n",
       "      <td>0.086</td>\n",
       "      <td>0.063</td>\n",
       "      <td>0.007</td>\n",
       "      <td>0.055</td>\n",
       "      <td>0.054</td>\n",
       "      <td>0.016</td>\n",
       "      <td>0.137</td>\n",
       "      <td>0.08</td>\n",
       "      <td>0.167</td>\n",
       "      <td>0.133</td>\n",
       "      <td>0.157</td>\n",
       "      <td>0.116</td>\n",
       "      <td>0.233</td>\n",
       "    </tr>\n",
       "    <tr>\n",
       "      <th>3</th>\n",
       "      <td>MD</td>\n",
       "      <td>0.006</td>\n",
       "      <td>1.755</td>\n",
       "      <td>0.083</td>\n",
       "      <td>NaN</td>\n",
       "      <td>NaN</td>\n",
       "      <td>NaN</td>\n",
       "      <td>NaN</td>\n",
       "      <td>NaN</td>\n",
       "      <td>NaN</td>\n",
       "      <td>NaN</td>\n",
       "      <td>NaN</td>\n",
       "      <td>NaN</td>\n",
       "      <td>NaN</td>\n",
       "      <td>NaN</td>\n",
       "      <td>NaN</td>\n",
       "      <td>1.844</td>\n",
       "      <td>0.000</td>\n",
       "      <td>0.000</td>\n",
       "      <td>0.000</td>\n",
       "      <td>0.000</td>\n",
       "    </tr>\n",
       "    <tr>\n",
       "      <th>4</th>\n",
       "      <td>MD</td>\n",
       "      <td>NaN</td>\n",
       "      <td>NaN</td>\n",
       "      <td>NaN</td>\n",
       "      <td>NaN</td>\n",
       "      <td>NaN</td>\n",
       "      <td>NaN</td>\n",
       "      <td>NaN</td>\n",
       "      <td>NaN</td>\n",
       "      <td>NaN</td>\n",
       "      <td>NaN</td>\n",
       "      <td>NaN</td>\n",
       "      <td>NaN</td>\n",
       "      <td>NaN</td>\n",
       "      <td>NaN</td>\n",
       "      <td>NaN</td>\n",
       "      <td>0.000</td>\n",
       "      <td>0.000</td>\n",
       "      <td>0.000</td>\n",
       "      <td>0.000</td>\n",
       "      <td>0.000</td>\n",
       "    </tr>\n",
       "  </tbody>\n",
       "</table>\n",
       "</div>"
      ],
      "text/plain": [
       "  CLI   CAGL   TIGL   MGGL   CA1A   TI1A  MG1A   CA1B   TI1B   MG1B    CA2  \\\n",
       "0  CE  0.005  0.248  0.038    NaN    NaN   NaN    NaN    NaN    NaN    NaN   \n",
       "1  CE  0.002  0.356  0.034    NaN    NaN   NaN    NaN    NaN    NaN    NaN   \n",
       "2  HF  0.011  0.090  0.066  0.008  0.065  0.06  0.008  0.086  0.063  0.007   \n",
       "3  MD  0.006  1.755  0.083    NaN    NaN   NaN    NaN    NaN    NaN    NaN   \n",
       "4  MD    NaN    NaN    NaN    NaN    NaN   NaN    NaN    NaN    NaN    NaN   \n",
       "\n",
       "     TI2    MG2    CA3    TI3   MG3  MEN_GL  MEN_1A  MEN_1B  MEN_2  MEN_3  \n",
       "0    NaN    NaN    NaN    NaN   NaN   0.291   0.000   0.000  0.000  0.000  \n",
       "1    NaN    NaN    NaN    NaN   NaN   0.392   0.000   0.000  0.000  0.000  \n",
       "2  0.055  0.054  0.016  0.137  0.08   0.167   0.133   0.157  0.116  0.233  \n",
       "3    NaN    NaN    NaN    NaN   NaN   1.844   0.000   0.000  0.000  0.000  \n",
       "4    NaN    NaN    NaN    NaN   NaN   0.000   0.000   0.000  0.000  0.000  "
      ]
     },
     "execution_count": 118,
     "metadata": {},
     "output_type": "execute_result"
    }
   ],
   "source": [
    "df_menores.head()"
   ]
  },
  {
   "cell_type": "code",
   "execution_count": 116,
   "metadata": {},
   "outputs": [
    {
     "name": "stderr",
     "output_type": "stream",
     "text": [
      "C:\\DADOS\\CONDA3\\lib\\site-packages\\seaborn\\distributions.py:2551: FutureWarning: `distplot` is a deprecated function and will be removed in a future version. Please adapt your code to use either `displot` (a figure-level function with similar flexibility) or `kdeplot` (an axes-level function for kernel density plots).\n",
      "  warnings.warn(msg, FutureWarning)\n",
      "C:\\DADOS\\CONDA3\\lib\\site-packages\\seaborn\\distributions.py:2055: FutureWarning: The `axis` variable is no longer used and will be removed. Instead, assign variables directly to `x` or `y`.\n",
      "  warnings.warn(msg, FutureWarning)\n"
     ]
    },
    {
     "data": {
      "image/png": "[encoded data removed]",
      "text/plain": [
       "<Figure size 720x720 with 1 Axes>"
      ]
     },
     "metadata": {
      "needs_background": "light"
     },
     "output_type": "display_data"
    }
   ],
   "source": [
    "fig, ax = plt.subplots(figsize=chart_size)\n",
    "sea.distplot(x=df_menores[\"MEN_GL\"],kde=True,rug=True,hist=False)\n",
    "plt.show()\n",
    "fig.savefig('minorgrades.jpeg', transparent=None)"
   ]
  },
  {
   "cell_type": "code",
   "execution_count": 119,
   "metadata": {},
   "outputs": [
    {
     "name": "stderr",
     "output_type": "stream",
     "text": [
      "C:\\DADOS\\CONDA3\\lib\\site-packages\\seaborn\\distributions.py:2551: FutureWarning: `distplot` is a deprecated function and will be removed in a future version. Please adapt your code to use either `displot` (a figure-level function with similar flexibility) or `kdeplot` (an axes-level function for kernel density plots).\n",
      "  warnings.warn(msg, FutureWarning)\n",
      "C:\\DADOS\\CONDA3\\lib\\site-packages\\seaborn\\distributions.py:2055: FutureWarning: The `axis` variable is no longer used and will be removed. Instead, assign variables directly to `x` or `y`.\n",
      "  warnings.warn(msg, FutureWarning)\n"
     ]
    },
    {
     "data": {
      "image/png": "[encoded data removed]",
      "text/plain": [
       "<Figure size 720x720 with 1 Axes>"
      ]
     },
     "metadata": {
      "needs_background": "light"
     },
     "output_type": "display_data"
    }
   ],
   "source": [
    "fig, ax = plt.subplots(figsize=chart_size)\n",
    "sea.distplot(x=df_menores[\"MEN_1A\"],kde=True,rug=True,hist=False)\n",
    "plt.show()\n",
    "fig.savefig('minorgrades_1A.jpeg', transparent=None)"
   ]
  },
  {
   "cell_type": "code",
   "execution_count": 120,
   "metadata": {},
   "outputs": [
    {
     "name": "stderr",
     "output_type": "stream",
     "text": [
      "C:\\DADOS\\CONDA3\\lib\\site-packages\\seaborn\\distributions.py:2551: FutureWarning: `distplot` is a deprecated function and will be removed in a future version. Please adapt your code to use either `displot` (a figure-level function with similar flexibility) or `kdeplot` (an axes-level function for kernel density plots).\n",
      "  warnings.warn(msg, FutureWarning)\n",
      "C:\\DADOS\\CONDA3\\lib\\site-packages\\seaborn\\distributions.py:2055: FutureWarning: The `axis` variable is no longer used and will be removed. Instead, assign variables directly to `x` or `y`.\n",
      "  warnings.warn(msg, FutureWarning)\n"
     ]
    },
    {
     "data": {
      "image/png": "[encoded data removed]",
      "text/plain": [
       "<Figure size 720x720 with 1 Axes>"
      ]
     },
     "metadata": {
      "needs_background": "light"
     },
     "output_type": "display_data"
    }
   ],
   "source": [
    "fig, ax = plt.subplots(figsize=chart_size)\n",
    "sea.distplot(x=df_menores[\"MEN_1B\"],kde=True,rug=True,hist=False)\n",
    "plt.show()\n",
    "fig.savefig('minorgrades_1B.jpeg', transparent=None)"
   ]
  },
  {
   "cell_type": "code",
   "execution_count": 121,
   "metadata": {},
   "outputs": [
    {
     "name": "stderr",
     "output_type": "stream",
     "text": [
      "C:\\DADOS\\CONDA3\\lib\\site-packages\\seaborn\\distributions.py:2551: FutureWarning: `distplot` is a deprecated function and will be removed in a future version. Please adapt your code to use either `displot` (a figure-level function with similar flexibility) or `kdeplot` (an axes-level function for kernel density plots).\n",
      "  warnings.warn(msg, FutureWarning)\n",
      "C:\\DADOS\\CONDA3\\lib\\site-packages\\seaborn\\distributions.py:2055: FutureWarning: The `axis` variable is no longer used and will be removed. Instead, assign variables directly to `x` or `y`.\n",
      "  warnings.warn(msg, FutureWarning)\n"
     ]
    },
    {
     "data": {
      "image/png": "[encoded data removed]",
      "text/plain": [
       "<Figure size 720x720 with 1 Axes>"
      ]
     },
     "metadata": {
      "needs_background": "light"
     },
     "output_type": "display_data"
    }
   ],
   "source": [
    "fig, ax = plt.subplots(figsize=chart_size)\n",
    "sea.distplot(x=df_menores[\"MEN_2\"],kde=True,rug=True,hist=False)\n",
    "plt.show()\n",
    "fig.savefig('minorgrades_2.jpeg', transparent=None)"
   ]
  },
  {
   "cell_type": "code",
   "execution_count": null,
   "metadata": {},
   "outputs": [],
   "source": []
  },
  {
   "cell_type": "code",
   "execution_count": null,
   "metadata": {},
   "outputs": [],
   "source": []
  },
  {
   "cell_type": "markdown",
   "metadata": {},
   "source": [
    "### Get a brief overview of data structure: (rown and columns)"
   ]
  },
  {
   "cell_type": "code",
   "execution_count": 84,
   "metadata": {},
   "outputs": [
    {
     "data": {
      "text/plain": [
       "(23099, 226)"
      ]
     },
     "execution_count": 84,
     "metadata": {},
     "output_type": "execute_result"
    }
   ],
   "source": [
    "fso.shape"
   ]
  },
  {
   "cell_type": "code",
   "execution_count": 85,
   "metadata": {},
   "outputs": [
    {
     "data": {
      "text/plain": [
       "PROJETO                 object\n",
       "TIPO_FURO               object\n",
       "Cliente                 object\n",
       "FURO                    object\n",
       "NA                      object\n",
       "DE                     float64\n",
       "ATE                    float64\n",
       "COMP                   float64\n",
       "TIPO                    object\n",
       "CLV                     object\n",
       "CLV_ORI                 object\n",
       "CLM                     object\n",
       "CLI                     object\n",
       "FEGL                   float64\n",
       "SIGL                   float64\n",
       "PGL                    float64\n",
       "ALGL                   float64\n",
       "MNGL                   float64\n",
       "MNOGL                  float64\n",
       "PFGL                   float64\n",
       "TIGL                   float64\n",
       "MGGL                   float64\n",
       "CAGL                   float64\n",
       "FOGL                   float64\n",
       "Fe3O4GL                float64\n",
       "KGL                    float64\n",
       "NAGL                   float64\n",
       "CUGL                   float64\n",
       "MNO2GL                 float64\n",
       "NIGL                   float64\n",
       "G1                     float64\n",
       "G2                     float64\n",
       "G3                     float64\n",
       "G4                     float64\n",
       "G5                     float64\n",
       "G6                     float64\n",
       "G7                     float64\n",
       "G8                     float64\n",
       "FE1                    float64\n",
       "SI1                    float64\n",
       "P1                     float64\n",
       "AL1                    float64\n",
       "MN1                    float64\n",
       "MNO1                   float64\n",
       "PF1                    float64\n",
       "TI1                    float64\n",
       "MG1                    float64\n",
       "CA1                    float64\n",
       "FO1                    float64\n",
       "Fe3O4_1                float64\n",
       "K1                     float64\n",
       "NA1                    float64\n",
       "CU1                    float64\n",
       "MNO2_1                 float64\n",
       "NI1                    float64\n",
       "FE2                    float64\n",
       "SI2                    float64\n",
       "P2                     float64\n",
       "AL2                    float64\n",
       "MN2                    float64\n",
       "MNO2                   float64\n",
       "PF2                    float64\n",
       "TI2                    float64\n",
       "MG2                    float64\n",
       "CA2                    float64\n",
       "FO2                    float64\n",
       "Fe3O4_2                float64\n",
       "K2                     float64\n",
       "NA2                    float64\n",
       "CU2                    float64\n",
       "MNO2_2                 float64\n",
       "NI2                    float64\n",
       "FE3                    float64\n",
       "SI3                    float64\n",
       "P3                     float64\n",
       "AL3                    float64\n",
       "MN3                    float64\n",
       "MNO3                   float64\n",
       "PF3                    float64\n",
       "TI3                    float64\n",
       "MG3                    float64\n",
       "CA3                    float64\n",
       "FO3                    float64\n",
       "Fe3O4_3                float64\n",
       "K3                     float64\n",
       "NA3                    float64\n",
       "CU3                    float64\n",
       "MNO2_3                 float64\n",
       "NI3                    float64\n",
       "FE4                    float64\n",
       "SI4                    float64\n",
       "P4                     float64\n",
       "AL4                    float64\n",
       "MN4                    float64\n",
       "MNO4                   float64\n",
       "PF4                    float64\n",
       "TI4                    float64\n",
       "MG4                    float64\n",
       "CA4                    float64\n",
       "FO4                    float64\n",
       "Fe3O4_4                float64\n",
       "K4                     float64\n",
       "NA4                    float64\n",
       "CU4                    float64\n",
       "MNO2_4                 float64\n",
       "NI4                    float64\n",
       "FE5                    float64\n",
       "SI5                    float64\n",
       "P5                     float64\n",
       "AL5                    float64\n",
       "MN5                    float64\n",
       "MNO5                   float64\n",
       "PF5                    float64\n",
       "TI5                    float64\n",
       "MG5                    float64\n",
       "CA5                    float64\n",
       "FO5                    float64\n",
       "Fe3O4_5                float64\n",
       "K5                     float64\n",
       "NA5                    float64\n",
       "CU5                    float64\n",
       "MNO2_5                 float64\n",
       "NI5                    float64\n",
       "FE6                    float64\n",
       "SI6                    float64\n",
       "P6                     float64\n",
       "AL6                    float64\n",
       "MN6                    float64\n",
       "MNO6                   float64\n",
       "PF6                    float64\n",
       "TI6                    float64\n",
       "MG6                    float64\n",
       "CA6                    float64\n",
       "FO6                    float64\n",
       "Fe3O4_6                float64\n",
       "K6                     float64\n",
       "NA6                    float64\n",
       "CU6                    float64\n",
       "MNO2_6                 float64\n",
       "NI6                    float64\n",
       "FE7                    float64\n",
       "SI7                    float64\n",
       "P7                     float64\n",
       "AL7                    float64\n",
       "MN7                    float64\n",
       "MNO7                   float64\n",
       "PF7                    float64\n",
       "TI7                    float64\n",
       "MG7                    float64\n",
       "CA7                    float64\n",
       "FO7                    float64\n",
       "Fe3O4_7                float64\n",
       "K7                     float64\n",
       "NA7                    float64\n",
       "CU7                    float64\n",
       "MNO2_7                 float64\n",
       "NI7                    float64\n",
       "FE8                    float64\n",
       "SI8                    float64\n",
       "P8                     float64\n",
       "AL8                    float64\n",
       "MN8                    float64\n",
       "MNO8                   float64\n",
       "PF8                    float64\n",
       "TI8                    float64\n",
       "MG8                    float64\n",
       "CA8                    float64\n",
       "FO8                    float64\n",
       "Fe3O4_8                float64\n",
       "K8                     float64\n",
       "NA8                    float64\n",
       "CU8                    float64\n",
       "MNO2_8                 float64\n",
       "NI8                    float64\n",
       "FQ1                    float64\n",
       "FQ2                    float64\n",
       "FQ3                    float64\n",
       "FQ4                    float64\n",
       "FQ5                    float64\n",
       "FQ6                    float64\n",
       "FQ7                    float64\n",
       "FQ8                    float64\n",
       "FGRA                   float64\n",
       "REC_AM                  object\n",
       "FLX_AN                  object\n",
       "FLX_AN_OR               object\n",
       "DA_ANA_FIS              object\n",
       "LAB_FIS                 object\n",
       "DA_ANA_QUI              object\n",
       "LAB_QUI                 object\n",
       "DA_SAM                  object\n",
       "DA_PLANO                object\n",
       "RESP_PLANO              object\n",
       "RESP_COLETA             object\n",
       "RESP_COLETA_NOVO        object\n",
       "NUM_SACOS                int64\n",
       "PERC_MATERIAL           object\n",
       "D_AGRU                  object\n",
       "GLOBAL                  object\n",
       "MASS_T                  object\n",
       "PARENT_SAMPLE           object\n",
       "TIPO_AMOST              object\n",
       "FEGLA                  float64\n",
       "SIGLA                  float64\n",
       "PGLA                   float64\n",
       "ALGLA                  float64\n",
       "MNGLA                  float64\n",
       "MNOGLA                 float64\n",
       "PFGLA                  float64\n",
       "TIGLA                  float64\n",
       "MGGLA                  float64\n",
       "CAGLA                  float64\n",
       "FOGLA                  float64\n",
       "Fe3O4GLA               float64\n",
       "KGLA                   float64\n",
       "NAGLA                  float64\n",
       "CUGLA                  float64\n",
       "MNO2GLA                float64\n",
       "NIGLA                  float64\n",
       "HGLA                   float64\n",
       "FQGLA                  float64\n",
       "FQGL                   float64\n",
       "STATUS                 float64\n",
       "Estratigrafia           object\n",
       "QAQC_Status_Padrao      object\n",
       "QAQC_Status_Pareada     object\n",
       "dtype: object"
      ]
     },
     "execution_count": 85,
     "metadata": {},
     "output_type": "execute_result"
    }
   ],
   "source": [
    "fso.dtypes"
   ]
  },
  {
   "cell_type": "code",
   "execution_count": 86,
   "metadata": {},
   "outputs": [
    {
     "data": {
      "text/plain": [
       "Index(['PROJETO', 'TIPO_FURO', 'Cliente', 'FURO', 'NA', 'DE', 'ATE', 'COMP',\n",
       "       'TIPO', 'CLV',\n",
       "       ...\n",
       "       'CUGLA', 'MNO2GLA', 'NIGLA', 'HGLA', 'FQGLA', 'FQGL', 'STATUS',\n",
       "       'Estratigrafia', 'QAQC_Status_Padrao', 'QAQC_Status_Pareada'],\n",
       "      dtype='object', length=226)"
      ]
     },
     "execution_count": 86,
     "metadata": {},
     "output_type": "execute_result"
    }
   ],
   "source": [
    "fso.columns"
   ]
  },
  {
   "cell_type": "code",
   "execution_count": 158,
   "metadata": {},
   "outputs": [],
   "source": [
    "df_gl = fso[[\"COMP\",\"CLI\",\"FEGL\", \"FEGLA\",\"SIGL\",\"G1\"]]"
   ]
  },
  {
   "cell_type": "code",
   "execution_count": 159,
   "metadata": {},
   "outputs": [
    {
     "data": {
      "text/plain": [
       "Index(['COMP', 'CLI', 'FEGL', 'FEGLA', 'SIGL', 'G1'], dtype='object')"
      ]
     },
     "execution_count": 159,
     "metadata": {},
     "output_type": "execute_result"
    }
   ],
   "source": [
    "df_gl.columns"
   ]
  },
  {
   "cell_type": "code",
   "execution_count": 160,
   "metadata": {
    "scrolled": true
   },
   "outputs": [
    {
     "data": {
      "text/html": [
       "<div>\n",
       "<style scoped>\n",
       "    .dataframe tbody tr th:only-of-type {\n",
       "        vertical-align: middle;\n",
       "    }\n",
       "\n",
       "    .dataframe tbody tr th {\n",
       "        vertical-align: top;\n",
       "    }\n",
       "\n",
       "    .dataframe thead th {\n",
       "        text-align: right;\n",
       "    }\n",
       "</style>\n",
       "<table border=\"1\" class=\"dataframe\">\n",
       "  <thead>\n",
       "    <tr style=\"text-align: right;\">\n",
       "      <th></th>\n",
       "      <th>COMP</th>\n",
       "      <th>CLI</th>\n",
       "      <th>FEGL</th>\n",
       "      <th>FEGLA</th>\n",
       "      <th>SIGL</th>\n",
       "      <th>G1</th>\n",
       "    </tr>\n",
       "  </thead>\n",
       "  <tbody>\n",
       "    <tr>\n",
       "      <th>0</th>\n",
       "      <td>10.00</td>\n",
       "      <td>HF</td>\n",
       "      <td>68.0093</td>\n",
       "      <td>67.76</td>\n",
       "      <td>1.2970</td>\n",
       "      <td>24.2149</td>\n",
       "    </tr>\n",
       "    <tr>\n",
       "      <th>1</th>\n",
       "      <td>10.00</td>\n",
       "      <td>HF</td>\n",
       "      <td>67.1453</td>\n",
       "      <td>67.27</td>\n",
       "      <td>1.5015</td>\n",
       "      <td>34.0163</td>\n",
       "    </tr>\n",
       "    <tr>\n",
       "      <th>2</th>\n",
       "      <td>10.00</td>\n",
       "      <td>HF</td>\n",
       "      <td>62.6861</td>\n",
       "      <td>63.21</td>\n",
       "      <td>7.7310</td>\n",
       "      <td>28.3865</td>\n",
       "    </tr>\n",
       "    <tr>\n",
       "      <th>3</th>\n",
       "      <td>7.33</td>\n",
       "      <td>HF</td>\n",
       "      <td>66.8656</td>\n",
       "      <td>67.14</td>\n",
       "      <td>0.7574</td>\n",
       "      <td>31.7364</td>\n",
       "    </tr>\n",
       "    <tr>\n",
       "      <th>4</th>\n",
       "      <td>7.33</td>\n",
       "      <td>HF</td>\n",
       "      <td>66.2993</td>\n",
       "      <td>66.02</td>\n",
       "      <td>0.8501</td>\n",
       "      <td>18.3176</td>\n",
       "    </tr>\n",
       "  </tbody>\n",
       "</table>\n",
       "</div>"
      ],
      "text/plain": [
       "    COMP CLI     FEGL  FEGLA    SIGL       G1\n",
       "0  10.00  HF  68.0093  67.76  1.2970  24.2149\n",
       "1  10.00  HF  67.1453  67.27  1.5015  34.0163\n",
       "2  10.00  HF  62.6861  63.21  7.7310  28.3865\n",
       "3   7.33  HF  66.8656  67.14  0.7574  31.7364\n",
       "4   7.33  HF  66.2993  66.02  0.8501  18.3176"
      ]
     },
     "execution_count": 160,
     "metadata": {},
     "output_type": "execute_result"
    }
   ],
   "source": [
    "df_gl.head()"
   ]
  },
  {
   "cell_type": "markdown",
   "metadata": {},
   "source": [
    "## Médias ponderadas por comprimento de amostra"
   ]
  },
  {
   "cell_type": "code",
   "execution_count": 90,
   "metadata": {
    "scrolled": true
   },
   "outputs": [],
   "source": [
    "FEGL_AV=df_gl.groupby(\"CLI\").apply(wavg, \"FEGL\", \"COMP\").to_frame()\n",
    "FEGL_AV.rename(columns={0: 'FEGL'},inplace=True)"
   ]
  },
  {
   "cell_type": "code",
   "execution_count": 91,
   "metadata": {},
   "outputs": [],
   "source": [
    "FEGLA_AV=df_gl.groupby(\"CLI\").apply(wavg, \"FEGLA\", \"COMP\").to_frame()\n",
    "FEGLA_AV.rename(columns={0:'FEGLA'},inplace=True)"
   ]
  },
  {
   "cell_type": "code",
   "execution_count": 92,
   "metadata": {},
   "outputs": [
    {
     "data": {
      "text/html": [
       "<div>\n",
       "<style scoped>\n",
       "    .dataframe tbody tr th:only-of-type {\n",
       "        vertical-align: middle;\n",
       "    }\n",
       "\n",
       "    .dataframe tbody tr th {\n",
       "        vertical-align: top;\n",
       "    }\n",
       "\n",
       "    .dataframe thead th {\n",
       "        text-align: right;\n",
       "    }\n",
       "</style>\n",
       "<table border=\"1\" class=\"dataframe\">\n",
       "  <thead>\n",
       "    <tr style=\"text-align: right;\">\n",
       "      <th></th>\n",
       "      <th>FEGL</th>\n",
       "      <th>FEGLA</th>\n",
       "    </tr>\n",
       "    <tr>\n",
       "      <th>CLI</th>\n",
       "      <th></th>\n",
       "      <th></th>\n",
       "    </tr>\n",
       "  </thead>\n",
       "  <tbody>\n",
       "    <tr>\n",
       "      <th>AT</th>\n",
       "      <td>0.000000</td>\n",
       "      <td>0.000000</td>\n",
       "    </tr>\n",
       "    <tr>\n",
       "      <th>CG</th>\n",
       "      <td>57.927651</td>\n",
       "      <td>47.792483</td>\n",
       "    </tr>\n",
       "    <tr>\n",
       "      <th>HC</th>\n",
       "      <td>49.735567</td>\n",
       "      <td>65.409630</td>\n",
       "    </tr>\n",
       "    <tr>\n",
       "      <th>HF</th>\n",
       "      <td>64.150548</td>\n",
       "      <td>64.800598</td>\n",
       "    </tr>\n",
       "    <tr>\n",
       "      <th>IAL</th>\n",
       "      <td>59.437608</td>\n",
       "      <td>59.241265</td>\n",
       "    </tr>\n",
       "    <tr>\n",
       "      <th>IC</th>\n",
       "      <td>14.865509</td>\n",
       "      <td>38.503241</td>\n",
       "    </tr>\n",
       "    <tr>\n",
       "      <th>IF</th>\n",
       "      <td>43.913975</td>\n",
       "      <td>44.996934</td>\n",
       "    </tr>\n",
       "    <tr>\n",
       "      <th>IGO</th>\n",
       "      <td>58.923803</td>\n",
       "      <td>59.171347</td>\n",
       "    </tr>\n",
       "    <tr>\n",
       "      <th>IMN</th>\n",
       "      <td>48.050181</td>\n",
       "      <td>0.000000</td>\n",
       "    </tr>\n",
       "    <tr>\n",
       "      <th>IMNF</th>\n",
       "      <td>21.412500</td>\n",
       "      <td>0.000000</td>\n",
       "    </tr>\n",
       "    <tr>\n",
       "      <th>IN</th>\n",
       "      <td>0.000000</td>\n",
       "      <td>0.000000</td>\n",
       "    </tr>\n",
       "    <tr>\n",
       "      <th>\\N</th>\n",
       "      <td>27.838756</td>\n",
       "      <td>23.969837</td>\n",
       "    </tr>\n",
       "  </tbody>\n",
       "</table>\n",
       "</div>"
      ],
      "text/plain": [
       "           FEGL      FEGLA\n",
       "CLI                       \n",
       "AT     0.000000   0.000000\n",
       "CG    57.927651  47.792483\n",
       "HC    49.735567  65.409630\n",
       "HF    64.150548  64.800598\n",
       "IAL   59.437608  59.241265\n",
       "IC    14.865509  38.503241\n",
       "IF    43.913975  44.996934\n",
       "IGO   58.923803  59.171347\n",
       "IMN   48.050181   0.000000\n",
       "IMNF  21.412500   0.000000\n",
       "IN     0.000000   0.000000\n",
       "\\N    27.838756  23.969837"
      ]
     },
     "execution_count": 92,
     "metadata": {},
     "output_type": "execute_result"
    }
   ],
   "source": [
    "pd.merge(FEGL_AV, FEGLA_AV, on='CLI', how='inner')"
   ]
  },
  {
   "cell_type": "markdown",
   "metadata": {},
   "source": [
    "## configurando padrão de cores para litologias conforme definições da gerência\n"
   ]
  },
  {
   "cell_type": "code",
   "execution_count": 165,
   "metadata": {},
   "outputs": [],
   "source": [
    "litocolor=dict(AT= \"#777777\",CG= \"#00AA00\",HC = \"#EE0000\",HF = \"#EE00DD\",IAL = \"#77AAFF\",IC = \"#004488\", \\\n",
    "               IF = \"#0088FF\",IGO = \"#7766DD\", IMN = \"#660099\",IMNF = \"#000000\",IN = \"#774400\")"
   ]
  },
  {
   "cell_type": "code",
   "execution_count": 166,
   "metadata": {},
   "outputs": [
    {
     "name": "stderr",
     "output_type": "stream",
     "text": [
      "<ipython-input-166-7c1be531df4f>:1: SettingWithCopyWarning: \n",
      "A value is trying to be set on a copy of a slice from a DataFrame\n",
      "\n",
      "See the caveats in the documentation: https://pandas.pydata.org/pandas-docs/stable/user_guide/indexing.html#returning-a-view-versus-a-copy\n",
      "  df_gl2=df_gl.loc[:,:].dropna(how=\"all\", inplace=True)\n"
     ]
    }
   ],
   "source": [
    "df_gl2=df_gl.loc[:,:].dropna(how=\"all\", inplace=True)"
   ]
  },
  {
   "cell_type": "code",
   "execution_count": 167,
   "metadata": {},
   "outputs": [
    {
     "name": "stderr",
     "output_type": "stream",
     "text": [
      "C:\\DADOS\\CONDA3\\lib\\site-packages\\pandas\\core\\indexing.py:1596: SettingWithCopyWarning: \n",
      "A value is trying to be set on a copy of a slice from a DataFrame.\n",
      "Try using .loc[row_indexer,col_indexer] = value instead\n",
      "\n",
      "See the caveats in the documentation: https://pandas.pydata.org/pandas-docs/stable/user_guide/indexing.html#returning-a-view-versus-a-copy\n",
      "  self.obj[key] = _infer_fill_value(value)\n",
      "C:\\DADOS\\CONDA3\\lib\\site-packages\\pandas\\core\\indexing.py:1743: SettingWithCopyWarning: \n",
      "A value is trying to be set on a copy of a slice from a DataFrame.\n",
      "Try using .loc[row_indexer,col_indexer] = value instead\n",
      "\n",
      "See the caveats in the documentation: https://pandas.pydata.org/pandas-docs/stable/user_guide/indexing.html#returning-a-view-versus-a-copy\n",
      "  isetter(ilocs[0], value)\n"
     ]
    }
   ],
   "source": [
    "df_gl.loc[:,\"D_FEGL\"]=df_gl.loc[:,\"FEGLA\"]-df_gl.loc[:,\"FEGL\"]"
   ]
  },
  {
   "cell_type": "code",
   "execution_count": 168,
   "metadata": {},
   "outputs": [
    {
     "data": {
      "text/plain": [
       "(23099, 7)"
      ]
     },
     "execution_count": 168,
     "metadata": {},
     "output_type": "execute_result"
    }
   ],
   "source": [
    "df_gl.shape"
   ]
  },
  {
   "cell_type": "code",
   "execution_count": null,
   "metadata": {},
   "outputs": [],
   "source": []
  },
  {
   "cell_type": "code",
   "execution_count": 169,
   "metadata": {},
   "outputs": [
    {
     "data": {
      "text/plain": [
       "(23099, 7)"
      ]
     },
     "execution_count": 169,
     "metadata": {},
     "output_type": "execute_result"
    }
   ],
   "source": [
    "df_gl.shape"
   ]
  },
  {
   "cell_type": "code",
   "execution_count": 170,
   "metadata": {
    "scrolled": true
   },
   "outputs": [
    {
     "data": {
      "text/html": [
       "<div>\n",
       "<style scoped>\n",
       "    .dataframe tbody tr th:only-of-type {\n",
       "        vertical-align: middle;\n",
       "    }\n",
       "\n",
       "    .dataframe tbody tr th {\n",
       "        vertical-align: top;\n",
       "    }\n",
       "\n",
       "    .dataframe thead th {\n",
       "        text-align: right;\n",
       "    }\n",
       "</style>\n",
       "<table border=\"1\" class=\"dataframe\">\n",
       "  <thead>\n",
       "    <tr style=\"text-align: right;\">\n",
       "      <th></th>\n",
       "      <th>COMP</th>\n",
       "      <th>CLI</th>\n",
       "      <th>FEGL</th>\n",
       "      <th>FEGLA</th>\n",
       "      <th>SIGL</th>\n",
       "      <th>G1</th>\n",
       "      <th>D_FEGL</th>\n",
       "    </tr>\n",
       "  </thead>\n",
       "  <tbody>\n",
       "    <tr>\n",
       "      <th>0</th>\n",
       "      <td>10.00</td>\n",
       "      <td>HF</td>\n",
       "      <td>68.0093</td>\n",
       "      <td>67.76</td>\n",
       "      <td>1.2970</td>\n",
       "      <td>24.2149</td>\n",
       "      <td>-0.2493</td>\n",
       "    </tr>\n",
       "    <tr>\n",
       "      <th>1</th>\n",
       "      <td>10.00</td>\n",
       "      <td>HF</td>\n",
       "      <td>67.1453</td>\n",
       "      <td>67.27</td>\n",
       "      <td>1.5015</td>\n",
       "      <td>34.0163</td>\n",
       "      <td>0.1247</td>\n",
       "    </tr>\n",
       "    <tr>\n",
       "      <th>2</th>\n",
       "      <td>10.00</td>\n",
       "      <td>HF</td>\n",
       "      <td>62.6861</td>\n",
       "      <td>63.21</td>\n",
       "      <td>7.7310</td>\n",
       "      <td>28.3865</td>\n",
       "      <td>0.5239</td>\n",
       "    </tr>\n",
       "    <tr>\n",
       "      <th>3</th>\n",
       "      <td>7.33</td>\n",
       "      <td>HF</td>\n",
       "      <td>66.8656</td>\n",
       "      <td>67.14</td>\n",
       "      <td>0.7574</td>\n",
       "      <td>31.7364</td>\n",
       "      <td>0.2744</td>\n",
       "    </tr>\n",
       "    <tr>\n",
       "      <th>4</th>\n",
       "      <td>7.33</td>\n",
       "      <td>HF</td>\n",
       "      <td>66.2993</td>\n",
       "      <td>66.02</td>\n",
       "      <td>0.8501</td>\n",
       "      <td>18.3176</td>\n",
       "      <td>-0.2793</td>\n",
       "    </tr>\n",
       "  </tbody>\n",
       "</table>\n",
       "</div>"
      ],
      "text/plain": [
       "    COMP CLI     FEGL  FEGLA    SIGL       G1  D_FEGL\n",
       "0  10.00  HF  68.0093  67.76  1.2970  24.2149 -0.2493\n",
       "1  10.00  HF  67.1453  67.27  1.5015  34.0163  0.1247\n",
       "2  10.00  HF  62.6861  63.21  7.7310  28.3865  0.5239\n",
       "3   7.33  HF  66.8656  67.14  0.7574  31.7364  0.2744\n",
       "4   7.33  HF  66.2993  66.02  0.8501  18.3176 -0.2793"
      ]
     },
     "execution_count": 170,
     "metadata": {},
     "output_type": "execute_result"
    }
   ],
   "source": [
    "df_gl.head()"
   ]
  },
  {
   "cell_type": "code",
   "execution_count": 171,
   "metadata": {},
   "outputs": [
    {
     "name": "stderr",
     "output_type": "stream",
     "text": [
      "C:\\DADOS\\CONDA3\\lib\\site-packages\\pandas\\core\\indexing.py:1596: SettingWithCopyWarning: \n",
      "A value is trying to be set on a copy of a slice from a DataFrame.\n",
      "Try using .loc[row_indexer,col_indexer] = value instead\n",
      "\n",
      "See the caveats in the documentation: https://pandas.pydata.org/pandas-docs/stable/user_guide/indexing.html#returning-a-view-versus-a-copy\n",
      "  self.obj[key] = _infer_fill_value(value)\n",
      "C:\\DADOS\\CONDA3\\lib\\site-packages\\pandas\\core\\indexing.py:1743: SettingWithCopyWarning: \n",
      "A value is trying to be set on a copy of a slice from a DataFrame.\n",
      "Try using .loc[row_indexer,col_indexer] = value instead\n",
      "\n",
      "See the caveats in the documentation: https://pandas.pydata.org/pandas-docs/stable/user_guide/indexing.html#returning-a-view-versus-a-copy\n",
      "  isetter(ilocs[0], value)\n"
     ]
    }
   ],
   "source": [
    "df_gl.loc[:,\"AD_FEGL\"]=df_gl.loc[:,\"D_FEGL\"].abs()"
   ]
  },
  {
   "cell_type": "code",
   "execution_count": 172,
   "metadata": {},
   "outputs": [
    {
     "name": "stderr",
     "output_type": "stream",
     "text": [
      "C:\\DADOS\\CONDA3\\lib\\site-packages\\pandas\\core\\indexing.py:1763: SettingWithCopyWarning: \n",
      "A value is trying to be set on a copy of a slice from a DataFrame.\n",
      "Try using .loc[row_indexer,col_indexer] = value instead\n",
      "\n",
      "See the caveats in the documentation: https://pandas.pydata.org/pandas-docs/stable/user_guide/indexing.html#returning-a-view-versus-a-copy\n",
      "  isetter(loc, value)\n"
     ]
    }
   ],
   "source": [
    "df_gl.loc[:,\"TEOR\"]=\"teor\""
   ]
  },
  {
   "cell_type": "code",
   "execution_count": 188,
   "metadata": {},
   "outputs": [
    {
     "name": "stderr",
     "output_type": "stream",
     "text": [
      "C:\\DADOS\\CONDA3\\lib\\site-packages\\pandas\\core\\indexing.py:1596: SettingWithCopyWarning: \n",
      "A value is trying to be set on a copy of a slice from a DataFrame.\n",
      "Try using .loc[row_indexer,col_indexer] = value instead\n",
      "\n",
      "See the caveats in the documentation: https://pandas.pydata.org/pandas-docs/stable/user_guide/indexing.html#returning-a-view-versus-a-copy\n",
      "  self.obj[key] = _infer_fill_value(value)\n",
      "C:\\DADOS\\CONDA3\\lib\\site-packages\\pandas\\core\\indexing.py:1743: SettingWithCopyWarning: \n",
      "A value is trying to be set on a copy of a slice from a DataFrame.\n",
      "Try using .loc[row_indexer,col_indexer] = value instead\n",
      "\n",
      "See the caveats in the documentation: https://pandas.pydata.org/pandas-docs/stable/user_guide/indexing.html#returning-a-view-versus-a-copy\n",
      "  isetter(ilocs[0], value)\n"
     ]
    }
   ],
   "source": [
    "df_gl.loc[:,\"ITAB\"] = df_gl.apply(lambda row:trama_itab(row['FEGL'],row['SIGL']), axis=1)"
   ]
  },
  {
   "cell_type": "code",
   "execution_count": 189,
   "metadata": {},
   "outputs": [
    {
     "data": {
      "text/html": [
       "<div>\n",
       "<style scoped>\n",
       "    .dataframe tbody tr th:only-of-type {\n",
       "        vertical-align: middle;\n",
       "    }\n",
       "\n",
       "    .dataframe tbody tr th {\n",
       "        vertical-align: top;\n",
       "    }\n",
       "\n",
       "    .dataframe thead th {\n",
       "        text-align: right;\n",
       "    }\n",
       "</style>\n",
       "<table border=\"1\" class=\"dataframe\">\n",
       "  <thead>\n",
       "    <tr style=\"text-align: right;\">\n",
       "      <th></th>\n",
       "      <th>COMP</th>\n",
       "      <th>CLI</th>\n",
       "      <th>FEGL</th>\n",
       "      <th>FEGLA</th>\n",
       "      <th>SIGL</th>\n",
       "      <th>G1</th>\n",
       "      <th>D_FEGL</th>\n",
       "      <th>AD_FEGL</th>\n",
       "      <th>TEOR</th>\n",
       "      <th>ITAB</th>\n",
       "    </tr>\n",
       "  </thead>\n",
       "  <tbody>\n",
       "    <tr>\n",
       "      <th>0</th>\n",
       "      <td>10.00</td>\n",
       "      <td>HF</td>\n",
       "      <td>68.0093</td>\n",
       "      <td>67.76</td>\n",
       "      <td>1.2970</td>\n",
       "      <td>24.2149</td>\n",
       "      <td>-0.2493</td>\n",
       "      <td>0.2493</td>\n",
       "      <td>teor</td>\n",
       "      <td>97.870206</td>\n",
       "    </tr>\n",
       "    <tr>\n",
       "      <th>1</th>\n",
       "      <td>10.00</td>\n",
       "      <td>HF</td>\n",
       "      <td>67.1453</td>\n",
       "      <td>67.27</td>\n",
       "      <td>1.5015</td>\n",
       "      <td>34.0163</td>\n",
       "      <td>0.1247</td>\n",
       "      <td>0.1247</td>\n",
       "      <td>teor</td>\n",
       "      <td>96.847826</td>\n",
       "    </tr>\n",
       "    <tr>\n",
       "      <th>2</th>\n",
       "      <td>10.00</td>\n",
       "      <td>HF</td>\n",
       "      <td>62.6861</td>\n",
       "      <td>63.21</td>\n",
       "      <td>7.7310</td>\n",
       "      <td>28.3865</td>\n",
       "      <td>0.5239</td>\n",
       "      <td>0.5239</td>\n",
       "      <td>teor</td>\n",
       "      <td>96.745262</td>\n",
       "    </tr>\n",
       "    <tr>\n",
       "      <th>3</th>\n",
       "      <td>7.33</td>\n",
       "      <td>HF</td>\n",
       "      <td>66.8656</td>\n",
       "      <td>67.14</td>\n",
       "      <td>0.7574</td>\n",
       "      <td>31.7364</td>\n",
       "      <td>0.2744</td>\n",
       "      <td>0.2744</td>\n",
       "      <td>teor</td>\n",
       "      <td>95.706552</td>\n",
       "    </tr>\n",
       "    <tr>\n",
       "      <th>4</th>\n",
       "      <td>7.33</td>\n",
       "      <td>HF</td>\n",
       "      <td>66.2993</td>\n",
       "      <td>66.02</td>\n",
       "      <td>0.8501</td>\n",
       "      <td>18.3176</td>\n",
       "      <td>-0.2793</td>\n",
       "      <td>0.2793</td>\n",
       "      <td>teor</td>\n",
       "      <td>94.995106</td>\n",
       "    </tr>\n",
       "  </tbody>\n",
       "</table>\n",
       "</div>"
      ],
      "text/plain": [
       "    COMP CLI     FEGL  FEGLA    SIGL       G1  D_FEGL  AD_FEGL  TEOR  \\\n",
       "0  10.00  HF  68.0093  67.76  1.2970  24.2149 -0.2493   0.2493  teor   \n",
       "1  10.00  HF  67.1453  67.27  1.5015  34.0163  0.1247   0.1247  teor   \n",
       "2  10.00  HF  62.6861  63.21  7.7310  28.3865  0.5239   0.5239  teor   \n",
       "3   7.33  HF  66.8656  67.14  0.7574  31.7364  0.2744   0.2744  teor   \n",
       "4   7.33  HF  66.2993  66.02  0.8501  18.3176 -0.2793   0.2793  teor   \n",
       "\n",
       "        ITAB  \n",
       "0  97.870206  \n",
       "1  96.847826  \n",
       "2  96.745262  \n",
       "3  95.706552  \n",
       "4  94.995106  "
      ]
     },
     "execution_count": 189,
     "metadata": {},
     "output_type": "execute_result"
    }
   ],
   "source": [
    "df_gl.head()"
   ]
  },
  {
   "cell_type": "code",
   "execution_count": null,
   "metadata": {},
   "outputs": [],
   "source": []
  },
  {
   "cell_type": "code",
   "execution_count": null,
   "metadata": {},
   "outputs": [],
   "source": []
  },
  {
   "cell_type": "code",
   "execution_count": 174,
   "metadata": {},
   "outputs": [
    {
     "data": {
      "text/html": [
       "<div>\n",
       "<style scoped>\n",
       "    .dataframe tbody tr th:only-of-type {\n",
       "        vertical-align: middle;\n",
       "    }\n",
       "\n",
       "    .dataframe tbody tr th {\n",
       "        vertical-align: top;\n",
       "    }\n",
       "\n",
       "    .dataframe thead th {\n",
       "        text-align: right;\n",
       "    }\n",
       "</style>\n",
       "<table border=\"1\" class=\"dataframe\">\n",
       "  <thead>\n",
       "    <tr style=\"text-align: right;\">\n",
       "      <th></th>\n",
       "      <th>COMP</th>\n",
       "      <th>CLI</th>\n",
       "      <th>FEGL</th>\n",
       "      <th>FEGLA</th>\n",
       "      <th>SIGL</th>\n",
       "      <th>G1</th>\n",
       "      <th>D_FEGL</th>\n",
       "      <th>AD_FEGL</th>\n",
       "      <th>TEOR</th>\n",
       "    </tr>\n",
       "  </thead>\n",
       "  <tbody>\n",
       "    <tr>\n",
       "      <th>0</th>\n",
       "      <td>10.00</td>\n",
       "      <td>HF</td>\n",
       "      <td>68.0093</td>\n",
       "      <td>67.76</td>\n",
       "      <td>1.2970</td>\n",
       "      <td>24.2149</td>\n",
       "      <td>-0.2493</td>\n",
       "      <td>0.2493</td>\n",
       "      <td>teor</td>\n",
       "    </tr>\n",
       "    <tr>\n",
       "      <th>1</th>\n",
       "      <td>10.00</td>\n",
       "      <td>HF</td>\n",
       "      <td>67.1453</td>\n",
       "      <td>67.27</td>\n",
       "      <td>1.5015</td>\n",
       "      <td>34.0163</td>\n",
       "      <td>0.1247</td>\n",
       "      <td>0.1247</td>\n",
       "      <td>teor</td>\n",
       "    </tr>\n",
       "    <tr>\n",
       "      <th>2</th>\n",
       "      <td>10.00</td>\n",
       "      <td>HF</td>\n",
       "      <td>62.6861</td>\n",
       "      <td>63.21</td>\n",
       "      <td>7.7310</td>\n",
       "      <td>28.3865</td>\n",
       "      <td>0.5239</td>\n",
       "      <td>0.5239</td>\n",
       "      <td>teor</td>\n",
       "    </tr>\n",
       "    <tr>\n",
       "      <th>3</th>\n",
       "      <td>7.33</td>\n",
       "      <td>HF</td>\n",
       "      <td>66.8656</td>\n",
       "      <td>67.14</td>\n",
       "      <td>0.7574</td>\n",
       "      <td>31.7364</td>\n",
       "      <td>0.2744</td>\n",
       "      <td>0.2744</td>\n",
       "      <td>teor</td>\n",
       "    </tr>\n",
       "    <tr>\n",
       "      <th>4</th>\n",
       "      <td>7.33</td>\n",
       "      <td>HF</td>\n",
       "      <td>66.2993</td>\n",
       "      <td>66.02</td>\n",
       "      <td>0.8501</td>\n",
       "      <td>18.3176</td>\n",
       "      <td>-0.2793</td>\n",
       "      <td>0.2793</td>\n",
       "      <td>teor</td>\n",
       "    </tr>\n",
       "  </tbody>\n",
       "</table>\n",
       "</div>"
      ],
      "text/plain": [
       "    COMP CLI     FEGL  FEGLA    SIGL       G1  D_FEGL  AD_FEGL  TEOR\n",
       "0  10.00  HF  68.0093  67.76  1.2970  24.2149 -0.2493   0.2493  teor\n",
       "1  10.00  HF  67.1453  67.27  1.5015  34.0163  0.1247   0.1247  teor\n",
       "2  10.00  HF  62.6861  63.21  7.7310  28.3865  0.5239   0.5239  teor\n",
       "3   7.33  HF  66.8656  67.14  0.7574  31.7364  0.2744   0.2744  teor\n",
       "4   7.33  HF  66.2993  66.02  0.8501  18.3176 -0.2793   0.2793  teor"
      ]
     },
     "execution_count": 174,
     "metadata": {},
     "output_type": "execute_result"
    }
   ],
   "source": [
    "df_gl.head()"
   ]
  },
  {
   "cell_type": "code",
   "execution_count": 175,
   "metadata": {
    "scrolled": true
   },
   "outputs": [
    {
     "data": {
      "text/html": [
       "<div>\n",
       "<style scoped>\n",
       "    .dataframe tbody tr th:only-of-type {\n",
       "        vertical-align: middle;\n",
       "    }\n",
       "\n",
       "    .dataframe tbody tr th {\n",
       "        vertical-align: top;\n",
       "    }\n",
       "\n",
       "    .dataframe thead th {\n",
       "        text-align: right;\n",
       "    }\n",
       "</style>\n",
       "<table border=\"1\" class=\"dataframe\">\n",
       "  <thead>\n",
       "    <tr style=\"text-align: right;\">\n",
       "      <th></th>\n",
       "      <th>COMP</th>\n",
       "      <th>CLI</th>\n",
       "      <th>FEGL</th>\n",
       "      <th>FEGLA</th>\n",
       "      <th>SIGL</th>\n",
       "      <th>G1</th>\n",
       "      <th>D_FEGL</th>\n",
       "      <th>AD_FEGL</th>\n",
       "      <th>TEOR</th>\n",
       "    </tr>\n",
       "  </thead>\n",
       "  <tbody>\n",
       "    <tr>\n",
       "      <th>0</th>\n",
       "      <td>10.00</td>\n",
       "      <td>HF</td>\n",
       "      <td>68.0093</td>\n",
       "      <td>67.76</td>\n",
       "      <td>1.2970</td>\n",
       "      <td>24.2149</td>\n",
       "      <td>-0.2493</td>\n",
       "      <td>0.2493</td>\n",
       "      <td>teor</td>\n",
       "    </tr>\n",
       "    <tr>\n",
       "      <th>1</th>\n",
       "      <td>10.00</td>\n",
       "      <td>HF</td>\n",
       "      <td>67.1453</td>\n",
       "      <td>67.27</td>\n",
       "      <td>1.5015</td>\n",
       "      <td>34.0163</td>\n",
       "      <td>0.1247</td>\n",
       "      <td>0.1247</td>\n",
       "      <td>teor</td>\n",
       "    </tr>\n",
       "    <tr>\n",
       "      <th>2</th>\n",
       "      <td>10.00</td>\n",
       "      <td>HF</td>\n",
       "      <td>62.6861</td>\n",
       "      <td>63.21</td>\n",
       "      <td>7.7310</td>\n",
       "      <td>28.3865</td>\n",
       "      <td>0.5239</td>\n",
       "      <td>0.5239</td>\n",
       "      <td>teor</td>\n",
       "    </tr>\n",
       "    <tr>\n",
       "      <th>3</th>\n",
       "      <td>7.33</td>\n",
       "      <td>HF</td>\n",
       "      <td>66.8656</td>\n",
       "      <td>67.14</td>\n",
       "      <td>0.7574</td>\n",
       "      <td>31.7364</td>\n",
       "      <td>0.2744</td>\n",
       "      <td>0.2744</td>\n",
       "      <td>teor</td>\n",
       "    </tr>\n",
       "    <tr>\n",
       "      <th>4</th>\n",
       "      <td>7.33</td>\n",
       "      <td>HF</td>\n",
       "      <td>66.2993</td>\n",
       "      <td>66.02</td>\n",
       "      <td>0.8501</td>\n",
       "      <td>18.3176</td>\n",
       "      <td>-0.2793</td>\n",
       "      <td>0.2793</td>\n",
       "      <td>teor</td>\n",
       "    </tr>\n",
       "  </tbody>\n",
       "</table>\n",
       "</div>"
      ],
      "text/plain": [
       "    COMP CLI     FEGL  FEGLA    SIGL       G1  D_FEGL  AD_FEGL  TEOR\n",
       "0  10.00  HF  68.0093  67.76  1.2970  24.2149 -0.2493   0.2493  teor\n",
       "1  10.00  HF  67.1453  67.27  1.5015  34.0163  0.1247   0.1247  teor\n",
       "2  10.00  HF  62.6861  63.21  7.7310  28.3865  0.5239   0.5239  teor\n",
       "3   7.33  HF  66.8656  67.14  0.7574  31.7364  0.2744   0.2744  teor\n",
       "4   7.33  HF  66.2993  66.02  0.8501  18.3176 -0.2793   0.2793  teor"
      ]
     },
     "execution_count": 175,
     "metadata": {},
     "output_type": "execute_result"
    }
   ],
   "source": [
    "df_gl.head()"
   ]
  },
  {
   "cell_type": "code",
   "execution_count": 176,
   "metadata": {},
   "outputs": [],
   "source": [
    "#options: kernel density estimation (kde), binwidth and axis\n",
    "#when you have different n for each class, try to normalize using distplot"
   ]
  },
  {
   "cell_type": "code",
   "execution_count": 177,
   "metadata": {},
   "outputs": [
    {
     "name": "stderr",
     "output_type": "stream",
     "text": [
      "C:\\DADOS\\CONDA3\\lib\\site-packages\\pandas\\core\\frame.py:4167: SettingWithCopyWarning: \n",
      "A value is trying to be set on a copy of a slice from a DataFrame\n",
      "\n",
      "See the caveats in the documentation: https://pandas.pydata.org/pandas-docs/stable/user_guide/indexing.html#returning-a-view-versus-a-copy\n",
      "  return super().drop(\n"
     ]
    }
   ],
   "source": [
    "df_gl.drop(df_gl[df_gl.CLI == \"\\\\N\"].index,inplace=True)"
   ]
  },
  {
   "cell_type": "code",
   "execution_count": null,
   "metadata": {},
   "outputs": [],
   "source": []
  },
  {
   "cell_type": "code",
   "execution_count": null,
   "metadata": {},
   "outputs": [],
   "source": []
  },
  {
   "cell_type": "code",
   "execution_count": 178,
   "metadata": {
    "scrolled": true
   },
   "outputs": [
    {
     "data": {
      "image/png": "[encoded data removed]",
      "text/plain": [
       "<Figure size 720x720 with 1 Axes>"
      ]
     },
     "metadata": {},
     "output_type": "display_data"
    }
   ],
   "source": [
    "fig, ax = plt.subplots(figsize=chart_size)\n",
    "sea.histplot(data=df_gl[\"D_FEGL\"],binwidth=0.5,kde=True)\n",
    "plt.show()"
   ]
  },
  {
   "cell_type": "code",
   "execution_count": 179,
   "metadata": {},
   "outputs": [
    {
     "name": "stderr",
     "output_type": "stream",
     "text": [
      "C:\\DADOS\\CONDA3\\lib\\site-packages\\seaborn\\distributions.py:2551: FutureWarning: `distplot` is a deprecated function and will be removed in a future version. Please adapt your code to use either `displot` (a figure-level function with similar flexibility) or `kdeplot` (an axes-level function for kernel density plots).\n",
      "  warnings.warn(msg, FutureWarning)\n",
      "C:\\DADOS\\CONDA3\\lib\\site-packages\\seaborn\\distributions.py:2055: FutureWarning: The `axis` variable is no longer used and will be removed. Instead, assign variables directly to `x` or `y`.\n",
      "  warnings.warn(msg, FutureWarning)\n"
     ]
    },
    {
     "data": {
      "image/png": "[encoded data removed]",
      "text/plain": [
       "<Figure size 720x720 with 1 Axes>"
      ]
     },
     "metadata": {},
     "output_type": "display_data"
    }
   ],
   "source": [
    "fig, ax = plt.subplots(figsize=chart_size)\n",
    "sea.distplot(x=df_gl[\"D_FEGL\"],kde=True,rug=True, hist=False)\n",
    "plt.show()"
   ]
  },
  {
   "cell_type": "code",
   "execution_count": 180,
   "metadata": {},
   "outputs": [
    {
     "name": "stderr",
     "output_type": "stream",
     "text": [
      "C:\\DADOS\\CONDA3\\lib\\site-packages\\seaborn\\distributions.py:305: UserWarning: Dataset has 0 variance; skipping density estimate.\n",
      "  warnings.warn(msg, UserWarning)\n",
      "C:\\DADOS\\CONDA3\\lib\\site-packages\\seaborn\\distributions.py:305: UserWarning: Dataset has 0 variance; skipping density estimate.\n",
      "  warnings.warn(msg, UserWarning)\n",
      "C:\\DADOS\\CONDA3\\lib\\site-packages\\seaborn\\distributions.py:305: UserWarning: Dataset has 0 variance; skipping density estimate.\n",
      "  warnings.warn(msg, UserWarning)\n",
      "C:\\DADOS\\CONDA3\\lib\\site-packages\\seaborn\\distributions.py:305: UserWarning: Dataset has 0 variance; skipping density estimate.\n",
      "  warnings.warn(msg, UserWarning)\n"
     ]
    },
    {
     "data": {
      "image/png": "[encoded data removed]",
      "text/plain": [
       "<Figure size 720x720 with 1 Axes>"
      ]
     },
     "metadata": {},
     "output_type": "display_data"
    }
   ],
   "source": [
    "fig, ax = plt.subplots(figsize=chart_size)\n",
    "sea.kdeplot(data=df_gl,x=\"D_FEGL\",hue=\"CLI\",multiple=\"stack\", cumulative=True,palette=litocolor,alpha=.5)\n",
    "plt.show()"
   ]
  },
  {
   "cell_type": "code",
   "execution_count": null,
   "metadata": {},
   "outputs": [],
   "source": []
  },
  {
   "cell_type": "code",
   "execution_count": 181,
   "metadata": {},
   "outputs": [
    {
     "name": "stderr",
     "output_type": "stream",
     "text": [
      "C:\\DADOS\\CONDA3\\lib\\site-packages\\seaborn\\distributions.py:305: UserWarning: Dataset has 0 variance; skipping density estimate.\n",
      "  warnings.warn(msg, UserWarning)\n",
      "C:\\DADOS\\CONDA3\\lib\\site-packages\\seaborn\\distributions.py:305: UserWarning: Dataset has 0 variance; skipping density estimate.\n",
      "  warnings.warn(msg, UserWarning)\n",
      "C:\\DADOS\\CONDA3\\lib\\site-packages\\seaborn\\distributions.py:305: UserWarning: Dataset has 0 variance; skipping density estimate.\n",
      "  warnings.warn(msg, UserWarning)\n",
      "C:\\DADOS\\CONDA3\\lib\\site-packages\\seaborn\\distributions.py:305: UserWarning: Dataset has 0 variance; skipping density estimate.\n",
      "  warnings.warn(msg, UserWarning)\n"
     ]
    },
    {
     "data": {
      "image/png": "[encoded data removed]",
      "text/plain": [
       "<Figure size 720x720 with 1 Axes>"
      ]
     },
     "metadata": {},
     "output_type": "display_data"
    }
   ],
   "source": [
    "fig, ax = plt.subplots(figsize=chart_size)\n",
    "sea.kdeplot(data=df_gl,x=\"D_FEGL\",hue=\"CLI\",fill=True, common_norm=False, palette=litocolor, alpha=.5, linewidth=0,)\n",
    "fig.savefig('mean_grade_error_by_lito_fill.jpeg', transparent=None)\n",
    "plt.show()"
   ]
  },
  {
   "cell_type": "code",
   "execution_count": 109,
   "metadata": {},
   "outputs": [
    {
     "name": "stderr",
     "output_type": "stream",
     "text": [
      "C:\\DADOS\\CONDA3\\lib\\site-packages\\seaborn\\distributions.py:305: UserWarning: Dataset has 0 variance; skipping density estimate.\n",
      "  warnings.warn(msg, UserWarning)\n",
      "C:\\DADOS\\CONDA3\\lib\\site-packages\\seaborn\\distributions.py:305: UserWarning: Dataset has 0 variance; skipping density estimate.\n",
      "  warnings.warn(msg, UserWarning)\n",
      "C:\\DADOS\\CONDA3\\lib\\site-packages\\seaborn\\distributions.py:305: UserWarning: Dataset has 0 variance; skipping density estimate.\n",
      "  warnings.warn(msg, UserWarning)\n",
      "C:\\DADOS\\CONDA3\\lib\\site-packages\\seaborn\\distributions.py:305: UserWarning: Dataset has 0 variance; skipping density estimate.\n",
      "  warnings.warn(msg, UserWarning)\n"
     ]
    },
    {
     "data": {
      "image/png": "[encoded data removed]",
      "text/plain": [
       "<Figure size 720x720 with 1 Axes>"
      ]
     },
     "metadata": {},
     "output_type": "display_data"
    }
   ],
   "source": [
    "fig, ax = plt.subplots(figsize=chart_size)\n",
    "sea.kdeplot(data=df_gl,x=\"D_FEGL\",hue=\"CLI\", common_norm=False, palette=litocolor, alpha=.5)\n",
    "fig.savefig('meangrade_error_by_lito.jpeg', transparent=None)\n",
    "plt.show()"
   ]
  },
  {
   "cell_type": "code",
   "execution_count": 128,
   "metadata": {},
   "outputs": [
    {
     "name": "stderr",
     "output_type": "stream",
     "text": [
      "C:\\DADOS\\CONDA3\\lib\\site-packages\\seaborn\\distributions.py:305: UserWarning: Dataset has 0 variance; skipping density estimate.\n",
      "  warnings.warn(msg, UserWarning)\n",
      "C:\\DADOS\\CONDA3\\lib\\site-packages\\seaborn\\distributions.py:305: UserWarning: Dataset has 0 variance; skipping density estimate.\n",
      "  warnings.warn(msg, UserWarning)\n",
      "C:\\DADOS\\CONDA3\\lib\\site-packages\\seaborn\\distributions.py:305: UserWarning: Dataset has 0 variance; skipping density estimate.\n",
      "  warnings.warn(msg, UserWarning)\n",
      "C:\\DADOS\\CONDA3\\lib\\site-packages\\seaborn\\distributions.py:305: UserWarning: Dataset has 0 variance; skipping density estimate.\n",
      "  warnings.warn(msg, UserWarning)\n"
     ]
    },
    {
     "data": {
      "image/png": "[encoded data removed]",
      "text/plain": [
       "<Figure size 720x720 with 1 Axes>"
      ]
     },
     "metadata": {},
     "output_type": "display_data"
    }
   ],
   "source": [
    "fig, ax = plt.subplots(figsize=chart_size)\n",
    "sea.kdeplot(data=df_gl,x=\"D_FEGL\",hue=\"CLI\", common_norm=False, cumulative=True,palette=litocolor, alpha=.5)\n",
    "fig.savefig('meangrade_error_by_lito.jpeg', transparent=None)\n",
    "plt.show()"
   ]
  },
  {
   "cell_type": "code",
   "execution_count": null,
   "metadata": {},
   "outputs": [],
   "source": []
  },
  {
   "cell_type": "code",
   "execution_count": null,
   "metadata": {},
   "outputs": [],
   "source": []
  },
  {
   "cell_type": "code",
   "execution_count": 110,
   "metadata": {
    "scrolled": true
   },
   "outputs": [
    {
     "data": {
      "image/png": "[encoded data removed]",
      "text/plain": [
       "<Figure size 720x720 with 1 Axes>"
      ]
     },
     "metadata": {},
     "output_type": "display_data"
    }
   ],
   "source": [
    "fig, ax = plt.subplots(figsize=chart_size)\n",
    "sea.scatterplot(data=df_gl, x=\"FEGLA\", y=\"FEGL\", hue=\"CLI\",palette=litocolor, size=\"AD_FEGL\", alpha=1)\n",
    "fig.savefig('mean_grade_fegl_scatter.jpeg', transparent=None)\n",
    "plt.show()"
   ]
  },
  {
   "cell_type": "markdown",
   "metadata": {},
   "source": [
    "## Verificando sensibilidade de erro em função do retido na primeira malha"
   ]
  },
  {
   "cell_type": "code",
   "execution_count": 153,
   "metadata": {},
   "outputs": [
    {
     "data": {
      "image/png": "[encoded data removed]",
      "text/plain": [
       "<Figure size 720x720 with 1 Axes>"
      ]
     },
     "metadata": {},
     "output_type": "display_data"
    }
   ],
   "source": [
    "fig, ax = plt.subplots(figsize=chart_size)\n",
    "sea.scatterplot(data=df_gl, x=\"G1\", y=\"AD_FEGL\", hue=\"CLI\",palette=litocolor)\n",
    "fig.savefig('coarse_split_fegl_error.jpeg', transparent=None)\n",
    "plt.show()"
   ]
  },
  {
   "cell_type": "code",
   "execution_count": 112,
   "metadata": {},
   "outputs": [
    {
     "data": {
      "text/plain": [
       "CLI\n",
       "HC    AxesSubplot(0.125,0.125;0.775x0.755)\n",
       "HF    AxesSubplot(0.125,0.125;0.775x0.755)\n",
       "IC    AxesSubplot(0.125,0.125;0.775x0.755)\n",
       "IF    AxesSubplot(0.125,0.125;0.775x0.755)\n",
       "Name: D_FEGL, dtype: object"
      ]
     },
     "execution_count": 112,
     "metadata": {},
     "output_type": "execute_result"
    },
    {
     "data": {
      "image/png": "[encoded data removed]",
      "text/plain": [
       "<Figure size 720x720 with 1 Axes>"
      ]
     },
     "metadata": {},
     "output_type": "display_data"
    }
   ],
   "source": [
    "df_gl[(df_gl['CLI'].isin(fresh_clean)) & (df_gl['FEGLA']>=0.01)].groupby(['CLI']).D_FEGL.plot.hist(stacked=True, \\\n",
    "                                                                                                    \n",
    "    histtype='step', bins=10, figsize=(10,10), legend=True)"
   ]
  },
  {
   "cell_type": "code",
   "execution_count": 113,
   "metadata": {},
   "outputs": [],
   "source": [
    "\n",
    "sea.set_theme(style=\"whitegrid\")"
   ]
  },
  {
   "cell_type": "code",
   "execution_count": 114,
   "metadata": {},
   "outputs": [
    {
     "data": {
      "text/html": [
       "<div>\n",
       "<style scoped>\n",
       "    .dataframe tbody tr th:only-of-type {\n",
       "        vertical-align: middle;\n",
       "    }\n",
       "\n",
       "    .dataframe tbody tr th {\n",
       "        vertical-align: top;\n",
       "    }\n",
       "\n",
       "    .dataframe thead th {\n",
       "        text-align: right;\n",
       "    }\n",
       "</style>\n",
       "<table border=\"1\" class=\"dataframe\">\n",
       "  <thead>\n",
       "    <tr style=\"text-align: right;\">\n",
       "      <th></th>\n",
       "      <th>CLI</th>\n",
       "      <th>D_FEGL</th>\n",
       "      <th>value</th>\n",
       "    </tr>\n",
       "  </thead>\n",
       "  <tbody>\n",
       "    <tr>\n",
       "      <th>0</th>\n",
       "      <td>HF</td>\n",
       "      <td>COMP</td>\n",
       "      <td>10</td>\n",
       "    </tr>\n",
       "    <tr>\n",
       "      <th>1</th>\n",
       "      <td>HF</td>\n",
       "      <td>COMP</td>\n",
       "      <td>10</td>\n",
       "    </tr>\n",
       "    <tr>\n",
       "      <th>2</th>\n",
       "      <td>HF</td>\n",
       "      <td>COMP</td>\n",
       "      <td>10</td>\n",
       "    </tr>\n",
       "    <tr>\n",
       "      <th>3</th>\n",
       "      <td>HF</td>\n",
       "      <td>COMP</td>\n",
       "      <td>7.33</td>\n",
       "    </tr>\n",
       "    <tr>\n",
       "      <th>4</th>\n",
       "      <td>HF</td>\n",
       "      <td>COMP</td>\n",
       "      <td>7.33</td>\n",
       "    </tr>\n",
       "  </tbody>\n",
       "</table>\n",
       "</div>"
      ],
      "text/plain": [
       "  CLI D_FEGL value\n",
       "0  HF   COMP    10\n",
       "1  HF   COMP    10\n",
       "2  HF   COMP    10\n",
       "3  HF   COMP  7.33\n",
       "4  HF   COMP  7.33"
      ]
     },
     "execution_count": 114,
     "metadata": {},
     "output_type": "execute_result"
    }
   ],
   "source": [
    "delta=pd.melt(df_gl, \"CLI\", var_name=\"D_FEGL\")\n",
    "delta.head()"
   ]
  },
  {
   "cell_type": "code",
   "execution_count": null,
   "metadata": {},
   "outputs": [],
   "source": []
  },
  {
   "cell_type": "code",
   "execution_count": 115,
   "metadata": {},
   "outputs": [],
   "source": [
    "# Show the conditional means\n"
   ]
  },
  {
   "cell_type": "code",
   "execution_count": 152,
   "metadata": {},
   "outputs": [
    {
     "data": {
      "text/plain": [
       "<matplotlib.legend.Legend at 0x1ad4d534be0>"
      ]
     },
     "execution_count": 152,
     "metadata": {},
     "output_type": "execute_result"
    },
    {
     "data": {
      "image/png": "[encoded data removed]",
      "text/plain": [
       "<Figure size 720x720 with 1 Axes>"
      ]
     },
     "metadata": {},
     "output_type": "display_data"
    }
   ],
   "source": [
    "fig, ax = plt.subplots(figsize=chart_size)\n",
    "\n",
    "# Show the conditional means\n",
    "#sea.pointplot(x=\"value\", y=\"measurement\", hue=\"species\",\n",
    "#              data=iris, dodge=.532, join=False, palette=\"dark\",\n",
    "#              markers=\"d\", scale=.75, ci=None)\n",
    "\n",
    "\n",
    "sea.stripplot(x=\"D_FEGL\", y=\"TEOR\",hue=\"CLI\", data=df_gl, dodge=True, alpha=0.85, zorder=1, palette=litocolor )\n",
    "\n",
    "\n",
    "#sea.pointplot(x=\"D_FEGL\", y=\"TEOR\", hue=\"CLI\",\n",
    "#              data=df_gl, dodge=0.5, join=False, palette=litocolor,\n",
    "#              scale=.75, ci=None)\n",
    "\n",
    "# Improve the legend \n",
    "handles, labels = ax.get_legend_handles_labels()\n",
    "ax.legend(handles[1:], labels[1:], title=\"CLI\",\n",
    "          handletextpad=0, columnspacing=1,\n",
    "          loc=\"lower right\", ncol=4, frameon=True)"
   ]
  },
  {
   "cell_type": "markdown",
   "metadata": {},
   "source": [
    "## ISOLANDO SISTEMA QUARTZO HEM"
   ]
  },
  {
   "cell_type": "code",
   "execution_count": 191,
   "metadata": {},
   "outputs": [
    {
     "data": {
      "text/html": [
       "<div>\n",
       "<style scoped>\n",
       "    .dataframe tbody tr th:only-of-type {\n",
       "        vertical-align: middle;\n",
       "    }\n",
       "\n",
       "    .dataframe tbody tr th {\n",
       "        vertical-align: top;\n",
       "    }\n",
       "\n",
       "    .dataframe thead th {\n",
       "        text-align: right;\n",
       "    }\n",
       "</style>\n",
       "<table border=\"1\" class=\"dataframe\">\n",
       "  <thead>\n",
       "    <tr style=\"text-align: right;\">\n",
       "      <th></th>\n",
       "      <th>COMP</th>\n",
       "      <th>CLI</th>\n",
       "      <th>FEGL</th>\n",
       "      <th>FEGLA</th>\n",
       "      <th>SIGL</th>\n",
       "      <th>G1</th>\n",
       "      <th>D_FEGL</th>\n",
       "      <th>AD_FEGL</th>\n",
       "      <th>TEOR</th>\n",
       "      <th>ITAB</th>\n",
       "    </tr>\n",
       "  </thead>\n",
       "  <tbody>\n",
       "    <tr>\n",
       "      <th>0</th>\n",
       "      <td>10.00</td>\n",
       "      <td>HF</td>\n",
       "      <td>68.0093</td>\n",
       "      <td>67.76</td>\n",
       "      <td>1.2970</td>\n",
       "      <td>24.2149</td>\n",
       "      <td>-0.2493</td>\n",
       "      <td>0.2493</td>\n",
       "      <td>teor</td>\n",
       "      <td>97.870206</td>\n",
       "    </tr>\n",
       "    <tr>\n",
       "      <th>1</th>\n",
       "      <td>10.00</td>\n",
       "      <td>HF</td>\n",
       "      <td>67.1453</td>\n",
       "      <td>67.27</td>\n",
       "      <td>1.5015</td>\n",
       "      <td>34.0163</td>\n",
       "      <td>0.1247</td>\n",
       "      <td>0.1247</td>\n",
       "      <td>teor</td>\n",
       "      <td>96.847826</td>\n",
       "    </tr>\n",
       "    <tr>\n",
       "      <th>2</th>\n",
       "      <td>10.00</td>\n",
       "      <td>HF</td>\n",
       "      <td>62.6861</td>\n",
       "      <td>63.21</td>\n",
       "      <td>7.7310</td>\n",
       "      <td>28.3865</td>\n",
       "      <td>0.5239</td>\n",
       "      <td>0.5239</td>\n",
       "      <td>teor</td>\n",
       "      <td>96.745262</td>\n",
       "    </tr>\n",
       "    <tr>\n",
       "      <th>3</th>\n",
       "      <td>7.33</td>\n",
       "      <td>HF</td>\n",
       "      <td>66.8656</td>\n",
       "      <td>67.14</td>\n",
       "      <td>0.7574</td>\n",
       "      <td>31.7364</td>\n",
       "      <td>0.2744</td>\n",
       "      <td>0.2744</td>\n",
       "      <td>teor</td>\n",
       "      <td>95.706552</td>\n",
       "    </tr>\n",
       "    <tr>\n",
       "      <th>4</th>\n",
       "      <td>7.33</td>\n",
       "      <td>HF</td>\n",
       "      <td>66.2993</td>\n",
       "      <td>66.02</td>\n",
       "      <td>0.8501</td>\n",
       "      <td>18.3176</td>\n",
       "      <td>-0.2793</td>\n",
       "      <td>0.2793</td>\n",
       "      <td>teor</td>\n",
       "      <td>94.995106</td>\n",
       "    </tr>\n",
       "  </tbody>\n",
       "</table>\n",
       "</div>"
      ],
      "text/plain": [
       "    COMP CLI     FEGL  FEGLA    SIGL       G1  D_FEGL  AD_FEGL  TEOR  \\\n",
       "0  10.00  HF  68.0093  67.76  1.2970  24.2149 -0.2493   0.2493  teor   \n",
       "1  10.00  HF  67.1453  67.27  1.5015  34.0163  0.1247   0.1247  teor   \n",
       "2  10.00  HF  62.6861  63.21  7.7310  28.3865  0.5239   0.5239  teor   \n",
       "3   7.33  HF  66.8656  67.14  0.7574  31.7364  0.2744   0.2744  teor   \n",
       "4   7.33  HF  66.2993  66.02  0.8501  18.3176 -0.2793   0.2793  teor   \n",
       "\n",
       "        ITAB  \n",
       "0  97.870206  \n",
       "1  96.847826  \n",
       "2  96.745262  \n",
       "3  95.706552  \n",
       "4  94.995106  "
      ]
     },
     "execution_count": 191,
     "metadata": {},
     "output_type": "execute_result"
    }
   ],
   "source": [
    "df_gl.head()"
   ]
  },
  {
   "cell_type": "code",
   "execution_count": 192,
   "metadata": {},
   "outputs": [
    {
     "name": "stderr",
     "output_type": "stream",
     "text": [
      "C:\\DADOS\\CONDA3\\lib\\site-packages\\seaborn\\distributions.py:305: UserWarning: Dataset has 0 variance; skipping density estimate.\n",
      "  warnings.warn(msg, UserWarning)\n",
      "C:\\DADOS\\CONDA3\\lib\\site-packages\\seaborn\\distributions.py:305: UserWarning: Dataset has 0 variance; skipping density estimate.\n",
      "  warnings.warn(msg, UserWarning)\n",
      "C:\\DADOS\\CONDA3\\lib\\site-packages\\seaborn\\distributions.py:305: UserWarning: Dataset has 0 variance; skipping density estimate.\n",
      "  warnings.warn(msg, UserWarning)\n"
     ]
    },
    {
     "data": {
      "image/png": "[encoded data removed]",
      "text/plain": [
       "<Figure size 720x720 with 1 Axes>"
      ]
     },
     "metadata": {},
     "output_type": "display_data"
    }
   ],
   "source": [
    "fig, ax = plt.subplots(figsize=chart_size)\n",
    "sea.kdeplot(data=df_gl,x=\"ITAB\",hue=\"CLI\", common_norm=False, palette=litocolor, alpha=.5)\n",
    "fig.savefig('sist_quartz_hem.jpeg', transparent=None)\n",
    "plt.show()"
   ]
  },
  {
   "cell_type": "code",
   "execution_count": 197,
   "metadata": {},
   "outputs": [
    {
     "data": {
      "image/png": "[encoded data removed]",
      "text/plain": [
       "<Figure size 720x720 with 1 Axes>"
      ]
     },
     "metadata": {},
     "output_type": "display_data"
    }
   ],
   "source": [
    "fig, ax = plt.subplots(figsize=chart_size)\n",
    "sea.kdeplot(data=df_gl[df_gl[\"CLI\"].isin([\"IC\",\"IF\"])],x=\"ITAB\",hue=\"CLI\", common_norm=False, palette=litocolor, alpha=.5)\n",
    "fig.savefig('sist_quartz_hem.jpeg', transparent=None)\n",
    "plt.show()"
   ]
  },
  {
   "cell_type": "code",
   "execution_count": null,
   "metadata": {},
   "outputs": [],
   "source": []
  },
  {
   "cell_type": "code",
   "execution_count": 117,
   "metadata": {},
   "outputs": [],
   "source": [
    "dffe = fso[[\"FEGL\",\"FE1\",\"FE2\", \"FE3\",\"FE4\", \"FE5\"]]"
   ]
  },
  {
   "cell_type": "code",
   "execution_count": 148,
   "metadata": {},
   "outputs": [],
   "source": [
    "dffe_valid=dffe.loc[0:,:].dropna(how=\"all\", inplace=True)"
   ]
  },
  {
   "cell_type": "code",
   "execution_count": 149,
   "metadata": {},
   "outputs": [
    {
     "ename": "ValueError",
     "evalue": "Could not interpret value `FEGL` for parameter `x`",
     "output_type": "error",
     "traceback": [
      "\u001b[1;31m---------------------------------------------------------------------------\u001b[0m",
      "\u001b[1;31mValueError\u001b[0m                                Traceback (most recent call last)",
      "\u001b[1;32m<ipython-input-149-555964f474ca>\u001b[0m in \u001b[0;36m<module>\u001b[1;34m\u001b[0m\n\u001b[0;32m      1\u001b[0m \u001b[0mfig\u001b[0m\u001b[1;33m,\u001b[0m \u001b[0max\u001b[0m \u001b[1;33m=\u001b[0m \u001b[0mplt\u001b[0m\u001b[1;33m.\u001b[0m\u001b[0msubplots\u001b[0m\u001b[1;33m(\u001b[0m\u001b[0mfigsize\u001b[0m\u001b[1;33m=\u001b[0m\u001b[0mchart_size\u001b[0m\u001b[1;33m)\u001b[0m\u001b[1;33m\u001b[0m\u001b[1;33m\u001b[0m\u001b[0m\n\u001b[1;32m----> 2\u001b[1;33m \u001b[0msea\u001b[0m\u001b[1;33m.\u001b[0m\u001b[0mkdeplot\u001b[0m\u001b[1;33m(\u001b[0m\u001b[0mdata\u001b[0m\u001b[1;33m=\u001b[0m\u001b[0mdffe_valid\u001b[0m\u001b[1;33m,\u001b[0m\u001b[0mx\u001b[0m\u001b[1;33m=\u001b[0m\u001b[1;34m\"FEGL\"\u001b[0m\u001b[1;33m,\u001b[0m  \u001b[0malpha\u001b[0m\u001b[1;33m=\u001b[0m\u001b[1;36m.5\u001b[0m\u001b[1;33m)\u001b[0m\u001b[1;33m\u001b[0m\u001b[1;33m\u001b[0m\u001b[0m\n\u001b[0m\u001b[0;32m      3\u001b[0m \u001b[0mfig\u001b[0m\u001b[1;33m.\u001b[0m\u001b[0msavefig\u001b[0m\u001b[1;33m(\u001b[0m\u001b[1;34m'FE_SEGREG.jpeg'\u001b[0m\u001b[1;33m,\u001b[0m \u001b[0mtransparent\u001b[0m\u001b[1;33m=\u001b[0m\u001b[1;32mNone\u001b[0m\u001b[1;33m)\u001b[0m\u001b[1;33m\u001b[0m\u001b[1;33m\u001b[0m\u001b[0m\n",
      "\u001b[1;32mC:\\DADOS\\CONDA3\\lib\\site-packages\\seaborn\\_decorators.py\u001b[0m in \u001b[0;36minner_f\u001b[1;34m(*args, **kwargs)\u001b[0m\n\u001b[0;32m     44\u001b[0m             )\n\u001b[0;32m     45\u001b[0m         \u001b[0mkwargs\u001b[0m\u001b[1;33m.\u001b[0m\u001b[0mupdate\u001b[0m\u001b[1;33m(\u001b[0m\u001b[1;33m{\u001b[0m\u001b[0mk\u001b[0m\u001b[1;33m:\u001b[0m \u001b[0marg\u001b[0m \u001b[1;32mfor\u001b[0m \u001b[0mk\u001b[0m\u001b[1;33m,\u001b[0m \u001b[0marg\u001b[0m \u001b[1;32min\u001b[0m \u001b[0mzip\u001b[0m\u001b[1;33m(\u001b[0m\u001b[0msig\u001b[0m\u001b[1;33m.\u001b[0m\u001b[0mparameters\u001b[0m\u001b[1;33m,\u001b[0m \u001b[0margs\u001b[0m\u001b[1;33m)\u001b[0m\u001b[1;33m}\u001b[0m\u001b[1;33m)\u001b[0m\u001b[1;33m\u001b[0m\u001b[1;33m\u001b[0m\u001b[0m\n\u001b[1;32m---> 46\u001b[1;33m         \u001b[1;32mreturn\u001b[0m \u001b[0mf\u001b[0m\u001b[1;33m(\u001b[0m\u001b[1;33m**\u001b[0m\u001b[0mkwargs\u001b[0m\u001b[1;33m)\u001b[0m\u001b[1;33m\u001b[0m\u001b[1;33m\u001b[0m\u001b[0m\n\u001b[0m\u001b[0;32m     47\u001b[0m     \u001b[1;32mreturn\u001b[0m \u001b[0minner_f\u001b[0m\u001b[1;33m\u001b[0m\u001b[1;33m\u001b[0m\u001b[0m\n\u001b[0;32m     48\u001b[0m \u001b[1;33m\u001b[0m\u001b[0m\n",
      "\u001b[1;32mC:\\DADOS\\CONDA3\\lib\\site-packages\\seaborn\\distributions.py\u001b[0m in \u001b[0;36mkdeplot\u001b[1;34m(x, y, shade, vertical, kernel, bw, gridsize, cut, clip, legend, cumulative, shade_lowest, cbar, cbar_ax, cbar_kws, ax, weights, hue, palette, hue_order, hue_norm, multiple, common_norm, common_grid, levels, thresh, bw_method, bw_adjust, log_scale, color, fill, data, data2, **kwargs)\u001b[0m\n\u001b[0;32m   1696\u001b[0m     \u001b[1;31m# - - - - - - - - - - - - - - - - - - - - - - - - - - - - - - - - - - - - #\u001b[0m\u001b[1;33m\u001b[0m\u001b[1;33m\u001b[0m\u001b[1;33m\u001b[0m\u001b[0m\n\u001b[0;32m   1697\u001b[0m \u001b[1;33m\u001b[0m\u001b[0m\n\u001b[1;32m-> 1698\u001b[1;33m     p = _DistributionPlotter(\n\u001b[0m\u001b[0;32m   1699\u001b[0m         \u001b[0mdata\u001b[0m\u001b[1;33m=\u001b[0m\u001b[0mdata\u001b[0m\u001b[1;33m,\u001b[0m\u001b[1;33m\u001b[0m\u001b[1;33m\u001b[0m\u001b[0m\n\u001b[0;32m   1700\u001b[0m         \u001b[0mvariables\u001b[0m\u001b[1;33m=\u001b[0m\u001b[0m_DistributionPlotter\u001b[0m\u001b[1;33m.\u001b[0m\u001b[0mget_semantics\u001b[0m\u001b[1;33m(\u001b[0m\u001b[0mlocals\u001b[0m\u001b[1;33m(\u001b[0m\u001b[1;33m)\u001b[0m\u001b[1;33m)\u001b[0m\u001b[1;33m,\u001b[0m\u001b[1;33m\u001b[0m\u001b[1;33m\u001b[0m\u001b[0m\n",
      "\u001b[1;32mC:\\DADOS\\CONDA3\\lib\\site-packages\\seaborn\\distributions.py\u001b[0m in \u001b[0;36m__init__\u001b[1;34m(self, data, variables)\u001b[0m\n\u001b[0;32m    106\u001b[0m     ):\n\u001b[0;32m    107\u001b[0m \u001b[1;33m\u001b[0m\u001b[0m\n\u001b[1;32m--> 108\u001b[1;33m         \u001b[0msuper\u001b[0m\u001b[1;33m(\u001b[0m\u001b[1;33m)\u001b[0m\u001b[1;33m.\u001b[0m\u001b[0m__init__\u001b[0m\u001b[1;33m(\u001b[0m\u001b[0mdata\u001b[0m\u001b[1;33m=\u001b[0m\u001b[0mdata\u001b[0m\u001b[1;33m,\u001b[0m \u001b[0mvariables\u001b[0m\u001b[1;33m=\u001b[0m\u001b[0mvariables\u001b[0m\u001b[1;33m)\u001b[0m\u001b[1;33m\u001b[0m\u001b[1;33m\u001b[0m\u001b[0m\n\u001b[0m\u001b[0;32m    109\u001b[0m \u001b[1;33m\u001b[0m\u001b[0m\n\u001b[0;32m    110\u001b[0m     \u001b[1;33m@\u001b[0m\u001b[0mproperty\u001b[0m\u001b[1;33m\u001b[0m\u001b[1;33m\u001b[0m\u001b[0m\n",
      "\u001b[1;32mC:\\DADOS\\CONDA3\\lib\\site-packages\\seaborn\\_core.py\u001b[0m in \u001b[0;36m__init__\u001b[1;34m(self, data, variables)\u001b[0m\n\u001b[0;32m    602\u001b[0m     \u001b[1;32mdef\u001b[0m \u001b[0m__init__\u001b[0m\u001b[1;33m(\u001b[0m\u001b[0mself\u001b[0m\u001b[1;33m,\u001b[0m \u001b[0mdata\u001b[0m\u001b[1;33m=\u001b[0m\u001b[1;32mNone\u001b[0m\u001b[1;33m,\u001b[0m \u001b[0mvariables\u001b[0m\u001b[1;33m=\u001b[0m\u001b[1;33m{\u001b[0m\u001b[1;33m}\u001b[0m\u001b[1;33m)\u001b[0m\u001b[1;33m:\u001b[0m\u001b[1;33m\u001b[0m\u001b[1;33m\u001b[0m\u001b[0m\n\u001b[0;32m    603\u001b[0m \u001b[1;33m\u001b[0m\u001b[0m\n\u001b[1;32m--> 604\u001b[1;33m         \u001b[0mself\u001b[0m\u001b[1;33m.\u001b[0m\u001b[0massign_variables\u001b[0m\u001b[1;33m(\u001b[0m\u001b[0mdata\u001b[0m\u001b[1;33m,\u001b[0m \u001b[0mvariables\u001b[0m\u001b[1;33m)\u001b[0m\u001b[1;33m\u001b[0m\u001b[1;33m\u001b[0m\u001b[0m\n\u001b[0m\u001b[0;32m    605\u001b[0m \u001b[1;33m\u001b[0m\u001b[0m\n\u001b[0;32m    606\u001b[0m         \u001b[1;32mfor\u001b[0m \u001b[0mvar\u001b[0m\u001b[1;33m,\u001b[0m \u001b[0mcls\u001b[0m \u001b[1;32min\u001b[0m \u001b[0mself\u001b[0m\u001b[1;33m.\u001b[0m\u001b[0m_semantic_mappings\u001b[0m\u001b[1;33m.\u001b[0m\u001b[0mitems\u001b[0m\u001b[1;33m(\u001b[0m\u001b[1;33m)\u001b[0m\u001b[1;33m:\u001b[0m\u001b[1;33m\u001b[0m\u001b[1;33m\u001b[0m\u001b[0m\n",
      "\u001b[1;32mC:\\DADOS\\CONDA3\\lib\\site-packages\\seaborn\\_core.py\u001b[0m in \u001b[0;36massign_variables\u001b[1;34m(self, data, variables)\u001b[0m\n\u001b[0;32m    665\u001b[0m         \u001b[1;32melse\u001b[0m\u001b[1;33m:\u001b[0m\u001b[1;33m\u001b[0m\u001b[1;33m\u001b[0m\u001b[0m\n\u001b[0;32m    666\u001b[0m             \u001b[0mself\u001b[0m\u001b[1;33m.\u001b[0m\u001b[0minput_format\u001b[0m \u001b[1;33m=\u001b[0m \u001b[1;34m\"long\"\u001b[0m\u001b[1;33m\u001b[0m\u001b[1;33m\u001b[0m\u001b[0m\n\u001b[1;32m--> 667\u001b[1;33m             plot_data, variables = self._assign_variables_longform(\n\u001b[0m\u001b[0;32m    668\u001b[0m                 \u001b[0mdata\u001b[0m\u001b[1;33m,\u001b[0m \u001b[1;33m**\u001b[0m\u001b[0mvariables\u001b[0m\u001b[1;33m,\u001b[0m\u001b[1;33m\u001b[0m\u001b[1;33m\u001b[0m\u001b[0m\n\u001b[0;32m    669\u001b[0m             )\n",
      "\u001b[1;32mC:\\DADOS\\CONDA3\\lib\\site-packages\\seaborn\\_core.py\u001b[0m in \u001b[0;36m_assign_variables_longform\u001b[1;34m(self, data, **kwargs)\u001b[0m\n\u001b[0;32m    885\u001b[0m                     \u001b[1;31m# We don't know what this name means\u001b[0m\u001b[1;33m\u001b[0m\u001b[1;33m\u001b[0m\u001b[1;33m\u001b[0m\u001b[0m\n\u001b[0;32m    886\u001b[0m                     \u001b[0merr\u001b[0m \u001b[1;33m=\u001b[0m \u001b[1;34mf\"Could not interpret value `{val}` for parameter `{key}`\"\u001b[0m\u001b[1;33m\u001b[0m\u001b[1;33m\u001b[0m\u001b[0m\n\u001b[1;32m--> 887\u001b[1;33m                     \u001b[1;32mraise\u001b[0m \u001b[0mValueError\u001b[0m\u001b[1;33m(\u001b[0m\u001b[0merr\u001b[0m\u001b[1;33m)\u001b[0m\u001b[1;33m\u001b[0m\u001b[1;33m\u001b[0m\u001b[0m\n\u001b[0m\u001b[0;32m    888\u001b[0m \u001b[1;33m\u001b[0m\u001b[0m\n\u001b[0;32m    889\u001b[0m             \u001b[1;32melse\u001b[0m\u001b[1;33m:\u001b[0m\u001b[1;33m\u001b[0m\u001b[1;33m\u001b[0m\u001b[0m\n",
      "\u001b[1;31mValueError\u001b[0m: Could not interpret value `FEGL` for parameter `x`"
     ]
    },
    {
     "data": {
      "image/png": "[encoded data removed]",
      "text/plain": [
       "<Figure size 720x720 with 1 Axes>"
      ]
     },
     "metadata": {},
     "output_type": "display_data"
    }
   ],
   "source": [
    "fig, ax = plt.subplots(figsize=chart_size)\n",
    "sea.kdeplot(data=dffe_valid,x=\"FEGL\",  alpha=.5)\n",
    "fig.savefig('FE_SEGREG.jpeg', transparent=None)"
   ]
  },
  {
   "cell_type": "code",
   "execution_count": null,
   "metadata": {},
   "outputs": [],
   "source": []
  },
  {
   "cell_type": "code",
   "execution_count": null,
   "metadata": {},
   "outputs": [],
   "source": []
  },
  {
   "cell_type": "code",
   "execution_count": null,
   "metadata": {},
   "outputs": [],
   "source": []
  },
  {
   "cell_type": "code",
   "execution_count": null,
   "metadata": {},
   "outputs": [],
   "source": []
  },
  {
   "cell_type": "code",
   "execution_count": null,
   "metadata": {},
   "outputs": [],
   "source": []
  },
  {
   "cell_type": "code",
   "execution_count": null,
   "metadata": {},
   "outputs": [],
   "source": []
  },
  {
   "cell_type": "code",
   "execution_count": null,
   "metadata": {},
   "outputs": [],
   "source": [
    "#import seaborn as sns\n",
    "sea.set_theme(style=\"white\")\n",
    "\n",
    "# Load the example mpg dataset\n",
    "mpg = sea.load_dataset(\"mpg\")\n",
    "\n",
    "# Plot miles per gallon against horsepower with other semantics\n",
    "sea.relplot(x=\"horsepower\", y=\"mpg\", hue=\"origin\", size=\"weight\",\n",
    "            sizes=(40, 400), alpha=.5, palette=\"muted\",\n",
    "            height=6, data=mpg)\n",
    "\n",
    "\n",
    "mpg.head()"
   ]
  },
  {
   "cell_type": "code",
   "execution_count": 129,
   "metadata": {},
   "outputs": [
    {
     "data": {
      "text/plain": [
       "<matplotlib.legend.Legend at 0x1ad4509ebe0>"
      ]
     },
     "execution_count": 129,
     "metadata": {},
     "output_type": "execute_result"
    },
    {
     "data": {
      "image/png": "[encoded data removed]",
      "text/plain": [
       "<Figure size 432x288 with 1 Axes>"
      ]
     },
     "metadata": {},
     "output_type": "display_data"
    }
   ],
   "source": [
    "sea.set_theme(style=\"whitegrid\")\n",
    "iris = sea.load_dataset(\"iris\")\n",
    "\n",
    "# \"Melt\" the dataset to \"long-form\" or \"tidy\" representation\n",
    "iris = pd.melt(iris, \"species\", var_name=\"measurement\")\n",
    "\n",
    "# Initialize the figure\n",
    "f, ax = plt.subplots()\n",
    "sea.despine(bottom=True, left=True)\n",
    "\n",
    "# Show each observation with a scatterplot\n",
    "sea.stripplot(x=\"value\", y=\"measurement\", hue=\"species\",\n",
    "              data=iris, dodge=True, alpha=.25, zorder=1)\n",
    "\n",
    "# Show the conditional means\n",
    "sea.pointplot(x=\"value\", y=\"measurement\", hue=\"species\",\n",
    "              data=iris, dodge=.532, join=False, palette=\"dark\",\n",
    "              markers=\"d\", scale=.75, ci=None)\n",
    "\n",
    "# Improve the legend \n",
    "handles, labels = ax.get_legend_handles_labels()\n",
    "ax.legend(handles[3:], labels[3:], title=\"species\",\n",
    "          handletextpad=0, columnspacing=1,\n",
    "          loc=\"lower right\", ncol=3, frameon=True)"
   ]
  },
  {
   "cell_type": "code",
   "execution_count": null,
   "metadata": {},
   "outputs": [],
   "source": []
  },
  {
   "cell_type": "code",
   "execution_count": null,
   "metadata": {},
   "outputs": [],
   "source": []
  },
  {
   "cell_type": "code",
   "execution_count": null,
   "metadata": {},
   "outputs": [],
   "source": []
  },
  {
   "cell_type": "code",
   "execution_count": null,
   "metadata": {},
   "outputs": [],
   "source": []
  },
  {
   "cell_type": "code",
   "execution_count": null,
   "metadata": {},
   "outputs": [],
   "source": []
  },
  {
   "cell_type": "code",
   "execution_count": null,
   "metadata": {},
   "outputs": [],
   "source": []
  },
  {
   "cell_type": "code",
   "execution_count": null,
   "metadata": {},
   "outputs": [],
   "source": []
  },
  {
   "cell_type": "code",
   "execution_count": null,
   "metadata": {},
   "outputs": [],
   "source": []
  },
  {
   "cell_type": "markdown",
   "metadata": {},
   "source": [
    "## Getting an Event Plot to Show Data Available"
   ]
  },
  {
   "cell_type": "markdown",
   "metadata": {},
   "source": [
    "### Extract Subset From cli to g4:"
   ]
  },
  {
   "cell_type": "code",
   "execution_count": null,
   "metadata": {},
   "outputs": [],
   "source": [
    "df_event = fso.loc[0:, 'cli':'g4']\n",
    "df_event.shape"
   ]
  },
  {
   "cell_type": "code",
   "execution_count": null,
   "metadata": {},
   "outputs": [],
   "source": [
    "df_event.head()"
   ]
  },
  {
   "cell_type": "markdown",
   "metadata": {},
   "source": [
    "###### Creating vector for y axis ticks with grade names:\n"
   ]
  },
  {
   "cell_type": "code",
   "execution_count": null,
   "metadata": {},
   "outputs": [],
   "source": [
    "ticks = np.arange(0, len(param_event)).tolist()\n",
    "ticks\n"
   ]
  },
  {
   "cell_type": "markdown",
   "metadata": {},
   "source": [
    "###### Creating color vector with randomized values"
   ]
  },
  {
   "cell_type": "code",
   "execution_count": null,
   "metadata": {},
   "outputs": [],
   "source": [
    "mycolors = np.random.rand(len(param_event),3)\n",
    "mycolors"
   ]
  },
  {
   "cell_type": "markdown",
   "metadata": {},
   "source": [
    "###### Getting Data and Empty Cells for Plot:"
   ]
  },
  {
   "cell_type": "code",
   "execution_count": null,
   "metadata": {
    "scrolled": true
   },
   "outputs": [],
   "source": [
    "fig = plt.pyplot.figure(figsize=(20,20))  # sets the window to 8 x 6 inches\n",
    "valid = []\n",
    "for t in param_event:\n",
    "    valid.append(df_event.index[pd.notna(df_event[t])])\n",
    "\n",
    "plt.pyplot.eventplot(valid, color=mycolors, linelengths = 0.5, linewidth = 0.5)\n",
    "\n",
    "plt.pyplot.title('EventPlot: padrão gráfico de disponibilidade de dados')\n",
    "plt.pyplot.yticks(ticks, param_event)\n",
    "plt.pyplot.xlabel('Registros do Banco de dados')\n",
    "plt.pyplot.ylabel('Teores')\n",
    "plt.pyplot.show()\n",
    "\n",
    "fig.savefig('eventplot_data_avaiable.jpeg', transparent=None)"
   ]
  },
  {
   "cell_type": "code",
   "execution_count": null,
   "metadata": {},
   "outputs": [],
   "source": [
    "fig = plt.pyplot.figure(figsize=(40,20)) \n",
    "\n",
    "plt.pyplot.title('Contagem de todos os dados não nulos no banco FSO')\n",
    "fso.loc[:, ~fso.columns.isin(not_countable)].count().plot.bar(color='orange')\n",
    "fig.savefig('teores_total_counts.jpeg', transparent=None)"
   ]
  },
  {
   "cell_type": "code",
   "execution_count": null,
   "metadata": {},
   "outputs": [],
   "source": [
    "df_box = fso.loc[0:, 'cli':'g4']"
   ]
  },
  {
   "cell_type": "code",
   "execution_count": null,
   "metadata": {
    "scrolled": true
   },
   "outputs": [],
   "source": [
    "df_box2 = df_box[~df_box['cli'].isin(['AT', 'SR', 'VQ', 'DT', 'RO_L'])]"
   ]
  },
  {
   "cell_type": "code",
   "execution_count": null,
   "metadata": {},
   "outputs": [],
   "source": [
    "df_box3 = df_box[df_box['cli'].isin(cover + str_ore)]"
   ]
  },
  {
   "cell_type": "markdown",
   "metadata": {},
   "source": [
    "## Creating Boxplots for all Rocks:"
   ]
  },
  {
   "cell_type": "code",
   "execution_count": null,
   "metadata": {},
   "outputs": [],
   "source": [
    "fig = plt.pyplot.figure(figsize=(40,20)) \n",
    "feglbox = sea.boxplot(x=\"cli\", y=\"fegl\", data=df_box2)\n",
    "sea.set_context(\"notebook\", font_scale=2.0, rc={\"lines.linewidth\": 2.5})\n",
    "fig.savefig('boxplot_fegl.jpeg', transparent=None)"
   ]
  },
  {
   "cell_type": "markdown",
   "metadata": {},
   "source": [
    "## Ore Boxplots"
   ]
  },
  {
   "cell_type": "markdown",
   "metadata": {},
   "source": [
    "## Fegl"
   ]
  },
  {
   "cell_type": "code",
   "execution_count": null,
   "metadata": {
    "scrolled": true
   },
   "outputs": [],
   "source": [
    "fig = plt.pyplot.figure(figsize=(40,20)) \n",
    "gr = 'fegl'\n",
    "feglbox = sea.boxplot(x=\"cli\", y=gr, data=df_box3)\n",
    "feglbox.set_title('Ore: ' + gr)\n",
    "sea.set_context(\"notebook\", font_scale=2.0, rc={\"lines.linewidth\": 2.5})\n",
    "fig.savefig('boxplot_ore_'+gr+'.jpeg', transparent=None)"
   ]
  },
  {
   "cell_type": "markdown",
   "metadata": {},
   "source": [
    "##### We missed the opportunity to better evaluate and manage our blends by omitting and diluting the compact itabirite above 50% Fegl. The blue sea down dip is the rabbit hole."
   ]
  },
  {
   "cell_type": "markdown",
   "metadata": {},
   "source": [
    "## Sigl"
   ]
  },
  {
   "cell_type": "code",
   "execution_count": null,
   "metadata": {
    "scrolled": true
   },
   "outputs": [],
   "source": [
    "fig = plt.pyplot.figure(figsize=(40,20)) \n",
    "gr = 'sigl'\n",
    "box = sea.boxplot(x=\"cli\", y=gr, data=df_box3)\n",
    "box.set_title('Ore: ' + gr)\n",
    "sea.set_context(\"notebook\", font_scale=2.0, rc={\"lines.linewidth\": 2.5})\n",
    "fig.savefig('boxplot_ore_'+gr+'.jpeg', transparent=None)"
   ]
  },
  {
   "cell_type": "markdown",
   "metadata": {},
   "source": [
    "## Pgl"
   ]
  },
  {
   "cell_type": "code",
   "execution_count": null,
   "metadata": {
    "scrolled": true
   },
   "outputs": [],
   "source": [
    "fig = plt.pyplot.figure(figsize=(40,20)) \n",
    "gr = 'pgl'\n",
    "box = sea.boxplot(x=\"cli\", y=gr, data=df_box3)\n",
    "box.set_title('Ore: ' + gr)\n",
    "sea.set_context(\"notebook\", font_scale=2.0, rc={\"lines.linewidth\": 2.5})\n",
    "fig.savefig('boxplot_ore_'+gr+'.jpeg', transparent=None)"
   ]
  },
  {
   "cell_type": "markdown",
   "metadata": {},
   "source": [
    "##### Before modeling, check if some extreme pgl values ​​are close to intrusive bodies (hydrothermal contribution?)"
   ]
  },
  {
   "cell_type": "code",
   "execution_count": null,
   "metadata": {},
   "outputs": [],
   "source": [
    "fig = plt.pyplot.figure(figsize=(40,20)) \n",
    "gr = 'pgl'\n",
    "box = sea.boxplot(x=\"cli\", y=gr, data=df_box3)\n",
    "box.set_title('Ore: ' + gr)\n",
    "#setting yaxis to emphasize the box\n",
    "box.set(ylim=(0, 0.3))\n",
    "sea.set_context(\"notebook\", font_scale=2.0, rc={\"lines.linewidth\": 2.5})\n",
    "fig.savefig('boxplot_ore_'+gr+'_cl.jpeg', transparent=None)"
   ]
  },
  {
   "cell_type": "markdown",
   "metadata": {},
   "source": [
    "## Algl"
   ]
  },
  {
   "cell_type": "code",
   "execution_count": null,
   "metadata": {
    "scrolled": false
   },
   "outputs": [],
   "source": [
    "fig = plt.pyplot.figure(figsize=(40,20)) \n",
    "gr = 'algl'\n",
    "box = sea.boxplot(x=\"cli\", y=gr, data=df_box3)\n",
    "box.set_title('Ore: ' + gr)\n",
    "sea.set_context(\"notebook\", font_scale=2.0, rc={\"lines.linewidth\": 2.5})\n",
    "fig.savefig('boxplot_ore_'+gr+'.jpeg', transparent=None)"
   ]
  },
  {
   "cell_type": "markdown",
   "metadata": {},
   "source": [
    "## Mngl"
   ]
  },
  {
   "cell_type": "code",
   "execution_count": null,
   "metadata": {},
   "outputs": [],
   "source": [
    "fig = plt.pyplot.figure(figsize=(40,20)) \n",
    "gr = 'mngl'\n",
    "box = sea.boxplot(x=\"cli\", y=gr, data=df_box3)\n",
    "box.set_title('Ore: ' + gr)\n",
    "sea.set_context(\"notebook\", font_scale=2.0, rc={\"lines.linewidth\": 2.5})\n",
    "fig.savefig('boxplot_ore_'+gr+'.jpeg', transparent=None)"
   ]
  },
  {
   "cell_type": "markdown",
   "metadata": {},
   "source": [
    "##### In some situations, the FMN shows manganese grades compatible with the Mn ores in our operations. If these bodies are regionalized and define modelable space, it doesn't take much volume to be compatible with the annual production of Mn. Base for comparison: 3Mwt / year @ 30% Mngl (CKS ROM)"
   ]
  },
  {
   "cell_type": "markdown",
   "metadata": {},
   "source": [
    "##### Some samples can be located close to chemical traps (high PH + reductive/oxidative water levels), or even litostructural traps (dykes and other barriers)"
   ]
  },
  {
   "cell_type": "code",
   "execution_count": null,
   "metadata": {},
   "outputs": [],
   "source": [
    "# result is a list, order is preserved\n",
    "low_mn_rocks = [e for e in ore_rocks if e not in mn_rocks] \n",
    "\n",
    "df_box_low_mn = df_box[df_box['cli'].isin(low_mn_rocks)]\n",
    "\n",
    "fig = plt.pyplot.figure(figsize=(40,20)) \n",
    "gr = 'mngl'\n",
    "box = sea.boxplot(x=\"cli\", y=gr, data=df_box_low_mn)\n",
    "box.set_title('Ore: ' + gr)\n",
    "sea.set_context(\"notebook\", font_scale=2.0, rc={\"lines.linewidth\": 2.5})\n",
    "fig.savefig('boxplot_ore_'+gr+'_low_mn.jpeg', transparent=None)"
   ]
  },
  {
   "cell_type": "code",
   "execution_count": null,
   "metadata": {
    "scrolled": true
   },
   "outputs": [],
   "source": [
    "# only high manganese\n",
    "df_box_mn = df_box[df_box['cli'].isin(mn_rocks)]\n",
    "\n",
    "fig = plt.pyplot.figure(figsize=(40,20)) \n",
    "gr = 'mngl'\n",
    "box = sea.boxplot(x=gr, y=\"cli\",data=df_box_mn)\n",
    "box.set_title('Ore: ' + gr)\n",
    "sea.set_context(\"notebook\", font_scale=2.0, rc={\"lines.linewidth\": 2.5})\n",
    "fig.savefig('boxplot_ore_'+gr+'_mn_rocks.jpeg', transparent=None)"
   ]
  },
  {
   "cell_type": "markdown",
   "metadata": {},
   "source": [
    "## Pfgl"
   ]
  },
  {
   "cell_type": "code",
   "execution_count": null,
   "metadata": {},
   "outputs": [],
   "source": [
    "fig = plt.pyplot.figure(figsize=(40,20)) \n",
    "gr = 'pfgl'\n",
    "box = sea.boxplot(x=\"cli\", y=gr, data=df_box3)\n",
    "box.set_title('Ore: ' + gr)\n",
    "sea.set_context(\"notebook\", font_scale=2.0, rc={\"lines.linewidth\": 2.5})\n",
    "fig.savefig('boxplot_ore_'+gr+'.jpeg', transparent=None)\n"
   ]
  },
  {
   "cell_type": "markdown",
   "metadata": {},
   "source": [
    "## Tigl"
   ]
  },
  {
   "cell_type": "code",
   "execution_count": null,
   "metadata": {
    "scrolled": true
   },
   "outputs": [],
   "source": [
    "fig = plt.pyplot.figure(figsize=(40,20)) \n",
    "gr = 'tigl'\n",
    "box = sea.boxplot(x=\"cli\", y=gr, data=df_box3)\n",
    "box.set_title('Ore: ' + gr)\n",
    "sea.set_context(\"notebook\", font_scale=2.0, rc={\"lines.linewidth\": 2.5})\n",
    "fig.savefig('boxplot_ore_'+gr+'.jpeg', transparent=None)"
   ]
  },
  {
   "cell_type": "code",
   "execution_count": null,
   "metadata": {},
   "outputs": [],
   "source": [
    "df_ti = df_box[df_box['cli'].isin(['AG','FL', 'IN', 'DO', 'IGO'])]\n",
    "\n",
    "fig = plt.pyplot.figure(figsize=(40,20)) \n",
    "gr = 'mggl'\n",
    "box = sea.boxplot(x=\"cli\", y=gr, data=df_box3)\n",
    "box.set_title('Ore: ' + gr)\n",
    "sea.set_context(\"notebook\", font_scale=2.0, rc={\"lines.linewidth\": 2.5})\n",
    "fig.savefig('boxplot_ore_'+gr+'.jpeg', transparent=None)"
   ]
  },
  {
   "cell_type": "markdown",
   "metadata": {},
   "source": [
    "## Mggl"
   ]
  },
  {
   "cell_type": "code",
   "execution_count": null,
   "metadata": {},
   "outputs": [],
   "source": [
    "fig = plt.pyplot.figure(figsize=(40,20)) \n",
    "gr = 'mggl'\n",
    "box = sea.boxplot(x=\"cli\", y=gr, data=df_box3)\n",
    "box.set_title('Ore: ' + gr)\n",
    "sea.set_context(\"notebook\", font_scale=2.0, rc={\"lines.linewidth\": 2.5})\n",
    "fig.savefig('boxplot_ore_'+gr+'.jpeg', transparent=None)"
   ]
  },
  {
   "cell_type": "markdown",
   "metadata": {},
   "source": [
    "## Cagl"
   ]
  },
  {
   "cell_type": "code",
   "execution_count": null,
   "metadata": {
    "scrolled": true
   },
   "outputs": [],
   "source": [
    "fig = plt.pyplot.figure(figsize=(40,20)) \n",
    "gr = 'cagl'\n",
    "box = sea.boxplot(x=\"cli\", y=gr, data=df_box3)\n",
    "box.set_title('Ore: ' + gr)\n",
    "sea.set_context(\"notebook\", font_scale=2.0, rc={\"lines.linewidth\": 2.5})\n",
    "fig.savefig('boxplot_ore_'+gr+'.jpeg', transparent=None)"
   ]
  },
  {
   "cell_type": "markdown",
   "metadata": {},
   "source": [
    "##### Standard plot is useless in this case... Spliting carbonatic rocks..\n"
   ]
  },
  {
   "cell_type": "code",
   "execution_count": null,
   "metadata": {},
   "outputs": [],
   "source": [
    "df_box_sil  = df_box3[~df_box3['cli'].isin(carb_rocks)]\n",
    "df_box_carb = df_box3[df_box3['cli'].isin(carb_rocks)]"
   ]
  },
  {
   "cell_type": "code",
   "execution_count": null,
   "metadata": {},
   "outputs": [],
   "source": [
    "fig = plt.pyplot.figure(figsize=(40,20)) \n",
    "gr = 'cagl'\n",
    "box = sea.boxplot(x=\"cli\", y=gr, data=df_box_sil)\n",
    "#setting yaxis to emphasize the box\n",
    "box.set(ylim=(0, 2))\n",
    "box.set_title('Ore: ' + gr)\n",
    "sea.set_context(\"notebook\", font_scale=2.0, rc={\"lines.linewidth\": 2.5})\n",
    "fig.savefig('boxplot_ore_'+gr+'.jpeg', transparent=None)"
   ]
  },
  {
   "cell_type": "code",
   "execution_count": null,
   "metadata": {},
   "outputs": [],
   "source": [
    "fig = plt.pyplot.figure(figsize=(40,20)) \n",
    "gr = 'cagl'\n",
    "box = sea.boxplot(x=gr, y=\"cli\", data=df_box_carb)\n",
    "\n",
    "box.set_title('Ore: ' + gr)\n",
    "sea.set_context(\"notebook\", font_scale=2.0, rc={\"lines.linewidth\": 2.5})\n",
    "fig.savefig('boxplot_ore_'+gr+'.jpeg', transparent=None)"
   ]
  },
  {
   "cell_type": "markdown",
   "metadata": {
    "scrolled": true
   },
   "source": [
    "## G1"
   ]
  },
  {
   "cell_type": "code",
   "execution_count": null,
   "metadata": {},
   "outputs": [],
   "source": [
    "fig = plt.pyplot.figure(figsize=(40,20)) \n",
    "gr = 'g1'\n",
    "box = sea.boxplot(x=\"cli\", y=gr, data=df_box3)\n",
    "box.set_title('Ore: ' + gr)\n",
    "sea.set_context(\"notebook\", font_scale=2.0, rc={\"lines.linewidth\": 2.5})\n",
    "fig.savefig('boxplot_ore_'+gr+'.jpeg', transparent=None)"
   ]
  },
  {
   "cell_type": "markdown",
   "metadata": {},
   "source": [
    "## G2"
   ]
  },
  {
   "cell_type": "code",
   "execution_count": null,
   "metadata": {},
   "outputs": [],
   "source": [
    "fig = plt.pyplot.figure(figsize=(40,20)) \n",
    "gr = 'g2'\n",
    "box = sea.boxplot(x=\"cli\", y=gr, data=df_box3)\n",
    "box.set_title('Ore: ' + gr)\n",
    "sea.set_context(\"notebook\", font_scale=2.0, rc={\"lines.linewidth\": 2.5})\n",
    "fig.savefig('boxplot_ore_'+gr+'.jpeg', transparent=None)"
   ]
  },
  {
   "cell_type": "markdown",
   "metadata": {},
   "source": [
    "## G3"
   ]
  },
  {
   "cell_type": "code",
   "execution_count": null,
   "metadata": {},
   "outputs": [],
   "source": [
    "fig = plt.pyplot.figure(figsize=(40,20)) \n",
    "gr = 'g3'\n",
    "box = sea.boxplot(x=\"cli\", y=gr, data=df_box3)\n",
    "box.set_title('Ore: ' + gr)\n",
    "sea.set_context(\"notebook\", font_scale=2.0, rc={\"lines.linewidth\": 2.5})\n",
    "fig.savefig('boxplot_ore_'+gr+'.jpeg', transparent=None)"
   ]
  },
  {
   "cell_type": "markdown",
   "metadata": {
    "scrolled": true
   },
   "source": [
    "## G4"
   ]
  },
  {
   "cell_type": "code",
   "execution_count": null,
   "metadata": {},
   "outputs": [],
   "source": [
    "fig = plt.pyplot.figure(figsize=(40,20)) \n",
    "gr = 'g4'\n",
    "box = sea.boxplot(x=\"cli\", y=gr, data=df_box3)\n",
    "box.set_title('Ore: ' + gr)\n",
    "sea.set_context(\"notebook\", font_scale=2.0, rc={\"lines.linewidth\": 2.5})\n",
    "fig.savefig('boxplot_ore_'+gr+'.jpeg', transparent=None)"
   ]
  },
  {
   "cell_type": "code",
   "execution_count": null,
   "metadata": {},
   "outputs": [],
   "source": []
  },
  {
   "cell_type": "code",
   "execution_count": null,
   "metadata": {},
   "outputs": [],
   "source": []
  },
  {
   "cell_type": "code",
   "execution_count": null,
   "metadata": {},
   "outputs": [],
   "source": []
  },
  {
   "cell_type": "code",
   "execution_count": null,
   "metadata": {},
   "outputs": [],
   "source": [
    "\n",
    "df_gl = fso.loc[0:, 'cli':'pfgl']"
   ]
  },
  {
   "cell_type": "code",
   "execution_count": null,
   "metadata": {},
   "outputs": [],
   "source": [
    "df_gl.dropna(how='any').shape"
   ]
  },
  {
   "cell_type": "code",
   "execution_count": null,
   "metadata": {
    "scrolled": true
   },
   "outputs": [],
   "source": [
    "df_gl2 = df_gl[df_gl['cli'].isin(str_ore)].dropna(how='any')\n",
    "df_gl2"
   ]
  },
  {
   "cell_type": "code",
   "execution_count": null,
   "metadata": {},
   "outputs": [],
   "source": [
    "sea.pairplot(df_gl2, kind=\"scatter\", hue=\"cli\",  palette=\"Set2\")\n",
    "plt.pyplot.show()"
   ]
  },
  {
   "cell_type": "code",
   "execution_count": null,
   "metadata": {},
   "outputs": [],
   "source": [
    "df_gl3 = df_gl2[df_gl2['cli'].isin(basin_rock)]"
   ]
  },
  {
   "cell_type": "code",
   "execution_count": null,
   "metadata": {},
   "outputs": [],
   "source": [
    "df_gl3.head()"
   ]
  },
  {
   "cell_type": "code",
   "execution_count": null,
   "metadata": {},
   "outputs": [],
   "source": [
    "sea.pairplot(df_gl3, kind=\"scatter\", hue=\"cli\",  palette=\"Set2\")\n",
    "plt.pyplot.show()"
   ]
  },
  {
   "cell_type": "code",
   "execution_count": null,
   "metadata": {},
   "outputs": [],
   "source": []
  },
  {
   "cell_type": "code",
   "execution_count": null,
   "metadata": {},
   "outputs": [],
   "source": []
  },
  {
   "cell_type": "code",
   "execution_count": null,
   "metadata": {},
   "outputs": [],
   "source": [
    "cac.groupby(['geocod'])['fegl'].describe()\n"
   ]
  },
  {
   "cell_type": "code",
   "execution_count": null,
   "metadata": {},
   "outputs": [],
   "source": [
    "cac[cac['compid']=='10M_FLP'].hist(by='geocod', column='fegl', histtype='step', bins=20, figsize=(15,10), alpha=0.5)"
   ]
  },
  {
   "cell_type": "code",
   "execution_count": null,
   "metadata": {},
   "outputs": [],
   "source": [
    "# EXAMPLE: filterinfDataframe = dfObj[(dfObj['Sale'] > 30) & (dfObj['Sale'] < 33) ]"
   ]
  },
  {
   "cell_type": "code",
   "execution_count": null,
   "metadata": {
    "scrolled": true
   },
   "outputs": [],
   "source": [
    "cac[(cac['geocod'].isin(fresh_clean)) & (cac['compid']=='10M_FLP')].groupby(['geocod']).fegl.plot.hist(stacked=True, \\\n",
    "                                                                                                    \n",
    "    histtype='step', bins=20, figsize=(10,10), legend=True)"
   ]
  },
  {
   "cell_type": "code",
   "execution_count": null,
   "metadata": {
    "scrolled": true
   },
   "outputs": [],
   "source": [
    "cac[(cac['geocod'].isin(fresh_clean)) & (cac['compid']=='10M_FLP')].groupby(['geocod']).fegl.plot.hist(stacked=True, \\\n",
    "                                                                                                    \n",
    "    histtype='step', bins=20, figsize=(10,10), legend=True, density=True)"
   ]
  },
  {
   "cell_type": "code",
   "execution_count": null,
   "metadata": {},
   "outputs": [],
   "source": []
  },
  {
   "cell_type": "code",
   "execution_count": null,
   "metadata": {},
   "outputs": [],
   "source": [
    "sea.set_theme()"
   ]
  },
  {
   "cell_type": "code",
   "execution_count": null,
   "metadata": {},
   "outputs": [],
   "source": [
    "penguins=sea.load_dataset(\"penguins\")"
   ]
  },
  {
   "cell_type": "code",
   "execution_count": null,
   "metadata": {},
   "outputs": [],
   "source": []
  },
  {
   "cell_type": "code",
   "execution_count": null,
   "metadata": {},
   "outputs": [],
   "source": [
    "g=sea.PairGrid(penguins,hue=\"species\",corner=True)\n",
    "g.map_lower(sea.kdeplot,hue=None,levels=5,color=\".2\")\n",
    "g.map_lower(sea.scatterplot,marker=\"+\")\n",
    "g.map_diag(sea.histplot,element=\"step\",linewidth=0,kde=True)\n",
    "g.add_legend(frameon=True)\n",
    "g.legend.set_bbox_to_anchor((.61,.6))"
   ]
  },
  {
   "cell_type": "code",
   "execution_count": null,
   "metadata": {},
   "outputs": [],
   "source": [
    "print(sea.__version__)"
   ]
  },
  {
   "cell_type": "code",
   "execution_count": null,
   "metadata": {},
   "outputs": [],
   "source": [
    "g = sea.PairGrid(penguins, hue=\"species\", corner=True)\n",
    "g.map_lower(sea.kdeplot, hue=None, levels=5, color=\".2\")\n",
    "g.map_lower(sea.scatterplot, marker=\"+\")\n",
    "g.map_diag(sea.histplot, element=\"step\", linewidth=0, kde=True)\n",
    "g.add_legend(frameon=True)\n",
    "g.legend.set_bbox_to_anchor((.61, .6))"
   ]
  },
  {
   "cell_type": "code",
   "execution_count": null,
   "metadata": {},
   "outputs": [],
   "source": []
  },
  {
   "cell_type": "code",
   "execution_count": null,
   "metadata": {},
   "outputs": [],
   "source": []
  },
  {
   "cell_type": "code",
   "execution_count": null,
   "metadata": {},
   "outputs": [],
   "source": []
  }
 ],
 "metadata": {
  "kernelspec": {
   "display_name": "Python 3 (ipykernel)",
   "language": "python",
   "name": "python3"
  },
  "language_info": {
   "codemirror_mode": {
    "name": "ipython",
    "version": 3
   },
   "file_extension": ".py",
   "mimetype": "text/x-python",
   "name": "python",
   "nbconvert_exporter": "python",
   "pygments_lexer": "ipython3",
   "version": "3.8.10"
  }
 },
 "nbformat": 4,
 "nbformat_minor": 4
}
