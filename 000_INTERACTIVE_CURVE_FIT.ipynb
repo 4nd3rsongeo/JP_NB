{
 "cells": [
  {
   "cell_type": "code",
   "execution_count": 2,
   "id": "0b6def31",
   "metadata": {},
   "outputs": [
    {
     "data": {
      "application/vnd.jupyter.widget-view+json": {
       "model_id": "bb744ed7bde94edf8f8b37aad2474128",
       "version_major": 2,
       "version_minor": 0
      },
      "text/plain": [
       "interactive(children=(IntSlider(value=5, description='n', max=10, min=1), Output()), _dom_classes=('widget-int…"
      ]
     },
     "metadata": {},
     "output_type": "display_data"
    }
   ],
   "source": [
    "import numpy\n",
    "import matplotlib.pyplot as plt\n",
    "from ipywidgets import interactive\n",
    "def f(n):\n",
    "    x = [1,2,3,4,5,6,7,8,9,10,11,12,15,17,22,23,25,30]\n",
    "    y = [100,90,80,60,60,55,60,65,70,70,75,76,78,79,90,99,99,100]\n",
    "\n",
    "    curve_model = numpy.poly1d(numpy.polyfit(x, y, n))\n",
    "\n",
    "    curve_fitting_line = numpy.linspace(1, 30, 1000)\n",
    "\n",
    "    plt.scatter(x, y)\n",
    "    plt.plot(curve_fitting_line, curve_model(curve_fitting_line))\n",
    "    plt.show()\n",
    "\n",
    "\n",
    "interactive_plot= interactive(f,n=(1,10))\n",
    "interactive_plot"
   ]
  },
  {
   "cell_type": "code",
   "execution_count": null,
   "id": "57f16131",
   "metadata": {},
   "outputs": [],
   "source": []
  }
 ],
 "metadata": {
  "kernelspec": {
   "display_name": "Python 3 (ipykernel)",
   "language": "python",
   "name": "python3"
  },
  "language_info": {
   "codemirror_mode": {
    "name": "ipython",
    "version": 3
   },
   "file_extension": ".py",
   "mimetype": "text/x-python",
   "name": "python",
   "nbconvert_exporter": "python",
   "pygments_lexer": "ipython3",
   "version": "3.8.10"
  }
 },
 "nbformat": 4,
 "nbformat_minor": 5
}
