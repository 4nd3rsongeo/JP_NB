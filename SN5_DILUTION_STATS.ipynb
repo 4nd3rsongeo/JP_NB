{
 "cells": [
  {
   "cell_type": "code",
   "execution_count": 51,
   "id": "37a09c40",
   "metadata": {},
   "outputs": [],
   "source": [
    "import pandas as pd\n",
    "import matplotlib.pyplot as plt\n",
    "import seaborn as sea\n",
    "import numpy as np\n",
    "\n",
    "pd.set_option('display.max_columns', None)\n",
    "pd.set_option('display.max_rows', None)\n"
   ]
  },
  {
   "cell_type": "code",
   "execution_count": 52,
   "id": "e46df25f",
   "metadata": {},
   "outputs": [],
   "source": [
    "chart_size= [10,10]"
   ]
  },
  {
   "cell_type": "code",
   "execution_count": 53,
   "id": "25ce6209",
   "metadata": {},
   "outputs": [],
   "source": [
    "proj=\"SN5\"\n",
    "address = \"C:\\DADOS\\ANDERSON\\PROJ_VULCAN\\SN5_1221\\\\\""
   ]
  },
  {
   "cell_type": "markdown",
   "id": "eaca22b2",
   "metadata": {},
   "source": [
    "## LISTAS"
   ]
  },
  {
   "cell_type": "code",
   "execution_count": 54,
   "id": "a8fce561",
   "metadata": {},
   "outputs": [],
   "source": [
    "cover         = ['CE', 'CQ']\n",
    "\n",
    "fresh_clean   = ['HC', 'HF', 'JP']\n",
    "str_ore       = ['HC', 'HF']\n",
    "ore_rocks     = ['CE', 'HC', 'HF', 'HMN']\n",
    "basin_rocks   = ['JP', 'HF', 'HC', 'HMN']\n",
    "mineralized   = ['CE', 'HC', 'HF', 'HMN', 'FMN', 'JP']\n",
    "waste         = ['CQ', 'MD', 'MS', 'MSD', 'BR']\n",
    "\n",
    "model_rocks = ['CE', 'HC', 'HF', 'HMN', 'FMN', 'JP', 'CQ', 'MD', 'MSD', 'MS', 'BR' ]\n",
    "\n",
    "teores_gl     = ['FEGL', 'SIGL', 'PGL', 'ALGL', 'MNGL', 'PFGL']\n",
    "faixas        = ['g1', 'g1a', 'g1b', 'g2', 'g3']\n",
    "param_event   = ['FEGL', 'SIGL', 'PGL', 'ALGL', 'MNGL', 'PFGL', 'TIGL', 'MGGL', 'CAGL', 'G1', 'G1A', 'G1B', 'G2', 'G3']\n",
    "\n",
    "not_countable = ['FURO','NA','DE','ATE','CLV','CLM','FLX_AN','FLX_AN_OR','DA_ANA','DA_SAM','d_agru','tipo_am','global','mass_t','status']\n",
    "\n",
    "gran_batch = ['G1A', 'G1B', 'G2', 'G3']\n",
    "\n",
    "set_g1a = ['G1A','FE1A', 'SI1A', 'P1A', 'AL1A', 'MN1A', 'PF1A', 'TI1A', 'MG1A', 'CA1A']\n",
    "set_g1b = ['G1B','FE1B', 'SI1B', 'P1B', 'AL1B', 'MN1B','PF1B', 'TI1B', 'MG1B', 'CA1B']\n",
    "set_g2 = ['G2','FE2', 'SI2', 'P2', 'AL2','MN2', 'PF2', 'TI2', 'MG2', 'CA2']\n",
    "set_g3 = ['G3','FE3', 'SI3', 'P3', 'AL3', 'MN3','PF3', 'TI3', 'MG3', 'CA3']\n",
    "\n",
    "v_krig = [ 'FEGL', 'SIGL', 'PGL', 'ALGL', 'MNGL', 'PFGL', 'TIGL', 'MGGL', 'CAGL', \\\n",
    "            'G1A', 'G1B', 'G2', 'G3','FE1A', 'SI1A', 'P1A', 'AL1A', 'MN1A', 'PF1A', 'TI1A', 'MG1A', 'CA1A', \\\n",
    "            'FE1B', 'SI1B', 'P1B', 'AL1B', 'MN1B','PF1B', 'TI1B', 'MG1B', 'CA1B', \\\n",
    "            'FE2', 'SI2', 'P2', 'AL2','MN2', 'PF2', 'TI2', 'MG2', 'CA2', \\\n",
    "            'FE3', 'SI3', 'P3', 'AL3', 'MN3','PF3', 'TI3', 'MG3', 'CA3']\n",
    "\n",
    "litocolor=dict(AG= \"#FFEEBB\",AT= \"#777777\",CE= \"#00AA00\",CH= \"#FFFF00\",CQ= \"#77FFBB\", \\\n",
    "               FMN= \"#7766DD\",HC= \"#EE0000\",HF= \"#EE00DD\",HMN= \"#995555\",JP= \"#004488\", \\\n",
    "               LT= \"#99BB99\",MD= \"#CC8800\",MS= \"#99BB99\",MSD= \"#DDCC77\",QT= \"#776655\", \\\n",
    "               SO= \"#336611\",SR= \"#FFFFFF\",XI= \"#CC8800\", BR= \"#BB133E\")\n",
    "\n",
    "\n",
    "valecolor= dict(VERDE='#007E7A',LARANJA='#ECB11F',CINZA='#6F7070',BRANCO='#FFFFFF', \\\n",
    "                LARANJA2='#E37222',VERMELHO='#BB133E',AZUL='#3D7EDB',AZUL2='#00B0CA', \\\n",
    "                VERDE2='#69BE28',AMARELO='#DFDF00')"
   ]
  },
  {
   "cell_type": "markdown",
   "id": "ac6f31e3",
   "metadata": {},
   "source": [
    "## LOAD DATA"
   ]
  },
  {
   "cell_type": "code",
   "execution_count": 55,
   "id": "4af35e27",
   "metadata": {},
   "outputs": [],
   "source": [
    "bmf = pd.read_csv(address + 'blk_di2.csv', low_memory=False, na_values='-99', encoding=\"latin1\", skiprows=[1,2,3,4])\n",
    "bmf.rename(columns=str.upper, inplace=True)\n",
    "bmf['LITO']=bmf['LITO'].str.upper()"
   ]
  },
  {
   "cell_type": "code",
   "execution_count": 56,
   "id": "ad77b855",
   "metadata": {},
   "outputs": [
    {
     "name": "stdout",
     "output_type": "stream",
     "text": [
      "<class 'pandas.core.frame.DataFrame'>\n",
      "RangeIndex: 224143 entries, 0 to 224142\n",
      "Data columns (total 80 columns):\n",
      " #   Column         Non-Null Count   Dtype  \n",
      "---  ------         --------------   -----  \n",
      " 0   CENTROID_X     224143 non-null  float64\n",
      " 1   CENTROID_Y     224143 non-null  float64\n",
      " 2   CENTROID_Z     224143 non-null  float64\n",
      " 3   DIM_X          224143 non-null  float64\n",
      " 4   DIM_Y          224143 non-null  float64\n",
      " 5   DIM_Z          224143 non-null  float64\n",
      " 6   VOLUME         224143 non-null  float64\n",
      " 7   LITO           224143 non-null  object \n",
      " 8   INVENTORY      224143 non-null  object \n",
      " 9   DENSITY        224143 non-null  float64\n",
      " 10  G1             193612 non-null  float64\n",
      " 11  G1A            193612 non-null  float64\n",
      " 12  G1B            193612 non-null  float64\n",
      " 13  G2             193612 non-null  float64\n",
      " 14  G3             193612 non-null  float64\n",
      " 15  FEGL           224143 non-null  float64\n",
      " 16  SIGL           224143 non-null  float64\n",
      " 17  PGL            224143 non-null  float64\n",
      " 18  ALGL           224143 non-null  float64\n",
      " 19  MNGL           224143 non-null  float64\n",
      " 20  PFGL           224143 non-null  float64\n",
      " 21  FE1            191661 non-null  float64\n",
      " 22  SI1            191661 non-null  float64\n",
      " 23  P1             191653 non-null  float64\n",
      " 24  AL1            191661 non-null  float64\n",
      " 25  MN1            191661 non-null  float64\n",
      " 26  PF1            191661 non-null  float64\n",
      " 27  FE1A           166872 non-null  float64\n",
      " 28  SI1A           166872 non-null  float64\n",
      " 29  P1A            166872 non-null  float64\n",
      " 30  AL1A           166872 non-null  float64\n",
      " 31  MN1A           166872 non-null  float64\n",
      " 32  PF1A           166872 non-null  float64\n",
      " 33  FE1B           188801 non-null  float64\n",
      " 34  SI1B           188801 non-null  float64\n",
      " 35  P1B            188801 non-null  float64\n",
      " 36  AL1B           188801 non-null  float64\n",
      " 37  MN1B           188801 non-null  float64\n",
      " 38  PF1B           188801 non-null  float64\n",
      " 39  FE2            188436 non-null  float64\n",
      " 40  SI2            188436 non-null  float64\n",
      " 41  P2             188436 non-null  float64\n",
      " 42  AL2            188436 non-null  float64\n",
      " 43  MN2            188436 non-null  float64\n",
      " 44  PF2            188436 non-null  float64\n",
      " 45  FE3            141408 non-null  float64\n",
      " 46  SI3            141408 non-null  float64\n",
      " 47  P3             141408 non-null  float64\n",
      " 48  AL3            141408 non-null  float64\n",
      " 49  MN3            141408 non-null  float64\n",
      " 50  PF3            141408 non-null  float64\n",
      " 51  LITON          224143 non-null  int64  \n",
      " 52  INVENTORYN     224143 non-null  int64  \n",
      " 53  PRODUCT        224143 non-null  object \n",
      " 54  LITO_MINE      224143 non-null  object \n",
      " 55  AUX_TP         0 non-null       float64\n",
      " 56  FLAG           224143 non-null  int64  \n",
      " 57  ICE            224143 non-null  float64\n",
      " 58  ICQ            224143 non-null  float64\n",
      " 59  IHC            224143 non-null  float64\n",
      " 60  IHF            224143 non-null  float64\n",
      " 61  IHMN           224143 non-null  float64\n",
      " 62  IJP            224143 non-null  float64\n",
      " 63  IFMN           224143 non-null  float64\n",
      " 64  IMS            224143 non-null  float64\n",
      " 65  IMSD           224143 non-null  float64\n",
      " 66  IMD            224143 non-null  float64\n",
      " 67  ICGL           224143 non-null  float64\n",
      " 68  ITOTAL         224143 non-null  float64\n",
      " 69  DILUTE_STATUS  224143 non-null  object \n",
      " 70  IAT            224143 non-null  float64\n",
      " 71  FEGLI          224143 non-null  float64\n",
      " 72  SIGLI          224143 non-null  float64\n",
      " 73  PGLI           224143 non-null  float64\n",
      " 74  ALGLI          224143 non-null  float64\n",
      " 75  MNGLI          224143 non-null  float64\n",
      " 76  PFGLI          224143 non-null  float64\n",
      " 77  CAGLI          16686 non-null   float64\n",
      " 78  MGGLI          16686 non-null   float64\n",
      " 79  TIGLI          16686 non-null   float64\n",
      "dtypes: float64(72), int64(3), object(5)\n",
      "memory usage: 136.8+ MB\n"
     ]
    }
   ],
   "source": [
    "bmf.info()"
   ]
  },
  {
   "cell_type": "code",
   "execution_count": 57,
   "id": "0da5be5a",
   "metadata": {},
   "outputs": [
    {
     "data": {
      "text/plain": [
       "(224143, 80)"
      ]
     },
     "execution_count": 57,
     "metadata": {},
     "output_type": "execute_result"
    }
   ],
   "source": [
    "bmf.shape"
   ]
  },
  {
   "cell_type": "code",
   "execution_count": 58,
   "id": "3bbc513e",
   "metadata": {},
   "outputs": [
    {
     "data": {
      "text/plain": [
       "array(['etc_threshold', 'diluted', 'ore_threshold', 'no_ind_neighbors',\n",
       "       'unknown_lito_ind', 'same_lito_neighbors'], dtype=object)"
      ]
     },
     "execution_count": 58,
     "metadata": {},
     "output_type": "execute_result"
    }
   ],
   "source": [
    "bmf.DILUTE_STATUS.unique()"
   ]
  },
  {
   "cell_type": "code",
   "execution_count": 59,
   "id": "86ba0a68",
   "metadata": {},
   "outputs": [
    {
     "name": "stdout",
     "output_type": "stream",
     "text": [
      "<class 'pandas.core.frame.DataFrame'>\n",
      "RangeIndex: 224143 entries, 0 to 224142\n",
      "Data columns (total 80 columns):\n",
      " #   Column         Non-Null Count   Dtype  \n",
      "---  ------         --------------   -----  \n",
      " 0   CENTROID_X     224143 non-null  float64\n",
      " 1   CENTROID_Y     224143 non-null  float64\n",
      " 2   CENTROID_Z     224143 non-null  float64\n",
      " 3   DIM_X          224143 non-null  float64\n",
      " 4   DIM_Y          224143 non-null  float64\n",
      " 5   DIM_Z          224143 non-null  float64\n",
      " 6   VOLUME         224143 non-null  float64\n",
      " 7   LITO           224143 non-null  object \n",
      " 8   INVENTORY      224143 non-null  object \n",
      " 9   DENSITY        224143 non-null  float64\n",
      " 10  G1             193612 non-null  float64\n",
      " 11  G1A            193612 non-null  float64\n",
      " 12  G1B            193612 non-null  float64\n",
      " 13  G2             193612 non-null  float64\n",
      " 14  G3             193612 non-null  float64\n",
      " 15  FEGL           224143 non-null  float64\n",
      " 16  SIGL           224143 non-null  float64\n",
      " 17  PGL            224143 non-null  float64\n",
      " 18  ALGL           224143 non-null  float64\n",
      " 19  MNGL           224143 non-null  float64\n",
      " 20  PFGL           224143 non-null  float64\n",
      " 21  FE1            191661 non-null  float64\n",
      " 22  SI1            191661 non-null  float64\n",
      " 23  P1             191653 non-null  float64\n",
      " 24  AL1            191661 non-null  float64\n",
      " 25  MN1            191661 non-null  float64\n",
      " 26  PF1            191661 non-null  float64\n",
      " 27  FE1A           166872 non-null  float64\n",
      " 28  SI1A           166872 non-null  float64\n",
      " 29  P1A            166872 non-null  float64\n",
      " 30  AL1A           166872 non-null  float64\n",
      " 31  MN1A           166872 non-null  float64\n",
      " 32  PF1A           166872 non-null  float64\n",
      " 33  FE1B           188801 non-null  float64\n",
      " 34  SI1B           188801 non-null  float64\n",
      " 35  P1B            188801 non-null  float64\n",
      " 36  AL1B           188801 non-null  float64\n",
      " 37  MN1B           188801 non-null  float64\n",
      " 38  PF1B           188801 non-null  float64\n",
      " 39  FE2            188436 non-null  float64\n",
      " 40  SI2            188436 non-null  float64\n",
      " 41  P2             188436 non-null  float64\n",
      " 42  AL2            188436 non-null  float64\n",
      " 43  MN2            188436 non-null  float64\n",
      " 44  PF2            188436 non-null  float64\n",
      " 45  FE3            141408 non-null  float64\n",
      " 46  SI3            141408 non-null  float64\n",
      " 47  P3             141408 non-null  float64\n",
      " 48  AL3            141408 non-null  float64\n",
      " 49  MN3            141408 non-null  float64\n",
      " 50  PF3            141408 non-null  float64\n",
      " 51  LITON          224143 non-null  int64  \n",
      " 52  INVENTORYN     224143 non-null  int64  \n",
      " 53  PRODUCT        224143 non-null  object \n",
      " 54  LITO_MINE      224143 non-null  object \n",
      " 55  AUX_TP         0 non-null       float64\n",
      " 56  FLAG           224143 non-null  int64  \n",
      " 57  ICE            224143 non-null  float64\n",
      " 58  ICQ            224143 non-null  float64\n",
      " 59  IHC            224143 non-null  float64\n",
      " 60  IHF            224143 non-null  float64\n",
      " 61  IHMN           224143 non-null  float64\n",
      " 62  IJP            224143 non-null  float64\n",
      " 63  IFMN           224143 non-null  float64\n",
      " 64  IMS            224143 non-null  float64\n",
      " 65  IMSD           224143 non-null  float64\n",
      " 66  IMD            224143 non-null  float64\n",
      " 67  ICGL           224143 non-null  float64\n",
      " 68  ITOTAL         224143 non-null  float64\n",
      " 69  DILUTE_STATUS  224143 non-null  object \n",
      " 70  IAT            224143 non-null  float64\n",
      " 71  FEGLI          224143 non-null  float64\n",
      " 72  SIGLI          224143 non-null  float64\n",
      " 73  PGLI           224143 non-null  float64\n",
      " 74  ALGLI          224143 non-null  float64\n",
      " 75  MNGLI          224143 non-null  float64\n",
      " 76  PFGLI          224143 non-null  float64\n",
      " 77  CAGLI          16686 non-null   float64\n",
      " 78  MGGLI          16686 non-null   float64\n",
      " 79  TIGLI          16686 non-null   float64\n",
      "dtypes: float64(72), int64(3), object(5)\n",
      "memory usage: 195.3 MB\n"
     ]
    }
   ],
   "source": [
    "#getting accurate memory consumption \n",
    "bmf.info(memory_usage='deep')"
   ]
  },
  {
   "cell_type": "code",
   "execution_count": 60,
   "id": "05ea53f0",
   "metadata": {},
   "outputs": [
    {
     "data": {
      "text/plain": [
       "Index                 128\n",
       "CENTROID_X        1793144\n",
       "CENTROID_Y        1793144\n",
       "CENTROID_Z        1793144\n",
       "DIM_X             1793144\n",
       "DIM_Y             1793144\n",
       "DIM_Z             1793144\n",
       "VOLUME            1793144\n",
       "LITO             13228480\n",
       "INVENTORY        14195352\n",
       "DENSITY           1793144\n",
       "G1                1793144\n",
       "G1A               1793144\n",
       "G1B               1793144\n",
       "G2                1793144\n",
       "G3                1793144\n",
       "FEGL              1793144\n",
       "SIGL              1793144\n",
       "PGL               1793144\n",
       "ALGL              1793144\n",
       "MNGL              1793144\n",
       "PFGL              1793144\n",
       "FE1               1793144\n",
       "SI1               1793144\n",
       "P1                1793144\n",
       "AL1               1793144\n",
       "MN1               1793144\n",
       "PF1               1793144\n",
       "FE1A              1793144\n",
       "SI1A              1793144\n",
       "P1A               1793144\n",
       "AL1A              1793144\n",
       "MN1A              1793144\n",
       "PF1A              1793144\n",
       "FE1B              1793144\n",
       "SI1B              1793144\n",
       "P1B               1793144\n",
       "AL1B              1793144\n",
       "MN1B              1793144\n",
       "PF1B              1793144\n",
       "FE2               1793144\n",
       "SI2               1793144\n",
       "P2                1793144\n",
       "AL2               1793144\n",
       "MN2               1793144\n",
       "PF2               1793144\n",
       "FE3               1793144\n",
       "SI3               1793144\n",
       "P3                1793144\n",
       "AL3               1793144\n",
       "MN3               1793144\n",
       "PF3               1793144\n",
       "LITON             1793144\n",
       "INVENTORYN        1793144\n",
       "PRODUCT          14076302\n",
       "LITO_MINE        13228462\n",
       "AUX_TP            1793144\n",
       "FLAG              1793144\n",
       "ICE               1793144\n",
       "ICQ               1793144\n",
       "IHC               1793144\n",
       "IHF               1793144\n",
       "IHMN              1793144\n",
       "IJP               1793144\n",
       "IFMN              1793144\n",
       "IMS               1793144\n",
       "IMSD              1793144\n",
       "IMD               1793144\n",
       "ICGL              1793144\n",
       "ITOTAL            1793144\n",
       "DILUTE_STATUS    15590278\n",
       "IAT               1793144\n",
       "FEGLI             1793144\n",
       "SIGLI             1793144\n",
       "PGLI              1793144\n",
       "ALGLI             1793144\n",
       "MNGLI             1793144\n",
       "PFGLI             1793144\n",
       "CAGLI             1793144\n",
       "MGGLI             1793144\n",
       "TIGLI             1793144\n",
       "dtype: int64"
      ]
     },
     "execution_count": 60,
     "metadata": {},
     "output_type": "execute_result"
    }
   ],
   "source": [
    "bmf.memory_usage(deep=True)"
   ]
  },
  {
   "cell_type": "code",
   "execution_count": 61,
   "id": "adedeada",
   "metadata": {},
   "outputs": [
    {
     "data": {
      "text/plain": [
       "204804802"
      ]
     },
     "execution_count": 61,
     "metadata": {},
     "output_type": "execute_result"
    }
   ],
   "source": [
    "bmf.memory_usage(deep=True).sum()"
   ]
  },
  {
   "cell_type": "code",
   "execution_count": 62,
   "id": "e0006ef9",
   "metadata": {},
   "outputs": [
    {
     "data": {
      "text/plain": [
       "['CE', 'CQ', 'FMN', 'HC', 'HF', 'HMN', 'JP', 'MD', 'MS', 'MSD']"
      ]
     },
     "execution_count": 62,
     "metadata": {},
     "output_type": "execute_result"
    }
   ],
   "source": [
    "sorted(bmf.LITO.unique())"
   ]
  },
  {
   "cell_type": "code",
   "execution_count": 66,
   "id": "74a85355",
   "metadata": {},
   "outputs": [],
   "source": [
    "inv_order = pd.CategoricalDtype(['medido', 'indicado', 'inferido', 'n'], ordered=True)"
   ]
  },
  {
   "cell_type": "code",
   "execution_count": 67,
   "id": "ecab8cc1",
   "metadata": {},
   "outputs": [],
   "source": [
    "# optimize using category data type\n",
    "bmf['LITO'] =  bmf.LITO.astype('category')\n",
    "bmf['INVENTORY'] =  bmf.INVENTORY.astype(inv_order)\n",
    "bmf['PRODUCT'] =  bmf.PRODUCT.astype('category')\n",
    "bmf['LITO_MINE'] =  bmf.LITO_MINE.astype('category')\n",
    "bmf['DILUTE_STATUS'] =  bmf.DILUTE_STATUS.astype('category')"
   ]
  },
  {
   "cell_type": "code",
   "execution_count": 68,
   "id": "5d5e39c7",
   "metadata": {},
   "outputs": [
    {
     "data": {
      "text/plain": [
       "CENTROID_X        float64\n",
       "CENTROID_Y        float64\n",
       "CENTROID_Z        float64\n",
       "DIM_X             float64\n",
       "DIM_Y             float64\n",
       "DIM_Z             float64\n",
       "VOLUME            float64\n",
       "LITO             category\n",
       "INVENTORY        category\n",
       "DENSITY           float64\n",
       "G1                float64\n",
       "G1A               float64\n",
       "G1B               float64\n",
       "G2                float64\n",
       "G3                float64\n",
       "FEGL              float64\n",
       "SIGL              float64\n",
       "PGL               float64\n",
       "ALGL              float64\n",
       "MNGL              float64\n",
       "PFGL              float64\n",
       "FE1               float64\n",
       "SI1               float64\n",
       "P1                float64\n",
       "AL1               float64\n",
       "MN1               float64\n",
       "PF1               float64\n",
       "FE1A              float64\n",
       "SI1A              float64\n",
       "P1A               float64\n",
       "AL1A              float64\n",
       "MN1A              float64\n",
       "PF1A              float64\n",
       "FE1B              float64\n",
       "SI1B              float64\n",
       "P1B               float64\n",
       "AL1B              float64\n",
       "MN1B              float64\n",
       "PF1B              float64\n",
       "FE2               float64\n",
       "SI2               float64\n",
       "P2                float64\n",
       "AL2               float64\n",
       "MN2               float64\n",
       "PF2               float64\n",
       "FE3               float64\n",
       "SI3               float64\n",
       "P3                float64\n",
       "AL3               float64\n",
       "MN3               float64\n",
       "PF3               float64\n",
       "LITON               int64\n",
       "INVENTORYN          int64\n",
       "PRODUCT          category\n",
       "LITO_MINE        category\n",
       "AUX_TP            float64\n",
       "FLAG                int64\n",
       "ICE               float64\n",
       "ICQ               float64\n",
       "IHC               float64\n",
       "IHF               float64\n",
       "IHMN              float64\n",
       "IJP               float64\n",
       "IFMN              float64\n",
       "IMS               float64\n",
       "IMSD              float64\n",
       "IMD               float64\n",
       "ICGL              float64\n",
       "ITOTAL            float64\n",
       "DILUTE_STATUS    category\n",
       "IAT               float64\n",
       "FEGLI             float64\n",
       "SIGLI             float64\n",
       "PGLI              float64\n",
       "ALGLI             float64\n",
       "MNGLI             float64\n",
       "PFGLI             float64\n",
       "CAGLI             float64\n",
       "MGGLI             float64\n",
       "TIGLI             float64\n",
       "dtype: object"
      ]
     },
     "execution_count": 68,
     "metadata": {},
     "output_type": "execute_result"
    }
   ],
   "source": [
    "bmf.dtypes"
   ]
  },
  {
   "cell_type": "code",
   "execution_count": 69,
   "id": "c13bd96b",
   "metadata": {},
   "outputs": [
    {
     "data": {
      "text/plain": [
       "0    MS\n",
       "1    MS\n",
       "2    MS\n",
       "3    MS\n",
       "4    MS\n",
       "Name: LITO, dtype: category\n",
       "Categories (10, object): ['CE', 'CQ', 'FMN', 'HC', ..., 'JP', 'MD', 'MS', 'MSD']"
      ]
     },
     "execution_count": 69,
     "metadata": {},
     "output_type": "execute_result"
    }
   ],
   "source": [
    "bmf.LITO.head()"
   ]
  },
  {
   "cell_type": "code",
   "execution_count": 70,
   "id": "af3282e2",
   "metadata": {},
   "outputs": [
    {
     "data": {
      "text/plain": [
       "0    8\n",
       "1    8\n",
       "2    8\n",
       "3    8\n",
       "4    8\n",
       "dtype: int8"
      ]
     },
     "execution_count": 70,
     "metadata": {},
     "output_type": "execute_result"
    }
   ],
   "source": [
    "bmf.LITO.cat.codes.head()"
   ]
  },
  {
   "cell_type": "code",
   "execution_count": 71,
   "id": "d1a76537",
   "metadata": {},
   "outputs": [
    {
     "data": {
      "text/plain": [
       "Index                128\n",
       "CENTROID_X       1793144\n",
       "CENTROID_Y       1793144\n",
       "CENTROID_Z       1793144\n",
       "DIM_X            1793144\n",
       "DIM_Y            1793144\n",
       "DIM_Z            1793144\n",
       "VOLUME           1793144\n",
       "LITO              225036\n",
       "INVENTORY         224570\n",
       "DENSITY          1793144\n",
       "G1               1793144\n",
       "G1A              1793144\n",
       "G1B              1793144\n",
       "G2               1793144\n",
       "G3               1793144\n",
       "FEGL             1793144\n",
       "SIGL             1793144\n",
       "PGL              1793144\n",
       "ALGL             1793144\n",
       "MNGL             1793144\n",
       "PFGL             1793144\n",
       "FE1              1793144\n",
       "SI1              1793144\n",
       "P1               1793144\n",
       "AL1              1793144\n",
       "MN1              1793144\n",
       "PF1              1793144\n",
       "FE1A             1793144\n",
       "SI1A             1793144\n",
       "P1A              1793144\n",
       "AL1A             1793144\n",
       "MN1A             1793144\n",
       "PF1A             1793144\n",
       "FE1B             1793144\n",
       "SI1B             1793144\n",
       "P1B              1793144\n",
       "AL1B             1793144\n",
       "MN1B             1793144\n",
       "PF1B             1793144\n",
       "FE2              1793144\n",
       "SI2              1793144\n",
       "P2               1793144\n",
       "AL2              1793144\n",
       "MN2              1793144\n",
       "PF2              1793144\n",
       "FE3              1793144\n",
       "SI3              1793144\n",
       "P3               1793144\n",
       "AL3              1793144\n",
       "MN3              1793144\n",
       "PF3              1793144\n",
       "LITON            1793144\n",
       "INVENTORYN       1793144\n",
       "PRODUCT           224440\n",
       "LITO_MINE         225155\n",
       "AUX_TP           1793144\n",
       "FLAG             1793144\n",
       "ICE              1793144\n",
       "ICQ              1793144\n",
       "IHC              1793144\n",
       "IHF              1793144\n",
       "IHMN             1793144\n",
       "IJP              1793144\n",
       "IFMN             1793144\n",
       "IMS              1793144\n",
       "IMSD             1793144\n",
       "IMD              1793144\n",
       "ICGL             1793144\n",
       "ITOTAL           1793144\n",
       "DILUTE_STATUS     224741\n",
       "IAT              1793144\n",
       "FEGLI            1793144\n",
       "SIGLI            1793144\n",
       "PGLI             1793144\n",
       "ALGLI            1793144\n",
       "MNGLI            1793144\n",
       "PFGLI            1793144\n",
       "CAGLI            1793144\n",
       "MGGLI            1793144\n",
       "TIGLI            1793144\n",
       "dtype: int64"
      ]
     },
     "execution_count": 71,
     "metadata": {},
     "output_type": "execute_result"
    }
   ],
   "source": [
    "bmf.memory_usage(deep=True)"
   ]
  },
  {
   "cell_type": "code",
   "execution_count": 72,
   "id": "04430e0a",
   "metadata": {},
   "outputs": [
    {
     "data": {
      "text/plain": [
       "135609870"
      ]
     },
     "execution_count": 72,
     "metadata": {},
     "output_type": "execute_result"
    }
   ],
   "source": [
    "bmf.memory_usage(deep=True).sum()"
   ]
  },
  {
   "cell_type": "code",
   "execution_count": 73,
   "id": "90911c11",
   "metadata": {},
   "outputs": [
    {
     "data": {
      "text/plain": [
       "['n', 'indicado', 'inferido', 'medido']\n",
       "Categories (4, object): ['medido' < 'indicado' < 'inferido' < 'n']"
      ]
     },
     "execution_count": 73,
     "metadata": {},
     "output_type": "execute_result"
    }
   ],
   "source": [
    "bmf.INVENTORY.unique()"
   ]
  },
  {
   "cell_type": "code",
   "execution_count": 74,
   "id": "f27a2cf1",
   "metadata": {},
   "outputs": [],
   "source": [
    "#bmf.INVENTORY.astype('category', categories=['medido', 'indicado', 'inferido', 'n'], ordered=True)"
   ]
  },
  {
   "cell_type": "code",
   "execution_count": 75,
   "id": "a8d1e85e",
   "metadata": {},
   "outputs": [],
   "source": [
    "#bmf.INVENTORY.astype('category', categories=['medido', 'indicado', 'inferido', 'n'], ordered=True)"
   ]
  },
  {
   "cell_type": "code",
   "execution_count": 76,
   "id": "3b113f07",
   "metadata": {},
   "outputs": [
    {
     "data": {
      "text/plain": [
       "['medido', 'indicado', 'inferido', 'n']\n",
       "Categories (4, object): ['medido' < 'indicado' < 'inferido' < 'n']"
      ]
     },
     "execution_count": 76,
     "metadata": {},
     "output_type": "execute_result"
    }
   ],
   "source": [
    "bmf.INVENTORY.unique().sort_values()"
   ]
  },
  {
   "cell_type": "code",
   "execution_count": null,
   "id": "6988eb18",
   "metadata": {},
   "outputs": [],
   "source": []
  },
  {
   "cell_type": "code",
   "execution_count": null,
   "id": "62becc63",
   "metadata": {},
   "outputs": [],
   "source": []
  },
  {
   "cell_type": "code",
   "execution_count": null,
   "id": "dda1d37c",
   "metadata": {},
   "outputs": [],
   "source": []
  },
  {
   "cell_type": "code",
   "execution_count": null,
   "id": "30437e87",
   "metadata": {
    "scrolled": true
   },
   "outputs": [],
   "source": [
    "bmf.groupby('DILUTE_STATUS').count()"
   ]
  },
  {
   "cell_type": "code",
   "execution_count": null,
   "id": "e693f39d",
   "metadata": {},
   "outputs": [],
   "source": [
    "bmf.head(5)"
   ]
  },
  {
   "cell_type": "code",
   "execution_count": null,
   "id": "9e305b5e",
   "metadata": {},
   "outputs": [],
   "source": [
    "bmf.groupby('LITO').count()"
   ]
  },
  {
   "cell_type": "code",
   "execution_count": null,
   "id": "5fe10881",
   "metadata": {},
   "outputs": [],
   "source": [
    "bmf.LITO.unique()"
   ]
  },
  {
   "cell_type": "code",
   "execution_count": null,
   "id": "cafa23da",
   "metadata": {},
   "outputs": [],
   "source": [
    "bmf.columns"
   ]
  },
  {
   "cell_type": "code",
   "execution_count": null,
   "id": "dad91c82",
   "metadata": {},
   "outputs": [],
   "source": [
    "#base bmf volume\n",
    "vol_bmf = bmf.loc[0:, ['VOLUME', 'LITO']]\n",
    "total_vol = vol_bmf.groupby('LITO').sum()\n"
   ]
  },
  {
   "cell_type": "code",
   "execution_count": null,
   "id": "0e9f5f24",
   "metadata": {},
   "outputs": [],
   "source": [
    "total_vol.to_csv('sn5_1221_vol_by_lito.csv')"
   ]
  },
  {
   "cell_type": "code",
   "execution_count": null,
   "id": "b9e6fa61",
   "metadata": {},
   "outputs": [],
   "source": [
    "bmf_gl = bmf.loc[0:, ['LITO'] + teores_gl]"
   ]
  },
  {
   "cell_type": "code",
   "execution_count": null,
   "id": "65bf14f6",
   "metadata": {},
   "outputs": [],
   "source": [
    "bmf_gl.head(5)"
   ]
  },
  {
   "cell_type": "code",
   "execution_count": null,
   "id": "35186cd6",
   "metadata": {},
   "outputs": [],
   "source": [
    "VCOUNT = bmf_gl.count()"
   ]
  },
  {
   "cell_type": "code",
   "execution_count": null,
   "id": "34ff5675",
   "metadata": {},
   "outputs": [],
   "source": [
    "fig=plt.figure(figsize=chart_size)\n",
    "\n",
    "plots=sea.barplot(x=VCOUNT.index, y=VCOUNT.values, color=valecolor['VERMELHO'])\n",
    "\n",
    "# ITERATING OVER THE THE BARS\n",
    "for bar in plots.patches:\n",
    "    # Using Matplotlib's annotate function and\n",
    "    # passing the coordinates where the annotation shall be done\n",
    "    # x-coordinate: bar.get_x() + bar.get_width() / 2\n",
    "    # y-coordinate: bar.get_height()\n",
    "    # free space to be left to make graph pleasing: (0, 8)\n",
    "    # ha and va stand for the horizontal and vertical alignment\n",
    "    plots.annotate(format(bar.get_height(), '.0F'), \n",
    "                   (bar.get_x() + bar.get_width() / 2, \n",
    "                    bar.get_height()), ha='center', va='center',\n",
    "                   size=8, xytext=(0, 8),\n",
    "                   textcoords='offset points')\n",
    "\n",
    "plt.title('BMF TOTAL GLOBAL COUNTABLE VALUES')\n",
    "plt.ylabel('N OCCURRENCES', fontsize=12)\n",
    "plt.xlabel('GRADE', fontsize=12)\n",
    "\n",
    "plt.show()\n",
    "\n",
    "fig.savefig(proj + '_BMF_GLOBAL_GRADE_counts.jpeg', transparent=None)"
   ]
  },
  {
   "cell_type": "code",
   "execution_count": null,
   "id": "2f0ae466",
   "metadata": {},
   "outputs": [],
   "source": [
    "set_i = ['LITO', 'ICE', 'ICQ','IHC', 'IHF', 'IHMN', 'IJP', 'IFMN', 'IMS', 'IMSD', 'IMD', 'ICGL', 'ITOTAL']\n",
    "bmf_ind = bmf.loc[0:,set_i]"
   ]
  },
  {
   "cell_type": "code",
   "execution_count": null,
   "id": "f82b1fbb",
   "metadata": {},
   "outputs": [],
   "source": [
    "bmf_ind.head()"
   ]
  },
  {
   "cell_type": "code",
   "execution_count": null,
   "id": "e0b6f48e",
   "metadata": {},
   "outputs": [],
   "source": [
    "# Create List of columns\n",
    "col_list= [ 'ICE', 'ICQ','IHC', 'IHF', 'IHMN', 'IJP', 'IFMN', 'IMS', 'IMSD', 'IMD', 'ICGL']\n",
    "# sum specific columns\n",
    "bmf_ind['ITOTAL'] = bmf_ind[col_list].sum(axis=1)\n",
    "bmf_ind.head()"
   ]
  },
  {
   "cell_type": "code",
   "execution_count": null,
   "id": "76cd850f",
   "metadata": {},
   "outputs": [],
   "source": [
    "i = (bmf_ind.ICE != 1) & (bmf_ind.ICQ != 1) & (bmf_ind.IHC != 1) & (bmf_ind.IHF != 1) & (bmf_ind.IHMN != 1) & (bmf_ind.IJP != 1) & (bmf_ind.IFMN != 1) & (bmf_ind.IMS != 1) & (bmf_ind.IMSD != 1) & (bmf_ind.IMD != 1) & (bmf_ind.ICGL != 1)"
   ]
  },
  {
   "cell_type": "code",
   "execution_count": null,
   "id": "5bfe1c4e",
   "metadata": {},
   "outputs": [],
   "source": [
    "bmf_contact = bmf_ind.loc[i,:].copy()"
   ]
  },
  {
   "cell_type": "code",
   "execution_count": null,
   "id": "c8f6b399",
   "metadata": {},
   "outputs": [],
   "source": [
    "bmf_contact.head(50)\n"
   ]
  },
  {
   "cell_type": "code",
   "execution_count": null,
   "id": "de49ffc9",
   "metadata": {},
   "outputs": [],
   "source": [
    "sea.kdeplot(data=bmf_contact, x=bmf_contact['ITOTAL'],  cut=0)"
   ]
  },
  {
   "cell_type": "code",
   "execution_count": null,
   "id": "1c415217",
   "metadata": {},
   "outputs": [],
   "source": [
    "#verificando -1"
   ]
  },
  {
   "cell_type": "code",
   "execution_count": null,
   "id": "c2b54e43",
   "metadata": {},
   "outputs": [],
   "source": [
    "i  = (bmf_contact.ITOTAL == -1)\n",
    "bmf_negatives = bmf_contact.loc[i,:].copy()"
   ]
  },
  {
   "cell_type": "code",
   "execution_count": null,
   "id": "56ae0696",
   "metadata": {},
   "outputs": [],
   "source": [
    "bmf_negatives.shape"
   ]
  },
  {
   "cell_type": "code",
   "execution_count": null,
   "id": "2b2f6933",
   "metadata": {},
   "outputs": [],
   "source": [
    "stats = bmf_contact.groupby('LITO').describe()\n",
    "stats"
   ]
  },
  {
   "cell_type": "code",
   "execution_count": null,
   "id": "c99b7d21",
   "metadata": {},
   "outputs": [],
   "source": [
    "#tornar mais legível\n",
    "#mais em: https://pandas.pydata.org/pandas-docs/stable/user_guide/style.html"
   ]
  },
  {
   "cell_type": "code",
   "execution_count": null,
   "id": "c075439a",
   "metadata": {},
   "outputs": [],
   "source": [
    "f = {'ITOTAL':'{:.3f}'} #column ITOTAL to 3 decimals"
   ]
  },
  {
   "cell_type": "code",
   "execution_count": null,
   "id": "e507cb2d",
   "metadata": {},
   "outputs": [],
   "source": [
    "stats.style.format(f)"
   ]
  },
  {
   "cell_type": "code",
   "execution_count": null,
   "id": "fe52c7d2",
   "metadata": {},
   "outputs": [],
   "source": [
    "\n",
    "grades = ['ICE', 'ICQ', 'IHC', 'IHF', 'IHMN', 'IJP', 'IFMN', 'IMS', 'IMSD', 'IMD', 'ICGL']\n",
    "\n",
    "for grade in grades:\n",
    "\n",
    "    fig=plt.figure(figsize=chart_size)\n",
    "\n",
    "    #sea.boxplot(x=fso.FEGL, y=fso.CLI, whis=0, color='white', fliersize=0)\n",
    "    sea.boxplot(x=bmf[grade], y=bmf.LITO, color='white', fliersize=0)\n",
    "    #sea.stripplot(x=bmf.FEGL, y=bmf.LITO, palette=litocolor)\n",
    "    sea.stripplot(x=bmf[grade], y=bmf.LITO, palette=litocolor,  size=0.4)\n",
    "    plt.title('VOLUMETRIC INDICATOR DISTRIBUTION: \\n' + grade)\n",
    "    plt.xlabel('BMF\\nice')\n",
    "    plt.ylabel('')\n",
    "    fig.savefig(proj + '_STRIPPLOT_N_BOX_'+ grade +'.jpeg', transparent=None)\n",
    "    plt.tight_layout();"
   ]
  },
  {
   "cell_type": "code",
   "execution_count": null,
   "id": "78f6daf1",
   "metadata": {
    "scrolled": true
   },
   "outputs": [],
   "source": [
    "'''fig=plt.figure(figsize=chart_size)\n",
    "grade='IHF'\n",
    "\n",
    "sea.kdeplot(data=bmf, x=bmf[grade], hue='LITO', cumulative=True, common_norm=False, palette=litocolor, cut=0)\n",
    "#sea.kdeplot(data=cac, x=cac[grade], hue='GEOCOD', cumulative=True, common_norm=False, palette=litocolor, alpha=0.5, ls=\":\")\n",
    "\n",
    "plt.title('INTERAÇÃO VOLUMETRICA ENTRE CLASSES GEOLÓGICAS: \\n' + grade)\n",
    "plt.xlabel(grade)\n",
    "plt.ylabel('')\n",
    "\n",
    "fig.savefig(proj + '_CUMMULATIVE_KDE_'+ grade +'.jpeg', transparent=None)\n",
    "\n",
    "plt.tight_layout();'''"
   ]
  },
  {
   "cell_type": "code",
   "execution_count": null,
   "id": "3d383e8c",
   "metadata": {},
   "outputs": [],
   "source": []
  },
  {
   "cell_type": "code",
   "execution_count": null,
   "id": "41a4efad",
   "metadata": {},
   "outputs": [],
   "source": []
  },
  {
   "cell_type": "code",
   "execution_count": null,
   "id": "c60294fe",
   "metadata": {},
   "outputs": [],
   "source": [
    "grades = ['ICE', 'ICQ', 'IHC', 'IHF', 'IHMN', 'IJP', 'IFMN', 'IMS', 'IMSD', 'IMD', 'ICGL']\n",
    "\n",
    "for grade in grades:\n",
    "\n",
    "    fig=plt.figure(figsize=chart_size)\n",
    "\n",
    "    sea.kdeplot(data=bmf, x=bmf[grade], hue='LITO',  common_norm=False, palette=litocolor, alpha=0.5, ls=\"-\", cut=0)\n",
    "    #sea.kdeplot(data=cac, x=cac.FEGL, hue='GEOCOD',  common_norm=False, palette=litocolor)\n",
    "    plt.title('VOLUMETRIC INDICATOR DISTRIBUTION: ' + grade)\n",
    "    plt.xlabel(grade)\n",
    "    plt.ylabel('')\n",
    "    \n",
    "    fig.savefig(proj + '_KDE_'+ grade +'.jpeg', transparent=None)\n",
    "\n",
    "    plt.tight_layout();"
   ]
  },
  {
   "cell_type": "code",
   "execution_count": null,
   "id": "d9ef6411",
   "metadata": {},
   "outputs": [],
   "source": []
  },
  {
   "cell_type": "code",
   "execution_count": null,
   "id": "32063b53",
   "metadata": {},
   "outputs": [],
   "source": []
  },
  {
   "cell_type": "code",
   "execution_count": null,
   "id": "67900691",
   "metadata": {},
   "outputs": [],
   "source": []
  },
  {
   "cell_type": "code",
   "execution_count": null,
   "id": "c6cea54e",
   "metadata": {},
   "outputs": [],
   "source": []
  },
  {
   "cell_type": "code",
   "execution_count": null,
   "id": "6ae37911",
   "metadata": {},
   "outputs": [],
   "source": []
  }
 ],
 "metadata": {
  "kernelspec": {
   "display_name": "Python 3 (ipykernel)",
   "language": "python",
   "name": "python3"
  },
  "language_info": {
   "codemirror_mode": {
    "name": "ipython",
    "version": 3
   },
   "file_extension": ".py",
   "mimetype": "text/x-python",
   "name": "python",
   "nbconvert_exporter": "python",
   "pygments_lexer": "ipython3",
   "version": "3.8.10"
  }
 },
 "nbformat": 4,
 "nbformat_minor": 5
}
