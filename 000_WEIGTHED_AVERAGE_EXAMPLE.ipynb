{
 "cells": [
  {
   "cell_type": "code",
   "execution_count": 2,
   "id": "18133eb4",
   "metadata": {},
   "outputs": [],
   "source": [
    "import pandas as pd\n",
    "import numpy as np"
   ]
  },
  {
   "cell_type": "code",
   "execution_count": 10,
   "id": "420b27c4",
   "metadata": {},
   "outputs": [],
   "source": [
    "def w_avg(df, values, weights):\n",
    "    d = df[values]\n",
    "    w = df[weights]\n",
    "    return (d * w).sum() / w.sum()"
   ]
  },
  {
   "cell_type": "code",
   "execution_count": 11,
   "id": "d1340521",
   "metadata": {},
   "outputs": [],
   "source": [
    "#create DataFrame\n",
    "df = pd.DataFrame({'sales_rep': ['A', 'A', 'A', 'B', 'B', 'B'],\n",
    "                   'price': [8, 5, 6, 7, 12, 14],\n",
    "                   'amount': [1, 3, 2, 2, 5, 4]})"
   ]
  },
  {
   "cell_type": "code",
   "execution_count": 12,
   "id": "10702b87",
   "metadata": {},
   "outputs": [
    {
     "data": {
      "text/html": [
       "<div>\n",
       "<style scoped>\n",
       "    .dataframe tbody tr th:only-of-type {\n",
       "        vertical-align: middle;\n",
       "    }\n",
       "\n",
       "    .dataframe tbody tr th {\n",
       "        vertical-align: top;\n",
       "    }\n",
       "\n",
       "    .dataframe thead th {\n",
       "        text-align: right;\n",
       "    }\n",
       "</style>\n",
       "<table border=\"1\" class=\"dataframe\">\n",
       "  <thead>\n",
       "    <tr style=\"text-align: right;\">\n",
       "      <th></th>\n",
       "      <th>sales_rep</th>\n",
       "      <th>price</th>\n",
       "      <th>amount</th>\n",
       "    </tr>\n",
       "  </thead>\n",
       "  <tbody>\n",
       "    <tr>\n",
       "      <th>0</th>\n",
       "      <td>A</td>\n",
       "      <td>8</td>\n",
       "      <td>1</td>\n",
       "    </tr>\n",
       "    <tr>\n",
       "      <th>1</th>\n",
       "      <td>A</td>\n",
       "      <td>5</td>\n",
       "      <td>3</td>\n",
       "    </tr>\n",
       "    <tr>\n",
       "      <th>2</th>\n",
       "      <td>A</td>\n",
       "      <td>6</td>\n",
       "      <td>2</td>\n",
       "    </tr>\n",
       "    <tr>\n",
       "      <th>3</th>\n",
       "      <td>B</td>\n",
       "      <td>7</td>\n",
       "      <td>2</td>\n",
       "    </tr>\n",
       "    <tr>\n",
       "      <th>4</th>\n",
       "      <td>B</td>\n",
       "      <td>12</td>\n",
       "      <td>5</td>\n",
       "    </tr>\n",
       "    <tr>\n",
       "      <th>5</th>\n",
       "      <td>B</td>\n",
       "      <td>14</td>\n",
       "      <td>4</td>\n",
       "    </tr>\n",
       "  </tbody>\n",
       "</table>\n",
       "</div>"
      ],
      "text/plain": [
       "  sales_rep  price  amount\n",
       "0         A      8       1\n",
       "1         A      5       3\n",
       "2         A      6       2\n",
       "3         B      7       2\n",
       "4         B     12       5\n",
       "5         B     14       4"
      ]
     },
     "execution_count": 12,
     "metadata": {},
     "output_type": "execute_result"
    }
   ],
   "source": [
    "df"
   ]
  },
  {
   "cell_type": "code",
   "execution_count": 13,
   "id": "80e398b6",
   "metadata": {},
   "outputs": [
    {
     "data": {
      "text/plain": [
       "9.705882352941176"
      ]
     },
     "execution_count": 13,
     "metadata": {},
     "output_type": "execute_result"
    }
   ],
   "source": [
    "#find weighted average of price\n",
    "w_avg(df, 'price', 'amount')"
   ]
  },
  {
   "cell_type": "markdown",
   "id": "e337c55e",
   "metadata": {},
   "source": [
    "## GROUPING AND USING FUNCTION"
   ]
  },
  {
   "cell_type": "code",
   "execution_count": 16,
   "id": "dd032916",
   "metadata": {},
   "outputs": [
    {
     "data": {
      "text/plain": [
       "sales_rep\n",
       "A     5.833333\n",
       "B    11.818182\n",
       "dtype: float64"
      ]
     },
     "execution_count": 16,
     "metadata": {},
     "output_type": "execute_result"
    }
   ],
   "source": [
    "#find weighted average of price, grouped by sales rep\n",
    "df.groupby('sales_rep').apply(w_avg, 'price', 'amount')"
   ]
  },
  {
   "cell_type": "markdown",
   "id": "d1ba5c0c",
   "metadata": {},
   "source": [
    "## USING NUMPY"
   ]
  },
  {
   "cell_type": "code",
   "execution_count": 19,
   "id": "f71d8638",
   "metadata": {},
   "outputs": [],
   "source": [
    "#weigthed average"
   ]
  },
  {
   "cell_type": "code",
   "execution_count": 17,
   "id": "13604268",
   "metadata": {
    "scrolled": true
   },
   "outputs": [
    {
     "data": {
      "text/plain": [
       "sales_rep\n",
       "A     5.833333\n",
       "B    11.818182\n",
       "dtype: float64"
      ]
     },
     "execution_count": 17,
     "metadata": {},
     "output_type": "execute_result"
    }
   ],
   "source": [
    "df.groupby(\"sales_rep\").apply(lambda x: np.average(x['price'], weights=x['amount']))"
   ]
  },
  {
   "cell_type": "code",
   "execution_count": null,
   "id": "47d6826f",
   "metadata": {},
   "outputs": [],
   "source": [
    "#numpy.mean(a, axis=None, dtype=None, out=None, keepdims=<no value>, *, where=<no value>)\n",
    "#Compute the arithmetic mean along the specified axis."
   ]
  },
  {
   "cell_type": "code",
   "execution_count": 18,
   "id": "ada15917",
   "metadata": {
    "scrolled": true
   },
   "outputs": [
    {
     "data": {
      "text/plain": [
       "sales_rep\n",
       "A     6.333333\n",
       "B    11.000000\n",
       "dtype: float64"
      ]
     },
     "execution_count": 18,
     "metadata": {},
     "output_type": "execute_result"
    }
   ],
   "source": [
    "df.groupby(\"sales_rep\").apply(lambda x: np.mean(x['price']))"
   ]
  },
  {
   "cell_type": "code",
   "execution_count": 22,
   "id": "e98a77ba",
   "metadata": {},
   "outputs": [
    {
     "data": {
      "text/plain": [
       "array([[0., 0., 0., 0.],\n",
       "       [0., 0., 0., 0.]], dtype=float32)"
      ]
     },
     "execution_count": 22,
     "metadata": {},
     "output_type": "execute_result"
    }
   ],
   "source": [
    "a = np.zeros((2, 2*2), dtype=np.float32)\n",
    "a"
   ]
  },
  {
   "cell_type": "code",
   "execution_count": 24,
   "id": "9701f94e",
   "metadata": {},
   "outputs": [
    {
     "data": {
      "text/plain": [
       "array([[1. , 1. , 1. , 1. ],\n",
       "       [0.1, 0.1, 0.1, 0.1]], dtype=float32)"
      ]
     },
     "execution_count": 24,
     "metadata": {},
     "output_type": "execute_result"
    }
   ],
   "source": [
    "a[0,:]=1\n",
    "a[1,:]=0.1\n",
    "a"
   ]
  },
  {
   "cell_type": "code",
   "execution_count": 26,
   "id": "64731ad0",
   "metadata": {},
   "outputs": [
    {
     "data": {
      "text/plain": [
       "2.5"
      ]
     },
     "execution_count": 26,
     "metadata": {},
     "output_type": "execute_result"
    }
   ],
   "source": [
    "a = np.array([[1, 2], [3, 4]])\n",
    "np.mean(a)"
   ]
  },
  {
   "cell_type": "code",
   "execution_count": 27,
   "id": "1f939b8c",
   "metadata": {},
   "outputs": [
    {
     "data": {
      "text/plain": [
       "array([2., 3.])"
      ]
     },
     "execution_count": 27,
     "metadata": {},
     "output_type": "execute_result"
    }
   ],
   "source": [
    "np.mean(a,axis=0)"
   ]
  },
  {
   "cell_type": "code",
   "execution_count": 28,
   "id": "6a08ac9a",
   "metadata": {},
   "outputs": [
    {
     "data": {
      "text/plain": [
       "array([1.5, 3.5])"
      ]
     },
     "execution_count": 28,
     "metadata": {},
     "output_type": "execute_result"
    }
   ],
   "source": [
    "np.mean(a,axis=1)"
   ]
  },
  {
   "cell_type": "code",
   "execution_count": null,
   "id": "a96c833d",
   "metadata": {},
   "outputs": [],
   "source": []
  }
 ],
 "metadata": {
  "kernelspec": {
   "display_name": "Python 3 (ipykernel)",
   "language": "python",
   "name": "python3"
  },
  "language_info": {
   "codemirror_mode": {
    "name": "ipython",
    "version": 3
   },
   "file_extension": ".py",
   "mimetype": "text/x-python",
   "name": "python",
   "nbconvert_exporter": "python",
   "pygments_lexer": "ipython3",
   "version": "3.8.10"
  }
 },
 "nbformat": 4,
 "nbformat_minor": 5
}
