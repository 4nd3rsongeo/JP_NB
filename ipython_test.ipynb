{
 "cells": [
  {
   "cell_type": "code",
   "execution_count": 1,
   "metadata": {},
   "outputs": [],
   "source": [
    "from ipywidgets import interact,widgets\n",
    "from IPython.display import display\n",
    "import time"
   ]
  },
  {
   "cell_type": "markdown",
   "metadata": {},
   "source": [
    "### criar varios controles diferentes de exemplo"
   ]
  },
  {
   "cell_type": "code",
   "execution_count": 2,
   "metadata": {},
   "outputs": [],
   "source": [
    "ws = []\n",
    "ws.append(widgets.Text(placeholder='Type something'))\n",
    "ws.append(widgets.Textarea(placeholder='Type something'))\n",
    "ws.append(widgets.IntSlider(value=10))\n",
    "ws.append(widgets.FloatSlider(value=20))\n",
    "ws.append(widgets.IntText())\n",
    "ws.append(widgets.FloatText())\n",
    "ws.append(widgets.Dropdown(options=['1', '2', '3']))\n",
    "ws.append(widgets.RadioButtons(options=['pepperoni', 'pineapple', 'anchovies']))\n",
    "ws.append(widgets.Select(options=['Linux', 'Windows', 'OSX']))\n",
    "ws.append(widgets.SelectMultiple(options=['Apples', 'Oranges', 'Pears']))\n",
    "ws.append(widgets.ToggleButtons(options=['Slow', 'Regular', 'Fast']))\n",
    "ws.append(widgets.SelectionSlider(options=['scrambled', 'sunny side up', 'poached', 'over easy']))\n",
    "ws.append(widgets.Checkbox())\n",
    "ws.append(widgets.DatePicker())\n",
    "ws.append(widgets.Valid(value=True))\n",
    "ws.append(widgets.Valid(value=False))\n",
    "ws.append(widgets.ToggleButton(description=\"Click\"))"
   ]
  },
  {
   "cell_type": "markdown",
   "metadata": {},
   "source": [
    "### exibir os controles"
   ]
  },
  {
   "cell_type": "code",
   "execution_count": 3,
   "metadata": {},
   "outputs": [
    {
     "data": {
      "application/vnd.jupyter.widget-view+json": {
       "model_id": "98f29b10182b4432b5a56bf8234ac060",
       "version_major": 2,
       "version_minor": 0
      },
      "text/plain": [
       "Text(value='', placeholder='Type something')"
      ]
     },
     "metadata": {},
     "output_type": "display_data"
    },
    {
     "data": {
      "application/vnd.jupyter.widget-view+json": {
       "model_id": "d76f9f22a88c4d508463e50c956acd88",
       "version_major": 2,
       "version_minor": 0
      },
      "text/plain": [
       "Textarea(value='', placeholder='Type something')"
      ]
     },
     "metadata": {},
     "output_type": "display_data"
    },
    {
     "data": {
      "application/vnd.jupyter.widget-view+json": {
       "model_id": "6082484399c3497aa11bda79f13c5202",
       "version_major": 2,
       "version_minor": 0
      },
      "text/plain": [
       "IntSlider(value=10)"
      ]
     },
     "metadata": {},
     "output_type": "display_data"
    },
    {
     "data": {
      "application/vnd.jupyter.widget-view+json": {
       "model_id": "c721a7d6e81545b993aad4fb937a3c83",
       "version_major": 2,
       "version_minor": 0
      },
      "text/plain": [
       "FloatSlider(value=20.0)"
      ]
     },
     "metadata": {},
     "output_type": "display_data"
    },
    {
     "data": {
      "application/vnd.jupyter.widget-view+json": {
       "model_id": "a021b5132d354b04be56a8e4f73bb226",
       "version_major": 2,
       "version_minor": 0
      },
      "text/plain": [
       "IntText(value=0)"
      ]
     },
     "metadata": {},
     "output_type": "display_data"
    },
    {
     "data": {
      "application/vnd.jupyter.widget-view+json": {
       "model_id": "cf751a4d6d074ac896ca0e6d7d1d157a",
       "version_major": 2,
       "version_minor": 0
      },
      "text/plain": [
       "FloatText(value=0.0)"
      ]
     },
     "metadata": {},
     "output_type": "display_data"
    },
    {
     "data": {
      "application/vnd.jupyter.widget-view+json": {
       "model_id": "a7d49071af3e4eb3a334be8eb9b3e86f",
       "version_major": 2,
       "version_minor": 0
      },
      "text/plain": [
       "Dropdown(options=('1', '2', '3'), value='1')"
      ]
     },
     "metadata": {},
     "output_type": "display_data"
    },
    {
     "data": {
      "application/vnd.jupyter.widget-view+json": {
       "model_id": "b8ad1a3a75a44b7a875a8501f1bcf576",
       "version_major": 2,
       "version_minor": 0
      },
      "text/plain": [
       "RadioButtons(options=('pepperoni', 'pineapple', 'anchovies'), value='pepperoni')"
      ]
     },
     "metadata": {},
     "output_type": "display_data"
    },
    {
     "data": {
      "application/vnd.jupyter.widget-view+json": {
       "model_id": "816766b4674f4b9a8b566ea1ee541122",
       "version_major": 2,
       "version_minor": 0
      },
      "text/plain": [
       "Select(options=('Linux', 'Windows', 'OSX'), value='Linux')"
      ]
     },
     "metadata": {},
     "output_type": "display_data"
    },
    {
     "data": {
      "application/vnd.jupyter.widget-view+json": {
       "model_id": "3aa42a009e5043e099cd8cc0544ed7ff",
       "version_major": 2,
       "version_minor": 0
      },
      "text/plain": [
       "SelectMultiple(options=('Apples', 'Oranges', 'Pears'), value=())"
      ]
     },
     "metadata": {},
     "output_type": "display_data"
    },
    {
     "data": {
      "application/vnd.jupyter.widget-view+json": {
       "model_id": "8c53767d92244d3faa96f6bb3d156434",
       "version_major": 2,
       "version_minor": 0
      },
      "text/plain": [
       "ToggleButtons(options=('Slow', 'Regular', 'Fast'), value='Slow')"
      ]
     },
     "metadata": {},
     "output_type": "display_data"
    },
    {
     "data": {
      "application/vnd.jupyter.widget-view+json": {
       "model_id": "faf617da919942ad8ea0db1978d8391b",
       "version_major": 2,
       "version_minor": 0
      },
      "text/plain": [
       "SelectionSlider(options=('scrambled', 'sunny side up', 'poached', 'over easy'), value='scrambled')"
      ]
     },
     "metadata": {},
     "output_type": "display_data"
    },
    {
     "data": {
      "application/vnd.jupyter.widget-view+json": {
       "model_id": "295d92e1a85b4491a06bc736190bb413",
       "version_major": 2,
       "version_minor": 0
      },
      "text/plain": [
       "Checkbox(value=False)"
      ]
     },
     "metadata": {},
     "output_type": "display_data"
    },
    {
     "data": {
      "application/vnd.jupyter.widget-view+json": {
       "model_id": "47730fd10573483598f4ff1ec38952cd",
       "version_major": 2,
       "version_minor": 0
      },
      "text/plain": [
       "DatePicker(value=None)"
      ]
     },
     "metadata": {},
     "output_type": "display_data"
    },
    {
     "data": {
      "application/vnd.jupyter.widget-view+json": {
       "model_id": "2de13f54fe174e158c1b46d9ab900aa8",
       "version_major": 2,
       "version_minor": 0
      },
      "text/plain": [
       "Valid(value=True)"
      ]
     },
     "metadata": {},
     "output_type": "display_data"
    },
    {
     "data": {
      "application/vnd.jupyter.widget-view+json": {
       "model_id": "17c93d6a2d6843629ff3257d291efc8c",
       "version_major": 2,
       "version_minor": 0
      },
      "text/plain": [
       "Valid(value=False)"
      ]
     },
     "metadata": {},
     "output_type": "display_data"
    },
    {
     "data": {
      "application/vnd.jupyter.widget-view+json": {
       "model_id": "00112370de444a6d95937f6f3bda8d67",
       "version_major": 2,
       "version_minor": 0
      },
      "text/plain": [
       "ToggleButton(value=False, description='Click')"
      ]
     },
     "metadata": {},
     "output_type": "display_data"
    }
   ],
   "source": [
    "for w in ws:\n",
    "    display(w)"
   ]
  },
  {
   "cell_type": "markdown",
   "metadata": {},
   "source": [
    "### imprimir valores dos controles acima"
   ]
  },
  {
   "cell_type": "code",
   "execution_count": 4,
   "metadata": {},
   "outputs": [
    {
     "name": "stdout",
     "output_type": "stream",
     "text": [
      "\n",
      "\n",
      "10\n",
      "20.0\n",
      "0\n",
      "0.0\n",
      "1\n",
      "pepperoni\n",
      "Linux\n",
      "()\n",
      "Slow\n",
      "scrambled\n",
      "False\n",
      "None\n",
      "True\n",
      "False\n",
      "False\n"
     ]
    }
   ],
   "source": [
    "for w in ws:\n",
    "    print(w.value)"
   ]
  },
  {
   "cell_type": "markdown",
   "metadata": {},
   "source": [
    "### exemplo de botão chamando uma função simples\n"
   ]
  },
  {
   "cell_type": "code",
   "execution_count": 5,
   "metadata": {},
   "outputs": [
    {
     "data": {
      "application/vnd.jupyter.widget-view+json": {
       "model_id": "06765070f1ac46b0bb50d3dcbf05e697",
       "version_major": 2,
       "version_minor": 0
      },
      "text/plain": [
       "Button(description='Click', style=ButtonStyle())"
      ]
     },
     "metadata": {},
     "output_type": "display_data"
    }
   ],
   "source": [
    "def cb_button_click(event):\n",
    "    print(\"click\", time.time())\n",
    "    \n",
    "button = widgets.Button(description=\"Click\")\n",
    "button.on_click(cb_button_click)\n",
    "display(button)\n"
   ]
  },
  {
   "cell_type": "code",
   "execution_count": null,
   "metadata": {},
   "outputs": [],
   "source": []
  }
 ],
 "metadata": {
  "kernelspec": {
   "display_name": "Python 3 (ipykernel)",
   "language": "python",
   "name": "python3"
  },
  "language_info": {
   "codemirror_mode": {
    "name": "ipython",
    "version": 3
   },
   "file_extension": ".py",
   "mimetype": "text/x-python",
   "name": "python",
   "nbconvert_exporter": "python",
   "pygments_lexer": "ipython3",
   "version": "3.8.10"
  }
 },
 "nbformat": 4,
 "nbformat_minor": 4
}
