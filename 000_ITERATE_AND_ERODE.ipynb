{
 "cells": [
  {
   "cell_type": "code",
   "execution_count": 2,
   "id": "fd0907d3",
   "metadata": {},
   "outputs": [],
   "source": [
    "import pandas as pd\n",
    "import numpy as np"
   ]
  },
  {
   "cell_type": "code",
   "execution_count": 2,
   "id": "1e0192ed",
   "metadata": {},
   "outputs": [],
   "source": [
    "#using numpy's randint\n",
    "df = pd.DataFrame(np.random.randint(0,100,size=(10, 4)), columns=list('ABCD'))"
   ]
  },
  {
   "cell_type": "code",
   "execution_count": 3,
   "id": "638842f5",
   "metadata": {},
   "outputs": [
    {
     "data": {
      "text/html": [
       "<div>\n",
       "<style scoped>\n",
       "    .dataframe tbody tr th:only-of-type {\n",
       "        vertical-align: middle;\n",
       "    }\n",
       "\n",
       "    .dataframe tbody tr th {\n",
       "        vertical-align: top;\n",
       "    }\n",
       "\n",
       "    .dataframe thead th {\n",
       "        text-align: right;\n",
       "    }\n",
       "</style>\n",
       "<table border=\"1\" class=\"dataframe\">\n",
       "  <thead>\n",
       "    <tr style=\"text-align: right;\">\n",
       "      <th></th>\n",
       "      <th>A</th>\n",
       "      <th>B</th>\n",
       "      <th>C</th>\n",
       "      <th>D</th>\n",
       "    </tr>\n",
       "  </thead>\n",
       "  <tbody>\n",
       "    <tr>\n",
       "      <th>0</th>\n",
       "      <td>29</td>\n",
       "      <td>97</td>\n",
       "      <td>54</td>\n",
       "      <td>63</td>\n",
       "    </tr>\n",
       "    <tr>\n",
       "      <th>1</th>\n",
       "      <td>35</td>\n",
       "      <td>83</td>\n",
       "      <td>51</td>\n",
       "      <td>86</td>\n",
       "    </tr>\n",
       "    <tr>\n",
       "      <th>2</th>\n",
       "      <td>86</td>\n",
       "      <td>94</td>\n",
       "      <td>85</td>\n",
       "      <td>93</td>\n",
       "    </tr>\n",
       "    <tr>\n",
       "      <th>3</th>\n",
       "      <td>1</td>\n",
       "      <td>64</td>\n",
       "      <td>55</td>\n",
       "      <td>10</td>\n",
       "    </tr>\n",
       "    <tr>\n",
       "      <th>4</th>\n",
       "      <td>61</td>\n",
       "      <td>31</td>\n",
       "      <td>0</td>\n",
       "      <td>9</td>\n",
       "    </tr>\n",
       "    <tr>\n",
       "      <th>5</th>\n",
       "      <td>59</td>\n",
       "      <td>35</td>\n",
       "      <td>85</td>\n",
       "      <td>2</td>\n",
       "    </tr>\n",
       "    <tr>\n",
       "      <th>6</th>\n",
       "      <td>11</td>\n",
       "      <td>15</td>\n",
       "      <td>0</td>\n",
       "      <td>62</td>\n",
       "    </tr>\n",
       "    <tr>\n",
       "      <th>7</th>\n",
       "      <td>58</td>\n",
       "      <td>64</td>\n",
       "      <td>56</td>\n",
       "      <td>36</td>\n",
       "    </tr>\n",
       "    <tr>\n",
       "      <th>8</th>\n",
       "      <td>19</td>\n",
       "      <td>92</td>\n",
       "      <td>2</td>\n",
       "      <td>67</td>\n",
       "    </tr>\n",
       "    <tr>\n",
       "      <th>9</th>\n",
       "      <td>16</td>\n",
       "      <td>69</td>\n",
       "      <td>13</td>\n",
       "      <td>42</td>\n",
       "    </tr>\n",
       "  </tbody>\n",
       "</table>\n",
       "</div>"
      ],
      "text/plain": [
       "    A   B   C   D\n",
       "0  29  97  54  63\n",
       "1  35  83  51  86\n",
       "2  86  94  85  93\n",
       "3   1  64  55  10\n",
       "4  61  31   0   9\n",
       "5  59  35  85   2\n",
       "6  11  15   0  62\n",
       "7  58  64  56  36\n",
       "8  19  92   2  67\n",
       "9  16  69  13  42"
      ]
     },
     "execution_count": 3,
     "metadata": {},
     "output_type": "execute_result"
    }
   ],
   "source": [
    "df"
   ]
  },
  {
   "cell_type": "code",
   "execution_count": 4,
   "id": "08111678",
   "metadata": {},
   "outputs": [],
   "source": [
    "df.loc[:5,['E']]='Z'\n",
    "#df.loc[:5,['G']]=np.random.uniform(20,70)\n",
    "df['RANDOMGRADE'] = np.random.uniform(20,70, df.shape[0])"
   ]
  },
  {
   "cell_type": "code",
   "execution_count": 5,
   "id": "561aacbb",
   "metadata": {},
   "outputs": [
    {
     "data": {
      "text/html": [
       "<div>\n",
       "<style scoped>\n",
       "    .dataframe tbody tr th:only-of-type {\n",
       "        vertical-align: middle;\n",
       "    }\n",
       "\n",
       "    .dataframe tbody tr th {\n",
       "        vertical-align: top;\n",
       "    }\n",
       "\n",
       "    .dataframe thead th {\n",
       "        text-align: right;\n",
       "    }\n",
       "</style>\n",
       "<table border=\"1\" class=\"dataframe\">\n",
       "  <thead>\n",
       "    <tr style=\"text-align: right;\">\n",
       "      <th></th>\n",
       "      <th>A</th>\n",
       "      <th>B</th>\n",
       "      <th>C</th>\n",
       "      <th>D</th>\n",
       "      <th>E</th>\n",
       "      <th>RANDOMGRADE</th>\n",
       "    </tr>\n",
       "  </thead>\n",
       "  <tbody>\n",
       "    <tr>\n",
       "      <th>0</th>\n",
       "      <td>29</td>\n",
       "      <td>97</td>\n",
       "      <td>54</td>\n",
       "      <td>63</td>\n",
       "      <td>Z</td>\n",
       "      <td>24.846607</td>\n",
       "    </tr>\n",
       "    <tr>\n",
       "      <th>1</th>\n",
       "      <td>35</td>\n",
       "      <td>83</td>\n",
       "      <td>51</td>\n",
       "      <td>86</td>\n",
       "      <td>Z</td>\n",
       "      <td>67.736301</td>\n",
       "    </tr>\n",
       "    <tr>\n",
       "      <th>2</th>\n",
       "      <td>86</td>\n",
       "      <td>94</td>\n",
       "      <td>85</td>\n",
       "      <td>93</td>\n",
       "      <td>Z</td>\n",
       "      <td>37.217190</td>\n",
       "    </tr>\n",
       "    <tr>\n",
       "      <th>3</th>\n",
       "      <td>1</td>\n",
       "      <td>64</td>\n",
       "      <td>55</td>\n",
       "      <td>10</td>\n",
       "      <td>Z</td>\n",
       "      <td>62.256648</td>\n",
       "    </tr>\n",
       "    <tr>\n",
       "      <th>4</th>\n",
       "      <td>61</td>\n",
       "      <td>31</td>\n",
       "      <td>0</td>\n",
       "      <td>9</td>\n",
       "      <td>Z</td>\n",
       "      <td>25.408580</td>\n",
       "    </tr>\n",
       "    <tr>\n",
       "      <th>5</th>\n",
       "      <td>59</td>\n",
       "      <td>35</td>\n",
       "      <td>85</td>\n",
       "      <td>2</td>\n",
       "      <td>Z</td>\n",
       "      <td>65.390410</td>\n",
       "    </tr>\n",
       "    <tr>\n",
       "      <th>6</th>\n",
       "      <td>11</td>\n",
       "      <td>15</td>\n",
       "      <td>0</td>\n",
       "      <td>62</td>\n",
       "      <td>NaN</td>\n",
       "      <td>49.792050</td>\n",
       "    </tr>\n",
       "    <tr>\n",
       "      <th>7</th>\n",
       "      <td>58</td>\n",
       "      <td>64</td>\n",
       "      <td>56</td>\n",
       "      <td>36</td>\n",
       "      <td>NaN</td>\n",
       "      <td>66.240648</td>\n",
       "    </tr>\n",
       "    <tr>\n",
       "      <th>8</th>\n",
       "      <td>19</td>\n",
       "      <td>92</td>\n",
       "      <td>2</td>\n",
       "      <td>67</td>\n",
       "      <td>NaN</td>\n",
       "      <td>32.733025</td>\n",
       "    </tr>\n",
       "    <tr>\n",
       "      <th>9</th>\n",
       "      <td>16</td>\n",
       "      <td>69</td>\n",
       "      <td>13</td>\n",
       "      <td>42</td>\n",
       "      <td>NaN</td>\n",
       "      <td>60.781919</td>\n",
       "    </tr>\n",
       "  </tbody>\n",
       "</table>\n",
       "</div>"
      ],
      "text/plain": [
       "    A   B   C   D    E  RANDOMGRADE\n",
       "0  29  97  54  63    Z    24.846607\n",
       "1  35  83  51  86    Z    67.736301\n",
       "2  86  94  85  93    Z    37.217190\n",
       "3   1  64  55  10    Z    62.256648\n",
       "4  61  31   0   9    Z    25.408580\n",
       "5  59  35  85   2    Z    65.390410\n",
       "6  11  15   0  62  NaN    49.792050\n",
       "7  58  64  56  36  NaN    66.240648\n",
       "8  19  92   2  67  NaN    32.733025\n",
       "9  16  69  13  42  NaN    60.781919"
      ]
     },
     "execution_count": 5,
     "metadata": {},
     "output_type": "execute_result"
    }
   ],
   "source": [
    "df"
   ]
  },
  {
   "cell_type": "code",
   "execution_count": 48,
   "id": "e1cf7feb",
   "metadata": {},
   "outputs": [],
   "source": [
    "def AB(a,b):\n",
    "    return a+b\n"
   ]
  },
  {
   "cell_type": "code",
   "execution_count": 49,
   "id": "187ebcaf",
   "metadata": {},
   "outputs": [],
   "source": [
    "df.loc[:, ['DONE']] = 0\n",
    "#df.loc[:i, ['RUN']] = np.nan\n",
    "t = df.iloc[:0,:].copy()"
   ]
  },
  {
   "cell_type": "code",
   "execution_count": 52,
   "id": "d9655df8",
   "metadata": {},
   "outputs": [],
   "source": [
    "for i in df.index:\n",
    "    df.loc[:i, ['DONE']] = 1\n",
    "    df.loc[:i, ['RUN']] = i\n",
    "    df.loc[:i+1, ['AB']] = df[:i+1].A + df[:i+1].B\n",
    "    df.loc[:i+1, ['AB2']] = df[:i+1].apply(lambda x: AB(x.A, x.B), axis=1)\n",
    "    \n",
    "    j = df['DONE'] == 1\n",
    "    \n",
    "    done = df.loc[j, :]  \n",
    "   \n",
    "    t=t.append(done, ignore_index=True)\n",
    "    \n",
    "    if(i==3):\n",
    "        break\n",
    "    "
   ]
  },
  {
   "cell_type": "code",
   "execution_count": 53,
   "id": "b82f6dc6",
   "metadata": {},
   "outputs": [
    {
     "data": {
      "text/html": [
       "<div>\n",
       "<style scoped>\n",
       "    .dataframe tbody tr th:only-of-type {\n",
       "        vertical-align: middle;\n",
       "    }\n",
       "\n",
       "    .dataframe tbody tr th {\n",
       "        vertical-align: top;\n",
       "    }\n",
       "\n",
       "    .dataframe thead th {\n",
       "        text-align: right;\n",
       "    }\n",
       "</style>\n",
       "<table border=\"1\" class=\"dataframe\">\n",
       "  <thead>\n",
       "    <tr style=\"text-align: right;\">\n",
       "      <th></th>\n",
       "      <th>A</th>\n",
       "      <th>B</th>\n",
       "      <th>C</th>\n",
       "      <th>D</th>\n",
       "      <th>E</th>\n",
       "      <th>RANDOMGRADE</th>\n",
       "      <th>DONE</th>\n",
       "      <th>RUN</th>\n",
       "      <th>AB</th>\n",
       "      <th>AB2</th>\n",
       "    </tr>\n",
       "  </thead>\n",
       "  <tbody>\n",
       "    <tr>\n",
       "      <th>0</th>\n",
       "      <td>29</td>\n",
       "      <td>97</td>\n",
       "      <td>54</td>\n",
       "      <td>63</td>\n",
       "      <td>Z</td>\n",
       "      <td>24.846607</td>\n",
       "      <td>1</td>\n",
       "      <td>0</td>\n",
       "      <td>126.0</td>\n",
       "      <td>126.0</td>\n",
       "    </tr>\n",
       "    <tr>\n",
       "      <th>1</th>\n",
       "      <td>29</td>\n",
       "      <td>97</td>\n",
       "      <td>54</td>\n",
       "      <td>63</td>\n",
       "      <td>Z</td>\n",
       "      <td>24.846607</td>\n",
       "      <td>1</td>\n",
       "      <td>1</td>\n",
       "      <td>126.0</td>\n",
       "      <td>126.0</td>\n",
       "    </tr>\n",
       "    <tr>\n",
       "      <th>2</th>\n",
       "      <td>35</td>\n",
       "      <td>83</td>\n",
       "      <td>51</td>\n",
       "      <td>86</td>\n",
       "      <td>Z</td>\n",
       "      <td>67.736301</td>\n",
       "      <td>1</td>\n",
       "      <td>1</td>\n",
       "      <td>118.0</td>\n",
       "      <td>118.0</td>\n",
       "    </tr>\n",
       "    <tr>\n",
       "      <th>3</th>\n",
       "      <td>29</td>\n",
       "      <td>97</td>\n",
       "      <td>54</td>\n",
       "      <td>63</td>\n",
       "      <td>Z</td>\n",
       "      <td>24.846607</td>\n",
       "      <td>1</td>\n",
       "      <td>2</td>\n",
       "      <td>126.0</td>\n",
       "      <td>126.0</td>\n",
       "    </tr>\n",
       "    <tr>\n",
       "      <th>4</th>\n",
       "      <td>35</td>\n",
       "      <td>83</td>\n",
       "      <td>51</td>\n",
       "      <td>86</td>\n",
       "      <td>Z</td>\n",
       "      <td>67.736301</td>\n",
       "      <td>1</td>\n",
       "      <td>2</td>\n",
       "      <td>118.0</td>\n",
       "      <td>118.0</td>\n",
       "    </tr>\n",
       "    <tr>\n",
       "      <th>5</th>\n",
       "      <td>86</td>\n",
       "      <td>94</td>\n",
       "      <td>85</td>\n",
       "      <td>93</td>\n",
       "      <td>Z</td>\n",
       "      <td>37.217190</td>\n",
       "      <td>1</td>\n",
       "      <td>2</td>\n",
       "      <td>180.0</td>\n",
       "      <td>180.0</td>\n",
       "    </tr>\n",
       "    <tr>\n",
       "      <th>6</th>\n",
       "      <td>29</td>\n",
       "      <td>97</td>\n",
       "      <td>54</td>\n",
       "      <td>63</td>\n",
       "      <td>Z</td>\n",
       "      <td>24.846607</td>\n",
       "      <td>1</td>\n",
       "      <td>3</td>\n",
       "      <td>126.0</td>\n",
       "      <td>126.0</td>\n",
       "    </tr>\n",
       "    <tr>\n",
       "      <th>7</th>\n",
       "      <td>35</td>\n",
       "      <td>83</td>\n",
       "      <td>51</td>\n",
       "      <td>86</td>\n",
       "      <td>Z</td>\n",
       "      <td>67.736301</td>\n",
       "      <td>1</td>\n",
       "      <td>3</td>\n",
       "      <td>118.0</td>\n",
       "      <td>118.0</td>\n",
       "    </tr>\n",
       "    <tr>\n",
       "      <th>8</th>\n",
       "      <td>86</td>\n",
       "      <td>94</td>\n",
       "      <td>85</td>\n",
       "      <td>93</td>\n",
       "      <td>Z</td>\n",
       "      <td>37.217190</td>\n",
       "      <td>1</td>\n",
       "      <td>3</td>\n",
       "      <td>180.0</td>\n",
       "      <td>180.0</td>\n",
       "    </tr>\n",
       "    <tr>\n",
       "      <th>9</th>\n",
       "      <td>1</td>\n",
       "      <td>64</td>\n",
       "      <td>55</td>\n",
       "      <td>10</td>\n",
       "      <td>Z</td>\n",
       "      <td>62.256648</td>\n",
       "      <td>1</td>\n",
       "      <td>3</td>\n",
       "      <td>65.0</td>\n",
       "      <td>65.0</td>\n",
       "    </tr>\n",
       "  </tbody>\n",
       "</table>\n",
       "</div>"
      ],
      "text/plain": [
       "    A   B   C   D  E  RANDOMGRADE  DONE  RUN     AB    AB2\n",
       "0  29  97  54  63  Z    24.846607     1    0  126.0  126.0\n",
       "1  29  97  54  63  Z    24.846607     1    1  126.0  126.0\n",
       "2  35  83  51  86  Z    67.736301     1    1  118.0  118.0\n",
       "3  29  97  54  63  Z    24.846607     1    2  126.0  126.0\n",
       "4  35  83  51  86  Z    67.736301     1    2  118.0  118.0\n",
       "5  86  94  85  93  Z    37.217190     1    2  180.0  180.0\n",
       "6  29  97  54  63  Z    24.846607     1    3  126.0  126.0\n",
       "7  35  83  51  86  Z    67.736301     1    3  118.0  118.0\n",
       "8  86  94  85  93  Z    37.217190     1    3  180.0  180.0\n",
       "9   1  64  55  10  Z    62.256648     1    3   65.0   65.0"
      ]
     },
     "execution_count": 53,
     "metadata": {},
     "output_type": "execute_result"
    }
   ],
   "source": [
    "t"
   ]
  },
  {
   "cell_type": "code",
   "execution_count": 37,
   "id": "0b418e6a",
   "metadata": {},
   "outputs": [],
   "source": [
    "t.to_csv('verificar2.csv')"
   ]
  },
  {
   "cell_type": "code",
   "execution_count": 34,
   "id": "f2e16775",
   "metadata": {},
   "outputs": [
    {
     "data": {
      "text/plain": [
       "118"
      ]
     },
     "execution_count": 34,
     "metadata": {},
     "output_type": "execute_result"
    }
   ],
   "source": [
    "83+35"
   ]
  },
  {
   "cell_type": "code",
   "execution_count": 5,
   "id": "ae34e98a",
   "metadata": {},
   "outputs": [],
   "source": [
    "import math"
   ]
  },
  {
   "cell_type": "code",
   "execution_count": 8,
   "id": "f49a7975",
   "metadata": {},
   "outputs": [],
   "source": [
    "origin=[0,0]"
   ]
  },
  {
   "cell_type": "code",
   "execution_count": 9,
   "id": "67466058",
   "metadata": {},
   "outputs": [],
   "source": [
    "point =[100,100]"
   ]
  },
  {
   "cell_type": "code",
   "execution_count": 10,
   "id": "a391d3ee",
   "metadata": {},
   "outputs": [
    {
     "data": {
      "text/plain": [
       "141.4213562373095"
      ]
     },
     "execution_count": 10,
     "metadata": {},
     "output_type": "execute_result"
    }
   ],
   "source": [
    "math.dist(origin, point)"
   ]
  },
  {
   "cell_type": "code",
   "execution_count": 13,
   "id": "dd4b9253",
   "metadata": {},
   "outputs": [],
   "source": [
    "g1 =-20\n",
    "g2 = 40"
   ]
  },
  {
   "cell_type": "code",
   "execution_count": 15,
   "id": "8d9fa6f9",
   "metadata": {},
   "outputs": [
    {
     "data": {
      "text/plain": [
       "60.0"
      ]
     },
     "execution_count": 15,
     "metadata": {},
     "output_type": "execute_result"
    }
   ],
   "source": [
    "math.dist([g1],[g2])"
   ]
  },
  {
   "cell_type": "code",
   "execution_count": 3,
   "id": "afe239d3",
   "metadata": {},
   "outputs": [],
   "source": [
    "g3=[np.nan]\n",
    "g4=[65]"
   ]
  },
  {
   "cell_type": "code",
   "execution_count": 6,
   "id": "48037616",
   "metadata": {},
   "outputs": [
    {
     "data": {
      "text/plain": [
       "nan"
      ]
     },
     "execution_count": 6,
     "metadata": {},
     "output_type": "execute_result"
    }
   ],
   "source": [
    "math.dist(g3,g4)"
   ]
  },
  {
   "cell_type": "code",
   "execution_count": 19,
   "id": "8352c9e3",
   "metadata": {},
   "outputs": [],
   "source": []
  },
  {
   "cell_type": "code",
   "execution_count": 20,
   "id": "b55f8a91",
   "metadata": {},
   "outputs": [
    {
     "data": {
      "text/plain": [
       "2"
      ]
     },
     "execution_count": 20,
     "metadata": {},
     "output_type": "execute_result"
    }
   ],
   "source": [
    "len(list)"
   ]
  },
  {
   "cell_type": "code",
   "execution_count": 38,
   "id": "1d7b715f",
   "metadata": {},
   "outputs": [
    {
     "name": "stdout",
     "output_type": "stream",
     "text": [
      "FEGL_FEGL\n",
      "FEGL_SIGL\n",
      "FEGL_PGL\n",
      "FEGL_ALGL\n",
      "FEGL_MNGL\n",
      "FEGL_PFGL\n",
      "SIGL_SIGL\n",
      "SIGL_PGL\n",
      "SIGL_ALGL\n",
      "SIGL_MNGL\n",
      "SIGL_PFGL\n",
      "PGL_PGL\n",
      "PGL_ALGL\n",
      "PGL_MNGL\n",
      "PGL_PFGL\n",
      "ALGL_ALGL\n",
      "ALGL_MNGL\n",
      "ALGL_PFGL\n",
      "MNGL_MNGL\n",
      "MNGL_PFGL\n",
      "PFGL_PFGL\n"
     ]
    }
   ],
   "source": [
    "list=['FEGL', 'SIGL', 'PGL', 'ALGL', 'MNGL', 'PFGL']\n",
    "\n",
    "for i in range(len(list)):\n",
    "    \n",
    "    for j in range(len(list)):\n",
    "        if(j >= i):\n",
    "            st = list[i] + \"_\" + list[j]\n",
    "            print(st)"
   ]
  },
  {
   "cell_type": "code",
   "execution_count": null,
   "id": "2f4a573c",
   "metadata": {},
   "outputs": [],
   "source": []
  },
  {
   "cell_type": "code",
   "execution_count": 27,
   "id": "24a44142",
   "metadata": {},
   "outputs": [
    {
     "name": "stdout",
     "output_type": "stream",
     "text": [
      "apple\n",
      "banana\n",
      "cherry\n"
     ]
    }
   ],
   "source": [
    "mytuple = (\"apple\", \"banana\", \"cherry\")\n",
    "myit = iter(mytuple)\n",
    "\n",
    "print(next(myit))\n",
    "print(next(myit))\n",
    "print(next(myit))"
   ]
  },
  {
   "cell_type": "code",
   "execution_count": 28,
   "id": "3ab40e14",
   "metadata": {},
   "outputs": [
    {
     "name": "stdout",
     "output_type": "stream",
     "text": [
      "apple\n",
      "banana\n",
      "cherry\n"
     ]
    }
   ],
   "source": [
    "thislist = [\"apple\", \"banana\", \"cherry\"]\n",
    "for i in range(len(thislist)):\n",
    "  print(thislist[i])"
   ]
  },
  {
   "cell_type": "code",
   "execution_count": null,
   "id": "8d14271a",
   "metadata": {},
   "outputs": [],
   "source": []
  }
 ],
 "metadata": {
  "kernelspec": {
   "display_name": "Python 3 (ipykernel)",
   "language": "python",
   "name": "python3"
  },
  "language_info": {
   "codemirror_mode": {
    "name": "ipython",
    "version": 3
   },
   "file_extension": ".py",
   "mimetype": "text/x-python",
   "name": "python",
   "nbconvert_exporter": "python",
   "pygments_lexer": "ipython3",
   "version": "3.8.10"
  }
 },
 "nbformat": 4,
 "nbformat_minor": 5
}
