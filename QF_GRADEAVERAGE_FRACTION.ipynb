{
 "cells": [
  {
   "cell_type": "code",
   "execution_count": 2,
   "metadata": {},
   "outputs": [],
   "source": [
    "import pandas as pd\n",
    "import matplotlib.pyplot as plt\n",
    "import seaborn as sea\n",
    "import numpy as np\n",
    "\n",
    "pd.set_option('display.max_columns', None)\n",
    "pd.set_option('display.max_rows', None)"
   ]
  },
  {
   "cell_type": "markdown",
   "metadata": {},
   "source": [
    "## Managing Dependencies Before Get Started:"
   ]
  },
  {
   "cell_type": "code",
   "execution_count": 3,
   "metadata": {},
   "outputs": [],
   "source": [
    "# check if packages are installed: open conda prompt and run:\n",
    "\n",
    "# conda search scipy\n",
    "# conda search matplotlib\n",
    "# conda search seaborn\n",
    "# verify package version: sea.__version__ (example using seaborn)\n",
    "\n",
    "# installing packages:\n",
    "\n",
    "# when you code using main env:\n",
    "# conda install scipy\n",
    "# or (specific version):\n",
    "# conda install scipy=0.15.0\n",
    "\n",
    "# when you code in many environments (rare):\n",
    "# conda install --name myenv scipy\n"
   ]
  },
  {
   "cell_type": "code",
   "execution_count": null,
   "metadata": {},
   "outputs": [],
   "source": []
  },
  {
   "cell_type": "markdown",
   "metadata": {},
   "source": [
    "# Listas Úteis"
   ]
  },
  {
   "cell_type": "code",
   "execution_count": 4,
   "metadata": {},
   "outputs": [],
   "source": [
    "cover         = ['CG', 'RO']\n",
    "weathered     = ['FMN', 'HCT', 'ICT', 'IMN']\n",
    "mn_rocks      = ['IMN', 'FMN']\n",
    "fresh_clean   = ['HC', 'HF', 'IC', 'IDO', 'IF', 'IFR']\n",
    "str_ore       = ['FMN', 'HCT', 'ICT', 'IMN', 'HC', 'HF', 'IC', 'IDO', 'IF', 'IFR']\n",
    "ore_rocks     = str_ore + cover\n",
    "carb_rocks    = ['IDO', 'DO', 'BR']\n",
    "basin_rocks   = ['IC', 'IF']\n",
    "\n",
    "teores_gl     = ['fegl', 'sigl', 'pgl', 'algl', 'mngl', 'pfgl', 'tigl', 'mggl', 'cagl']\n",
    "faixas        = ['g1', 'g2', 'g3', 'g4']\n",
    "param_event   = ['fegl', 'sigl', 'pgl', 'algl', 'mngl', 'pfgl', 'tigl', 'mggl', 'cagl', 'g1', 'g2', 'g3', 'g4']\n",
    "\n",
    "not_countable = ['furo','na','de','ate','clv','clm','flx_an','flx_an_or','da_ana','da_sam','d_agru','tipo_am','global','mass_t','status']"
   ]
  },
  {
   "cell_type": "markdown",
   "metadata": {},
   "source": [
    "## FORMATOS E TAMANHOS DE FIGURAS"
   ]
  },
  {
   "cell_type": "code",
   "execution_count": 5,
   "metadata": {},
   "outputs": [],
   "source": [
    "chart_size= [10,10]"
   ]
  },
  {
   "cell_type": "markdown",
   "metadata": {},
   "source": [
    "## FUNÇÕES DE CONVENIÊNCIA"
   ]
  },
  {
   "cell_type": "markdown",
   "metadata": {},
   "source": [
    "##### FUNÇÃO DE MÉDIA PONDERADA"
   ]
  },
  {
   "cell_type": "code",
   "execution_count": 6,
   "metadata": {},
   "outputs": [],
   "source": [
    "def wavg(group, avg_name, weight_name):\n",
    "    \"\"\" http://stackoverflow.com/questions/10951341/pandas-dataframe-aggregate-function-using-multiple-columns\n",
    "    In rare instance, we may not have weights, so just return the mean. Customize this if your business case\n",
    "    should return otherwise.\n",
    "    \"\"\"\n",
    "    d = group[avg_name]\n",
    "    w = group[weight_name]\n",
    "    try:\n",
    "        return (d * w).sum() / w.sum()\n",
    "    except ZeroDivisionError:\n",
    "        return d.mean()"
   ]
  },
  {
   "cell_type": "markdown",
   "metadata": {},
   "source": [
    "##### FUNÇÃO PARA TRAMA MINERAL DE ITABIRITOS COMUNS LIMPOS"
   ]
  },
  {
   "cell_type": "code",
   "execution_count": 7,
   "metadata": {},
   "outputs": [],
   "source": [
    "def trama_itab(fegl, sigl):\n",
    "    return fegl * 1.42 + sigl"
   ]
  },
  {
   "cell_type": "markdown",
   "metadata": {},
   "source": [
    "##### FUNÇÃO PARA DELETERIOS TOTAIS"
   ]
  },
  {
   "cell_type": "code",
   "execution_count": 8,
   "metadata": {},
   "outputs": [],
   "source": [
    "def outros(pgl, algl, mngl, pfgl):\n",
    "    return 2.29*pgl + algl + 1.29*mngl + pfgl\n"
   ]
  },
  {
   "cell_type": "markdown",
   "metadata": {},
   "source": [
    "## Load data"
   ]
  },
  {
   "cell_type": "code",
   "execution_count": 9,
   "metadata": {},
   "outputs": [],
   "source": [
    "fso = pd.read_csv('ABO-Assay-GDMS-26042021.csv', low_memory=False, na_values='-99', encoding=\"latin1\")"
   ]
  },
  {
   "cell_type": "markdown",
   "metadata": {},
   "source": [
    "## Load dummies to test resources\n"
   ]
  },
  {
   "cell_type": "code",
   "execution_count": 10,
   "metadata": {},
   "outputs": [],
   "source": [
    "penguins=sea.load_dataset(\"penguins\")"
   ]
  },
  {
   "cell_type": "code",
   "execution_count": 11,
   "metadata": {},
   "outputs": [],
   "source": [
    "iris=sea.load_dataset(\"iris\")"
   ]
  },
  {
   "cell_type": "markdown",
   "metadata": {},
   "source": [
    "### Extracting cli fso  database content:"
   ]
  },
  {
   "cell_type": "code",
   "execution_count": 12,
   "metadata": {},
   "outputs": [
    {
     "data": {
      "text/plain": [
       "array(['HF', 'IF', 'AT', 'IN', 'HC', 'IGO', 'IC', '\\\\N', 'IAL', 'CG',\n",
       "       'IMNF', 'IMN'], dtype=object)"
      ]
     },
     "execution_count": 12,
     "metadata": {},
     "output_type": "execute_result"
    }
   ],
   "source": [
    "fso.CLI.unique()"
   ]
  },
  {
   "cell_type": "markdown",
   "metadata": {},
   "source": [
    "## Basic Exploratory Data Analysis"
   ]
  },
  {
   "cell_type": "code",
   "execution_count": 13,
   "metadata": {},
   "outputs": [
    {
     "data": {
      "text/html": [
       "<div>\n",
       "<style scoped>\n",
       "    .dataframe tbody tr th:only-of-type {\n",
       "        vertical-align: middle;\n",
       "    }\n",
       "\n",
       "    .dataframe tbody tr th {\n",
       "        vertical-align: top;\n",
       "    }\n",
       "\n",
       "    .dataframe thead th {\n",
       "        text-align: right;\n",
       "    }\n",
       "</style>\n",
       "<table border=\"1\" class=\"dataframe\">\n",
       "  <thead>\n",
       "    <tr style=\"text-align: right;\">\n",
       "      <th></th>\n",
       "      <th>DE</th>\n",
       "      <th>ATE</th>\n",
       "      <th>COMP</th>\n",
       "      <th>FEGL</th>\n",
       "      <th>SIGL</th>\n",
       "      <th>PGL</th>\n",
       "      <th>ALGL</th>\n",
       "      <th>MNGL</th>\n",
       "      <th>MNOGL</th>\n",
       "      <th>PFGL</th>\n",
       "      <th>TIGL</th>\n",
       "      <th>MGGL</th>\n",
       "      <th>CAGL</th>\n",
       "      <th>FOGL</th>\n",
       "      <th>Fe3O4GL</th>\n",
       "      <th>KGL</th>\n",
       "      <th>NAGL</th>\n",
       "      <th>CUGL</th>\n",
       "      <th>MNO2GL</th>\n",
       "      <th>NIGL</th>\n",
       "      <th>G1</th>\n",
       "      <th>G2</th>\n",
       "      <th>G3</th>\n",
       "      <th>G4</th>\n",
       "      <th>G5</th>\n",
       "      <th>G6</th>\n",
       "      <th>G7</th>\n",
       "      <th>G8</th>\n",
       "      <th>FE1</th>\n",
       "      <th>SI1</th>\n",
       "      <th>P1</th>\n",
       "      <th>AL1</th>\n",
       "      <th>MN1</th>\n",
       "      <th>MNO1</th>\n",
       "      <th>PF1</th>\n",
       "      <th>TI1</th>\n",
       "      <th>MG1</th>\n",
       "      <th>CA1</th>\n",
       "      <th>FO1</th>\n",
       "      <th>Fe3O4_1</th>\n",
       "      <th>K1</th>\n",
       "      <th>NA1</th>\n",
       "      <th>CU1</th>\n",
       "      <th>MNO2_1</th>\n",
       "      <th>NI1</th>\n",
       "      <th>FE2</th>\n",
       "      <th>SI2</th>\n",
       "      <th>P2</th>\n",
       "      <th>AL2</th>\n",
       "      <th>MN2</th>\n",
       "      <th>MNO2</th>\n",
       "      <th>PF2</th>\n",
       "      <th>TI2</th>\n",
       "      <th>MG2</th>\n",
       "      <th>CA2</th>\n",
       "      <th>FO2</th>\n",
       "      <th>Fe3O4_2</th>\n",
       "      <th>K2</th>\n",
       "      <th>NA2</th>\n",
       "      <th>CU2</th>\n",
       "      <th>MNO2_2</th>\n",
       "      <th>NI2</th>\n",
       "      <th>FE3</th>\n",
       "      <th>SI3</th>\n",
       "      <th>P3</th>\n",
       "      <th>AL3</th>\n",
       "      <th>MN3</th>\n",
       "      <th>MNO3</th>\n",
       "      <th>PF3</th>\n",
       "      <th>TI3</th>\n",
       "      <th>MG3</th>\n",
       "      <th>CA3</th>\n",
       "      <th>FO3</th>\n",
       "      <th>Fe3O4_3</th>\n",
       "      <th>K3</th>\n",
       "      <th>NA3</th>\n",
       "      <th>CU3</th>\n",
       "      <th>MNO2_3</th>\n",
       "      <th>NI3</th>\n",
       "      <th>FE4</th>\n",
       "      <th>SI4</th>\n",
       "      <th>P4</th>\n",
       "      <th>AL4</th>\n",
       "      <th>MN4</th>\n",
       "      <th>MNO4</th>\n",
       "      <th>PF4</th>\n",
       "      <th>TI4</th>\n",
       "      <th>MG4</th>\n",
       "      <th>CA4</th>\n",
       "      <th>FO4</th>\n",
       "      <th>Fe3O4_4</th>\n",
       "      <th>K4</th>\n",
       "      <th>NA4</th>\n",
       "      <th>CU4</th>\n",
       "      <th>MNO2_4</th>\n",
       "      <th>NI4</th>\n",
       "      <th>FE5</th>\n",
       "      <th>SI5</th>\n",
       "      <th>P5</th>\n",
       "      <th>AL5</th>\n",
       "      <th>MN5</th>\n",
       "      <th>MNO5</th>\n",
       "      <th>PF5</th>\n",
       "      <th>TI5</th>\n",
       "      <th>MG5</th>\n",
       "      <th>CA5</th>\n",
       "      <th>FO5</th>\n",
       "      <th>Fe3O4_5</th>\n",
       "      <th>K5</th>\n",
       "      <th>NA5</th>\n",
       "      <th>CU5</th>\n",
       "      <th>MNO2_5</th>\n",
       "      <th>NI5</th>\n",
       "      <th>FE6</th>\n",
       "      <th>SI6</th>\n",
       "      <th>P6</th>\n",
       "      <th>AL6</th>\n",
       "      <th>MN6</th>\n",
       "      <th>MNO6</th>\n",
       "      <th>PF6</th>\n",
       "      <th>TI6</th>\n",
       "      <th>MG6</th>\n",
       "      <th>CA6</th>\n",
       "      <th>FO6</th>\n",
       "      <th>Fe3O4_6</th>\n",
       "      <th>K6</th>\n",
       "      <th>NA6</th>\n",
       "      <th>CU6</th>\n",
       "      <th>MNO2_6</th>\n",
       "      <th>NI6</th>\n",
       "      <th>FE7</th>\n",
       "      <th>SI7</th>\n",
       "      <th>P7</th>\n",
       "      <th>AL7</th>\n",
       "      <th>MN7</th>\n",
       "      <th>MNO7</th>\n",
       "      <th>PF7</th>\n",
       "      <th>TI7</th>\n",
       "      <th>MG7</th>\n",
       "      <th>CA7</th>\n",
       "      <th>FO7</th>\n",
       "      <th>Fe3O4_7</th>\n",
       "      <th>K7</th>\n",
       "      <th>NA7</th>\n",
       "      <th>CU7</th>\n",
       "      <th>MNO2_7</th>\n",
       "      <th>NI7</th>\n",
       "      <th>FE8</th>\n",
       "      <th>SI8</th>\n",
       "      <th>P8</th>\n",
       "      <th>AL8</th>\n",
       "      <th>MN8</th>\n",
       "      <th>MNO8</th>\n",
       "      <th>PF8</th>\n",
       "      <th>TI8</th>\n",
       "      <th>MG8</th>\n",
       "      <th>CA8</th>\n",
       "      <th>FO8</th>\n",
       "      <th>Fe3O4_8</th>\n",
       "      <th>K8</th>\n",
       "      <th>NA8</th>\n",
       "      <th>CU8</th>\n",
       "      <th>MNO2_8</th>\n",
       "      <th>NI8</th>\n",
       "      <th>FQ1</th>\n",
       "      <th>FQ2</th>\n",
       "      <th>FQ3</th>\n",
       "      <th>FQ4</th>\n",
       "      <th>FQ5</th>\n",
       "      <th>FQ6</th>\n",
       "      <th>FQ7</th>\n",
       "      <th>FQ8</th>\n",
       "      <th>FGRA</th>\n",
       "      <th>NUM_SACOS</th>\n",
       "      <th>FEGLA</th>\n",
       "      <th>SIGLA</th>\n",
       "      <th>PGLA</th>\n",
       "      <th>ALGLA</th>\n",
       "      <th>MNGLA</th>\n",
       "      <th>MNOGLA</th>\n",
       "      <th>PFGLA</th>\n",
       "      <th>TIGLA</th>\n",
       "      <th>MGGLA</th>\n",
       "      <th>CAGLA</th>\n",
       "      <th>FOGLA</th>\n",
       "      <th>Fe3O4GLA</th>\n",
       "      <th>KGLA</th>\n",
       "      <th>NAGLA</th>\n",
       "      <th>CUGLA</th>\n",
       "      <th>MNO2GLA</th>\n",
       "      <th>NIGLA</th>\n",
       "      <th>HGLA</th>\n",
       "      <th>FQGLA</th>\n",
       "      <th>FQGL</th>\n",
       "      <th>STATUS</th>\n",
       "    </tr>\n",
       "  </thead>\n",
       "  <tbody>\n",
       "    <tr>\n",
       "      <th>count</th>\n",
       "      <td>23099.000000</td>\n",
       "      <td>23099.000000</td>\n",
       "      <td>23099.000000</td>\n",
       "      <td>10705.00000</td>\n",
       "      <td>10705.000000</td>\n",
       "      <td>10705.000000</td>\n",
       "      <td>10705.000000</td>\n",
       "      <td>10705.000000</td>\n",
       "      <td>1103.000000</td>\n",
       "      <td>10702.000000</td>\n",
       "      <td>10470.000000</td>\n",
       "      <td>10470.000000</td>\n",
       "      <td>10470.000000</td>\n",
       "      <td>1256.000000</td>\n",
       "      <td>1732.000000</td>\n",
       "      <td>1103.000000</td>\n",
       "      <td>1103.000000</td>\n",
       "      <td>492.000000</td>\n",
       "      <td>0.0</td>\n",
       "      <td>0.0</td>\n",
       "      <td>10710.000000</td>\n",
       "      <td>10475.000000</td>\n",
       "      <td>10214.000000</td>\n",
       "      <td>7666.000000</td>\n",
       "      <td>3018.000000</td>\n",
       "      <td>0.0</td>\n",
       "      <td>0.0</td>\n",
       "      <td>0.0</td>\n",
       "      <td>10692.000000</td>\n",
       "      <td>10692.000000</td>\n",
       "      <td>10692.000000</td>\n",
       "      <td>10692.000000</td>\n",
       "      <td>10692.000000</td>\n",
       "      <td>1100.000000</td>\n",
       "      <td>10692.000000</td>\n",
       "      <td>10457.000000</td>\n",
       "      <td>10457.000000</td>\n",
       "      <td>10457.000000</td>\n",
       "      <td>1253.000000</td>\n",
       "      <td>1745.000000</td>\n",
       "      <td>1100.000000</td>\n",
       "      <td>1100.000000</td>\n",
       "      <td>491.000000</td>\n",
       "      <td>0.0</td>\n",
       "      <td>0.0</td>\n",
       "      <td>10481.000000</td>\n",
       "      <td>10481.000000</td>\n",
       "      <td>10481.000000</td>\n",
       "      <td>10481.000000</td>\n",
       "      <td>10481.000000</td>\n",
       "      <td>1104.000000</td>\n",
       "      <td>10479.00000</td>\n",
       "      <td>10481.000000</td>\n",
       "      <td>10481.000000</td>\n",
       "      <td>10481.000000</td>\n",
       "      <td>1257.000000</td>\n",
       "      <td>1744.000000</td>\n",
       "      <td>1104.000000</td>\n",
       "      <td>1104.000000</td>\n",
       "      <td>493.000000</td>\n",
       "      <td>0.0</td>\n",
       "      <td>0.0</td>\n",
       "      <td>10151.000000</td>\n",
       "      <td>10151.00000</td>\n",
       "      <td>10151.000000</td>\n",
       "      <td>10151.000000</td>\n",
       "      <td>10151.000000</td>\n",
       "      <td>843.000000</td>\n",
       "      <td>10150.000000</td>\n",
       "      <td>10151.000000</td>\n",
       "      <td>10151.000000</td>\n",
       "      <td>10151.000000</td>\n",
       "      <td>996.000000</td>\n",
       "      <td>1679.000000</td>\n",
       "      <td>843.000000</td>\n",
       "      <td>843.000000</td>\n",
       "      <td>232.000000</td>\n",
       "      <td>0.0</td>\n",
       "      <td>0.0</td>\n",
       "      <td>7676.000000</td>\n",
       "      <td>7676.000000</td>\n",
       "      <td>7676.000000</td>\n",
       "      <td>7676.000000</td>\n",
       "      <td>7676.000000</td>\n",
       "      <td>843.000000</td>\n",
       "      <td>7676.000000</td>\n",
       "      <td>7441.000000</td>\n",
       "      <td>7441.000000</td>\n",
       "      <td>7441.000000</td>\n",
       "      <td>996.000000</td>\n",
       "      <td>1746.000000</td>\n",
       "      <td>843.000000</td>\n",
       "      <td>843.000000</td>\n",
       "      <td>232.000000</td>\n",
       "      <td>0.0</td>\n",
       "      <td>0.0</td>\n",
       "      <td>3018.000000</td>\n",
       "      <td>3018.000000</td>\n",
       "      <td>3018.000000</td>\n",
       "      <td>3018.000000</td>\n",
       "      <td>3018.000000</td>\n",
       "      <td>0.0</td>\n",
       "      <td>3018.000000</td>\n",
       "      <td>2783.000000</td>\n",
       "      <td>2783.000000</td>\n",
       "      <td>2783.000000</td>\n",
       "      <td>0.0</td>\n",
       "      <td>0.0</td>\n",
       "      <td>0.0</td>\n",
       "      <td>0.0</td>\n",
       "      <td>0.0</td>\n",
       "      <td>0.0</td>\n",
       "      <td>0.0</td>\n",
       "      <td>0.0</td>\n",
       "      <td>0.0</td>\n",
       "      <td>0.0</td>\n",
       "      <td>0.0</td>\n",
       "      <td>0.0</td>\n",
       "      <td>0.0</td>\n",
       "      <td>0.0</td>\n",
       "      <td>0.0</td>\n",
       "      <td>0.0</td>\n",
       "      <td>0.0</td>\n",
       "      <td>0.0</td>\n",
       "      <td>0.0</td>\n",
       "      <td>0.0</td>\n",
       "      <td>0.0</td>\n",
       "      <td>0.0</td>\n",
       "      <td>0.0</td>\n",
       "      <td>0.0</td>\n",
       "      <td>0.0</td>\n",
       "      <td>0.0</td>\n",
       "      <td>0.0</td>\n",
       "      <td>0.0</td>\n",
       "      <td>0.0</td>\n",
       "      <td>0.0</td>\n",
       "      <td>0.0</td>\n",
       "      <td>0.0</td>\n",
       "      <td>0.0</td>\n",
       "      <td>0.0</td>\n",
       "      <td>0.0</td>\n",
       "      <td>0.0</td>\n",
       "      <td>0.0</td>\n",
       "      <td>0.0</td>\n",
       "      <td>0.0</td>\n",
       "      <td>0.0</td>\n",
       "      <td>0.0</td>\n",
       "      <td>0.0</td>\n",
       "      <td>0.0</td>\n",
       "      <td>0.0</td>\n",
       "      <td>0.0</td>\n",
       "      <td>0.0</td>\n",
       "      <td>0.0</td>\n",
       "      <td>0.0</td>\n",
       "      <td>0.0</td>\n",
       "      <td>0.0</td>\n",
       "      <td>0.0</td>\n",
       "      <td>0.0</td>\n",
       "      <td>0.0</td>\n",
       "      <td>0.0</td>\n",
       "      <td>0.0</td>\n",
       "      <td>0.0</td>\n",
       "      <td>0.0</td>\n",
       "      <td>0.0</td>\n",
       "      <td>10692.000000</td>\n",
       "      <td>10481.000000</td>\n",
       "      <td>10151.000000</td>\n",
       "      <td>7676.000000</td>\n",
       "      <td>3018.000000</td>\n",
       "      <td>0.0</td>\n",
       "      <td>0.0</td>\n",
       "      <td>0.0</td>\n",
       "      <td>10710.000000</td>\n",
       "      <td>23099.000000</td>\n",
       "      <td>15814.000000</td>\n",
       "      <td>15814.000000</td>\n",
       "      <td>15814.000000</td>\n",
       "      <td>15471.000000</td>\n",
       "      <td>15444.000000</td>\n",
       "      <td>433.000000</td>\n",
       "      <td>15395.000000</td>\n",
       "      <td>15159.000000</td>\n",
       "      <td>15159.000000</td>\n",
       "      <td>15159.000000</td>\n",
       "      <td>1895.000000</td>\n",
       "      <td>4291.000000</td>\n",
       "      <td>1323.000000</td>\n",
       "      <td>1323.000000</td>\n",
       "      <td>294.000000</td>\n",
       "      <td>0.0</td>\n",
       "      <td>0.0</td>\n",
       "      <td>10475.000000</td>\n",
       "      <td>15814.000000</td>\n",
       "      <td>0.0</td>\n",
       "      <td>0.0</td>\n",
       "    </tr>\n",
       "    <tr>\n",
       "      <th>mean</th>\n",
       "      <td>81.975156</td>\n",
       "      <td>88.030662</td>\n",
       "      <td>6.055507</td>\n",
       "      <td>44.43489</td>\n",
       "      <td>31.013164</td>\n",
       "      <td>0.048511</td>\n",
       "      <td>1.488042</td>\n",
       "      <td>0.530782</td>\n",
       "      <td>0.572962</td>\n",
       "      <td>2.310193</td>\n",
       "      <td>0.075845</td>\n",
       "      <td>0.242382</td>\n",
       "      <td>0.319462</td>\n",
       "      <td>0.776982</td>\n",
       "      <td>1.262974</td>\n",
       "      <td>0.038009</td>\n",
       "      <td>0.101426</td>\n",
       "      <td>0.011534</td>\n",
       "      <td>NaN</td>\n",
       "      <td>NaN</td>\n",
       "      <td>37.466067</td>\n",
       "      <td>14.534468</td>\n",
       "      <td>8.924427</td>\n",
       "      <td>38.072476</td>\n",
       "      <td>44.558941</td>\n",
       "      <td>NaN</td>\n",
       "      <td>NaN</td>\n",
       "      <td>NaN</td>\n",
       "      <td>49.710692</td>\n",
       "      <td>22.980898</td>\n",
       "      <td>0.050748</td>\n",
       "      <td>1.521610</td>\n",
       "      <td>0.697903</td>\n",
       "      <td>0.669609</td>\n",
       "      <td>2.549054</td>\n",
       "      <td>0.068282</td>\n",
       "      <td>0.242693</td>\n",
       "      <td>0.322942</td>\n",
       "      <td>0.892610</td>\n",
       "      <td>1.354961</td>\n",
       "      <td>0.034245</td>\n",
       "      <td>0.101082</td>\n",
       "      <td>0.011894</td>\n",
       "      <td>NaN</td>\n",
       "      <td>NaN</td>\n",
       "      <td>52.503875</td>\n",
       "      <td>19.262774</td>\n",
       "      <td>0.055207</td>\n",
       "      <td>1.295513</td>\n",
       "      <td>0.712945</td>\n",
       "      <td>0.766522</td>\n",
       "      <td>2.44792</td>\n",
       "      <td>0.076299</td>\n",
       "      <td>0.233972</td>\n",
       "      <td>0.306897</td>\n",
       "      <td>0.882498</td>\n",
       "      <td>1.384628</td>\n",
       "      <td>0.035842</td>\n",
       "      <td>0.100761</td>\n",
       "      <td>0.011988</td>\n",
       "      <td>NaN</td>\n",
       "      <td>NaN</td>\n",
       "      <td>47.332874</td>\n",
       "      <td>26.89345</td>\n",
       "      <td>0.057333</td>\n",
       "      <td>1.460803</td>\n",
       "      <td>0.601105</td>\n",
       "      <td>0.711127</td>\n",
       "      <td>2.365175</td>\n",
       "      <td>0.086682</td>\n",
       "      <td>0.173035</td>\n",
       "      <td>0.220813</td>\n",
       "      <td>1.085693</td>\n",
       "      <td>1.350750</td>\n",
       "      <td>0.034947</td>\n",
       "      <td>0.101257</td>\n",
       "      <td>0.013405</td>\n",
       "      <td>NaN</td>\n",
       "      <td>NaN</td>\n",
       "      <td>38.124397</td>\n",
       "      <td>40.149662</td>\n",
       "      <td>0.043752</td>\n",
       "      <td>1.871017</td>\n",
       "      <td>0.308742</td>\n",
       "      <td>0.413832</td>\n",
       "      <td>2.112373</td>\n",
       "      <td>0.100920</td>\n",
       "      <td>0.215945</td>\n",
       "      <td>0.246000</td>\n",
       "      <td>0.590743</td>\n",
       "      <td>0.900472</td>\n",
       "      <td>0.043321</td>\n",
       "      <td>0.102159</td>\n",
       "      <td>0.012155</td>\n",
       "      <td>NaN</td>\n",
       "      <td>NaN</td>\n",
       "      <td>37.571862</td>\n",
       "      <td>41.384291</td>\n",
       "      <td>0.059122</td>\n",
       "      <td>1.897353</td>\n",
       "      <td>0.342264</td>\n",
       "      <td>NaN</td>\n",
       "      <td>2.232495</td>\n",
       "      <td>0.095656</td>\n",
       "      <td>0.047313</td>\n",
       "      <td>0.034745</td>\n",
       "      <td>NaN</td>\n",
       "      <td>NaN</td>\n",
       "      <td>NaN</td>\n",
       "      <td>NaN</td>\n",
       "      <td>NaN</td>\n",
       "      <td>NaN</td>\n",
       "      <td>NaN</td>\n",
       "      <td>NaN</td>\n",
       "      <td>NaN</td>\n",
       "      <td>NaN</td>\n",
       "      <td>NaN</td>\n",
       "      <td>NaN</td>\n",
       "      <td>NaN</td>\n",
       "      <td>NaN</td>\n",
       "      <td>NaN</td>\n",
       "      <td>NaN</td>\n",
       "      <td>NaN</td>\n",
       "      <td>NaN</td>\n",
       "      <td>NaN</td>\n",
       "      <td>NaN</td>\n",
       "      <td>NaN</td>\n",
       "      <td>NaN</td>\n",
       "      <td>NaN</td>\n",
       "      <td>NaN</td>\n",
       "      <td>NaN</td>\n",
       "      <td>NaN</td>\n",
       "      <td>NaN</td>\n",
       "      <td>NaN</td>\n",
       "      <td>NaN</td>\n",
       "      <td>NaN</td>\n",
       "      <td>NaN</td>\n",
       "      <td>NaN</td>\n",
       "      <td>NaN</td>\n",
       "      <td>NaN</td>\n",
       "      <td>NaN</td>\n",
       "      <td>NaN</td>\n",
       "      <td>NaN</td>\n",
       "      <td>NaN</td>\n",
       "      <td>NaN</td>\n",
       "      <td>NaN</td>\n",
       "      <td>NaN</td>\n",
       "      <td>NaN</td>\n",
       "      <td>NaN</td>\n",
       "      <td>NaN</td>\n",
       "      <td>NaN</td>\n",
       "      <td>NaN</td>\n",
       "      <td>NaN</td>\n",
       "      <td>NaN</td>\n",
       "      <td>NaN</td>\n",
       "      <td>NaN</td>\n",
       "      <td>NaN</td>\n",
       "      <td>NaN</td>\n",
       "      <td>NaN</td>\n",
       "      <td>NaN</td>\n",
       "      <td>NaN</td>\n",
       "      <td>NaN</td>\n",
       "      <td>NaN</td>\n",
       "      <td>NaN</td>\n",
       "      <td>99.753138</td>\n",
       "      <td>99.727788</td>\n",
       "      <td>99.768072</td>\n",
       "      <td>99.671838</td>\n",
       "      <td>99.971911</td>\n",
       "      <td>NaN</td>\n",
       "      <td>NaN</td>\n",
       "      <td>NaN</td>\n",
       "      <td>100.000626</td>\n",
       "      <td>2.017447</td>\n",
       "      <td>43.118976</td>\n",
       "      <td>31.408152</td>\n",
       "      <td>0.053996</td>\n",
       "      <td>1.722102</td>\n",
       "      <td>1.048645</td>\n",
       "      <td>1.275081</td>\n",
       "      <td>2.924194</td>\n",
       "      <td>0.080711</td>\n",
       "      <td>0.281745</td>\n",
       "      <td>0.364870</td>\n",
       "      <td>0.712919</td>\n",
       "      <td>0.818960</td>\n",
       "      <td>0.134633</td>\n",
       "      <td>0.051731</td>\n",
       "      <td>0.015136</td>\n",
       "      <td>NaN</td>\n",
       "      <td>NaN</td>\n",
       "      <td>5.696047</td>\n",
       "      <td>99.721445</td>\n",
       "      <td>NaN</td>\n",
       "      <td>NaN</td>\n",
       "    </tr>\n",
       "    <tr>\n",
       "      <th>std</th>\n",
       "      <td>78.766697</td>\n",
       "      <td>79.037422</td>\n",
       "      <td>5.867576</td>\n",
       "      <td>14.31930</td>\n",
       "      <td>21.130151</td>\n",
       "      <td>0.087775</td>\n",
       "      <td>2.097498</td>\n",
       "      <td>2.399229</td>\n",
       "      <td>2.089552</td>\n",
       "      <td>4.252459</td>\n",
       "      <td>0.138378</td>\n",
       "      <td>1.681705</td>\n",
       "      <td>2.627061</td>\n",
       "      <td>0.699286</td>\n",
       "      <td>2.327258</td>\n",
       "      <td>0.155949</td>\n",
       "      <td>0.017186</td>\n",
       "      <td>0.003097</td>\n",
       "      <td>NaN</td>\n",
       "      <td>NaN</td>\n",
       "      <td>26.379180</td>\n",
       "      <td>10.107319</td>\n",
       "      <td>6.291866</td>\n",
       "      <td>22.292735</td>\n",
       "      <td>21.084033</td>\n",
       "      <td>NaN</td>\n",
       "      <td>NaN</td>\n",
       "      <td>NaN</td>\n",
       "      <td>15.534615</td>\n",
       "      <td>22.057416</td>\n",
       "      <td>0.087771</td>\n",
       "      <td>2.481242</td>\n",
       "      <td>3.212746</td>\n",
       "      <td>3.016890</td>\n",
       "      <td>4.444337</td>\n",
       "      <td>0.134003</td>\n",
       "      <td>1.690433</td>\n",
       "      <td>2.645322</td>\n",
       "      <td>0.801951</td>\n",
       "      <td>2.229568</td>\n",
       "      <td>0.173857</td>\n",
       "      <td>0.011589</td>\n",
       "      <td>0.005372</td>\n",
       "      <td>NaN</td>\n",
       "      <td>NaN</td>\n",
       "      <td>14.441312</td>\n",
       "      <td>19.420556</td>\n",
       "      <td>0.093846</td>\n",
       "      <td>2.059143</td>\n",
       "      <td>2.978625</td>\n",
       "      <td>2.772749</td>\n",
       "      <td>4.31060</td>\n",
       "      <td>0.135690</td>\n",
       "      <td>1.659563</td>\n",
       "      <td>2.587451</td>\n",
       "      <td>0.915475</td>\n",
       "      <td>2.738027</td>\n",
       "      <td>0.147194</td>\n",
       "      <td>0.005820</td>\n",
       "      <td>0.005494</td>\n",
       "      <td>NaN</td>\n",
       "      <td>NaN</td>\n",
       "      <td>14.432174</td>\n",
       "      <td>20.67432</td>\n",
       "      <td>0.074189</td>\n",
       "      <td>2.504942</td>\n",
       "      <td>2.461907</td>\n",
       "      <td>2.210610</td>\n",
       "      <td>3.732326</td>\n",
       "      <td>0.197814</td>\n",
       "      <td>1.283438</td>\n",
       "      <td>2.054522</td>\n",
       "      <td>1.621061</td>\n",
       "      <td>3.534596</td>\n",
       "      <td>0.119811</td>\n",
       "      <td>0.010803</td>\n",
       "      <td>0.006314</td>\n",
       "      <td>NaN</td>\n",
       "      <td>NaN</td>\n",
       "      <td>17.990653</td>\n",
       "      <td>27.319874</td>\n",
       "      <td>0.053300</td>\n",
       "      <td>2.778486</td>\n",
       "      <td>1.329460</td>\n",
       "      <td>1.071601</td>\n",
       "      <td>3.608437</td>\n",
       "      <td>0.226163</td>\n",
       "      <td>1.435079</td>\n",
       "      <td>2.041804</td>\n",
       "      <td>0.470025</td>\n",
       "      <td>2.125180</td>\n",
       "      <td>0.179125</td>\n",
       "      <td>0.025429</td>\n",
       "      <td>0.004800</td>\n",
       "      <td>NaN</td>\n",
       "      <td>NaN</td>\n",
       "      <td>15.831789</td>\n",
       "      <td>24.963573</td>\n",
       "      <td>0.118324</td>\n",
       "      <td>2.452717</td>\n",
       "      <td>1.316772</td>\n",
       "      <td>NaN</td>\n",
       "      <td>2.477057</td>\n",
       "      <td>0.191760</td>\n",
       "      <td>0.098373</td>\n",
       "      <td>0.071409</td>\n",
       "      <td>NaN</td>\n",
       "      <td>NaN</td>\n",
       "      <td>NaN</td>\n",
       "      <td>NaN</td>\n",
       "      <td>NaN</td>\n",
       "      <td>NaN</td>\n",
       "      <td>NaN</td>\n",
       "      <td>NaN</td>\n",
       "      <td>NaN</td>\n",
       "      <td>NaN</td>\n",
       "      <td>NaN</td>\n",
       "      <td>NaN</td>\n",
       "      <td>NaN</td>\n",
       "      <td>NaN</td>\n",
       "      <td>NaN</td>\n",
       "      <td>NaN</td>\n",
       "      <td>NaN</td>\n",
       "      <td>NaN</td>\n",
       "      <td>NaN</td>\n",
       "      <td>NaN</td>\n",
       "      <td>NaN</td>\n",
       "      <td>NaN</td>\n",
       "      <td>NaN</td>\n",
       "      <td>NaN</td>\n",
       "      <td>NaN</td>\n",
       "      <td>NaN</td>\n",
       "      <td>NaN</td>\n",
       "      <td>NaN</td>\n",
       "      <td>NaN</td>\n",
       "      <td>NaN</td>\n",
       "      <td>NaN</td>\n",
       "      <td>NaN</td>\n",
       "      <td>NaN</td>\n",
       "      <td>NaN</td>\n",
       "      <td>NaN</td>\n",
       "      <td>NaN</td>\n",
       "      <td>NaN</td>\n",
       "      <td>NaN</td>\n",
       "      <td>NaN</td>\n",
       "      <td>NaN</td>\n",
       "      <td>NaN</td>\n",
       "      <td>NaN</td>\n",
       "      <td>NaN</td>\n",
       "      <td>NaN</td>\n",
       "      <td>NaN</td>\n",
       "      <td>NaN</td>\n",
       "      <td>NaN</td>\n",
       "      <td>NaN</td>\n",
       "      <td>NaN</td>\n",
       "      <td>NaN</td>\n",
       "      <td>NaN</td>\n",
       "      <td>NaN</td>\n",
       "      <td>NaN</td>\n",
       "      <td>NaN</td>\n",
       "      <td>NaN</td>\n",
       "      <td>NaN</td>\n",
       "      <td>NaN</td>\n",
       "      <td>NaN</td>\n",
       "      <td>1.021339</td>\n",
       "      <td>1.055852</td>\n",
       "      <td>1.017625</td>\n",
       "      <td>1.072297</td>\n",
       "      <td>1.019395</td>\n",
       "      <td>NaN</td>\n",
       "      <td>NaN</td>\n",
       "      <td>NaN</td>\n",
       "      <td>0.006598</td>\n",
       "      <td>1.522652</td>\n",
       "      <td>14.086697</td>\n",
       "      <td>20.871417</td>\n",
       "      <td>0.059639</td>\n",
       "      <td>2.783081</td>\n",
       "      <td>3.932811</td>\n",
       "      <td>4.359670</td>\n",
       "      <td>4.925195</td>\n",
       "      <td>0.171367</td>\n",
       "      <td>1.998439</td>\n",
       "      <td>2.943218</td>\n",
       "      <td>0.835338</td>\n",
       "      <td>1.121024</td>\n",
       "      <td>0.528829</td>\n",
       "      <td>0.068045</td>\n",
       "      <td>0.009374</td>\n",
       "      <td>NaN</td>\n",
       "      <td>NaN</td>\n",
       "      <td>4.524893</td>\n",
       "      <td>2.106662</td>\n",
       "      <td>NaN</td>\n",
       "      <td>NaN</td>\n",
       "    </tr>\n",
       "    <tr>\n",
       "      <th>min</th>\n",
       "      <td>0.000000</td>\n",
       "      <td>0.250000</td>\n",
       "      <td>0.010000</td>\n",
       "      <td>0.10000</td>\n",
       "      <td>0.109800</td>\n",
       "      <td>0.005000</td>\n",
       "      <td>0.047900</td>\n",
       "      <td>0.002000</td>\n",
       "      <td>0.010000</td>\n",
       "      <td>-0.342000</td>\n",
       "      <td>0.002100</td>\n",
       "      <td>0.010000</td>\n",
       "      <td>0.003100</td>\n",
       "      <td>0.100000</td>\n",
       "      <td>0.067300</td>\n",
       "      <td>0.010000</td>\n",
       "      <td>0.100000</td>\n",
       "      <td>0.010000</td>\n",
       "      <td>NaN</td>\n",
       "      <td>NaN</td>\n",
       "      <td>0.000000</td>\n",
       "      <td>0.000000</td>\n",
       "      <td>0.000000</td>\n",
       "      <td>0.000000</td>\n",
       "      <td>0.664000</td>\n",
       "      <td>NaN</td>\n",
       "      <td>NaN</td>\n",
       "      <td>NaN</td>\n",
       "      <td>0.670000</td>\n",
       "      <td>0.100000</td>\n",
       "      <td>0.005000</td>\n",
       "      <td>0.010000</td>\n",
       "      <td>0.002000</td>\n",
       "      <td>0.010000</td>\n",
       "      <td>-0.590000</td>\n",
       "      <td>0.002000</td>\n",
       "      <td>0.007300</td>\n",
       "      <td>0.003000</td>\n",
       "      <td>0.100000</td>\n",
       "      <td>0.067300</td>\n",
       "      <td>0.010000</td>\n",
       "      <td>0.100000</td>\n",
       "      <td>0.010000</td>\n",
       "      <td>NaN</td>\n",
       "      <td>NaN</td>\n",
       "      <td>0.100000</td>\n",
       "      <td>0.100000</td>\n",
       "      <td>0.005000</td>\n",
       "      <td>0.038600</td>\n",
       "      <td>0.002000</td>\n",
       "      <td>0.010000</td>\n",
       "      <td>-0.63000</td>\n",
       "      <td>0.002000</td>\n",
       "      <td>0.007300</td>\n",
       "      <td>0.003000</td>\n",
       "      <td>0.100000</td>\n",
       "      <td>0.067300</td>\n",
       "      <td>0.010000</td>\n",
       "      <td>0.100000</td>\n",
       "      <td>0.010000</td>\n",
       "      <td>NaN</td>\n",
       "      <td>NaN</td>\n",
       "      <td>0.100000</td>\n",
       "      <td>0.10000</td>\n",
       "      <td>0.005000</td>\n",
       "      <td>0.060000</td>\n",
       "      <td>0.002000</td>\n",
       "      <td>0.010000</td>\n",
       "      <td>-1.740000</td>\n",
       "      <td>0.002000</td>\n",
       "      <td>0.007300</td>\n",
       "      <td>0.003000</td>\n",
       "      <td>0.100000</td>\n",
       "      <td>0.067300</td>\n",
       "      <td>0.010000</td>\n",
       "      <td>0.100000</td>\n",
       "      <td>0.010000</td>\n",
       "      <td>NaN</td>\n",
       "      <td>NaN</td>\n",
       "      <td>2.890000</td>\n",
       "      <td>0.100000</td>\n",
       "      <td>0.005000</td>\n",
       "      <td>0.060000</td>\n",
       "      <td>0.002000</td>\n",
       "      <td>0.010000</td>\n",
       "      <td>-0.120000</td>\n",
       "      <td>0.002000</td>\n",
       "      <td>0.010000</td>\n",
       "      <td>0.003000</td>\n",
       "      <td>0.100000</td>\n",
       "      <td>0.067300</td>\n",
       "      <td>0.010000</td>\n",
       "      <td>0.100000</td>\n",
       "      <td>0.010000</td>\n",
       "      <td>NaN</td>\n",
       "      <td>NaN</td>\n",
       "      <td>0.100000</td>\n",
       "      <td>0.100000</td>\n",
       "      <td>0.010000</td>\n",
       "      <td>0.100000</td>\n",
       "      <td>0.010000</td>\n",
       "      <td>NaN</td>\n",
       "      <td>0.100000</td>\n",
       "      <td>0.010000</td>\n",
       "      <td>0.010000</td>\n",
       "      <td>0.010000</td>\n",
       "      <td>NaN</td>\n",
       "      <td>NaN</td>\n",
       "      <td>NaN</td>\n",
       "      <td>NaN</td>\n",
       "      <td>NaN</td>\n",
       "      <td>NaN</td>\n",
       "      <td>NaN</td>\n",
       "      <td>NaN</td>\n",
       "      <td>NaN</td>\n",
       "      <td>NaN</td>\n",
       "      <td>NaN</td>\n",
       "      <td>NaN</td>\n",
       "      <td>NaN</td>\n",
       "      <td>NaN</td>\n",
       "      <td>NaN</td>\n",
       "      <td>NaN</td>\n",
       "      <td>NaN</td>\n",
       "      <td>NaN</td>\n",
       "      <td>NaN</td>\n",
       "      <td>NaN</td>\n",
       "      <td>NaN</td>\n",
       "      <td>NaN</td>\n",
       "      <td>NaN</td>\n",
       "      <td>NaN</td>\n",
       "      <td>NaN</td>\n",
       "      <td>NaN</td>\n",
       "      <td>NaN</td>\n",
       "      <td>NaN</td>\n",
       "      <td>NaN</td>\n",
       "      <td>NaN</td>\n",
       "      <td>NaN</td>\n",
       "      <td>NaN</td>\n",
       "      <td>NaN</td>\n",
       "      <td>NaN</td>\n",
       "      <td>NaN</td>\n",
       "      <td>NaN</td>\n",
       "      <td>NaN</td>\n",
       "      <td>NaN</td>\n",
       "      <td>NaN</td>\n",
       "      <td>NaN</td>\n",
       "      <td>NaN</td>\n",
       "      <td>NaN</td>\n",
       "      <td>NaN</td>\n",
       "      <td>NaN</td>\n",
       "      <td>NaN</td>\n",
       "      <td>NaN</td>\n",
       "      <td>NaN</td>\n",
       "      <td>NaN</td>\n",
       "      <td>NaN</td>\n",
       "      <td>NaN</td>\n",
       "      <td>NaN</td>\n",
       "      <td>NaN</td>\n",
       "      <td>NaN</td>\n",
       "      <td>NaN</td>\n",
       "      <td>NaN</td>\n",
       "      <td>NaN</td>\n",
       "      <td>NaN</td>\n",
       "      <td>NaN</td>\n",
       "      <td>90.793000</td>\n",
       "      <td>61.786000</td>\n",
       "      <td>92.494000</td>\n",
       "      <td>92.145000</td>\n",
       "      <td>95.734000</td>\n",
       "      <td>NaN</td>\n",
       "      <td>NaN</td>\n",
       "      <td>NaN</td>\n",
       "      <td>99.990000</td>\n",
       "      <td>0.000000</td>\n",
       "      <td>0.100000</td>\n",
       "      <td>0.080000</td>\n",
       "      <td>0.004000</td>\n",
       "      <td>0.010000</td>\n",
       "      <td>0.002000</td>\n",
       "      <td>0.010000</td>\n",
       "      <td>-0.850000</td>\n",
       "      <td>0.002000</td>\n",
       "      <td>0.007000</td>\n",
       "      <td>0.003000</td>\n",
       "      <td>0.100000</td>\n",
       "      <td>0.067300</td>\n",
       "      <td>0.010000</td>\n",
       "      <td>0.010000</td>\n",
       "      <td>0.010000</td>\n",
       "      <td>NaN</td>\n",
       "      <td>NaN</td>\n",
       "      <td>0.000000</td>\n",
       "      <td>46.543000</td>\n",
       "      <td>NaN</td>\n",
       "      <td>NaN</td>\n",
       "    </tr>\n",
       "    <tr>\n",
       "      <th>25%</th>\n",
       "      <td>24.000000</td>\n",
       "      <td>30.000000</td>\n",
       "      <td>2.000000</td>\n",
       "      <td>34.33330</td>\n",
       "      <td>8.250000</td>\n",
       "      <td>0.018700</td>\n",
       "      <td>0.411000</td>\n",
       "      <td>0.010000</td>\n",
       "      <td>0.019100</td>\n",
       "      <td>0.509600</td>\n",
       "      <td>0.019300</td>\n",
       "      <td>0.010200</td>\n",
       "      <td>0.010000</td>\n",
       "      <td>0.396950</td>\n",
       "      <td>0.373525</td>\n",
       "      <td>0.010000</td>\n",
       "      <td>0.100000</td>\n",
       "      <td>0.010000</td>\n",
       "      <td>NaN</td>\n",
       "      <td>NaN</td>\n",
       "      <td>16.183225</td>\n",
       "      <td>8.600000</td>\n",
       "      <td>4.809425</td>\n",
       "      <td>19.400000</td>\n",
       "      <td>29.584750</td>\n",
       "      <td>NaN</td>\n",
       "      <td>NaN</td>\n",
       "      <td>NaN</td>\n",
       "      <td>37.710000</td>\n",
       "      <td>2.370000</td>\n",
       "      <td>0.017000</td>\n",
       "      <td>0.260000</td>\n",
       "      <td>0.010000</td>\n",
       "      <td>0.020000</td>\n",
       "      <td>0.360000</td>\n",
       "      <td>0.016000</td>\n",
       "      <td>0.010000</td>\n",
       "      <td>0.010000</td>\n",
       "      <td>0.470000</td>\n",
       "      <td>0.400000</td>\n",
       "      <td>0.010000</td>\n",
       "      <td>0.100000</td>\n",
       "      <td>0.010000</td>\n",
       "      <td>NaN</td>\n",
       "      <td>NaN</td>\n",
       "      <td>43.600000</td>\n",
       "      <td>2.730000</td>\n",
       "      <td>0.021000</td>\n",
       "      <td>0.340000</td>\n",
       "      <td>0.010000</td>\n",
       "      <td>0.020000</td>\n",
       "      <td>0.51000</td>\n",
       "      <td>0.020000</td>\n",
       "      <td>0.010000</td>\n",
       "      <td>0.010000</td>\n",
       "      <td>0.350000</td>\n",
       "      <td>0.400000</td>\n",
       "      <td>0.010000</td>\n",
       "      <td>0.100000</td>\n",
       "      <td>0.010000</td>\n",
       "      <td>NaN</td>\n",
       "      <td>NaN</td>\n",
       "      <td>37.950000</td>\n",
       "      <td>7.97500</td>\n",
       "      <td>0.023000</td>\n",
       "      <td>0.410000</td>\n",
       "      <td>0.010000</td>\n",
       "      <td>0.030000</td>\n",
       "      <td>0.630000</td>\n",
       "      <td>0.020000</td>\n",
       "      <td>0.010000</td>\n",
       "      <td>0.010000</td>\n",
       "      <td>0.397500</td>\n",
       "      <td>0.400000</td>\n",
       "      <td>0.010000</td>\n",
       "      <td>0.100000</td>\n",
       "      <td>0.010000</td>\n",
       "      <td>NaN</td>\n",
       "      <td>NaN</td>\n",
       "      <td>23.492500</td>\n",
       "      <td>9.677500</td>\n",
       "      <td>0.017000</td>\n",
       "      <td>0.580000</td>\n",
       "      <td>0.010000</td>\n",
       "      <td>0.010000</td>\n",
       "      <td>0.530000</td>\n",
       "      <td>0.020000</td>\n",
       "      <td>0.010000</td>\n",
       "      <td>0.010000</td>\n",
       "      <td>0.200000</td>\n",
       "      <td>0.300000</td>\n",
       "      <td>0.010000</td>\n",
       "      <td>0.100000</td>\n",
       "      <td>0.010000</td>\n",
       "      <td>NaN</td>\n",
       "      <td>NaN</td>\n",
       "      <td>25.702500</td>\n",
       "      <td>16.287500</td>\n",
       "      <td>0.021000</td>\n",
       "      <td>0.642500</td>\n",
       "      <td>0.010000</td>\n",
       "      <td>NaN</td>\n",
       "      <td>0.780000</td>\n",
       "      <td>0.018000</td>\n",
       "      <td>0.010000</td>\n",
       "      <td>0.010000</td>\n",
       "      <td>NaN</td>\n",
       "      <td>NaN</td>\n",
       "      <td>NaN</td>\n",
       "      <td>NaN</td>\n",
       "      <td>NaN</td>\n",
       "      <td>NaN</td>\n",
       "      <td>NaN</td>\n",
       "      <td>NaN</td>\n",
       "      <td>NaN</td>\n",
       "      <td>NaN</td>\n",
       "      <td>NaN</td>\n",
       "      <td>NaN</td>\n",
       "      <td>NaN</td>\n",
       "      <td>NaN</td>\n",
       "      <td>NaN</td>\n",
       "      <td>NaN</td>\n",
       "      <td>NaN</td>\n",
       "      <td>NaN</td>\n",
       "      <td>NaN</td>\n",
       "      <td>NaN</td>\n",
       "      <td>NaN</td>\n",
       "      <td>NaN</td>\n",
       "      <td>NaN</td>\n",
       "      <td>NaN</td>\n",
       "      <td>NaN</td>\n",
       "      <td>NaN</td>\n",
       "      <td>NaN</td>\n",
       "      <td>NaN</td>\n",
       "      <td>NaN</td>\n",
       "      <td>NaN</td>\n",
       "      <td>NaN</td>\n",
       "      <td>NaN</td>\n",
       "      <td>NaN</td>\n",
       "      <td>NaN</td>\n",
       "      <td>NaN</td>\n",
       "      <td>NaN</td>\n",
       "      <td>NaN</td>\n",
       "      <td>NaN</td>\n",
       "      <td>NaN</td>\n",
       "      <td>NaN</td>\n",
       "      <td>NaN</td>\n",
       "      <td>NaN</td>\n",
       "      <td>NaN</td>\n",
       "      <td>NaN</td>\n",
       "      <td>NaN</td>\n",
       "      <td>NaN</td>\n",
       "      <td>NaN</td>\n",
       "      <td>NaN</td>\n",
       "      <td>NaN</td>\n",
       "      <td>NaN</td>\n",
       "      <td>NaN</td>\n",
       "      <td>NaN</td>\n",
       "      <td>NaN</td>\n",
       "      <td>NaN</td>\n",
       "      <td>NaN</td>\n",
       "      <td>NaN</td>\n",
       "      <td>NaN</td>\n",
       "      <td>NaN</td>\n",
       "      <td>99.203000</td>\n",
       "      <td>99.195000</td>\n",
       "      <td>99.185500</td>\n",
       "      <td>99.036750</td>\n",
       "      <td>99.342000</td>\n",
       "      <td>NaN</td>\n",
       "      <td>NaN</td>\n",
       "      <td>NaN</td>\n",
       "      <td>100.000000</td>\n",
       "      <td>1.000000</td>\n",
       "      <td>33.880000</td>\n",
       "      <td>10.172500</td>\n",
       "      <td>0.023000</td>\n",
       "      <td>0.460000</td>\n",
       "      <td>0.010000</td>\n",
       "      <td>0.020000</td>\n",
       "      <td>0.710000</td>\n",
       "      <td>0.015000</td>\n",
       "      <td>0.010000</td>\n",
       "      <td>0.010000</td>\n",
       "      <td>0.210000</td>\n",
       "      <td>0.400000</td>\n",
       "      <td>0.010000</td>\n",
       "      <td>0.010000</td>\n",
       "      <td>0.010000</td>\n",
       "      <td>NaN</td>\n",
       "      <td>NaN</td>\n",
       "      <td>1.890000</td>\n",
       "      <td>99.372000</td>\n",
       "      <td>NaN</td>\n",
       "      <td>NaN</td>\n",
       "    </tr>\n",
       "    <tr>\n",
       "      <th>50%</th>\n",
       "      <td>62.000000</td>\n",
       "      <td>67.400000</td>\n",
       "      <td>5.020000</td>\n",
       "      <td>41.92790</td>\n",
       "      <td>35.537100</td>\n",
       "      <td>0.031000</td>\n",
       "      <td>0.845300</td>\n",
       "      <td>0.015300</td>\n",
       "      <td>0.098000</td>\n",
       "      <td>1.128050</td>\n",
       "      <td>0.038100</td>\n",
       "      <td>0.021900</td>\n",
       "      <td>0.010600</td>\n",
       "      <td>0.682300</td>\n",
       "      <td>0.603650</td>\n",
       "      <td>0.011400</td>\n",
       "      <td>0.100000</td>\n",
       "      <td>0.010000</td>\n",
       "      <td>NaN</td>\n",
       "      <td>NaN</td>\n",
       "      <td>30.500000</td>\n",
       "      <td>13.030000</td>\n",
       "      <td>8.039550</td>\n",
       "      <td>37.480000</td>\n",
       "      <td>44.544500</td>\n",
       "      <td>NaN</td>\n",
       "      <td>NaN</td>\n",
       "      <td>NaN</td>\n",
       "      <td>53.590000</td>\n",
       "      <td>15.743500</td>\n",
       "      <td>0.030000</td>\n",
       "      <td>0.550000</td>\n",
       "      <td>0.014000</td>\n",
       "      <td>0.070000</td>\n",
       "      <td>1.040000</td>\n",
       "      <td>0.034000</td>\n",
       "      <td>0.020000</td>\n",
       "      <td>0.010000</td>\n",
       "      <td>0.770000</td>\n",
       "      <td>0.700000</td>\n",
       "      <td>0.010000</td>\n",
       "      <td>0.100000</td>\n",
       "      <td>0.010000</td>\n",
       "      <td>NaN</td>\n",
       "      <td>NaN</td>\n",
       "      <td>56.900000</td>\n",
       "      <td>12.450000</td>\n",
       "      <td>0.035000</td>\n",
       "      <td>0.650000</td>\n",
       "      <td>0.018000</td>\n",
       "      <td>0.120000</td>\n",
       "      <td>1.12000</td>\n",
       "      <td>0.041000</td>\n",
       "      <td>0.020000</td>\n",
       "      <td>0.010000</td>\n",
       "      <td>0.760000</td>\n",
       "      <td>0.700000</td>\n",
       "      <td>0.010000</td>\n",
       "      <td>0.100000</td>\n",
       "      <td>0.010000</td>\n",
       "      <td>NaN</td>\n",
       "      <td>NaN</td>\n",
       "      <td>49.160000</td>\n",
       "      <td>24.30000</td>\n",
       "      <td>0.040000</td>\n",
       "      <td>0.760000</td>\n",
       "      <td>0.020000</td>\n",
       "      <td>0.100000</td>\n",
       "      <td>1.230000</td>\n",
       "      <td>0.040000</td>\n",
       "      <td>0.019000</td>\n",
       "      <td>0.010000</td>\n",
       "      <td>0.850000</td>\n",
       "      <td>0.600000</td>\n",
       "      <td>0.010000</td>\n",
       "      <td>0.100000</td>\n",
       "      <td>0.010000</td>\n",
       "      <td>NaN</td>\n",
       "      <td>NaN</td>\n",
       "      <td>33.815000</td>\n",
       "      <td>47.105000</td>\n",
       "      <td>0.029000</td>\n",
       "      <td>1.070000</td>\n",
       "      <td>0.013000</td>\n",
       "      <td>0.070000</td>\n",
       "      <td>1.070000</td>\n",
       "      <td>0.040000</td>\n",
       "      <td>0.020000</td>\n",
       "      <td>0.010000</td>\n",
       "      <td>0.510000</td>\n",
       "      <td>0.400000</td>\n",
       "      <td>0.020000</td>\n",
       "      <td>0.100000</td>\n",
       "      <td>0.010000</td>\n",
       "      <td>NaN</td>\n",
       "      <td>NaN</td>\n",
       "      <td>33.665000</td>\n",
       "      <td>48.315000</td>\n",
       "      <td>0.036000</td>\n",
       "      <td>1.150000</td>\n",
       "      <td>0.026000</td>\n",
       "      <td>NaN</td>\n",
       "      <td>1.400000</td>\n",
       "      <td>0.039000</td>\n",
       "      <td>0.022000</td>\n",
       "      <td>0.014000</td>\n",
       "      <td>NaN</td>\n",
       "      <td>NaN</td>\n",
       "      <td>NaN</td>\n",
       "      <td>NaN</td>\n",
       "      <td>NaN</td>\n",
       "      <td>NaN</td>\n",
       "      <td>NaN</td>\n",
       "      <td>NaN</td>\n",
       "      <td>NaN</td>\n",
       "      <td>NaN</td>\n",
       "      <td>NaN</td>\n",
       "      <td>NaN</td>\n",
       "      <td>NaN</td>\n",
       "      <td>NaN</td>\n",
       "      <td>NaN</td>\n",
       "      <td>NaN</td>\n",
       "      <td>NaN</td>\n",
       "      <td>NaN</td>\n",
       "      <td>NaN</td>\n",
       "      <td>NaN</td>\n",
       "      <td>NaN</td>\n",
       "      <td>NaN</td>\n",
       "      <td>NaN</td>\n",
       "      <td>NaN</td>\n",
       "      <td>NaN</td>\n",
       "      <td>NaN</td>\n",
       "      <td>NaN</td>\n",
       "      <td>NaN</td>\n",
       "      <td>NaN</td>\n",
       "      <td>NaN</td>\n",
       "      <td>NaN</td>\n",
       "      <td>NaN</td>\n",
       "      <td>NaN</td>\n",
       "      <td>NaN</td>\n",
       "      <td>NaN</td>\n",
       "      <td>NaN</td>\n",
       "      <td>NaN</td>\n",
       "      <td>NaN</td>\n",
       "      <td>NaN</td>\n",
       "      <td>NaN</td>\n",
       "      <td>NaN</td>\n",
       "      <td>NaN</td>\n",
       "      <td>NaN</td>\n",
       "      <td>NaN</td>\n",
       "      <td>NaN</td>\n",
       "      <td>NaN</td>\n",
       "      <td>NaN</td>\n",
       "      <td>NaN</td>\n",
       "      <td>NaN</td>\n",
       "      <td>NaN</td>\n",
       "      <td>NaN</td>\n",
       "      <td>NaN</td>\n",
       "      <td>NaN</td>\n",
       "      <td>NaN</td>\n",
       "      <td>NaN</td>\n",
       "      <td>NaN</td>\n",
       "      <td>NaN</td>\n",
       "      <td>NaN</td>\n",
       "      <td>99.830500</td>\n",
       "      <td>99.824000</td>\n",
       "      <td>99.826000</td>\n",
       "      <td>99.745500</td>\n",
       "      <td>99.952000</td>\n",
       "      <td>NaN</td>\n",
       "      <td>NaN</td>\n",
       "      <td>NaN</td>\n",
       "      <td>100.000000</td>\n",
       "      <td>1.000000</td>\n",
       "      <td>41.182000</td>\n",
       "      <td>35.200000</td>\n",
       "      <td>0.037000</td>\n",
       "      <td>0.920000</td>\n",
       "      <td>0.040000</td>\n",
       "      <td>0.120000</td>\n",
       "      <td>1.560000</td>\n",
       "      <td>0.035000</td>\n",
       "      <td>0.016000</td>\n",
       "      <td>0.010000</td>\n",
       "      <td>0.480000</td>\n",
       "      <td>0.600000</td>\n",
       "      <td>0.020000</td>\n",
       "      <td>0.020000</td>\n",
       "      <td>0.010000</td>\n",
       "      <td>NaN</td>\n",
       "      <td>NaN</td>\n",
       "      <td>5.280000</td>\n",
       "      <td>99.936000</td>\n",
       "      <td>NaN</td>\n",
       "      <td>NaN</td>\n",
       "    </tr>\n",
       "    <tr>\n",
       "      <th>75%</th>\n",
       "      <td>116.000000</td>\n",
       "      <td>122.000000</td>\n",
       "      <td>8.950000</td>\n",
       "      <td>57.83170</td>\n",
       "      <td>48.084900</td>\n",
       "      <td>0.054000</td>\n",
       "      <td>1.783600</td>\n",
       "      <td>0.113100</td>\n",
       "      <td>0.420550</td>\n",
       "      <td>2.474400</td>\n",
       "      <td>0.075400</td>\n",
       "      <td>0.065475</td>\n",
       "      <td>0.020100</td>\n",
       "      <td>0.932625</td>\n",
       "      <td>1.072300</td>\n",
       "      <td>0.022700</td>\n",
       "      <td>0.100000</td>\n",
       "      <td>0.011600</td>\n",
       "      <td>NaN</td>\n",
       "      <td>NaN</td>\n",
       "      <td>56.777000</td>\n",
       "      <td>18.330000</td>\n",
       "      <td>11.400000</td>\n",
       "      <td>54.300000</td>\n",
       "      <td>60.140250</td>\n",
       "      <td>NaN</td>\n",
       "      <td>NaN</td>\n",
       "      <td>NaN</td>\n",
       "      <td>63.312500</td>\n",
       "      <td>42.065000</td>\n",
       "      <td>0.058000</td>\n",
       "      <td>1.710000</td>\n",
       "      <td>0.092000</td>\n",
       "      <td>0.270000</td>\n",
       "      <td>3.270000</td>\n",
       "      <td>0.068000</td>\n",
       "      <td>0.066000</td>\n",
       "      <td>0.020000</td>\n",
       "      <td>1.070000</td>\n",
       "      <td>1.200000</td>\n",
       "      <td>0.020000</td>\n",
       "      <td>0.100000</td>\n",
       "      <td>0.010000</td>\n",
       "      <td>NaN</td>\n",
       "      <td>NaN</td>\n",
       "      <td>64.300000</td>\n",
       "      <td>32.420000</td>\n",
       "      <td>0.062000</td>\n",
       "      <td>1.410000</td>\n",
       "      <td>0.136000</td>\n",
       "      <td>0.420000</td>\n",
       "      <td>2.72000</td>\n",
       "      <td>0.080000</td>\n",
       "      <td>0.067000</td>\n",
       "      <td>0.020000</td>\n",
       "      <td>1.110000</td>\n",
       "      <td>1.100000</td>\n",
       "      <td>0.020000</td>\n",
       "      <td>0.100000</td>\n",
       "      <td>0.010000</td>\n",
       "      <td>NaN</td>\n",
       "      <td>NaN</td>\n",
       "      <td>59.380000</td>\n",
       "      <td>41.25000</td>\n",
       "      <td>0.065500</td>\n",
       "      <td>1.490000</td>\n",
       "      <td>0.141000</td>\n",
       "      <td>0.430000</td>\n",
       "      <td>2.570000</td>\n",
       "      <td>0.081000</td>\n",
       "      <td>0.060000</td>\n",
       "      <td>0.020000</td>\n",
       "      <td>1.240000</td>\n",
       "      <td>0.995000</td>\n",
       "      <td>0.030000</td>\n",
       "      <td>0.100000</td>\n",
       "      <td>0.020000</td>\n",
       "      <td>NaN</td>\n",
       "      <td>NaN</td>\n",
       "      <td>56.090000</td>\n",
       "      <td>63.300000</td>\n",
       "      <td>0.050000</td>\n",
       "      <td>2.040000</td>\n",
       "      <td>0.095000</td>\n",
       "      <td>0.350000</td>\n",
       "      <td>2.152500</td>\n",
       "      <td>0.083000</td>\n",
       "      <td>0.076000</td>\n",
       "      <td>0.017000</td>\n",
       "      <td>0.800000</td>\n",
       "      <td>0.700000</td>\n",
       "      <td>0.030000</td>\n",
       "      <td>0.100000</td>\n",
       "      <td>0.010000</td>\n",
       "      <td>NaN</td>\n",
       "      <td>NaN</td>\n",
       "      <td>51.187500</td>\n",
       "      <td>60.490000</td>\n",
       "      <td>0.060000</td>\n",
       "      <td>2.110000</td>\n",
       "      <td>0.130000</td>\n",
       "      <td>NaN</td>\n",
       "      <td>2.480000</td>\n",
       "      <td>0.082000</td>\n",
       "      <td>0.055000</td>\n",
       "      <td>0.031000</td>\n",
       "      <td>NaN</td>\n",
       "      <td>NaN</td>\n",
       "      <td>NaN</td>\n",
       "      <td>NaN</td>\n",
       "      <td>NaN</td>\n",
       "      <td>NaN</td>\n",
       "      <td>NaN</td>\n",
       "      <td>NaN</td>\n",
       "      <td>NaN</td>\n",
       "      <td>NaN</td>\n",
       "      <td>NaN</td>\n",
       "      <td>NaN</td>\n",
       "      <td>NaN</td>\n",
       "      <td>NaN</td>\n",
       "      <td>NaN</td>\n",
       "      <td>NaN</td>\n",
       "      <td>NaN</td>\n",
       "      <td>NaN</td>\n",
       "      <td>NaN</td>\n",
       "      <td>NaN</td>\n",
       "      <td>NaN</td>\n",
       "      <td>NaN</td>\n",
       "      <td>NaN</td>\n",
       "      <td>NaN</td>\n",
       "      <td>NaN</td>\n",
       "      <td>NaN</td>\n",
       "      <td>NaN</td>\n",
       "      <td>NaN</td>\n",
       "      <td>NaN</td>\n",
       "      <td>NaN</td>\n",
       "      <td>NaN</td>\n",
       "      <td>NaN</td>\n",
       "      <td>NaN</td>\n",
       "      <td>NaN</td>\n",
       "      <td>NaN</td>\n",
       "      <td>NaN</td>\n",
       "      <td>NaN</td>\n",
       "      <td>NaN</td>\n",
       "      <td>NaN</td>\n",
       "      <td>NaN</td>\n",
       "      <td>NaN</td>\n",
       "      <td>NaN</td>\n",
       "      <td>NaN</td>\n",
       "      <td>NaN</td>\n",
       "      <td>NaN</td>\n",
       "      <td>NaN</td>\n",
       "      <td>NaN</td>\n",
       "      <td>NaN</td>\n",
       "      <td>NaN</td>\n",
       "      <td>NaN</td>\n",
       "      <td>NaN</td>\n",
       "      <td>NaN</td>\n",
       "      <td>NaN</td>\n",
       "      <td>NaN</td>\n",
       "      <td>NaN</td>\n",
       "      <td>NaN</td>\n",
       "      <td>NaN</td>\n",
       "      <td>NaN</td>\n",
       "      <td>100.333000</td>\n",
       "      <td>100.297000</td>\n",
       "      <td>100.371000</td>\n",
       "      <td>100.323000</td>\n",
       "      <td>100.674750</td>\n",
       "      <td>NaN</td>\n",
       "      <td>NaN</td>\n",
       "      <td>NaN</td>\n",
       "      <td>100.000000</td>\n",
       "      <td>3.000000</td>\n",
       "      <td>54.777500</td>\n",
       "      <td>48.050000</td>\n",
       "      <td>0.063000</td>\n",
       "      <td>1.940000</td>\n",
       "      <td>0.227000</td>\n",
       "      <td>0.470000</td>\n",
       "      <td>3.120000</td>\n",
       "      <td>0.077000</td>\n",
       "      <td>0.060000</td>\n",
       "      <td>0.019000</td>\n",
       "      <td>0.870000</td>\n",
       "      <td>0.900000</td>\n",
       "      <td>0.060000</td>\n",
       "      <td>0.100000</td>\n",
       "      <td>0.020000</td>\n",
       "      <td>NaN</td>\n",
       "      <td>NaN</td>\n",
       "      <td>8.425000</td>\n",
       "      <td>100.437000</td>\n",
       "      <td>NaN</td>\n",
       "      <td>NaN</td>\n",
       "    </tr>\n",
       "    <tr>\n",
       "      <th>max</th>\n",
       "      <td>700.800000</td>\n",
       "      <td>701.250000</td>\n",
       "      <td>171.650000</td>\n",
       "      <td>69.74270</td>\n",
       "      <td>98.976700</td>\n",
       "      <td>4.649700</td>\n",
       "      <td>34.731700</td>\n",
       "      <td>36.586300</td>\n",
       "      <td>32.149900</td>\n",
       "      <td>45.529200</td>\n",
       "      <td>2.698700</td>\n",
       "      <td>21.100000</td>\n",
       "      <td>34.354600</td>\n",
       "      <td>8.047500</td>\n",
       "      <td>26.354100</td>\n",
       "      <td>4.169800</td>\n",
       "      <td>0.643500</td>\n",
       "      <td>0.029400</td>\n",
       "      <td>NaN</td>\n",
       "      <td>NaN</td>\n",
       "      <td>100.000000</td>\n",
       "      <td>100.000000</td>\n",
       "      <td>69.200000</td>\n",
       "      <td>97.900000</td>\n",
       "      <td>94.379000</td>\n",
       "      <td>NaN</td>\n",
       "      <td>NaN</td>\n",
       "      <td>NaN</td>\n",
       "      <td>70.150000</td>\n",
       "      <td>98.000000</td>\n",
       "      <td>4.540000</td>\n",
       "      <td>35.090000</td>\n",
       "      <td>42.564000</td>\n",
       "      <td>43.200000</td>\n",
       "      <td>45.530000</td>\n",
       "      <td>2.869000</td>\n",
       "      <td>21.100000</td>\n",
       "      <td>34.400000</td>\n",
       "      <td>9.010000</td>\n",
       "      <td>22.690000</td>\n",
       "      <td>5.210000</td>\n",
       "      <td>0.420000</td>\n",
       "      <td>0.060000</td>\n",
       "      <td>NaN</td>\n",
       "      <td>NaN</td>\n",
       "      <td>69.850000</td>\n",
       "      <td>97.680000</td>\n",
       "      <td>4.690000</td>\n",
       "      <td>37.550000</td>\n",
       "      <td>37.210000</td>\n",
       "      <td>36.600000</td>\n",
       "      <td>45.52000</td>\n",
       "      <td>4.620000</td>\n",
       "      <td>21.100000</td>\n",
       "      <td>32.400000</td>\n",
       "      <td>11.760000</td>\n",
       "      <td>32.270000</td>\n",
       "      <td>4.090000</td>\n",
       "      <td>0.190000</td>\n",
       "      <td>0.050000</td>\n",
       "      <td>NaN</td>\n",
       "      <td>NaN</td>\n",
       "      <td>69.500000</td>\n",
       "      <td>97.85000</td>\n",
       "      <td>2.080000</td>\n",
       "      <td>41.580000</td>\n",
       "      <td>36.128000</td>\n",
       "      <td>31.300000</td>\n",
       "      <td>43.480000</td>\n",
       "      <td>9.580000</td>\n",
       "      <td>20.049000</td>\n",
       "      <td>32.996000</td>\n",
       "      <td>18.660000</td>\n",
       "      <td>56.510000</td>\n",
       "      <td>2.930000</td>\n",
       "      <td>0.290000</td>\n",
       "      <td>0.040000</td>\n",
       "      <td>NaN</td>\n",
       "      <td>NaN</td>\n",
       "      <td>69.310000</td>\n",
       "      <td>93.820000</td>\n",
       "      <td>1.393000</td>\n",
       "      <td>32.690000</td>\n",
       "      <td>26.301000</td>\n",
       "      <td>16.200000</td>\n",
       "      <td>41.800000</td>\n",
       "      <td>2.597000</td>\n",
       "      <td>19.000000</td>\n",
       "      <td>29.354000</td>\n",
       "      <td>3.760000</td>\n",
       "      <td>29.920000</td>\n",
       "      <td>4.230000</td>\n",
       "      <td>0.790000</td>\n",
       "      <td>0.030000</td>\n",
       "      <td>NaN</td>\n",
       "      <td>NaN</td>\n",
       "      <td>68.830000</td>\n",
       "      <td>99.250000</td>\n",
       "      <td>2.988000</td>\n",
       "      <td>29.160000</td>\n",
       "      <td>23.142000</td>\n",
       "      <td>NaN</td>\n",
       "      <td>15.820000</td>\n",
       "      <td>2.017000</td>\n",
       "      <td>2.626000</td>\n",
       "      <td>1.001000</td>\n",
       "      <td>NaN</td>\n",
       "      <td>NaN</td>\n",
       "      <td>NaN</td>\n",
       "      <td>NaN</td>\n",
       "      <td>NaN</td>\n",
       "      <td>NaN</td>\n",
       "      <td>NaN</td>\n",
       "      <td>NaN</td>\n",
       "      <td>NaN</td>\n",
       "      <td>NaN</td>\n",
       "      <td>NaN</td>\n",
       "      <td>NaN</td>\n",
       "      <td>NaN</td>\n",
       "      <td>NaN</td>\n",
       "      <td>NaN</td>\n",
       "      <td>NaN</td>\n",
       "      <td>NaN</td>\n",
       "      <td>NaN</td>\n",
       "      <td>NaN</td>\n",
       "      <td>NaN</td>\n",
       "      <td>NaN</td>\n",
       "      <td>NaN</td>\n",
       "      <td>NaN</td>\n",
       "      <td>NaN</td>\n",
       "      <td>NaN</td>\n",
       "      <td>NaN</td>\n",
       "      <td>NaN</td>\n",
       "      <td>NaN</td>\n",
       "      <td>NaN</td>\n",
       "      <td>NaN</td>\n",
       "      <td>NaN</td>\n",
       "      <td>NaN</td>\n",
       "      <td>NaN</td>\n",
       "      <td>NaN</td>\n",
       "      <td>NaN</td>\n",
       "      <td>NaN</td>\n",
       "      <td>NaN</td>\n",
       "      <td>NaN</td>\n",
       "      <td>NaN</td>\n",
       "      <td>NaN</td>\n",
       "      <td>NaN</td>\n",
       "      <td>NaN</td>\n",
       "      <td>NaN</td>\n",
       "      <td>NaN</td>\n",
       "      <td>NaN</td>\n",
       "      <td>NaN</td>\n",
       "      <td>NaN</td>\n",
       "      <td>NaN</td>\n",
       "      <td>NaN</td>\n",
       "      <td>NaN</td>\n",
       "      <td>NaN</td>\n",
       "      <td>NaN</td>\n",
       "      <td>NaN</td>\n",
       "      <td>NaN</td>\n",
       "      <td>NaN</td>\n",
       "      <td>NaN</td>\n",
       "      <td>NaN</td>\n",
       "      <td>NaN</td>\n",
       "      <td>104.523000</td>\n",
       "      <td>103.962000</td>\n",
       "      <td>104.737000</td>\n",
       "      <td>103.988000</td>\n",
       "      <td>103.860000</td>\n",
       "      <td>NaN</td>\n",
       "      <td>NaN</td>\n",
       "      <td>NaN</td>\n",
       "      <td>100.612000</td>\n",
       "      <td>10.000000</td>\n",
       "      <td>69.520000</td>\n",
       "      <td>99.560000</td>\n",
       "      <td>1.959000</td>\n",
       "      <td>37.970000</td>\n",
       "      <td>44.555000</td>\n",
       "      <td>31.800000</td>\n",
       "      <td>45.710000</td>\n",
       "      <td>2.806000</td>\n",
       "      <td>21.574000</td>\n",
       "      <td>30.500000</td>\n",
       "      <td>10.940000</td>\n",
       "      <td>24.490000</td>\n",
       "      <td>6.960000</td>\n",
       "      <td>1.620000</td>\n",
       "      <td>0.050000</td>\n",
       "      <td>NaN</td>\n",
       "      <td>NaN</td>\n",
       "      <td>53.840000</td>\n",
       "      <td>103.985000</td>\n",
       "      <td>NaN</td>\n",
       "      <td>NaN</td>\n",
       "    </tr>\n",
       "  </tbody>\n",
       "</table>\n",
       "</div>"
      ],
      "text/plain": [
       "                 DE           ATE          COMP         FEGL          SIGL  \\\n",
       "count  23099.000000  23099.000000  23099.000000  10705.00000  10705.000000   \n",
       "mean      81.975156     88.030662      6.055507     44.43489     31.013164   \n",
       "std       78.766697     79.037422      5.867576     14.31930     21.130151   \n",
       "min        0.000000      0.250000      0.010000      0.10000      0.109800   \n",
       "25%       24.000000     30.000000      2.000000     34.33330      8.250000   \n",
       "50%       62.000000     67.400000      5.020000     41.92790     35.537100   \n",
       "75%      116.000000    122.000000      8.950000     57.83170     48.084900   \n",
       "max      700.800000    701.250000    171.650000     69.74270     98.976700   \n",
       "\n",
       "                PGL          ALGL          MNGL        MNOGL          PFGL  \\\n",
       "count  10705.000000  10705.000000  10705.000000  1103.000000  10702.000000   \n",
       "mean       0.048511      1.488042      0.530782     0.572962      2.310193   \n",
       "std        0.087775      2.097498      2.399229     2.089552      4.252459   \n",
       "min        0.005000      0.047900      0.002000     0.010000     -0.342000   \n",
       "25%        0.018700      0.411000      0.010000     0.019100      0.509600   \n",
       "50%        0.031000      0.845300      0.015300     0.098000      1.128050   \n",
       "75%        0.054000      1.783600      0.113100     0.420550      2.474400   \n",
       "max        4.649700     34.731700     36.586300    32.149900     45.529200   \n",
       "\n",
       "               TIGL          MGGL          CAGL         FOGL      Fe3O4GL  \\\n",
       "count  10470.000000  10470.000000  10470.000000  1256.000000  1732.000000   \n",
       "mean       0.075845      0.242382      0.319462     0.776982     1.262974   \n",
       "std        0.138378      1.681705      2.627061     0.699286     2.327258   \n",
       "min        0.002100      0.010000      0.003100     0.100000     0.067300   \n",
       "25%        0.019300      0.010200      0.010000     0.396950     0.373525   \n",
       "50%        0.038100      0.021900      0.010600     0.682300     0.603650   \n",
       "75%        0.075400      0.065475      0.020100     0.932625     1.072300   \n",
       "max        2.698700     21.100000     34.354600     8.047500    26.354100   \n",
       "\n",
       "               KGL         NAGL        CUGL  MNO2GL  NIGL            G1  \\\n",
       "count  1103.000000  1103.000000  492.000000     0.0   0.0  10710.000000   \n",
       "mean      0.038009     0.101426    0.011534     NaN   NaN     37.466067   \n",
       "std       0.155949     0.017186    0.003097     NaN   NaN     26.379180   \n",
       "min       0.010000     0.100000    0.010000     NaN   NaN      0.000000   \n",
       "25%       0.010000     0.100000    0.010000     NaN   NaN     16.183225   \n",
       "50%       0.011400     0.100000    0.010000     NaN   NaN     30.500000   \n",
       "75%       0.022700     0.100000    0.011600     NaN   NaN     56.777000   \n",
       "max       4.169800     0.643500    0.029400     NaN   NaN    100.000000   \n",
       "\n",
       "                 G2            G3           G4           G5   G6   G7   G8  \\\n",
       "count  10475.000000  10214.000000  7666.000000  3018.000000  0.0  0.0  0.0   \n",
       "mean      14.534468      8.924427    38.072476    44.558941  NaN  NaN  NaN   \n",
       "std       10.107319      6.291866    22.292735    21.084033  NaN  NaN  NaN   \n",
       "min        0.000000      0.000000     0.000000     0.664000  NaN  NaN  NaN   \n",
       "25%        8.600000      4.809425    19.400000    29.584750  NaN  NaN  NaN   \n",
       "50%       13.030000      8.039550    37.480000    44.544500  NaN  NaN  NaN   \n",
       "75%       18.330000     11.400000    54.300000    60.140250  NaN  NaN  NaN   \n",
       "max      100.000000     69.200000    97.900000    94.379000  NaN  NaN  NaN   \n",
       "\n",
       "                FE1           SI1            P1           AL1           MN1  \\\n",
       "count  10692.000000  10692.000000  10692.000000  10692.000000  10692.000000   \n",
       "mean      49.710692     22.980898      0.050748      1.521610      0.697903   \n",
       "std       15.534615     22.057416      0.087771      2.481242      3.212746   \n",
       "min        0.670000      0.100000      0.005000      0.010000      0.002000   \n",
       "25%       37.710000      2.370000      0.017000      0.260000      0.010000   \n",
       "50%       53.590000     15.743500      0.030000      0.550000      0.014000   \n",
       "75%       63.312500     42.065000      0.058000      1.710000      0.092000   \n",
       "max       70.150000     98.000000      4.540000     35.090000     42.564000   \n",
       "\n",
       "              MNO1           PF1           TI1           MG1           CA1  \\\n",
       "count  1100.000000  10692.000000  10457.000000  10457.000000  10457.000000   \n",
       "mean      0.669609      2.549054      0.068282      0.242693      0.322942   \n",
       "std       3.016890      4.444337      0.134003      1.690433      2.645322   \n",
       "min       0.010000     -0.590000      0.002000      0.007300      0.003000   \n",
       "25%       0.020000      0.360000      0.016000      0.010000      0.010000   \n",
       "50%       0.070000      1.040000      0.034000      0.020000      0.010000   \n",
       "75%       0.270000      3.270000      0.068000      0.066000      0.020000   \n",
       "max      43.200000     45.530000      2.869000     21.100000     34.400000   \n",
       "\n",
       "               FO1      Fe3O4_1           K1          NA1         CU1  MNO2_1  \\\n",
       "count  1253.000000  1745.000000  1100.000000  1100.000000  491.000000     0.0   \n",
       "mean      0.892610     1.354961     0.034245     0.101082    0.011894     NaN   \n",
       "std       0.801951     2.229568     0.173857     0.011589    0.005372     NaN   \n",
       "min       0.100000     0.067300     0.010000     0.100000    0.010000     NaN   \n",
       "25%       0.470000     0.400000     0.010000     0.100000    0.010000     NaN   \n",
       "50%       0.770000     0.700000     0.010000     0.100000    0.010000     NaN   \n",
       "75%       1.070000     1.200000     0.020000     0.100000    0.010000     NaN   \n",
       "max       9.010000    22.690000     5.210000     0.420000    0.060000     NaN   \n",
       "\n",
       "       NI1           FE2           SI2            P2           AL2  \\\n",
       "count  0.0  10481.000000  10481.000000  10481.000000  10481.000000   \n",
       "mean   NaN     52.503875     19.262774      0.055207      1.295513   \n",
       "std    NaN     14.441312     19.420556      0.093846      2.059143   \n",
       "min    NaN      0.100000      0.100000      0.005000      0.038600   \n",
       "25%    NaN     43.600000      2.730000      0.021000      0.340000   \n",
       "50%    NaN     56.900000     12.450000      0.035000      0.650000   \n",
       "75%    NaN     64.300000     32.420000      0.062000      1.410000   \n",
       "max    NaN     69.850000     97.680000      4.690000     37.550000   \n",
       "\n",
       "                MN2         MNO2          PF2           TI2           MG2  \\\n",
       "count  10481.000000  1104.000000  10479.00000  10481.000000  10481.000000   \n",
       "mean       0.712945     0.766522      2.44792      0.076299      0.233972   \n",
       "std        2.978625     2.772749      4.31060      0.135690      1.659563   \n",
       "min        0.002000     0.010000     -0.63000      0.002000      0.007300   \n",
       "25%        0.010000     0.020000      0.51000      0.020000      0.010000   \n",
       "50%        0.018000     0.120000      1.12000      0.041000      0.020000   \n",
       "75%        0.136000     0.420000      2.72000      0.080000      0.067000   \n",
       "max       37.210000    36.600000     45.52000      4.620000     21.100000   \n",
       "\n",
       "                CA2          FO2      Fe3O4_2           K2          NA2  \\\n",
       "count  10481.000000  1257.000000  1744.000000  1104.000000  1104.000000   \n",
       "mean       0.306897     0.882498     1.384628     0.035842     0.100761   \n",
       "std        2.587451     0.915475     2.738027     0.147194     0.005820   \n",
       "min        0.003000     0.100000     0.067300     0.010000     0.100000   \n",
       "25%        0.010000     0.350000     0.400000     0.010000     0.100000   \n",
       "50%        0.010000     0.760000     0.700000     0.010000     0.100000   \n",
       "75%        0.020000     1.110000     1.100000     0.020000     0.100000   \n",
       "max       32.400000    11.760000    32.270000     4.090000     0.190000   \n",
       "\n",
       "              CU2  MNO2_2  NI2           FE3          SI3            P3  \\\n",
       "count  493.000000     0.0  0.0  10151.000000  10151.00000  10151.000000   \n",
       "mean     0.011988     NaN  NaN     47.332874     26.89345      0.057333   \n",
       "std      0.005494     NaN  NaN     14.432174     20.67432      0.074189   \n",
       "min      0.010000     NaN  NaN      0.100000      0.10000      0.005000   \n",
       "25%      0.010000     NaN  NaN     37.950000      7.97500      0.023000   \n",
       "50%      0.010000     NaN  NaN     49.160000     24.30000      0.040000   \n",
       "75%      0.010000     NaN  NaN     59.380000     41.25000      0.065500   \n",
       "max      0.050000     NaN  NaN     69.500000     97.85000      2.080000   \n",
       "\n",
       "                AL3           MN3        MNO3           PF3           TI3  \\\n",
       "count  10151.000000  10151.000000  843.000000  10150.000000  10151.000000   \n",
       "mean       1.460803      0.601105    0.711127      2.365175      0.086682   \n",
       "std        2.504942      2.461907    2.210610      3.732326      0.197814   \n",
       "min        0.060000      0.002000    0.010000     -1.740000      0.002000   \n",
       "25%        0.410000      0.010000    0.030000      0.630000      0.020000   \n",
       "50%        0.760000      0.020000    0.100000      1.230000      0.040000   \n",
       "75%        1.490000      0.141000    0.430000      2.570000      0.081000   \n",
       "max       41.580000     36.128000   31.300000     43.480000      9.580000   \n",
       "\n",
       "                MG3           CA3         FO3      Fe3O4_3          K3  \\\n",
       "count  10151.000000  10151.000000  996.000000  1679.000000  843.000000   \n",
       "mean       0.173035      0.220813    1.085693     1.350750    0.034947   \n",
       "std        1.283438      2.054522    1.621061     3.534596    0.119811   \n",
       "min        0.007300      0.003000    0.100000     0.067300    0.010000   \n",
       "25%        0.010000      0.010000    0.397500     0.400000    0.010000   \n",
       "50%        0.019000      0.010000    0.850000     0.600000    0.010000   \n",
       "75%        0.060000      0.020000    1.240000     0.995000    0.030000   \n",
       "max       20.049000     32.996000   18.660000    56.510000    2.930000   \n",
       "\n",
       "              NA3         CU3  MNO2_3  NI3          FE4          SI4  \\\n",
       "count  843.000000  232.000000     0.0  0.0  7676.000000  7676.000000   \n",
       "mean     0.101257    0.013405     NaN  NaN    38.124397    40.149662   \n",
       "std      0.010803    0.006314     NaN  NaN    17.990653    27.319874   \n",
       "min      0.100000    0.010000     NaN  NaN     2.890000     0.100000   \n",
       "25%      0.100000    0.010000     NaN  NaN    23.492500     9.677500   \n",
       "50%      0.100000    0.010000     NaN  NaN    33.815000    47.105000   \n",
       "75%      0.100000    0.020000     NaN  NaN    56.090000    63.300000   \n",
       "max      0.290000    0.040000     NaN  NaN    69.310000    93.820000   \n",
       "\n",
       "                P4          AL4          MN4        MNO4          PF4  \\\n",
       "count  7676.000000  7676.000000  7676.000000  843.000000  7676.000000   \n",
       "mean      0.043752     1.871017     0.308742    0.413832     2.112373   \n",
       "std       0.053300     2.778486     1.329460    1.071601     3.608437   \n",
       "min       0.005000     0.060000     0.002000    0.010000    -0.120000   \n",
       "25%       0.017000     0.580000     0.010000    0.010000     0.530000   \n",
       "50%       0.029000     1.070000     0.013000    0.070000     1.070000   \n",
       "75%       0.050000     2.040000     0.095000    0.350000     2.152500   \n",
       "max       1.393000    32.690000    26.301000   16.200000    41.800000   \n",
       "\n",
       "               TI4          MG4          CA4         FO4      Fe3O4_4  \\\n",
       "count  7441.000000  7441.000000  7441.000000  996.000000  1746.000000   \n",
       "mean      0.100920     0.215945     0.246000    0.590743     0.900472   \n",
       "std       0.226163     1.435079     2.041804    0.470025     2.125180   \n",
       "min       0.002000     0.010000     0.003000    0.100000     0.067300   \n",
       "25%       0.020000     0.010000     0.010000    0.200000     0.300000   \n",
       "50%       0.040000     0.020000     0.010000    0.510000     0.400000   \n",
       "75%       0.083000     0.076000     0.017000    0.800000     0.700000   \n",
       "max       2.597000    19.000000    29.354000    3.760000    29.920000   \n",
       "\n",
       "               K4         NA4         CU4  MNO2_4  NI4          FE5  \\\n",
       "count  843.000000  843.000000  232.000000     0.0  0.0  3018.000000   \n",
       "mean     0.043321    0.102159    0.012155     NaN  NaN    37.571862   \n",
       "std      0.179125    0.025429    0.004800     NaN  NaN    15.831789   \n",
       "min      0.010000    0.100000    0.010000     NaN  NaN     0.100000   \n",
       "25%      0.010000    0.100000    0.010000     NaN  NaN    25.702500   \n",
       "50%      0.020000    0.100000    0.010000     NaN  NaN    33.665000   \n",
       "75%      0.030000    0.100000    0.010000     NaN  NaN    51.187500   \n",
       "max      4.230000    0.790000    0.030000     NaN  NaN    68.830000   \n",
       "\n",
       "               SI5           P5          AL5          MN5  MNO5          PF5  \\\n",
       "count  3018.000000  3018.000000  3018.000000  3018.000000   0.0  3018.000000   \n",
       "mean     41.384291     0.059122     1.897353     0.342264   NaN     2.232495   \n",
       "std      24.963573     0.118324     2.452717     1.316772   NaN     2.477057   \n",
       "min       0.100000     0.010000     0.100000     0.010000   NaN     0.100000   \n",
       "25%      16.287500     0.021000     0.642500     0.010000   NaN     0.780000   \n",
       "50%      48.315000     0.036000     1.150000     0.026000   NaN     1.400000   \n",
       "75%      60.490000     0.060000     2.110000     0.130000   NaN     2.480000   \n",
       "max      99.250000     2.988000    29.160000    23.142000   NaN    15.820000   \n",
       "\n",
       "               TI5          MG5          CA5  FO5  Fe3O4_5   K5  NA5  CU5  \\\n",
       "count  2783.000000  2783.000000  2783.000000  0.0      0.0  0.0  0.0  0.0   \n",
       "mean      0.095656     0.047313     0.034745  NaN      NaN  NaN  NaN  NaN   \n",
       "std       0.191760     0.098373     0.071409  NaN      NaN  NaN  NaN  NaN   \n",
       "min       0.010000     0.010000     0.010000  NaN      NaN  NaN  NaN  NaN   \n",
       "25%       0.018000     0.010000     0.010000  NaN      NaN  NaN  NaN  NaN   \n",
       "50%       0.039000     0.022000     0.014000  NaN      NaN  NaN  NaN  NaN   \n",
       "75%       0.082000     0.055000     0.031000  NaN      NaN  NaN  NaN  NaN   \n",
       "max       2.017000     2.626000     1.001000  NaN      NaN  NaN  NaN  NaN   \n",
       "\n",
       "       MNO2_5  NI5  FE6  SI6   P6  AL6  MN6  MNO6  PF6  TI6  MG6  CA6  FO6  \\\n",
       "count     0.0  0.0  0.0  0.0  0.0  0.0  0.0   0.0  0.0  0.0  0.0  0.0  0.0   \n",
       "mean      NaN  NaN  NaN  NaN  NaN  NaN  NaN   NaN  NaN  NaN  NaN  NaN  NaN   \n",
       "std       NaN  NaN  NaN  NaN  NaN  NaN  NaN   NaN  NaN  NaN  NaN  NaN  NaN   \n",
       "min       NaN  NaN  NaN  NaN  NaN  NaN  NaN   NaN  NaN  NaN  NaN  NaN  NaN   \n",
       "25%       NaN  NaN  NaN  NaN  NaN  NaN  NaN   NaN  NaN  NaN  NaN  NaN  NaN   \n",
       "50%       NaN  NaN  NaN  NaN  NaN  NaN  NaN   NaN  NaN  NaN  NaN  NaN  NaN   \n",
       "75%       NaN  NaN  NaN  NaN  NaN  NaN  NaN   NaN  NaN  NaN  NaN  NaN  NaN   \n",
       "max       NaN  NaN  NaN  NaN  NaN  NaN  NaN   NaN  NaN  NaN  NaN  NaN  NaN   \n",
       "\n",
       "       Fe3O4_6   K6  NA6  CU6  MNO2_6  NI6  FE7  SI7   P7  AL7  MN7  MNO7  \\\n",
       "count      0.0  0.0  0.0  0.0     0.0  0.0  0.0  0.0  0.0  0.0  0.0   0.0   \n",
       "mean       NaN  NaN  NaN  NaN     NaN  NaN  NaN  NaN  NaN  NaN  NaN   NaN   \n",
       "std        NaN  NaN  NaN  NaN     NaN  NaN  NaN  NaN  NaN  NaN  NaN   NaN   \n",
       "min        NaN  NaN  NaN  NaN     NaN  NaN  NaN  NaN  NaN  NaN  NaN   NaN   \n",
       "25%        NaN  NaN  NaN  NaN     NaN  NaN  NaN  NaN  NaN  NaN  NaN   NaN   \n",
       "50%        NaN  NaN  NaN  NaN     NaN  NaN  NaN  NaN  NaN  NaN  NaN   NaN   \n",
       "75%        NaN  NaN  NaN  NaN     NaN  NaN  NaN  NaN  NaN  NaN  NaN   NaN   \n",
       "max        NaN  NaN  NaN  NaN     NaN  NaN  NaN  NaN  NaN  NaN  NaN   NaN   \n",
       "\n",
       "       PF7  TI7  MG7  CA7  FO7  Fe3O4_7   K7  NA7  CU7  MNO2_7  NI7  FE8  SI8  \\\n",
       "count  0.0  0.0  0.0  0.0  0.0      0.0  0.0  0.0  0.0     0.0  0.0  0.0  0.0   \n",
       "mean   NaN  NaN  NaN  NaN  NaN      NaN  NaN  NaN  NaN     NaN  NaN  NaN  NaN   \n",
       "std    NaN  NaN  NaN  NaN  NaN      NaN  NaN  NaN  NaN     NaN  NaN  NaN  NaN   \n",
       "min    NaN  NaN  NaN  NaN  NaN      NaN  NaN  NaN  NaN     NaN  NaN  NaN  NaN   \n",
       "25%    NaN  NaN  NaN  NaN  NaN      NaN  NaN  NaN  NaN     NaN  NaN  NaN  NaN   \n",
       "50%    NaN  NaN  NaN  NaN  NaN      NaN  NaN  NaN  NaN     NaN  NaN  NaN  NaN   \n",
       "75%    NaN  NaN  NaN  NaN  NaN      NaN  NaN  NaN  NaN     NaN  NaN  NaN  NaN   \n",
       "max    NaN  NaN  NaN  NaN  NaN      NaN  NaN  NaN  NaN     NaN  NaN  NaN  NaN   \n",
       "\n",
       "        P8  AL8  MN8  MNO8  PF8  TI8  MG8  CA8  FO8  Fe3O4_8   K8  NA8  CU8  \\\n",
       "count  0.0  0.0  0.0   0.0  0.0  0.0  0.0  0.0  0.0      0.0  0.0  0.0  0.0   \n",
       "mean   NaN  NaN  NaN   NaN  NaN  NaN  NaN  NaN  NaN      NaN  NaN  NaN  NaN   \n",
       "std    NaN  NaN  NaN   NaN  NaN  NaN  NaN  NaN  NaN      NaN  NaN  NaN  NaN   \n",
       "min    NaN  NaN  NaN   NaN  NaN  NaN  NaN  NaN  NaN      NaN  NaN  NaN  NaN   \n",
       "25%    NaN  NaN  NaN   NaN  NaN  NaN  NaN  NaN  NaN      NaN  NaN  NaN  NaN   \n",
       "50%    NaN  NaN  NaN   NaN  NaN  NaN  NaN  NaN  NaN      NaN  NaN  NaN  NaN   \n",
       "75%    NaN  NaN  NaN   NaN  NaN  NaN  NaN  NaN  NaN      NaN  NaN  NaN  NaN   \n",
       "max    NaN  NaN  NaN   NaN  NaN  NaN  NaN  NaN  NaN      NaN  NaN  NaN  NaN   \n",
       "\n",
       "       MNO2_8  NI8           FQ1           FQ2           FQ3          FQ4  \\\n",
       "count     0.0  0.0  10692.000000  10481.000000  10151.000000  7676.000000   \n",
       "mean      NaN  NaN     99.753138     99.727788     99.768072    99.671838   \n",
       "std       NaN  NaN      1.021339      1.055852      1.017625     1.072297   \n",
       "min       NaN  NaN     90.793000     61.786000     92.494000    92.145000   \n",
       "25%       NaN  NaN     99.203000     99.195000     99.185500    99.036750   \n",
       "50%       NaN  NaN     99.830500     99.824000     99.826000    99.745500   \n",
       "75%       NaN  NaN    100.333000    100.297000    100.371000   100.323000   \n",
       "max       NaN  NaN    104.523000    103.962000    104.737000   103.988000   \n",
       "\n",
       "               FQ5  FQ6  FQ7  FQ8          FGRA     NUM_SACOS         FEGLA  \\\n",
       "count  3018.000000  0.0  0.0  0.0  10710.000000  23099.000000  15814.000000   \n",
       "mean     99.971911  NaN  NaN  NaN    100.000626      2.017447     43.118976   \n",
       "std       1.019395  NaN  NaN  NaN      0.006598      1.522652     14.086697   \n",
       "min      95.734000  NaN  NaN  NaN     99.990000      0.000000      0.100000   \n",
       "25%      99.342000  NaN  NaN  NaN    100.000000      1.000000     33.880000   \n",
       "50%      99.952000  NaN  NaN  NaN    100.000000      1.000000     41.182000   \n",
       "75%     100.674750  NaN  NaN  NaN    100.000000      3.000000     54.777500   \n",
       "max     103.860000  NaN  NaN  NaN    100.612000     10.000000     69.520000   \n",
       "\n",
       "              SIGLA          PGLA         ALGLA         MNGLA      MNOGLA  \\\n",
       "count  15814.000000  15814.000000  15471.000000  15444.000000  433.000000   \n",
       "mean      31.408152      0.053996      1.722102      1.048645    1.275081   \n",
       "std       20.871417      0.059639      2.783081      3.932811    4.359670   \n",
       "min        0.080000      0.004000      0.010000      0.002000    0.010000   \n",
       "25%       10.172500      0.023000      0.460000      0.010000    0.020000   \n",
       "50%       35.200000      0.037000      0.920000      0.040000    0.120000   \n",
       "75%       48.050000      0.063000      1.940000      0.227000    0.470000   \n",
       "max       99.560000      1.959000     37.970000     44.555000   31.800000   \n",
       "\n",
       "              PFGLA         TIGLA         MGGLA         CAGLA        FOGLA  \\\n",
       "count  15395.000000  15159.000000  15159.000000  15159.000000  1895.000000   \n",
       "mean       2.924194      0.080711      0.281745      0.364870     0.712919   \n",
       "std        4.925195      0.171367      1.998439      2.943218     0.835338   \n",
       "min       -0.850000      0.002000      0.007000      0.003000     0.100000   \n",
       "25%        0.710000      0.015000      0.010000      0.010000     0.210000   \n",
       "50%        1.560000      0.035000      0.016000      0.010000     0.480000   \n",
       "75%        3.120000      0.077000      0.060000      0.019000     0.870000   \n",
       "max       45.710000      2.806000     21.574000     30.500000    10.940000   \n",
       "\n",
       "          Fe3O4GLA         KGLA        NAGLA       CUGLA  MNO2GLA  NIGLA  \\\n",
       "count  4291.000000  1323.000000  1323.000000  294.000000      0.0    0.0   \n",
       "mean      0.818960     0.134633     0.051731    0.015136      NaN    NaN   \n",
       "std       1.121024     0.528829     0.068045    0.009374      NaN    NaN   \n",
       "min       0.067300     0.010000     0.010000    0.010000      NaN    NaN   \n",
       "25%       0.400000     0.010000     0.010000    0.010000      NaN    NaN   \n",
       "50%       0.600000     0.020000     0.020000    0.010000      NaN    NaN   \n",
       "75%       0.900000     0.060000     0.100000    0.020000      NaN    NaN   \n",
       "max      24.490000     6.960000     1.620000    0.050000      NaN    NaN   \n",
       "\n",
       "               HGLA         FQGLA  FQGL  STATUS  \n",
       "count  10475.000000  15814.000000   0.0     0.0  \n",
       "mean       5.696047     99.721445   NaN     NaN  \n",
       "std        4.524893      2.106662   NaN     NaN  \n",
       "min        0.000000     46.543000   NaN     NaN  \n",
       "25%        1.890000     99.372000   NaN     NaN  \n",
       "50%        5.280000     99.936000   NaN     NaN  \n",
       "75%        8.425000    100.437000   NaN     NaN  \n",
       "max       53.840000    103.985000   NaN     NaN  "
      ]
     },
     "execution_count": 13,
     "metadata": {},
     "output_type": "execute_result"
    }
   ],
   "source": [
    "fso.describe()"
   ]
  },
  {
   "cell_type": "markdown",
   "metadata": {},
   "source": [
    "### Get a brief overview of data structure: (rown and columns)"
   ]
  },
  {
   "cell_type": "code",
   "execution_count": 14,
   "metadata": {},
   "outputs": [
    {
     "data": {
      "text/plain": [
       "(23099, 226)"
      ]
     },
     "execution_count": 14,
     "metadata": {},
     "output_type": "execute_result"
    }
   ],
   "source": [
    "fso.shape"
   ]
  },
  {
   "cell_type": "code",
   "execution_count": 15,
   "metadata": {},
   "outputs": [
    {
     "data": {
      "text/plain": [
       "PROJETO                 object\n",
       "TIPO_FURO               object\n",
       "Cliente                 object\n",
       "FURO                    object\n",
       "NA                      object\n",
       "DE                     float64\n",
       "ATE                    float64\n",
       "COMP                   float64\n",
       "TIPO                    object\n",
       "CLV                     object\n",
       "CLV_ORI                 object\n",
       "CLM                     object\n",
       "CLI                     object\n",
       "FEGL                   float64\n",
       "SIGL                   float64\n",
       "PGL                    float64\n",
       "ALGL                   float64\n",
       "MNGL                   float64\n",
       "MNOGL                  float64\n",
       "PFGL                   float64\n",
       "TIGL                   float64\n",
       "MGGL                   float64\n",
       "CAGL                   float64\n",
       "FOGL                   float64\n",
       "Fe3O4GL                float64\n",
       "KGL                    float64\n",
       "NAGL                   float64\n",
       "CUGL                   float64\n",
       "MNO2GL                 float64\n",
       "NIGL                   float64\n",
       "G1                     float64\n",
       "G2                     float64\n",
       "G3                     float64\n",
       "G4                     float64\n",
       "G5                     float64\n",
       "G6                     float64\n",
       "G7                     float64\n",
       "G8                     float64\n",
       "FE1                    float64\n",
       "SI1                    float64\n",
       "P1                     float64\n",
       "AL1                    float64\n",
       "MN1                    float64\n",
       "MNO1                   float64\n",
       "PF1                    float64\n",
       "TI1                    float64\n",
       "MG1                    float64\n",
       "CA1                    float64\n",
       "FO1                    float64\n",
       "Fe3O4_1                float64\n",
       "K1                     float64\n",
       "NA1                    float64\n",
       "CU1                    float64\n",
       "MNO2_1                 float64\n",
       "NI1                    float64\n",
       "FE2                    float64\n",
       "SI2                    float64\n",
       "P2                     float64\n",
       "AL2                    float64\n",
       "MN2                    float64\n",
       "MNO2                   float64\n",
       "PF2                    float64\n",
       "TI2                    float64\n",
       "MG2                    float64\n",
       "CA2                    float64\n",
       "FO2                    float64\n",
       "Fe3O4_2                float64\n",
       "K2                     float64\n",
       "NA2                    float64\n",
       "CU2                    float64\n",
       "MNO2_2                 float64\n",
       "NI2                    float64\n",
       "FE3                    float64\n",
       "SI3                    float64\n",
       "P3                     float64\n",
       "AL3                    float64\n",
       "MN3                    float64\n",
       "MNO3                   float64\n",
       "PF3                    float64\n",
       "TI3                    float64\n",
       "MG3                    float64\n",
       "CA3                    float64\n",
       "FO3                    float64\n",
       "Fe3O4_3                float64\n",
       "K3                     float64\n",
       "NA3                    float64\n",
       "CU3                    float64\n",
       "MNO2_3                 float64\n",
       "NI3                    float64\n",
       "FE4                    float64\n",
       "SI4                    float64\n",
       "P4                     float64\n",
       "AL4                    float64\n",
       "MN4                    float64\n",
       "MNO4                   float64\n",
       "PF4                    float64\n",
       "TI4                    float64\n",
       "MG4                    float64\n",
       "CA4                    float64\n",
       "FO4                    float64\n",
       "Fe3O4_4                float64\n",
       "K4                     float64\n",
       "NA4                    float64\n",
       "CU4                    float64\n",
       "MNO2_4                 float64\n",
       "NI4                    float64\n",
       "FE5                    float64\n",
       "SI5                    float64\n",
       "P5                     float64\n",
       "AL5                    float64\n",
       "MN5                    float64\n",
       "MNO5                   float64\n",
       "PF5                    float64\n",
       "TI5                    float64\n",
       "MG5                    float64\n",
       "CA5                    float64\n",
       "FO5                    float64\n",
       "Fe3O4_5                float64\n",
       "K5                     float64\n",
       "NA5                    float64\n",
       "CU5                    float64\n",
       "MNO2_5                 float64\n",
       "NI5                    float64\n",
       "FE6                    float64\n",
       "SI6                    float64\n",
       "P6                     float64\n",
       "AL6                    float64\n",
       "MN6                    float64\n",
       "MNO6                   float64\n",
       "PF6                    float64\n",
       "TI6                    float64\n",
       "MG6                    float64\n",
       "CA6                    float64\n",
       "FO6                    float64\n",
       "Fe3O4_6                float64\n",
       "K6                     float64\n",
       "NA6                    float64\n",
       "CU6                    float64\n",
       "MNO2_6                 float64\n",
       "NI6                    float64\n",
       "FE7                    float64\n",
       "SI7                    float64\n",
       "P7                     float64\n",
       "AL7                    float64\n",
       "MN7                    float64\n",
       "MNO7                   float64\n",
       "PF7                    float64\n",
       "TI7                    float64\n",
       "MG7                    float64\n",
       "CA7                    float64\n",
       "FO7                    float64\n",
       "Fe3O4_7                float64\n",
       "K7                     float64\n",
       "NA7                    float64\n",
       "CU7                    float64\n",
       "MNO2_7                 float64\n",
       "NI7                    float64\n",
       "FE8                    float64\n",
       "SI8                    float64\n",
       "P8                     float64\n",
       "AL8                    float64\n",
       "MN8                    float64\n",
       "MNO8                   float64\n",
       "PF8                    float64\n",
       "TI8                    float64\n",
       "MG8                    float64\n",
       "CA8                    float64\n",
       "FO8                    float64\n",
       "Fe3O4_8                float64\n",
       "K8                     float64\n",
       "NA8                    float64\n",
       "CU8                    float64\n",
       "MNO2_8                 float64\n",
       "NI8                    float64\n",
       "FQ1                    float64\n",
       "FQ2                    float64\n",
       "FQ3                    float64\n",
       "FQ4                    float64\n",
       "FQ5                    float64\n",
       "FQ6                    float64\n",
       "FQ7                    float64\n",
       "FQ8                    float64\n",
       "FGRA                   float64\n",
       "REC_AM                  object\n",
       "FLX_AN                  object\n",
       "FLX_AN_OR               object\n",
       "DA_ANA_FIS              object\n",
       "LAB_FIS                 object\n",
       "DA_ANA_QUI              object\n",
       "LAB_QUI                 object\n",
       "DA_SAM                  object\n",
       "DA_PLANO                object\n",
       "RESP_PLANO              object\n",
       "RESP_COLETA             object\n",
       "RESP_COLETA_NOVO        object\n",
       "NUM_SACOS                int64\n",
       "PERC_MATERIAL           object\n",
       "D_AGRU                  object\n",
       "GLOBAL                  object\n",
       "MASS_T                  object\n",
       "PARENT_SAMPLE           object\n",
       "TIPO_AMOST              object\n",
       "FEGLA                  float64\n",
       "SIGLA                  float64\n",
       "PGLA                   float64\n",
       "ALGLA                  float64\n",
       "MNGLA                  float64\n",
       "MNOGLA                 float64\n",
       "PFGLA                  float64\n",
       "TIGLA                  float64\n",
       "MGGLA                  float64\n",
       "CAGLA                  float64\n",
       "FOGLA                  float64\n",
       "Fe3O4GLA               float64\n",
       "KGLA                   float64\n",
       "NAGLA                  float64\n",
       "CUGLA                  float64\n",
       "MNO2GLA                float64\n",
       "NIGLA                  float64\n",
       "HGLA                   float64\n",
       "FQGLA                  float64\n",
       "FQGL                   float64\n",
       "STATUS                 float64\n",
       "Estratigrafia           object\n",
       "QAQC_Status_Padrao      object\n",
       "QAQC_Status_Pareada     object\n",
       "dtype: object"
      ]
     },
     "execution_count": 15,
     "metadata": {},
     "output_type": "execute_result"
    }
   ],
   "source": [
    "fso.dtypes"
   ]
  },
  {
   "cell_type": "code",
   "execution_count": 16,
   "metadata": {},
   "outputs": [
    {
     "data": {
      "text/plain": [
       "Index(['PROJETO', 'TIPO_FURO', 'Cliente', 'FURO', 'NA', 'DE', 'ATE', 'COMP',\n",
       "       'TIPO', 'CLV',\n",
       "       ...\n",
       "       'CUGLA', 'MNO2GLA', 'NIGLA', 'HGLA', 'FQGLA', 'FQGL', 'STATUS',\n",
       "       'Estratigrafia', 'QAQC_Status_Padrao', 'QAQC_Status_Pareada'],\n",
       "      dtype='object', length=226)"
      ]
     },
     "execution_count": 16,
     "metadata": {},
     "output_type": "execute_result"
    }
   ],
   "source": [
    "fso.columns"
   ]
  },
  {
   "cell_type": "code",
   "execution_count": 17,
   "metadata": {},
   "outputs": [],
   "source": [
    "df_gl = fso[[\"COMP\",\"CLI\",\"FEGL\", \"FEGLA\",\"SIGL\",\"G1\"]]"
   ]
  },
  {
   "cell_type": "code",
   "execution_count": 18,
   "metadata": {},
   "outputs": [
    {
     "data": {
      "text/plain": [
       "Index(['COMP', 'CLI', 'FEGL', 'FEGLA', 'SIGL', 'G1'], dtype='object')"
      ]
     },
     "execution_count": 18,
     "metadata": {},
     "output_type": "execute_result"
    }
   ],
   "source": [
    "df_gl.columns"
   ]
  },
  {
   "cell_type": "code",
   "execution_count": 19,
   "metadata": {
    "scrolled": true
   },
   "outputs": [
    {
     "data": {
      "text/html": [
       "<div>\n",
       "<style scoped>\n",
       "    .dataframe tbody tr th:only-of-type {\n",
       "        vertical-align: middle;\n",
       "    }\n",
       "\n",
       "    .dataframe tbody tr th {\n",
       "        vertical-align: top;\n",
       "    }\n",
       "\n",
       "    .dataframe thead th {\n",
       "        text-align: right;\n",
       "    }\n",
       "</style>\n",
       "<table border=\"1\" class=\"dataframe\">\n",
       "  <thead>\n",
       "    <tr style=\"text-align: right;\">\n",
       "      <th></th>\n",
       "      <th>COMP</th>\n",
       "      <th>CLI</th>\n",
       "      <th>FEGL</th>\n",
       "      <th>FEGLA</th>\n",
       "      <th>SIGL</th>\n",
       "      <th>G1</th>\n",
       "    </tr>\n",
       "  </thead>\n",
       "  <tbody>\n",
       "    <tr>\n",
       "      <th>0</th>\n",
       "      <td>10.00</td>\n",
       "      <td>HF</td>\n",
       "      <td>68.0093</td>\n",
       "      <td>67.76</td>\n",
       "      <td>1.2970</td>\n",
       "      <td>24.2149</td>\n",
       "    </tr>\n",
       "    <tr>\n",
       "      <th>1</th>\n",
       "      <td>10.00</td>\n",
       "      <td>HF</td>\n",
       "      <td>67.1453</td>\n",
       "      <td>67.27</td>\n",
       "      <td>1.5015</td>\n",
       "      <td>34.0163</td>\n",
       "    </tr>\n",
       "    <tr>\n",
       "      <th>2</th>\n",
       "      <td>10.00</td>\n",
       "      <td>HF</td>\n",
       "      <td>62.6861</td>\n",
       "      <td>63.21</td>\n",
       "      <td>7.7310</td>\n",
       "      <td>28.3865</td>\n",
       "    </tr>\n",
       "    <tr>\n",
       "      <th>3</th>\n",
       "      <td>7.33</td>\n",
       "      <td>HF</td>\n",
       "      <td>66.8656</td>\n",
       "      <td>67.14</td>\n",
       "      <td>0.7574</td>\n",
       "      <td>31.7364</td>\n",
       "    </tr>\n",
       "    <tr>\n",
       "      <th>4</th>\n",
       "      <td>7.33</td>\n",
       "      <td>HF</td>\n",
       "      <td>66.2993</td>\n",
       "      <td>66.02</td>\n",
       "      <td>0.8501</td>\n",
       "      <td>18.3176</td>\n",
       "    </tr>\n",
       "  </tbody>\n",
       "</table>\n",
       "</div>"
      ],
      "text/plain": [
       "    COMP CLI     FEGL  FEGLA    SIGL       G1\n",
       "0  10.00  HF  68.0093  67.76  1.2970  24.2149\n",
       "1  10.00  HF  67.1453  67.27  1.5015  34.0163\n",
       "2  10.00  HF  62.6861  63.21  7.7310  28.3865\n",
       "3   7.33  HF  66.8656  67.14  0.7574  31.7364\n",
       "4   7.33  HF  66.2993  66.02  0.8501  18.3176"
      ]
     },
     "execution_count": 19,
     "metadata": {},
     "output_type": "execute_result"
    }
   ],
   "source": [
    "df_gl.head()"
   ]
  },
  {
   "cell_type": "markdown",
   "metadata": {},
   "source": [
    "## Médias ponderadas por comprimento de amostra"
   ]
  },
  {
   "cell_type": "code",
   "execution_count": 20,
   "metadata": {
    "scrolled": true
   },
   "outputs": [],
   "source": [
    "FEGL_AV=df_gl.groupby(\"CLI\").apply(wavg, \"FEGL\", \"COMP\").to_frame()\n",
    "FEGL_AV.rename(columns={0: 'FEGL'},inplace=True)"
   ]
  },
  {
   "cell_type": "code",
   "execution_count": 21,
   "metadata": {},
   "outputs": [],
   "source": [
    "FEGLA_AV=df_gl.groupby(\"CLI\").apply(wavg, \"FEGLA\", \"COMP\").to_frame()\n",
    "FEGLA_AV.rename(columns={0:'FEGLA'},inplace=True)"
   ]
  },
  {
   "cell_type": "code",
   "execution_count": 22,
   "metadata": {},
   "outputs": [
    {
     "data": {
      "text/html": [
       "<div>\n",
       "<style scoped>\n",
       "    .dataframe tbody tr th:only-of-type {\n",
       "        vertical-align: middle;\n",
       "    }\n",
       "\n",
       "    .dataframe tbody tr th {\n",
       "        vertical-align: top;\n",
       "    }\n",
       "\n",
       "    .dataframe thead th {\n",
       "        text-align: right;\n",
       "    }\n",
       "</style>\n",
       "<table border=\"1\" class=\"dataframe\">\n",
       "  <thead>\n",
       "    <tr style=\"text-align: right;\">\n",
       "      <th></th>\n",
       "      <th>FEGL</th>\n",
       "      <th>FEGLA</th>\n",
       "    </tr>\n",
       "    <tr>\n",
       "      <th>CLI</th>\n",
       "      <th></th>\n",
       "      <th></th>\n",
       "    </tr>\n",
       "  </thead>\n",
       "  <tbody>\n",
       "    <tr>\n",
       "      <th>AT</th>\n",
       "      <td>0.000000</td>\n",
       "      <td>0.000000</td>\n",
       "    </tr>\n",
       "    <tr>\n",
       "      <th>CG</th>\n",
       "      <td>57.927651</td>\n",
       "      <td>47.792483</td>\n",
       "    </tr>\n",
       "    <tr>\n",
       "      <th>HC</th>\n",
       "      <td>49.735567</td>\n",
       "      <td>65.409630</td>\n",
       "    </tr>\n",
       "    <tr>\n",
       "      <th>HF</th>\n",
       "      <td>64.150548</td>\n",
       "      <td>64.800598</td>\n",
       "    </tr>\n",
       "    <tr>\n",
       "      <th>IAL</th>\n",
       "      <td>59.437608</td>\n",
       "      <td>59.241265</td>\n",
       "    </tr>\n",
       "    <tr>\n",
       "      <th>IC</th>\n",
       "      <td>14.865509</td>\n",
       "      <td>38.503241</td>\n",
       "    </tr>\n",
       "    <tr>\n",
       "      <th>IF</th>\n",
       "      <td>43.913975</td>\n",
       "      <td>44.996934</td>\n",
       "    </tr>\n",
       "    <tr>\n",
       "      <th>IGO</th>\n",
       "      <td>58.923803</td>\n",
       "      <td>59.171347</td>\n",
       "    </tr>\n",
       "    <tr>\n",
       "      <th>IMN</th>\n",
       "      <td>48.050181</td>\n",
       "      <td>0.000000</td>\n",
       "    </tr>\n",
       "    <tr>\n",
       "      <th>IMNF</th>\n",
       "      <td>21.412500</td>\n",
       "      <td>0.000000</td>\n",
       "    </tr>\n",
       "    <tr>\n",
       "      <th>IN</th>\n",
       "      <td>0.000000</td>\n",
       "      <td>0.000000</td>\n",
       "    </tr>\n",
       "    <tr>\n",
       "      <th>\\N</th>\n",
       "      <td>27.838756</td>\n",
       "      <td>23.969837</td>\n",
       "    </tr>\n",
       "  </tbody>\n",
       "</table>\n",
       "</div>"
      ],
      "text/plain": [
       "           FEGL      FEGLA\n",
       "CLI                       \n",
       "AT     0.000000   0.000000\n",
       "CG    57.927651  47.792483\n",
       "HC    49.735567  65.409630\n",
       "HF    64.150548  64.800598\n",
       "IAL   59.437608  59.241265\n",
       "IC    14.865509  38.503241\n",
       "IF    43.913975  44.996934\n",
       "IGO   58.923803  59.171347\n",
       "IMN   48.050181   0.000000\n",
       "IMNF  21.412500   0.000000\n",
       "IN     0.000000   0.000000\n",
       "\\N    27.838756  23.969837"
      ]
     },
     "execution_count": 22,
     "metadata": {},
     "output_type": "execute_result"
    }
   ],
   "source": [
    "pd.merge(FEGL_AV, FEGLA_AV, on='CLI', how='inner')"
   ]
  },
  {
   "cell_type": "markdown",
   "metadata": {},
   "source": [
    "## configurando padrão de cores para litologias conforme definições da gerência\n"
   ]
  },
  {
   "cell_type": "code",
   "execution_count": 23,
   "metadata": {},
   "outputs": [],
   "source": [
    "litocolor=dict(AT= \"#777777\",CG= \"#00AA00\",HC = \"#EE0000\",HF = \"#EE00DD\",IAL = \"#77AAFF\",IC = \"#004488\", \\\n",
    "               IF = \"#0088FF\",IGO = \"#7766DD\", IMN = \"#660099\",IMNF = \"#000000\",IN = \"#774400\")"
   ]
  },
  {
   "cell_type": "code",
   "execution_count": 24,
   "metadata": {},
   "outputs": [
    {
     "name": "stderr",
     "output_type": "stream",
     "text": [
      "<ipython-input-24-7c1be531df4f>:1: SettingWithCopyWarning: \n",
      "A value is trying to be set on a copy of a slice from a DataFrame\n",
      "\n",
      "See the caveats in the documentation: https://pandas.pydata.org/pandas-docs/stable/user_guide/indexing.html#returning-a-view-versus-a-copy\n",
      "  df_gl2=df_gl.loc[:,:].dropna(how=\"all\", inplace=True)\n"
     ]
    }
   ],
   "source": [
    "df_gl2=df_gl.loc[:,:].dropna(how=\"all\", inplace=True)"
   ]
  },
  {
   "cell_type": "code",
   "execution_count": 25,
   "metadata": {},
   "outputs": [
    {
     "name": "stderr",
     "output_type": "stream",
     "text": [
      "C:\\DADOS\\CONDA3\\lib\\site-packages\\pandas\\core\\indexing.py:1596: SettingWithCopyWarning: \n",
      "A value is trying to be set on a copy of a slice from a DataFrame.\n",
      "Try using .loc[row_indexer,col_indexer] = value instead\n",
      "\n",
      "See the caveats in the documentation: https://pandas.pydata.org/pandas-docs/stable/user_guide/indexing.html#returning-a-view-versus-a-copy\n",
      "  self.obj[key] = _infer_fill_value(value)\n",
      "C:\\DADOS\\CONDA3\\lib\\site-packages\\pandas\\core\\indexing.py:1743: SettingWithCopyWarning: \n",
      "A value is trying to be set on a copy of a slice from a DataFrame.\n",
      "Try using .loc[row_indexer,col_indexer] = value instead\n",
      "\n",
      "See the caveats in the documentation: https://pandas.pydata.org/pandas-docs/stable/user_guide/indexing.html#returning-a-view-versus-a-copy\n",
      "  isetter(ilocs[0], value)\n"
     ]
    }
   ],
   "source": [
    "df_gl.loc[:,\"D_FEGL\"]=df_gl.loc[:,\"FEGLA\"]-df_gl.loc[:,\"FEGL\"]"
   ]
  },
  {
   "cell_type": "code",
   "execution_count": 26,
   "metadata": {},
   "outputs": [
    {
     "data": {
      "text/plain": [
       "(23099, 7)"
      ]
     },
     "execution_count": 26,
     "metadata": {},
     "output_type": "execute_result"
    }
   ],
   "source": [
    "df_gl.shape"
   ]
  },
  {
   "cell_type": "code",
   "execution_count": null,
   "metadata": {},
   "outputs": [],
   "source": []
  },
  {
   "cell_type": "code",
   "execution_count": 27,
   "metadata": {},
   "outputs": [
    {
     "data": {
      "text/plain": [
       "(23099, 7)"
      ]
     },
     "execution_count": 27,
     "metadata": {},
     "output_type": "execute_result"
    }
   ],
   "source": [
    "df_gl.shape"
   ]
  },
  {
   "cell_type": "code",
   "execution_count": 28,
   "metadata": {
    "scrolled": true
   },
   "outputs": [
    {
     "data": {
      "text/html": [
       "<div>\n",
       "<style scoped>\n",
       "    .dataframe tbody tr th:only-of-type {\n",
       "        vertical-align: middle;\n",
       "    }\n",
       "\n",
       "    .dataframe tbody tr th {\n",
       "        vertical-align: top;\n",
       "    }\n",
       "\n",
       "    .dataframe thead th {\n",
       "        text-align: right;\n",
       "    }\n",
       "</style>\n",
       "<table border=\"1\" class=\"dataframe\">\n",
       "  <thead>\n",
       "    <tr style=\"text-align: right;\">\n",
       "      <th></th>\n",
       "      <th>COMP</th>\n",
       "      <th>CLI</th>\n",
       "      <th>FEGL</th>\n",
       "      <th>FEGLA</th>\n",
       "      <th>SIGL</th>\n",
       "      <th>G1</th>\n",
       "      <th>D_FEGL</th>\n",
       "    </tr>\n",
       "  </thead>\n",
       "  <tbody>\n",
       "    <tr>\n",
       "      <th>0</th>\n",
       "      <td>10.00</td>\n",
       "      <td>HF</td>\n",
       "      <td>68.0093</td>\n",
       "      <td>67.76</td>\n",
       "      <td>1.2970</td>\n",
       "      <td>24.2149</td>\n",
       "      <td>-0.2493</td>\n",
       "    </tr>\n",
       "    <tr>\n",
       "      <th>1</th>\n",
       "      <td>10.00</td>\n",
       "      <td>HF</td>\n",
       "      <td>67.1453</td>\n",
       "      <td>67.27</td>\n",
       "      <td>1.5015</td>\n",
       "      <td>34.0163</td>\n",
       "      <td>0.1247</td>\n",
       "    </tr>\n",
       "    <tr>\n",
       "      <th>2</th>\n",
       "      <td>10.00</td>\n",
       "      <td>HF</td>\n",
       "      <td>62.6861</td>\n",
       "      <td>63.21</td>\n",
       "      <td>7.7310</td>\n",
       "      <td>28.3865</td>\n",
       "      <td>0.5239</td>\n",
       "    </tr>\n",
       "    <tr>\n",
       "      <th>3</th>\n",
       "      <td>7.33</td>\n",
       "      <td>HF</td>\n",
       "      <td>66.8656</td>\n",
       "      <td>67.14</td>\n",
       "      <td>0.7574</td>\n",
       "      <td>31.7364</td>\n",
       "      <td>0.2744</td>\n",
       "    </tr>\n",
       "    <tr>\n",
       "      <th>4</th>\n",
       "      <td>7.33</td>\n",
       "      <td>HF</td>\n",
       "      <td>66.2993</td>\n",
       "      <td>66.02</td>\n",
       "      <td>0.8501</td>\n",
       "      <td>18.3176</td>\n",
       "      <td>-0.2793</td>\n",
       "    </tr>\n",
       "  </tbody>\n",
       "</table>\n",
       "</div>"
      ],
      "text/plain": [
       "    COMP CLI     FEGL  FEGLA    SIGL       G1  D_FEGL\n",
       "0  10.00  HF  68.0093  67.76  1.2970  24.2149 -0.2493\n",
       "1  10.00  HF  67.1453  67.27  1.5015  34.0163  0.1247\n",
       "2  10.00  HF  62.6861  63.21  7.7310  28.3865  0.5239\n",
       "3   7.33  HF  66.8656  67.14  0.7574  31.7364  0.2744\n",
       "4   7.33  HF  66.2993  66.02  0.8501  18.3176 -0.2793"
      ]
     },
     "execution_count": 28,
     "metadata": {},
     "output_type": "execute_result"
    }
   ],
   "source": [
    "df_gl.head()"
   ]
  },
  {
   "cell_type": "code",
   "execution_count": 29,
   "metadata": {},
   "outputs": [
    {
     "name": "stderr",
     "output_type": "stream",
     "text": [
      "C:\\DADOS\\CONDA3\\lib\\site-packages\\pandas\\core\\indexing.py:1596: SettingWithCopyWarning: \n",
      "A value is trying to be set on a copy of a slice from a DataFrame.\n",
      "Try using .loc[row_indexer,col_indexer] = value instead\n",
      "\n",
      "See the caveats in the documentation: https://pandas.pydata.org/pandas-docs/stable/user_guide/indexing.html#returning-a-view-versus-a-copy\n",
      "  self.obj[key] = _infer_fill_value(value)\n",
      "C:\\DADOS\\CONDA3\\lib\\site-packages\\pandas\\core\\indexing.py:1743: SettingWithCopyWarning: \n",
      "A value is trying to be set on a copy of a slice from a DataFrame.\n",
      "Try using .loc[row_indexer,col_indexer] = value instead\n",
      "\n",
      "See the caveats in the documentation: https://pandas.pydata.org/pandas-docs/stable/user_guide/indexing.html#returning-a-view-versus-a-copy\n",
      "  isetter(ilocs[0], value)\n"
     ]
    }
   ],
   "source": [
    "df_gl.loc[:,\"AD_FEGL\"]=df_gl.loc[:,\"D_FEGL\"].abs()"
   ]
  },
  {
   "cell_type": "code",
   "execution_count": 30,
   "metadata": {},
   "outputs": [
    {
     "name": "stderr",
     "output_type": "stream",
     "text": [
      "C:\\DADOS\\CONDA3\\lib\\site-packages\\pandas\\core\\indexing.py:1763: SettingWithCopyWarning: \n",
      "A value is trying to be set on a copy of a slice from a DataFrame.\n",
      "Try using .loc[row_indexer,col_indexer] = value instead\n",
      "\n",
      "See the caveats in the documentation: https://pandas.pydata.org/pandas-docs/stable/user_guide/indexing.html#returning-a-view-versus-a-copy\n",
      "  isetter(loc, value)\n"
     ]
    }
   ],
   "source": [
    "df_gl.loc[:,\"TEOR\"]=\"teor\""
   ]
  },
  {
   "cell_type": "code",
   "execution_count": 31,
   "metadata": {},
   "outputs": [],
   "source": [
    "df_gl.loc[:,\"ITAB\"] = df_gl.apply(lambda row:trama_itab(row['FEGL'],row['SIGL']), axis=1)"
   ]
  },
  {
   "cell_type": "code",
   "execution_count": 32,
   "metadata": {},
   "outputs": [
    {
     "data": {
      "text/html": [
       "<div>\n",
       "<style scoped>\n",
       "    .dataframe tbody tr th:only-of-type {\n",
       "        vertical-align: middle;\n",
       "    }\n",
       "\n",
       "    .dataframe tbody tr th {\n",
       "        vertical-align: top;\n",
       "    }\n",
       "\n",
       "    .dataframe thead th {\n",
       "        text-align: right;\n",
       "    }\n",
       "</style>\n",
       "<table border=\"1\" class=\"dataframe\">\n",
       "  <thead>\n",
       "    <tr style=\"text-align: right;\">\n",
       "      <th></th>\n",
       "      <th>COMP</th>\n",
       "      <th>CLI</th>\n",
       "      <th>FEGL</th>\n",
       "      <th>FEGLA</th>\n",
       "      <th>SIGL</th>\n",
       "      <th>G1</th>\n",
       "      <th>D_FEGL</th>\n",
       "      <th>AD_FEGL</th>\n",
       "      <th>TEOR</th>\n",
       "      <th>ITAB</th>\n",
       "    </tr>\n",
       "  </thead>\n",
       "  <tbody>\n",
       "    <tr>\n",
       "      <th>0</th>\n",
       "      <td>10.00</td>\n",
       "      <td>HF</td>\n",
       "      <td>68.0093</td>\n",
       "      <td>67.76</td>\n",
       "      <td>1.2970</td>\n",
       "      <td>24.2149</td>\n",
       "      <td>-0.2493</td>\n",
       "      <td>0.2493</td>\n",
       "      <td>teor</td>\n",
       "      <td>97.870206</td>\n",
       "    </tr>\n",
       "    <tr>\n",
       "      <th>1</th>\n",
       "      <td>10.00</td>\n",
       "      <td>HF</td>\n",
       "      <td>67.1453</td>\n",
       "      <td>67.27</td>\n",
       "      <td>1.5015</td>\n",
       "      <td>34.0163</td>\n",
       "      <td>0.1247</td>\n",
       "      <td>0.1247</td>\n",
       "      <td>teor</td>\n",
       "      <td>96.847826</td>\n",
       "    </tr>\n",
       "    <tr>\n",
       "      <th>2</th>\n",
       "      <td>10.00</td>\n",
       "      <td>HF</td>\n",
       "      <td>62.6861</td>\n",
       "      <td>63.21</td>\n",
       "      <td>7.7310</td>\n",
       "      <td>28.3865</td>\n",
       "      <td>0.5239</td>\n",
       "      <td>0.5239</td>\n",
       "      <td>teor</td>\n",
       "      <td>96.745262</td>\n",
       "    </tr>\n",
       "    <tr>\n",
       "      <th>3</th>\n",
       "      <td>7.33</td>\n",
       "      <td>HF</td>\n",
       "      <td>66.8656</td>\n",
       "      <td>67.14</td>\n",
       "      <td>0.7574</td>\n",
       "      <td>31.7364</td>\n",
       "      <td>0.2744</td>\n",
       "      <td>0.2744</td>\n",
       "      <td>teor</td>\n",
       "      <td>95.706552</td>\n",
       "    </tr>\n",
       "    <tr>\n",
       "      <th>4</th>\n",
       "      <td>7.33</td>\n",
       "      <td>HF</td>\n",
       "      <td>66.2993</td>\n",
       "      <td>66.02</td>\n",
       "      <td>0.8501</td>\n",
       "      <td>18.3176</td>\n",
       "      <td>-0.2793</td>\n",
       "      <td>0.2793</td>\n",
       "      <td>teor</td>\n",
       "      <td>94.995106</td>\n",
       "    </tr>\n",
       "  </tbody>\n",
       "</table>\n",
       "</div>"
      ],
      "text/plain": [
       "    COMP CLI     FEGL  FEGLA    SIGL       G1  D_FEGL  AD_FEGL  TEOR  \\\n",
       "0  10.00  HF  68.0093  67.76  1.2970  24.2149 -0.2493   0.2493  teor   \n",
       "1  10.00  HF  67.1453  67.27  1.5015  34.0163  0.1247   0.1247  teor   \n",
       "2  10.00  HF  62.6861  63.21  7.7310  28.3865  0.5239   0.5239  teor   \n",
       "3   7.33  HF  66.8656  67.14  0.7574  31.7364  0.2744   0.2744  teor   \n",
       "4   7.33  HF  66.2993  66.02  0.8501  18.3176 -0.2793   0.2793  teor   \n",
       "\n",
       "        ITAB  \n",
       "0  97.870206  \n",
       "1  96.847826  \n",
       "2  96.745262  \n",
       "3  95.706552  \n",
       "4  94.995106  "
      ]
     },
     "execution_count": 32,
     "metadata": {},
     "output_type": "execute_result"
    }
   ],
   "source": [
    "df_gl.head()"
   ]
  },
  {
   "cell_type": "code",
   "execution_count": null,
   "metadata": {},
   "outputs": [],
   "source": []
  },
  {
   "cell_type": "code",
   "execution_count": null,
   "metadata": {},
   "outputs": [],
   "source": []
  },
  {
   "cell_type": "code",
   "execution_count": 33,
   "metadata": {},
   "outputs": [
    {
     "data": {
      "text/html": [
       "<div>\n",
       "<style scoped>\n",
       "    .dataframe tbody tr th:only-of-type {\n",
       "        vertical-align: middle;\n",
       "    }\n",
       "\n",
       "    .dataframe tbody tr th {\n",
       "        vertical-align: top;\n",
       "    }\n",
       "\n",
       "    .dataframe thead th {\n",
       "        text-align: right;\n",
       "    }\n",
       "</style>\n",
       "<table border=\"1\" class=\"dataframe\">\n",
       "  <thead>\n",
       "    <tr style=\"text-align: right;\">\n",
       "      <th></th>\n",
       "      <th>COMP</th>\n",
       "      <th>CLI</th>\n",
       "      <th>FEGL</th>\n",
       "      <th>FEGLA</th>\n",
       "      <th>SIGL</th>\n",
       "      <th>G1</th>\n",
       "      <th>D_FEGL</th>\n",
       "      <th>AD_FEGL</th>\n",
       "      <th>TEOR</th>\n",
       "      <th>ITAB</th>\n",
       "    </tr>\n",
       "  </thead>\n",
       "  <tbody>\n",
       "    <tr>\n",
       "      <th>0</th>\n",
       "      <td>10.00</td>\n",
       "      <td>HF</td>\n",
       "      <td>68.0093</td>\n",
       "      <td>67.76</td>\n",
       "      <td>1.2970</td>\n",
       "      <td>24.2149</td>\n",
       "      <td>-0.2493</td>\n",
       "      <td>0.2493</td>\n",
       "      <td>teor</td>\n",
       "      <td>97.870206</td>\n",
       "    </tr>\n",
       "    <tr>\n",
       "      <th>1</th>\n",
       "      <td>10.00</td>\n",
       "      <td>HF</td>\n",
       "      <td>67.1453</td>\n",
       "      <td>67.27</td>\n",
       "      <td>1.5015</td>\n",
       "      <td>34.0163</td>\n",
       "      <td>0.1247</td>\n",
       "      <td>0.1247</td>\n",
       "      <td>teor</td>\n",
       "      <td>96.847826</td>\n",
       "    </tr>\n",
       "    <tr>\n",
       "      <th>2</th>\n",
       "      <td>10.00</td>\n",
       "      <td>HF</td>\n",
       "      <td>62.6861</td>\n",
       "      <td>63.21</td>\n",
       "      <td>7.7310</td>\n",
       "      <td>28.3865</td>\n",
       "      <td>0.5239</td>\n",
       "      <td>0.5239</td>\n",
       "      <td>teor</td>\n",
       "      <td>96.745262</td>\n",
       "    </tr>\n",
       "    <tr>\n",
       "      <th>3</th>\n",
       "      <td>7.33</td>\n",
       "      <td>HF</td>\n",
       "      <td>66.8656</td>\n",
       "      <td>67.14</td>\n",
       "      <td>0.7574</td>\n",
       "      <td>31.7364</td>\n",
       "      <td>0.2744</td>\n",
       "      <td>0.2744</td>\n",
       "      <td>teor</td>\n",
       "      <td>95.706552</td>\n",
       "    </tr>\n",
       "    <tr>\n",
       "      <th>4</th>\n",
       "      <td>7.33</td>\n",
       "      <td>HF</td>\n",
       "      <td>66.2993</td>\n",
       "      <td>66.02</td>\n",
       "      <td>0.8501</td>\n",
       "      <td>18.3176</td>\n",
       "      <td>-0.2793</td>\n",
       "      <td>0.2793</td>\n",
       "      <td>teor</td>\n",
       "      <td>94.995106</td>\n",
       "    </tr>\n",
       "  </tbody>\n",
       "</table>\n",
       "</div>"
      ],
      "text/plain": [
       "    COMP CLI     FEGL  FEGLA    SIGL       G1  D_FEGL  AD_FEGL  TEOR  \\\n",
       "0  10.00  HF  68.0093  67.76  1.2970  24.2149 -0.2493   0.2493  teor   \n",
       "1  10.00  HF  67.1453  67.27  1.5015  34.0163  0.1247   0.1247  teor   \n",
       "2  10.00  HF  62.6861  63.21  7.7310  28.3865  0.5239   0.5239  teor   \n",
       "3   7.33  HF  66.8656  67.14  0.7574  31.7364  0.2744   0.2744  teor   \n",
       "4   7.33  HF  66.2993  66.02  0.8501  18.3176 -0.2793   0.2793  teor   \n",
       "\n",
       "        ITAB  \n",
       "0  97.870206  \n",
       "1  96.847826  \n",
       "2  96.745262  \n",
       "3  95.706552  \n",
       "4  94.995106  "
      ]
     },
     "execution_count": 33,
     "metadata": {},
     "output_type": "execute_result"
    }
   ],
   "source": [
    "df_gl.head()"
   ]
  },
  {
   "cell_type": "code",
   "execution_count": 34,
   "metadata": {
    "scrolled": true
   },
   "outputs": [
    {
     "data": {
      "text/html": [
       "<div>\n",
       "<style scoped>\n",
       "    .dataframe tbody tr th:only-of-type {\n",
       "        vertical-align: middle;\n",
       "    }\n",
       "\n",
       "    .dataframe tbody tr th {\n",
       "        vertical-align: top;\n",
       "    }\n",
       "\n",
       "    .dataframe thead th {\n",
       "        text-align: right;\n",
       "    }\n",
       "</style>\n",
       "<table border=\"1\" class=\"dataframe\">\n",
       "  <thead>\n",
       "    <tr style=\"text-align: right;\">\n",
       "      <th></th>\n",
       "      <th>COMP</th>\n",
       "      <th>CLI</th>\n",
       "      <th>FEGL</th>\n",
       "      <th>FEGLA</th>\n",
       "      <th>SIGL</th>\n",
       "      <th>G1</th>\n",
       "      <th>D_FEGL</th>\n",
       "      <th>AD_FEGL</th>\n",
       "      <th>TEOR</th>\n",
       "      <th>ITAB</th>\n",
       "    </tr>\n",
       "  </thead>\n",
       "  <tbody>\n",
       "    <tr>\n",
       "      <th>0</th>\n",
       "      <td>10.00</td>\n",
       "      <td>HF</td>\n",
       "      <td>68.0093</td>\n",
       "      <td>67.76</td>\n",
       "      <td>1.2970</td>\n",
       "      <td>24.2149</td>\n",
       "      <td>-0.2493</td>\n",
       "      <td>0.2493</td>\n",
       "      <td>teor</td>\n",
       "      <td>97.870206</td>\n",
       "    </tr>\n",
       "    <tr>\n",
       "      <th>1</th>\n",
       "      <td>10.00</td>\n",
       "      <td>HF</td>\n",
       "      <td>67.1453</td>\n",
       "      <td>67.27</td>\n",
       "      <td>1.5015</td>\n",
       "      <td>34.0163</td>\n",
       "      <td>0.1247</td>\n",
       "      <td>0.1247</td>\n",
       "      <td>teor</td>\n",
       "      <td>96.847826</td>\n",
       "    </tr>\n",
       "    <tr>\n",
       "      <th>2</th>\n",
       "      <td>10.00</td>\n",
       "      <td>HF</td>\n",
       "      <td>62.6861</td>\n",
       "      <td>63.21</td>\n",
       "      <td>7.7310</td>\n",
       "      <td>28.3865</td>\n",
       "      <td>0.5239</td>\n",
       "      <td>0.5239</td>\n",
       "      <td>teor</td>\n",
       "      <td>96.745262</td>\n",
       "    </tr>\n",
       "    <tr>\n",
       "      <th>3</th>\n",
       "      <td>7.33</td>\n",
       "      <td>HF</td>\n",
       "      <td>66.8656</td>\n",
       "      <td>67.14</td>\n",
       "      <td>0.7574</td>\n",
       "      <td>31.7364</td>\n",
       "      <td>0.2744</td>\n",
       "      <td>0.2744</td>\n",
       "      <td>teor</td>\n",
       "      <td>95.706552</td>\n",
       "    </tr>\n",
       "    <tr>\n",
       "      <th>4</th>\n",
       "      <td>7.33</td>\n",
       "      <td>HF</td>\n",
       "      <td>66.2993</td>\n",
       "      <td>66.02</td>\n",
       "      <td>0.8501</td>\n",
       "      <td>18.3176</td>\n",
       "      <td>-0.2793</td>\n",
       "      <td>0.2793</td>\n",
       "      <td>teor</td>\n",
       "      <td>94.995106</td>\n",
       "    </tr>\n",
       "  </tbody>\n",
       "</table>\n",
       "</div>"
      ],
      "text/plain": [
       "    COMP CLI     FEGL  FEGLA    SIGL       G1  D_FEGL  AD_FEGL  TEOR  \\\n",
       "0  10.00  HF  68.0093  67.76  1.2970  24.2149 -0.2493   0.2493  teor   \n",
       "1  10.00  HF  67.1453  67.27  1.5015  34.0163  0.1247   0.1247  teor   \n",
       "2  10.00  HF  62.6861  63.21  7.7310  28.3865  0.5239   0.5239  teor   \n",
       "3   7.33  HF  66.8656  67.14  0.7574  31.7364  0.2744   0.2744  teor   \n",
       "4   7.33  HF  66.2993  66.02  0.8501  18.3176 -0.2793   0.2793  teor   \n",
       "\n",
       "        ITAB  \n",
       "0  97.870206  \n",
       "1  96.847826  \n",
       "2  96.745262  \n",
       "3  95.706552  \n",
       "4  94.995106  "
      ]
     },
     "execution_count": 34,
     "metadata": {},
     "output_type": "execute_result"
    }
   ],
   "source": [
    "df_gl.head()"
   ]
  },
  {
   "cell_type": "code",
   "execution_count": 35,
   "metadata": {},
   "outputs": [],
   "source": [
    "#options: kernel density estimation (kde), binwidth and axis\n",
    "#when you have different n for each class, try to normalize using distplot"
   ]
  },
  {
   "cell_type": "code",
   "execution_count": 36,
   "metadata": {},
   "outputs": [
    {
     "name": "stderr",
     "output_type": "stream",
     "text": [
      "C:\\DADOS\\CONDA3\\lib\\site-packages\\pandas\\core\\frame.py:4167: SettingWithCopyWarning: \n",
      "A value is trying to be set on a copy of a slice from a DataFrame\n",
      "\n",
      "See the caveats in the documentation: https://pandas.pydata.org/pandas-docs/stable/user_guide/indexing.html#returning-a-view-versus-a-copy\n",
      "  return super().drop(\n"
     ]
    }
   ],
   "source": [
    "df_gl.drop(df_gl[df_gl.CLI == \"\\\\N\"].index,inplace=True)"
   ]
  },
  {
   "cell_type": "code",
   "execution_count": null,
   "metadata": {},
   "outputs": [],
   "source": []
  },
  {
   "cell_type": "code",
   "execution_count": null,
   "metadata": {},
   "outputs": [],
   "source": []
  },
  {
   "cell_type": "code",
   "execution_count": 37,
   "metadata": {
    "scrolled": true
   },
   "outputs": [
    {
     "data": {
      "image/png": "[encoded data removed]",
      "text/plain": [
       "<Figure size 720x720 with 1 Axes>"
      ]
     },
     "metadata": {
      "needs_background": "light"
     },
     "output_type": "display_data"
    }
   ],
   "source": [
    "fig, ax = plt.subplots(figsize=chart_size)\n",
    "sea.histplot(data=df_gl[\"D_FEGL\"],binwidth=0.5,kde=True)\n",
    "plt.show()"
   ]
  },
  {
   "cell_type": "code",
   "execution_count": 38,
   "metadata": {},
   "outputs": [
    {
     "name": "stderr",
     "output_type": "stream",
     "text": [
      "C:\\DADOS\\CONDA3\\lib\\site-packages\\seaborn\\distributions.py:2551: FutureWarning: `distplot` is a deprecated function and will be removed in a future version. Please adapt your code to use either `displot` (a figure-level function with similar flexibility) or `kdeplot` (an axes-level function for kernel density plots).\n",
      "  warnings.warn(msg, FutureWarning)\n",
      "C:\\DADOS\\CONDA3\\lib\\site-packages\\seaborn\\distributions.py:2055: FutureWarning: The `axis` variable is no longer used and will be removed. Instead, assign variables directly to `x` or `y`.\n",
      "  warnings.warn(msg, FutureWarning)\n"
     ]
    },
    {
     "data": {
      "image/png": "[encoded data removed]",
      "text/plain": [
       "<Figure size 720x720 with 1 Axes>"
      ]
     },
     "metadata": {
      "needs_background": "light"
     },
     "output_type": "display_data"
    }
   ],
   "source": [
    "fig, ax = plt.subplots(figsize=chart_size)\n",
    "sea.distplot(x=df_gl[\"D_FEGL\"],kde=True,rug=True, hist=False)\n",
    "plt.show()"
   ]
  },
  {
   "cell_type": "code",
   "execution_count": 39,
   "metadata": {},
   "outputs": [
    {
     "name": "stderr",
     "output_type": "stream",
     "text": [
      "C:\\DADOS\\CONDA3\\lib\\site-packages\\seaborn\\distributions.py:305: UserWarning: Dataset has 0 variance; skipping density estimate.\n",
      "  warnings.warn(msg, UserWarning)\n",
      "C:\\DADOS\\CONDA3\\lib\\site-packages\\seaborn\\distributions.py:305: UserWarning: Dataset has 0 variance; skipping density estimate.\n",
      "  warnings.warn(msg, UserWarning)\n",
      "C:\\DADOS\\CONDA3\\lib\\site-packages\\seaborn\\distributions.py:305: UserWarning: Dataset has 0 variance; skipping density estimate.\n",
      "  warnings.warn(msg, UserWarning)\n",
      "C:\\DADOS\\CONDA3\\lib\\site-packages\\seaborn\\distributions.py:305: UserWarning: Dataset has 0 variance; skipping density estimate.\n",
      "  warnings.warn(msg, UserWarning)\n"
     ]
    },
    {
     "data": {
      "image/png": "[encoded data removed]",
      "text/plain": [
       "<Figure size 720x720 with 1 Axes>"
      ]
     },
     "metadata": {
      "needs_background": "light"
     },
     "output_type": "display_data"
    }
   ],
   "source": [
    "fig, ax = plt.subplots(figsize=chart_size)\n",
    "sea.kdeplot(data=df_gl,x=\"D_FEGL\",hue=\"CLI\",multiple=\"stack\", cumulative=True,palette=litocolor,alpha=.5)\n",
    "plt.show()"
   ]
  },
  {
   "cell_type": "code",
   "execution_count": null,
   "metadata": {},
   "outputs": [],
   "source": []
  },
  {
   "cell_type": "code",
   "execution_count": 40,
   "metadata": {},
   "outputs": [
    {
     "name": "stderr",
     "output_type": "stream",
     "text": [
      "C:\\DADOS\\CONDA3\\lib\\site-packages\\seaborn\\distributions.py:305: UserWarning: Dataset has 0 variance; skipping density estimate.\n",
      "  warnings.warn(msg, UserWarning)\n",
      "C:\\DADOS\\CONDA3\\lib\\site-packages\\seaborn\\distributions.py:305: UserWarning: Dataset has 0 variance; skipping density estimate.\n",
      "  warnings.warn(msg, UserWarning)\n",
      "C:\\DADOS\\CONDA3\\lib\\site-packages\\seaborn\\distributions.py:305: UserWarning: Dataset has 0 variance; skipping density estimate.\n",
      "  warnings.warn(msg, UserWarning)\n",
      "C:\\DADOS\\CONDA3\\lib\\site-packages\\seaborn\\distributions.py:305: UserWarning: Dataset has 0 variance; skipping density estimate.\n",
      "  warnings.warn(msg, UserWarning)\n"
     ]
    },
    {
     "data": {
      "image/png": "[encoded data removed]",
      "text/plain": [
       "<Figure size 720x720 with 1 Axes>"
      ]
     },
     "metadata": {
      "needs_background": "light"
     },
     "output_type": "display_data"
    }
   ],
   "source": [
    "fig, ax = plt.subplots(figsize=chart_size)\n",
    "sea.kdeplot(data=df_gl,x=\"D_FEGL\",hue=\"CLI\",fill=True, common_norm=False, palette=litocolor, alpha=.5, linewidth=0,)\n",
    "fig.savefig('mean_grade_error_by_lito_fill.jpeg', transparent=None)\n",
    "plt.show()"
   ]
  },
  {
   "cell_type": "code",
   "execution_count": 41,
   "metadata": {},
   "outputs": [
    {
     "name": "stderr",
     "output_type": "stream",
     "text": [
      "C:\\DADOS\\CONDA3\\lib\\site-packages\\seaborn\\distributions.py:305: UserWarning: Dataset has 0 variance; skipping density estimate.\n",
      "  warnings.warn(msg, UserWarning)\n",
      "C:\\DADOS\\CONDA3\\lib\\site-packages\\seaborn\\distributions.py:305: UserWarning: Dataset has 0 variance; skipping density estimate.\n",
      "  warnings.warn(msg, UserWarning)\n",
      "C:\\DADOS\\CONDA3\\lib\\site-packages\\seaborn\\distributions.py:305: UserWarning: Dataset has 0 variance; skipping density estimate.\n",
      "  warnings.warn(msg, UserWarning)\n",
      "C:\\DADOS\\CONDA3\\lib\\site-packages\\seaborn\\distributions.py:305: UserWarning: Dataset has 0 variance; skipping density estimate.\n",
      "  warnings.warn(msg, UserWarning)\n"
     ]
    },
    {
     "data": {
      "image/png": "[encoded data removed]",
      "text/plain": [
       "<Figure size 720x720 with 1 Axes>"
      ]
     },
     "metadata": {
      "needs_background": "light"
     },
     "output_type": "display_data"
    }
   ],
   "source": [
    "fig, ax = plt.subplots(figsize=chart_size)\n",
    "sea.kdeplot(data=df_gl,x=\"D_FEGL\",hue=\"CLI\", common_norm=False, palette=litocolor, alpha=.5)\n",
    "fig.savefig('meangrade_error_by_lito.jpeg', transparent=None)\n",
    "plt.show()"
   ]
  },
  {
   "cell_type": "code",
   "execution_count": 42,
   "metadata": {},
   "outputs": [
    {
     "name": "stderr",
     "output_type": "stream",
     "text": [
      "C:\\DADOS\\CONDA3\\lib\\site-packages\\seaborn\\distributions.py:305: UserWarning: Dataset has 0 variance; skipping density estimate.\n",
      "  warnings.warn(msg, UserWarning)\n",
      "C:\\DADOS\\CONDA3\\lib\\site-packages\\seaborn\\distributions.py:305: UserWarning: Dataset has 0 variance; skipping density estimate.\n",
      "  warnings.warn(msg, UserWarning)\n",
      "C:\\DADOS\\CONDA3\\lib\\site-packages\\seaborn\\distributions.py:305: UserWarning: Dataset has 0 variance; skipping density estimate.\n",
      "  warnings.warn(msg, UserWarning)\n",
      "C:\\DADOS\\CONDA3\\lib\\site-packages\\seaborn\\distributions.py:305: UserWarning: Dataset has 0 variance; skipping density estimate.\n",
      "  warnings.warn(msg, UserWarning)\n"
     ]
    },
    {
     "data": {
      "image/png": "[encoded data removed]",
      "text/plain": [
       "<Figure size 720x720 with 1 Axes>"
      ]
     },
     "metadata": {
      "needs_background": "light"
     },
     "output_type": "display_data"
    }
   ],
   "source": [
    "fig, ax = plt.subplots(figsize=chart_size)\n",
    "sea.kdeplot(data=df_gl,x=\"D_FEGL\",hue=\"CLI\", common_norm=False, cumulative=True,palette=litocolor, alpha=.5)\n",
    "fig.savefig('meangrade_error_by_lito.jpeg', transparent=None)\n",
    "plt.show()"
   ]
  },
  {
   "cell_type": "code",
   "execution_count": null,
   "metadata": {},
   "outputs": [],
   "source": []
  },
  {
   "cell_type": "code",
   "execution_count": null,
   "metadata": {},
   "outputs": [],
   "source": []
  },
  {
   "cell_type": "code",
   "execution_count": 43,
   "metadata": {
    "scrolled": true
   },
   "outputs": [
    {
     "data": {
      "image/png": "[encoded data removed]",
      "text/plain": [
       "<Figure size 720x720 with 1 Axes>"
      ]
     },
     "metadata": {
      "needs_background": "light"
     },
     "output_type": "display_data"
    }
   ],
   "source": [
    "fig, ax = plt.subplots(figsize=chart_size)\n",
    "sea.scatterplot(data=df_gl, x=\"FEGLA\", y=\"FEGL\", hue=\"CLI\",palette=litocolor, size=\"AD_FEGL\", alpha=1)\n",
    "fig.savefig('mean_grade_fegl_scatter.jpeg', transparent=None)\n",
    "plt.show()"
   ]
  },
  {
   "cell_type": "markdown",
   "metadata": {},
   "source": [
    "## Verificando sensibilidade de erro em função do retido na primeira malha"
   ]
  },
  {
   "cell_type": "code",
   "execution_count": 44,
   "metadata": {},
   "outputs": [
    {
     "data": {
      "image/png": "[encoded data removed]",
      "text/plain": [
       "<Figure size 720x720 with 1 Axes>"
      ]
     },
     "metadata": {
      "needs_background": "light"
     },
     "output_type": "display_data"
    }
   ],
   "source": [
    "fig, ax = plt.subplots(figsize=chart_size)\n",
    "sea.scatterplot(data=df_gl, x=\"G1\", y=\"AD_FEGL\", hue=\"CLI\",palette=litocolor)\n",
    "fig.savefig('coarse_split_fegl_error.jpeg', transparent=None)\n",
    "plt.show()"
   ]
  },
  {
   "cell_type": "code",
   "execution_count": 45,
   "metadata": {},
   "outputs": [
    {
     "data": {
      "text/plain": [
       "CLI\n",
       "HC    AxesSubplot(0.125,0.125;0.775x0.755)\n",
       "HF    AxesSubplot(0.125,0.125;0.775x0.755)\n",
       "IC    AxesSubplot(0.125,0.125;0.775x0.755)\n",
       "IF    AxesSubplot(0.125,0.125;0.775x0.755)\n",
       "Name: D_FEGL, dtype: object"
      ]
     },
     "execution_count": 45,
     "metadata": {},
     "output_type": "execute_result"
    },
    {
     "data": {
      "image/png": "[encoded data removed]",
      "text/plain": [
       "<Figure size 720x720 with 1 Axes>"
      ]
     },
     "metadata": {
      "needs_background": "light"
     },
     "output_type": "display_data"
    }
   ],
   "source": [
    "df_gl[(df_gl['CLI'].isin(fresh_clean)) & (df_gl['FEGLA']>=0.01)].groupby(['CLI']).D_FEGL.plot.hist(stacked=True, \\\n",
    "                                                                                                    \n",
    "    histtype='step', bins=10, figsize=(10,10), legend=True)"
   ]
  },
  {
   "cell_type": "code",
   "execution_count": 46,
   "metadata": {},
   "outputs": [],
   "source": [
    "\n",
    "sea.set_theme(style=\"whitegrid\")"
   ]
  },
  {
   "cell_type": "code",
   "execution_count": 47,
   "metadata": {},
   "outputs": [
    {
     "data": {
      "text/html": [
       "<div>\n",
       "<style scoped>\n",
       "    .dataframe tbody tr th:only-of-type {\n",
       "        vertical-align: middle;\n",
       "    }\n",
       "\n",
       "    .dataframe tbody tr th {\n",
       "        vertical-align: top;\n",
       "    }\n",
       "\n",
       "    .dataframe thead th {\n",
       "        text-align: right;\n",
       "    }\n",
       "</style>\n",
       "<table border=\"1\" class=\"dataframe\">\n",
       "  <thead>\n",
       "    <tr style=\"text-align: right;\">\n",
       "      <th></th>\n",
       "      <th>CLI</th>\n",
       "      <th>D_FEGL</th>\n",
       "      <th>value</th>\n",
       "    </tr>\n",
       "  </thead>\n",
       "  <tbody>\n",
       "    <tr>\n",
       "      <th>0</th>\n",
       "      <td>HF</td>\n",
       "      <td>COMP</td>\n",
       "      <td>10</td>\n",
       "    </tr>\n",
       "    <tr>\n",
       "      <th>1</th>\n",
       "      <td>HF</td>\n",
       "      <td>COMP</td>\n",
       "      <td>10</td>\n",
       "    </tr>\n",
       "    <tr>\n",
       "      <th>2</th>\n",
       "      <td>HF</td>\n",
       "      <td>COMP</td>\n",
       "      <td>10</td>\n",
       "    </tr>\n",
       "    <tr>\n",
       "      <th>3</th>\n",
       "      <td>HF</td>\n",
       "      <td>COMP</td>\n",
       "      <td>7.33</td>\n",
       "    </tr>\n",
       "    <tr>\n",
       "      <th>4</th>\n",
       "      <td>HF</td>\n",
       "      <td>COMP</td>\n",
       "      <td>7.33</td>\n",
       "    </tr>\n",
       "  </tbody>\n",
       "</table>\n",
       "</div>"
      ],
      "text/plain": [
       "  CLI D_FEGL value\n",
       "0  HF   COMP    10\n",
       "1  HF   COMP    10\n",
       "2  HF   COMP    10\n",
       "3  HF   COMP  7.33\n",
       "4  HF   COMP  7.33"
      ]
     },
     "execution_count": 47,
     "metadata": {},
     "output_type": "execute_result"
    }
   ],
   "source": [
    "delta=pd.melt(df_gl, \"CLI\", var_name=\"D_FEGL\")\n",
    "delta.head()"
   ]
  },
  {
   "cell_type": "code",
   "execution_count": null,
   "metadata": {},
   "outputs": [],
   "source": []
  },
  {
   "cell_type": "code",
   "execution_count": 48,
   "metadata": {},
   "outputs": [],
   "source": [
    "# Show the conditional means\n"
   ]
  },
  {
   "cell_type": "code",
   "execution_count": 50,
   "metadata": {},
   "outputs": [
    {
     "data": {
      "text/plain": [
       "<matplotlib.legend.Legend at 0x1ad34996a00>"
      ]
     },
     "execution_count": 50,
     "metadata": {},
     "output_type": "execute_result"
    },
    {
     "data": {
      "image/png": "[encoded data removed]",
      "text/plain": [
       "<Figure size 720x720 with 1 Axes>"
      ]
     },
     "metadata": {},
     "output_type": "display_data"
    }
   ],
   "source": [
    "fig, ax = plt.subplots(figsize=chart_size)\n",
    "\n",
    "# Show the conditional means\n",
    "#sea.pointplot(x=\"value\", y=\"measurement\", hue=\"species\",\n",
    "#              data=iris, dodge=.532, join=False, palette=\"dark\",\n",
    "#              markers=\"d\", scale=.75, ci=None)\n",
    "\n",
    "\n",
    "sea.stripplot(x=\"D_FEGL\", y=\"TEOR\",hue=\"CLI\", data=df_gl, dodge=True, alpha=0.85, zorder=1, palette=litocolor )\n",
    "\n",
    "\n",
    "#sea.pointplot(x=\"D_FEGL\", y=\"TEOR\", hue=\"CLI\",\n",
    "#              data=df_gl, dodge=0.5, join=False, palette=litocolor,\n",
    "#              scale=.75, ci=None)\n",
    "\n",
    "# Improve the legend \n",
    "handles, labels = ax.get_legend_handles_labels()\n",
    "ax.legend(handles[1:], labels[1:], title=\"CLI\",\n",
    "          handletextpad=0, columnspacing=1,\n",
    "          loc=\"lower right\", ncol=4, frameon=True)"
   ]
  },
  {
   "cell_type": "markdown",
   "metadata": {},
   "source": [
    "## ISOLANDO SISTEMA QUARTZO HEM"
   ]
  },
  {
   "cell_type": "code",
   "execution_count": 51,
   "metadata": {},
   "outputs": [
    {
     "data": {
      "text/html": [
       "<div>\n",
       "<style scoped>\n",
       "    .dataframe tbody tr th:only-of-type {\n",
       "        vertical-align: middle;\n",
       "    }\n",
       "\n",
       "    .dataframe tbody tr th {\n",
       "        vertical-align: top;\n",
       "    }\n",
       "\n",
       "    .dataframe thead th {\n",
       "        text-align: right;\n",
       "    }\n",
       "</style>\n",
       "<table border=\"1\" class=\"dataframe\">\n",
       "  <thead>\n",
       "    <tr style=\"text-align: right;\">\n",
       "      <th></th>\n",
       "      <th>COMP</th>\n",
       "      <th>CLI</th>\n",
       "      <th>FEGL</th>\n",
       "      <th>FEGLA</th>\n",
       "      <th>SIGL</th>\n",
       "      <th>G1</th>\n",
       "      <th>D_FEGL</th>\n",
       "      <th>AD_FEGL</th>\n",
       "      <th>TEOR</th>\n",
       "      <th>ITAB</th>\n",
       "    </tr>\n",
       "  </thead>\n",
       "  <tbody>\n",
       "    <tr>\n",
       "      <th>0</th>\n",
       "      <td>10.00</td>\n",
       "      <td>HF</td>\n",
       "      <td>68.0093</td>\n",
       "      <td>67.76</td>\n",
       "      <td>1.2970</td>\n",
       "      <td>24.2149</td>\n",
       "      <td>-0.2493</td>\n",
       "      <td>0.2493</td>\n",
       "      <td>teor</td>\n",
       "      <td>97.870206</td>\n",
       "    </tr>\n",
       "    <tr>\n",
       "      <th>1</th>\n",
       "      <td>10.00</td>\n",
       "      <td>HF</td>\n",
       "      <td>67.1453</td>\n",
       "      <td>67.27</td>\n",
       "      <td>1.5015</td>\n",
       "      <td>34.0163</td>\n",
       "      <td>0.1247</td>\n",
       "      <td>0.1247</td>\n",
       "      <td>teor</td>\n",
       "      <td>96.847826</td>\n",
       "    </tr>\n",
       "    <tr>\n",
       "      <th>2</th>\n",
       "      <td>10.00</td>\n",
       "      <td>HF</td>\n",
       "      <td>62.6861</td>\n",
       "      <td>63.21</td>\n",
       "      <td>7.7310</td>\n",
       "      <td>28.3865</td>\n",
       "      <td>0.5239</td>\n",
       "      <td>0.5239</td>\n",
       "      <td>teor</td>\n",
       "      <td>96.745262</td>\n",
       "    </tr>\n",
       "    <tr>\n",
       "      <th>3</th>\n",
       "      <td>7.33</td>\n",
       "      <td>HF</td>\n",
       "      <td>66.8656</td>\n",
       "      <td>67.14</td>\n",
       "      <td>0.7574</td>\n",
       "      <td>31.7364</td>\n",
       "      <td>0.2744</td>\n",
       "      <td>0.2744</td>\n",
       "      <td>teor</td>\n",
       "      <td>95.706552</td>\n",
       "    </tr>\n",
       "    <tr>\n",
       "      <th>4</th>\n",
       "      <td>7.33</td>\n",
       "      <td>HF</td>\n",
       "      <td>66.2993</td>\n",
       "      <td>66.02</td>\n",
       "      <td>0.8501</td>\n",
       "      <td>18.3176</td>\n",
       "      <td>-0.2793</td>\n",
       "      <td>0.2793</td>\n",
       "      <td>teor</td>\n",
       "      <td>94.995106</td>\n",
       "    </tr>\n",
       "  </tbody>\n",
       "</table>\n",
       "</div>"
      ],
      "text/plain": [
       "    COMP CLI     FEGL  FEGLA    SIGL       G1  D_FEGL  AD_FEGL  TEOR  \\\n",
       "0  10.00  HF  68.0093  67.76  1.2970  24.2149 -0.2493   0.2493  teor   \n",
       "1  10.00  HF  67.1453  67.27  1.5015  34.0163  0.1247   0.1247  teor   \n",
       "2  10.00  HF  62.6861  63.21  7.7310  28.3865  0.5239   0.5239  teor   \n",
       "3   7.33  HF  66.8656  67.14  0.7574  31.7364  0.2744   0.2744  teor   \n",
       "4   7.33  HF  66.2993  66.02  0.8501  18.3176 -0.2793   0.2793  teor   \n",
       "\n",
       "        ITAB  \n",
       "0  97.870206  \n",
       "1  96.847826  \n",
       "2  96.745262  \n",
       "3  95.706552  \n",
       "4  94.995106  "
      ]
     },
     "execution_count": 51,
     "metadata": {},
     "output_type": "execute_result"
    }
   ],
   "source": [
    "df_gl.head()"
   ]
  },
  {
   "cell_type": "code",
   "execution_count": 52,
   "metadata": {},
   "outputs": [
    {
     "name": "stderr",
     "output_type": "stream",
     "text": [
      "C:\\DADOS\\CONDA3\\lib\\site-packages\\seaborn\\distributions.py:305: UserWarning: Dataset has 0 variance; skipping density estimate.\n",
      "  warnings.warn(msg, UserWarning)\n",
      "C:\\DADOS\\CONDA3\\lib\\site-packages\\seaborn\\distributions.py:305: UserWarning: Dataset has 0 variance; skipping density estimate.\n",
      "  warnings.warn(msg, UserWarning)\n",
      "C:\\DADOS\\CONDA3\\lib\\site-packages\\seaborn\\distributions.py:305: UserWarning: Dataset has 0 variance; skipping density estimate.\n",
      "  warnings.warn(msg, UserWarning)\n"
     ]
    },
    {
     "data": {
      "image/png": "[encoded data removed]",
      "text/plain": [
       "<Figure size 720x720 with 1 Axes>"
      ]
     },
     "metadata": {},
     "output_type": "display_data"
    }
   ],
   "source": [
    "fig, ax = plt.subplots(figsize=chart_size)\n",
    "sea.kdeplot(data=df_gl,x=\"ITAB\",hue=\"CLI\", common_norm=False, palette=litocolor, alpha=.5)\n",
    "fig.savefig('sist_quartz_hem.jpeg', transparent=None)\n",
    "plt.show()"
   ]
  },
  {
   "cell_type": "code",
   "execution_count": 53,
   "metadata": {},
   "outputs": [
    {
     "data": {
      "image/png": "[encoded data removed]",
      "text/plain": [
       "<Figure size 720x720 with 1 Axes>"
      ]
     },
     "metadata": {},
     "output_type": "display_data"
    }
   ],
   "source": [
    "fig, ax = plt.subplots(figsize=chart_size)\n",
    "sea.kdeplot(data=df_gl[df_gl[\"CLI\"].isin([\"IC\",\"IF\"])],x=\"ITAB\",hue=\"CLI\", common_norm=False, palette=litocolor, alpha=.5)\n",
    "fig.savefig('sist_quartz_hem.jpeg', transparent=None)\n",
    "plt.show()"
   ]
  },
  {
   "cell_type": "code",
   "execution_count": null,
   "metadata": {},
   "outputs": [],
   "source": []
  },
  {
   "cell_type": "code",
   "execution_count": null,
   "metadata": {},
   "outputs": [],
   "source": []
  },
  {
   "cell_type": "code",
   "execution_count": null,
   "metadata": {},
   "outputs": [],
   "source": []
  },
  {
   "cell_type": "code",
   "execution_count": null,
   "metadata": {},
   "outputs": [],
   "source": []
  },
  {
   "cell_type": "code",
   "execution_count": null,
   "metadata": {},
   "outputs": [],
   "source": []
  },
  {
   "cell_type": "code",
   "execution_count": null,
   "metadata": {},
   "outputs": [],
   "source": []
  },
  {
   "cell_type": "code",
   "execution_count": null,
   "metadata": {},
   "outputs": [],
   "source": []
  },
  {
   "cell_type": "code",
   "execution_count": null,
   "metadata": {},
   "outputs": [],
   "source": []
  },
  {
   "cell_type": "code",
   "execution_count": null,
   "metadata": {},
   "outputs": [],
   "source": []
  },
  {
   "cell_type": "code",
   "execution_count": null,
   "metadata": {},
   "outputs": [],
   "source": []
  },
  {
   "cell_type": "code",
   "execution_count": 89,
   "metadata": {},
   "outputs": [],
   "source": [
    "dffe = fso[[\"CLI\",\"FEGL\",\"FE1\",\"FE2\", \"FE3\",\"FE4\"]]"
   ]
  },
  {
   "cell_type": "code",
   "execution_count": null,
   "metadata": {
    "scrolled": true
   },
   "outputs": [],
   "source": []
  },
  {
   "cell_type": "code",
   "execution_count": 90,
   "metadata": {},
   "outputs": [
    {
     "data": {
      "text/html": [
       "<div>\n",
       "<style scoped>\n",
       "    .dataframe tbody tr th:only-of-type {\n",
       "        vertical-align: middle;\n",
       "    }\n",
       "\n",
       "    .dataframe tbody tr th {\n",
       "        vertical-align: top;\n",
       "    }\n",
       "\n",
       "    .dataframe thead th {\n",
       "        text-align: right;\n",
       "    }\n",
       "</style>\n",
       "<table border=\"1\" class=\"dataframe\">\n",
       "  <thead>\n",
       "    <tr style=\"text-align: right;\">\n",
       "      <th></th>\n",
       "      <th>CLI</th>\n",
       "      <th>FEGL</th>\n",
       "      <th>FE1</th>\n",
       "      <th>FE2</th>\n",
       "      <th>FE3</th>\n",
       "      <th>FE4</th>\n",
       "    </tr>\n",
       "  </thead>\n",
       "  <tbody>\n",
       "    <tr>\n",
       "      <th>0</th>\n",
       "      <td>HF</td>\n",
       "      <td>68.0093</td>\n",
       "      <td>67.90</td>\n",
       "      <td>68.97</td>\n",
       "      <td>66.97</td>\n",
       "      <td>67.69</td>\n",
       "    </tr>\n",
       "    <tr>\n",
       "      <th>1</th>\n",
       "      <td>HF</td>\n",
       "      <td>67.1453</td>\n",
       "      <td>67.84</td>\n",
       "      <td>68.21</td>\n",
       "      <td>64.10</td>\n",
       "      <td>66.08</td>\n",
       "    </tr>\n",
       "    <tr>\n",
       "      <th>2</th>\n",
       "      <td>HF</td>\n",
       "      <td>62.6861</td>\n",
       "      <td>68.42</td>\n",
       "      <td>68.15</td>\n",
       "      <td>64.73</td>\n",
       "      <td>54.12</td>\n",
       "    </tr>\n",
       "    <tr>\n",
       "      <th>3</th>\n",
       "      <td>HF</td>\n",
       "      <td>66.8656</td>\n",
       "      <td>65.52</td>\n",
       "      <td>67.56</td>\n",
       "      <td>67.54</td>\n",
       "      <td>67.44</td>\n",
       "    </tr>\n",
       "    <tr>\n",
       "      <th>4</th>\n",
       "      <td>HF</td>\n",
       "      <td>66.2993</td>\n",
       "      <td>61.05</td>\n",
       "      <td>66.73</td>\n",
       "      <td>64.65</td>\n",
       "      <td>67.93</td>\n",
       "    </tr>\n",
       "  </tbody>\n",
       "</table>\n",
       "</div>"
      ],
      "text/plain": [
       "  CLI     FEGL    FE1    FE2    FE3    FE4\n",
       "0  HF  68.0093  67.90  68.97  66.97  67.69\n",
       "1  HF  67.1453  67.84  68.21  64.10  66.08\n",
       "2  HF  62.6861  68.42  68.15  64.73  54.12\n",
       "3  HF  66.8656  65.52  67.56  67.54  67.44\n",
       "4  HF  66.2993  61.05  66.73  64.65  67.93"
      ]
     },
     "execution_count": 90,
     "metadata": {},
     "output_type": "execute_result"
    }
   ],
   "source": [
    "dffe.head()"
   ]
  },
  {
   "cell_type": "markdown",
   "metadata": {},
   "source": [
    "## ESTUDANDO DIFERENCIAIS GRANULOQUÍMICOS E POTENCIAS GEOMETALÚRGICOS"
   ]
  },
  {
   "cell_type": "markdown",
   "metadata": {},
   "source": [
    "## PRODUZINDO SUBSET PARA IC"
   ]
  },
  {
   "cell_type": "code",
   "execution_count": 91,
   "metadata": {},
   "outputs": [],
   "source": [
    "dfplt_icfe=dffe[dffe[\"CLI\"].isin([\"IC\"])]\n"
   ]
  },
  {
   "cell_type": "markdown",
   "metadata": {},
   "source": [
    "#### Testando"
   ]
  },
  {
   "cell_type": "code",
   "execution_count": 92,
   "metadata": {},
   "outputs": [
    {
     "data": {
      "text/html": [
       "<div>\n",
       "<style scoped>\n",
       "    .dataframe tbody tr th:only-of-type {\n",
       "        vertical-align: middle;\n",
       "    }\n",
       "\n",
       "    .dataframe tbody tr th {\n",
       "        vertical-align: top;\n",
       "    }\n",
       "\n",
       "    .dataframe thead th {\n",
       "        text-align: right;\n",
       "    }\n",
       "</style>\n",
       "<table border=\"1\" class=\"dataframe\">\n",
       "  <thead>\n",
       "    <tr style=\"text-align: right;\">\n",
       "      <th></th>\n",
       "      <th>CLI</th>\n",
       "      <th>FEGL</th>\n",
       "      <th>FE1</th>\n",
       "      <th>FE2</th>\n",
       "      <th>FE3</th>\n",
       "      <th>FE4</th>\n",
       "    </tr>\n",
       "  </thead>\n",
       "  <tbody>\n",
       "    <tr>\n",
       "      <th>29</th>\n",
       "      <td>IC</td>\n",
       "      <td>NaN</td>\n",
       "      <td>NaN</td>\n",
       "      <td>NaN</td>\n",
       "      <td>NaN</td>\n",
       "      <td>NaN</td>\n",
       "    </tr>\n",
       "    <tr>\n",
       "      <th>30</th>\n",
       "      <td>IC</td>\n",
       "      <td>NaN</td>\n",
       "      <td>NaN</td>\n",
       "      <td>NaN</td>\n",
       "      <td>NaN</td>\n",
       "      <td>NaN</td>\n",
       "    </tr>\n",
       "    <tr>\n",
       "      <th>34</th>\n",
       "      <td>IC</td>\n",
       "      <td>55.6833</td>\n",
       "      <td>66.20</td>\n",
       "      <td>64.33</td>\n",
       "      <td>50.24</td>\n",
       "      <td>24.91</td>\n",
       "    </tr>\n",
       "    <tr>\n",
       "      <th>42</th>\n",
       "      <td>IC</td>\n",
       "      <td>NaN</td>\n",
       "      <td>NaN</td>\n",
       "      <td>NaN</td>\n",
       "      <td>NaN</td>\n",
       "      <td>NaN</td>\n",
       "    </tr>\n",
       "    <tr>\n",
       "      <th>77</th>\n",
       "      <td>IC</td>\n",
       "      <td>37.3934</td>\n",
       "      <td>39.43</td>\n",
       "      <td>49.03</td>\n",
       "      <td>52.72</td>\n",
       "      <td>26.99</td>\n",
       "    </tr>\n",
       "    <tr>\n",
       "      <th>87</th>\n",
       "      <td>IC</td>\n",
       "      <td>45.8543</td>\n",
       "      <td>49.95</td>\n",
       "      <td>60.51</td>\n",
       "      <td>59.09</td>\n",
       "      <td>33.59</td>\n",
       "    </tr>\n",
       "    <tr>\n",
       "      <th>105</th>\n",
       "      <td>IC</td>\n",
       "      <td>33.1043</td>\n",
       "      <td>41.40</td>\n",
       "      <td>48.97</td>\n",
       "      <td>30.08</td>\n",
       "      <td>14.81</td>\n",
       "    </tr>\n",
       "    <tr>\n",
       "      <th>106</th>\n",
       "      <td>IC</td>\n",
       "      <td>31.4877</td>\n",
       "      <td>35.15</td>\n",
       "      <td>49.36</td>\n",
       "      <td>23.09</td>\n",
       "      <td>17.81</td>\n",
       "    </tr>\n",
       "    <tr>\n",
       "      <th>120</th>\n",
       "      <td>IC</td>\n",
       "      <td>NaN</td>\n",
       "      <td>NaN</td>\n",
       "      <td>NaN</td>\n",
       "      <td>NaN</td>\n",
       "      <td>NaN</td>\n",
       "    </tr>\n",
       "    <tr>\n",
       "      <th>140</th>\n",
       "      <td>IC</td>\n",
       "      <td>NaN</td>\n",
       "      <td>NaN</td>\n",
       "      <td>NaN</td>\n",
       "      <td>NaN</td>\n",
       "      <td>NaN</td>\n",
       "    </tr>\n",
       "    <tr>\n",
       "      <th>141</th>\n",
       "      <td>IC</td>\n",
       "      <td>NaN</td>\n",
       "      <td>NaN</td>\n",
       "      <td>NaN</td>\n",
       "      <td>NaN</td>\n",
       "      <td>NaN</td>\n",
       "    </tr>\n",
       "    <tr>\n",
       "      <th>142</th>\n",
       "      <td>IC</td>\n",
       "      <td>NaN</td>\n",
       "      <td>NaN</td>\n",
       "      <td>NaN</td>\n",
       "      <td>NaN</td>\n",
       "      <td>NaN</td>\n",
       "    </tr>\n",
       "    <tr>\n",
       "      <th>143</th>\n",
       "      <td>IC</td>\n",
       "      <td>NaN</td>\n",
       "      <td>NaN</td>\n",
       "      <td>NaN</td>\n",
       "      <td>NaN</td>\n",
       "      <td>NaN</td>\n",
       "    </tr>\n",
       "    <tr>\n",
       "      <th>144</th>\n",
       "      <td>IC</td>\n",
       "      <td>NaN</td>\n",
       "      <td>NaN</td>\n",
       "      <td>NaN</td>\n",
       "      <td>NaN</td>\n",
       "      <td>NaN</td>\n",
       "    </tr>\n",
       "    <tr>\n",
       "      <th>150</th>\n",
       "      <td>IC</td>\n",
       "      <td>NaN</td>\n",
       "      <td>NaN</td>\n",
       "      <td>NaN</td>\n",
       "      <td>NaN</td>\n",
       "      <td>NaN</td>\n",
       "    </tr>\n",
       "    <tr>\n",
       "      <th>153</th>\n",
       "      <td>IC</td>\n",
       "      <td>NaN</td>\n",
       "      <td>NaN</td>\n",
       "      <td>NaN</td>\n",
       "      <td>NaN</td>\n",
       "      <td>NaN</td>\n",
       "    </tr>\n",
       "    <tr>\n",
       "      <th>155</th>\n",
       "      <td>IC</td>\n",
       "      <td>NaN</td>\n",
       "      <td>NaN</td>\n",
       "      <td>NaN</td>\n",
       "      <td>NaN</td>\n",
       "      <td>NaN</td>\n",
       "    </tr>\n",
       "    <tr>\n",
       "      <th>156</th>\n",
       "      <td>IC</td>\n",
       "      <td>NaN</td>\n",
       "      <td>NaN</td>\n",
       "      <td>NaN</td>\n",
       "      <td>NaN</td>\n",
       "      <td>NaN</td>\n",
       "    </tr>\n",
       "    <tr>\n",
       "      <th>157</th>\n",
       "      <td>IC</td>\n",
       "      <td>NaN</td>\n",
       "      <td>NaN</td>\n",
       "      <td>NaN</td>\n",
       "      <td>NaN</td>\n",
       "      <td>NaN</td>\n",
       "    </tr>\n",
       "    <tr>\n",
       "      <th>203</th>\n",
       "      <td>IC</td>\n",
       "      <td>33.3248</td>\n",
       "      <td>38.31</td>\n",
       "      <td>55.11</td>\n",
       "      <td>53.71</td>\n",
       "      <td>18.15</td>\n",
       "    </tr>\n",
       "    <tr>\n",
       "      <th>225</th>\n",
       "      <td>IC</td>\n",
       "      <td>45.8277</td>\n",
       "      <td>54.88</td>\n",
       "      <td>57.73</td>\n",
       "      <td>54.65</td>\n",
       "      <td>20.76</td>\n",
       "    </tr>\n",
       "    <tr>\n",
       "      <th>226</th>\n",
       "      <td>IC</td>\n",
       "      <td>45.9853</td>\n",
       "      <td>48.88</td>\n",
       "      <td>54.83</td>\n",
       "      <td>53.58</td>\n",
       "      <td>31.43</td>\n",
       "    </tr>\n",
       "    <tr>\n",
       "      <th>236</th>\n",
       "      <td>IC</td>\n",
       "      <td>36.6176</td>\n",
       "      <td>36.91</td>\n",
       "      <td>50.56</td>\n",
       "      <td>53.83</td>\n",
       "      <td>26.84</td>\n",
       "    </tr>\n",
       "  </tbody>\n",
       "</table>\n",
       "</div>"
      ],
      "text/plain": [
       "    CLI     FEGL    FE1    FE2    FE3    FE4\n",
       "29   IC      NaN    NaN    NaN    NaN    NaN\n",
       "30   IC      NaN    NaN    NaN    NaN    NaN\n",
       "34   IC  55.6833  66.20  64.33  50.24  24.91\n",
       "42   IC      NaN    NaN    NaN    NaN    NaN\n",
       "77   IC  37.3934  39.43  49.03  52.72  26.99\n",
       "87   IC  45.8543  49.95  60.51  59.09  33.59\n",
       "105  IC  33.1043  41.40  48.97  30.08  14.81\n",
       "106  IC  31.4877  35.15  49.36  23.09  17.81\n",
       "120  IC      NaN    NaN    NaN    NaN    NaN\n",
       "140  IC      NaN    NaN    NaN    NaN    NaN\n",
       "141  IC      NaN    NaN    NaN    NaN    NaN\n",
       "142  IC      NaN    NaN    NaN    NaN    NaN\n",
       "143  IC      NaN    NaN    NaN    NaN    NaN\n",
       "144  IC      NaN    NaN    NaN    NaN    NaN\n",
       "150  IC      NaN    NaN    NaN    NaN    NaN\n",
       "153  IC      NaN    NaN    NaN    NaN    NaN\n",
       "155  IC      NaN    NaN    NaN    NaN    NaN\n",
       "156  IC      NaN    NaN    NaN    NaN    NaN\n",
       "157  IC      NaN    NaN    NaN    NaN    NaN\n",
       "203  IC  33.3248  38.31  55.11  53.71  18.15\n",
       "225  IC  45.8277  54.88  57.73  54.65  20.76\n",
       "226  IC  45.9853  48.88  54.83  53.58  31.43\n",
       "236  IC  36.6176  36.91  50.56  53.83  26.84"
      ]
     },
     "execution_count": 92,
     "metadata": {},
     "output_type": "execute_result"
    }
   ],
   "source": [
    "dfplt_icfe"
   ]
  },
  {
   "cell_type": "code",
   "execution_count": 77,
   "metadata": {},
   "outputs": [
    {
     "ename": "NameError",
     "evalue": "name 'dfplt' is not defined",
     "output_type": "error",
     "traceback": [
      "\u001b[1;31m---------------------------------------------------------------------------\u001b[0m",
      "\u001b[1;31mNameError\u001b[0m                                 Traceback (most recent call last)",
      "\u001b[1;32m<ipython-input-77-1bed431c5125>\u001b[0m in \u001b[0;36m<module>\u001b[1;34m\u001b[0m\n\u001b[1;32m----> 1\u001b[1;33m \u001b[0mdfplt\u001b[0m\u001b[1;33m.\u001b[0m\u001b[0mdropna\u001b[0m\u001b[1;33m(\u001b[0m\u001b[0mhow\u001b[0m\u001b[1;33m=\u001b[0m\u001b[1;34m'all'\u001b[0m\u001b[1;33m,\u001b[0m \u001b[0minplace\u001b[0m\u001b[1;33m=\u001b[0m\u001b[1;32mTrue\u001b[0m\u001b[1;33m)\u001b[0m\u001b[1;33m\u001b[0m\u001b[1;33m\u001b[0m\u001b[0m\n\u001b[0m",
      "\u001b[1;31mNameError\u001b[0m: name 'dfplt' is not defined"
     ]
    }
   ],
   "source": [
    "dfplt.dropna(how='all', inplace=True)"
   ]
  },
  {
   "cell_type": "code",
   "execution_count": 93,
   "metadata": {},
   "outputs": [
    {
     "data": {
      "text/plain": [
       "<AxesSubplot:>"
      ]
     },
     "execution_count": 93,
     "metadata": {},
     "output_type": "execute_result"
    },
    {
     "data": {
      "image/png": "[encoded data removed]",
      "text/plain": [
       "<Figure size 432x288 with 1 Axes>"
      ]
     },
     "metadata": {},
     "output_type": "display_data"
    }
   ],
   "source": [
    "sea.boxplot(data=dfplt_icfe)"
   ]
  },
  {
   "cell_type": "code",
   "execution_count": 94,
   "metadata": {
    "scrolled": true
   },
   "outputs": [
    {
     "data": {
      "text/plain": [
       "<AxesSubplot:ylabel='Density'>"
      ]
     },
     "execution_count": 94,
     "metadata": {},
     "output_type": "execute_result"
    },
    {
     "data": {
      "image/png": "[encoded data removed]",
      "text/plain": [
       "<Figure size 432x288 with 1 Axes>"
      ]
     },
     "metadata": {},
     "output_type": "display_data"
    }
   ],
   "source": [
    "sea.kdeplot(data=dfplt_icfe)"
   ]
  },
  {
   "cell_type": "code",
   "execution_count": 88,
   "metadata": {},
   "outputs": [
    {
     "ename": "TypeError",
     "evalue": "distplot() got an unexpected keyword argument 'data'",
     "output_type": "error",
     "traceback": [
      "\u001b[1;31m---------------------------------------------------------------------------\u001b[0m",
      "\u001b[1;31mTypeError\u001b[0m                                 Traceback (most recent call last)",
      "\u001b[1;32m<ipython-input-88-714fc53e8fb1>\u001b[0m in \u001b[0;36m<module>\u001b[1;34m\u001b[0m\n\u001b[1;32m----> 1\u001b[1;33m \u001b[0msea\u001b[0m\u001b[1;33m.\u001b[0m\u001b[0mdistplot\u001b[0m\u001b[1;33m(\u001b[0m\u001b[0mdata\u001b[0m\u001b[1;33m=\u001b[0m\u001b[0mdfplt_icfe\u001b[0m\u001b[1;33m,\u001b[0m \u001b[0mkde\u001b[0m\u001b[1;33m=\u001b[0m\u001b[1;32mTrue\u001b[0m\u001b[1;33m)\u001b[0m\u001b[1;33m\u001b[0m\u001b[1;33m\u001b[0m\u001b[0m\n\u001b[0m",
      "\u001b[1;31mTypeError\u001b[0m: distplot() got an unexpected keyword argument 'data'"
     ]
    }
   ],
   "source": [
    "sea.distplot(data=dfplt_icfe, kde=True)"
   ]
  },
  {
   "cell_type": "code",
   "execution_count": 95,
   "metadata": {},
   "outputs": [],
   "source": [
    "dfplt_iffe=dffe[dffe[\"CLI\"].isin([\"IF\"])]"
   ]
  },
  {
   "cell_type": "code",
   "execution_count": 96,
   "metadata": {},
   "outputs": [
    {
     "data": {
      "text/plain": [
       "<AxesSubplot:>"
      ]
     },
     "execution_count": 96,
     "metadata": {},
     "output_type": "execute_result"
    },
    {
     "data": {
      "image/png": "[encoded data removed]",
      "text/plain": [
       "<Figure size 432x288 with 1 Axes>"
      ]
     },
     "metadata": {},
     "output_type": "display_data"
    }
   ],
   "source": [
    "sea.boxplot(data=dfplt_icfe)"
   ]
  },
  {
   "cell_type": "code",
   "execution_count": 97,
   "metadata": {},
   "outputs": [
    {
     "data": {
      "text/plain": [
       "<AxesSubplot:ylabel='Density'>"
      ]
     },
     "execution_count": 97,
     "metadata": {},
     "output_type": "execute_result"
    },
    {
     "data": {
      "image/png": "[encoded data removed]",
      "text/plain": [
       "<Figure size 432x288 with 1 Axes>"
      ]
     },
     "metadata": {},
     "output_type": "display_data"
    }
   ],
   "source": [
    "sea.kdeplot(data=dfplt_iffe)"
   ]
  },
  {
   "cell_type": "code",
   "execution_count": 83,
   "metadata": {},
   "outputs": [],
   "source": [
    "dfplt_imnfe=dffe[dffe[\"CLI\"].isin([\"IMN\"])]"
   ]
  },
  {
   "cell_type": "code",
   "execution_count": 84,
   "metadata": {},
   "outputs": [
    {
     "data": {
      "text/plain": [
       "<AxesSubplot:>"
      ]
     },
     "execution_count": 84,
     "metadata": {},
     "output_type": "execute_result"
    },
    {
     "data": {
      "image/png": "[encoded data removed]",
      "text/plain": [
       "<Figure size 432x288 with 1 Axes>"
      ]
     },
     "metadata": {},
     "output_type": "display_data"
    }
   ],
   "source": [
    "sea.boxplot(data=dfplt_imnfe)"
   ]
  },
  {
   "cell_type": "code",
   "execution_count": 85,
   "metadata": {},
   "outputs": [
    {
     "data": {
      "text/plain": [
       "<AxesSubplot:ylabel='Density'>"
      ]
     },
     "execution_count": 85,
     "metadata": {},
     "output_type": "execute_result"
    },
    {
     "data": {
      "image/png": "[encoded data removed]",
      "text/plain": [
       "<Figure size 432x288 with 1 Axes>"
      ]
     },
     "metadata": {},
     "output_type": "display_data"
    }
   ],
   "source": [
    "sea.kdeplot(data=dfplt_imnfe)"
   ]
  },
  {
   "cell_type": "code",
   "execution_count": 98,
   "metadata": {},
   "outputs": [],
   "source": [
    "dfplt_hcfe=dffe[dffe[\"CLI\"].isin([\"HC\"])]"
   ]
  },
  {
   "cell_type": "code",
   "execution_count": 99,
   "metadata": {},
   "outputs": [
    {
     "data": {
      "text/plain": [
       "<AxesSubplot:ylabel='Density'>"
      ]
     },
     "execution_count": 99,
     "metadata": {},
     "output_type": "execute_result"
    },
    {
     "data": {
      "image/png": "[encoded data removed]",
      "text/plain": [
       "<Figure size 432x288 with 1 Axes>"
      ]
     },
     "metadata": {},
     "output_type": "display_data"
    }
   ],
   "source": [
    "sea.kdeplot(data=dfplt_hcfe)"
   ]
  },
  {
   "cell_type": "code",
   "execution_count": 100,
   "metadata": {},
   "outputs": [],
   "source": [
    "dfplt_hffe=dffe[dffe[\"CLI\"].isin([\"HF\"])]"
   ]
  },
  {
   "cell_type": "code",
   "execution_count": 101,
   "metadata": {},
   "outputs": [
    {
     "data": {
      "text/plain": [
       "<AxesSubplot:ylabel='Density'>"
      ]
     },
     "execution_count": 101,
     "metadata": {},
     "output_type": "execute_result"
    },
    {
     "data": {
      "image/png": "[encoded data removed]",
      "text/plain": [
       "<Figure size 432x288 with 1 Axes>"
      ]
     },
     "metadata": {},
     "output_type": "display_data"
    }
   ],
   "source": [
    "sea.kdeplot(data=dfplt_hffe)"
   ]
  },
  {
   "cell_type": "code",
   "execution_count": null,
   "metadata": {},
   "outputs": [],
   "source": []
  },
  {
   "cell_type": "code",
   "execution_count": null,
   "metadata": {},
   "outputs": [],
   "source": [
    "sea.kdeplot(data=dfplt,x=['FEGL','FE1','FE2','FE3','FE4'],hue=\"CLI\", common_norm=False, palette=litocolor, alpha=.5)"
   ]
  },
  {
   "cell_type": "code",
   "execution_count": null,
   "metadata": {},
   "outputs": [],
   "source": []
  },
  {
   "cell_type": "code",
   "execution_count": null,
   "metadata": {},
   "outputs": [],
   "source": []
  },
  {
   "cell_type": "code",
   "execution_count": null,
   "metadata": {},
   "outputs": [],
   "source": [
    "fig, ax = plt.subplots(figsize=chart_size)\n",
    "sea.kdeplot(data=dffe_valid,x=\"FEGL\",  alpha=.5)\n",
    "fig.savefig('FE_SEGREG.jpeg', transparent=None)"
   ]
  },
  {
   "cell_type": "code",
   "execution_count": null,
   "metadata": {},
   "outputs": [],
   "source": []
  },
  {
   "cell_type": "code",
   "execution_count": null,
   "metadata": {},
   "outputs": [],
   "source": []
  },
  {
   "cell_type": "code",
   "execution_count": null,
   "metadata": {},
   "outputs": [],
   "source": []
  },
  {
   "cell_type": "code",
   "execution_count": null,
   "metadata": {},
   "outputs": [],
   "source": []
  },
  {
   "cell_type": "code",
   "execution_count": null,
   "metadata": {},
   "outputs": [],
   "source": []
  },
  {
   "cell_type": "code",
   "execution_count": null,
   "metadata": {},
   "outputs": [],
   "source": []
  },
  {
   "cell_type": "code",
   "execution_count": null,
   "metadata": {},
   "outputs": [],
   "source": [
    "#import seaborn as sns\n",
    "sea.set_theme(style=\"white\")\n",
    "\n",
    "# Load the example mpg dataset\n",
    "mpg = sea.load_dataset(\"mpg\")\n",
    "\n",
    "# Plot miles per gallon against horsepower with other semantics\n",
    "sea.relplot(x=\"horsepower\", y=\"mpg\", hue=\"origin\", size=\"weight\",\n",
    "            sizes=(40, 400), alpha=.5, palette=\"muted\",\n",
    "            height=6, data=mpg)\n",
    "\n",
    "\n",
    "mpg.head()"
   ]
  },
  {
   "cell_type": "code",
   "execution_count": null,
   "metadata": {},
   "outputs": [],
   "source": [
    "sea.set_theme(style=\"whitegrid\")\n",
    "iris = sea.load_dataset(\"iris\")\n",
    "\n",
    "# \"Melt\" the dataset to \"long-form\" or \"tidy\" representation\n",
    "iris = pd.melt(iris, \"species\", var_name=\"measurement\")\n",
    "\n",
    "# Initialize the figure\n",
    "f, ax = plt.subplots()\n",
    "sea.despine(bottom=True, left=True)\n",
    "\n",
    "# Show each observation with a scatterplot\n",
    "sea.stripplot(x=\"value\", y=\"measurement\", hue=\"species\",\n",
    "              data=iris, dodge=True, alpha=.25, zorder=1)\n",
    "\n",
    "# Show the conditional means\n",
    "sea.pointplot(x=\"value\", y=\"measurement\", hue=\"species\",\n",
    "              data=iris, dodge=.532, join=False, palette=\"dark\",\n",
    "              markers=\"d\", scale=.75, ci=None)\n",
    "\n",
    "# Improve the legend \n",
    "handles, labels = ax.get_legend_handles_labels()\n",
    "ax.legend(handles[3:], labels[3:], title=\"species\",\n",
    "          handletextpad=0, columnspacing=1,\n",
    "          loc=\"lower right\", ncol=3, frameon=True)"
   ]
  },
  {
   "cell_type": "code",
   "execution_count": null,
   "metadata": {},
   "outputs": [],
   "source": [
    "df_fe = fso[[\"COMP\",\"CLI\",\"FEGL\", \"FE1\",\"fe2\",\"G1\"]]"
   ]
  },
  {
   "cell_type": "code",
   "execution_count": null,
   "metadata": {},
   "outputs": [],
   "source": []
  },
  {
   "cell_type": "code",
   "execution_count": null,
   "metadata": {},
   "outputs": [],
   "source": []
  },
  {
   "cell_type": "code",
   "execution_count": null,
   "metadata": {},
   "outputs": [],
   "source": []
  },
  {
   "cell_type": "code",
   "execution_count": null,
   "metadata": {},
   "outputs": [],
   "source": []
  },
  {
   "cell_type": "code",
   "execution_count": null,
   "metadata": {},
   "outputs": [],
   "source": []
  },
  {
   "cell_type": "code",
   "execution_count": null,
   "metadata": {},
   "outputs": [],
   "source": []
  },
  {
   "cell_type": "code",
   "execution_count": null,
   "metadata": {},
   "outputs": [],
   "source": []
  },
  {
   "cell_type": "markdown",
   "metadata": {},
   "source": [
    "## Getting an Event Plot to Show Data Available"
   ]
  },
  {
   "cell_type": "markdown",
   "metadata": {},
   "source": [
    "### Extract Subset From cli to g4:"
   ]
  },
  {
   "cell_type": "code",
   "execution_count": null,
   "metadata": {},
   "outputs": [],
   "source": [
    "df_event = fso.loc[0:, 'cli':'g4']\n",
    "df_event.shape"
   ]
  },
  {
   "cell_type": "code",
   "execution_count": null,
   "metadata": {},
   "outputs": [],
   "source": [
    "df_event.head()"
   ]
  },
  {
   "cell_type": "markdown",
   "metadata": {},
   "source": [
    "###### Creating vector for y axis ticks with grade names:\n"
   ]
  },
  {
   "cell_type": "code",
   "execution_count": null,
   "metadata": {},
   "outputs": [],
   "source": [
    "ticks = np.arange(0, len(param_event)).tolist()\n",
    "ticks\n"
   ]
  },
  {
   "cell_type": "markdown",
   "metadata": {},
   "source": [
    "###### Creating color vector with randomized values"
   ]
  },
  {
   "cell_type": "code",
   "execution_count": null,
   "metadata": {},
   "outputs": [],
   "source": [
    "mycolors = np.random.rand(len(param_event),3)\n",
    "mycolors"
   ]
  },
  {
   "cell_type": "markdown",
   "metadata": {},
   "source": [
    "###### Getting Data and Empty Cells for Plot:"
   ]
  },
  {
   "cell_type": "code",
   "execution_count": null,
   "metadata": {
    "scrolled": true
   },
   "outputs": [],
   "source": [
    "fig = plt.pyplot.figure(figsize=(20,20))  # sets the window to 8 x 6 inches\n",
    "valid = []\n",
    "for t in param_event:\n",
    "    valid.append(df_event.index[pd.notna(df_event[t])])\n",
    "\n",
    "plt.pyplot.eventplot(valid, color=mycolors, linelengths = 0.5, linewidth = 0.5)\n",
    "\n",
    "plt.pyplot.title('EventPlot: padrão gráfico de disponibilidade de dados')\n",
    "plt.pyplot.yticks(ticks, param_event)\n",
    "plt.pyplot.xlabel('Registros do Banco de dados')\n",
    "plt.pyplot.ylabel('Teores')\n",
    "plt.pyplot.show()\n",
    "\n",
    "fig.savefig('eventplot_data_avaiable.jpeg', transparent=None)"
   ]
  },
  {
   "cell_type": "code",
   "execution_count": null,
   "metadata": {},
   "outputs": [],
   "source": [
    "fig = plt.pyplot.figure(figsize=(40,20)) \n",
    "\n",
    "plt.pyplot.title('Contagem de todos os dados não nulos no banco FSO')\n",
    "fso.loc[:, ~fso.columns.isin(not_countable)].count().plot.bar(color='orange')\n",
    "fig.savefig('teores_total_counts.jpeg', transparent=None)"
   ]
  },
  {
   "cell_type": "code",
   "execution_count": null,
   "metadata": {},
   "outputs": [],
   "source": [
    "df_box = fso.loc[0:, 'cli':'g4']"
   ]
  },
  {
   "cell_type": "code",
   "execution_count": null,
   "metadata": {
    "scrolled": true
   },
   "outputs": [],
   "source": [
    "df_box2 = df_box[~df_box['cli'].isin(['AT', 'SR', 'VQ', 'DT', 'RO_L'])]"
   ]
  },
  {
   "cell_type": "code",
   "execution_count": null,
   "metadata": {},
   "outputs": [],
   "source": [
    "df_box3 = df_box[df_box['cli'].isin(cover + str_ore)]"
   ]
  },
  {
   "cell_type": "markdown",
   "metadata": {},
   "source": [
    "## Creating Boxplots for all Rocks:"
   ]
  },
  {
   "cell_type": "code",
   "execution_count": null,
   "metadata": {},
   "outputs": [],
   "source": [
    "fig = plt.pyplot.figure(figsize=(40,20)) \n",
    "feglbox = sea.boxplot(x=\"cli\", y=\"fegl\", data=df_box2)\n",
    "sea.set_context(\"notebook\", font_scale=2.0, rc={\"lines.linewidth\": 2.5})\n",
    "fig.savefig('boxplot_fegl.jpeg', transparent=None)"
   ]
  },
  {
   "cell_type": "markdown",
   "metadata": {},
   "source": [
    "## Ore Boxplots"
   ]
  },
  {
   "cell_type": "markdown",
   "metadata": {},
   "source": [
    "## Fegl"
   ]
  },
  {
   "cell_type": "code",
   "execution_count": null,
   "metadata": {
    "scrolled": true
   },
   "outputs": [],
   "source": [
    "fig = plt.pyplot.figure(figsize=(40,20)) \n",
    "gr = 'fegl'\n",
    "feglbox = sea.boxplot(x=\"cli\", y=gr, data=df_box3)\n",
    "feglbox.set_title('Ore: ' + gr)\n",
    "sea.set_context(\"notebook\", font_scale=2.0, rc={\"lines.linewidth\": 2.5})\n",
    "fig.savefig('boxplot_ore_'+gr+'.jpeg', transparent=None)"
   ]
  },
  {
   "cell_type": "markdown",
   "metadata": {},
   "source": [
    "##### We missed the opportunity to better evaluate and manage our blends by omitting and diluting the compact itabirite above 50% Fegl. The blue sea down dip is the rabbit hole."
   ]
  },
  {
   "cell_type": "markdown",
   "metadata": {},
   "source": [
    "## Sigl"
   ]
  },
  {
   "cell_type": "code",
   "execution_count": null,
   "metadata": {
    "scrolled": true
   },
   "outputs": [],
   "source": [
    "fig = plt.pyplot.figure(figsize=(40,20)) \n",
    "gr = 'sigl'\n",
    "box = sea.boxplot(x=\"cli\", y=gr, data=df_box3)\n",
    "box.set_title('Ore: ' + gr)\n",
    "sea.set_context(\"notebook\", font_scale=2.0, rc={\"lines.linewidth\": 2.5})\n",
    "fig.savefig('boxplot_ore_'+gr+'.jpeg', transparent=None)"
   ]
  },
  {
   "cell_type": "markdown",
   "metadata": {},
   "source": [
    "## Pgl"
   ]
  },
  {
   "cell_type": "code",
   "execution_count": null,
   "metadata": {
    "scrolled": true
   },
   "outputs": [],
   "source": [
    "fig = plt.pyplot.figure(figsize=(40,20)) \n",
    "gr = 'pgl'\n",
    "box = sea.boxplot(x=\"cli\", y=gr, data=df_box3)\n",
    "box.set_title('Ore: ' + gr)\n",
    "sea.set_context(\"notebook\", font_scale=2.0, rc={\"lines.linewidth\": 2.5})\n",
    "fig.savefig('boxplot_ore_'+gr+'.jpeg', transparent=None)"
   ]
  },
  {
   "cell_type": "markdown",
   "metadata": {},
   "source": [
    "##### Before modeling, check if some extreme pgl values ​​are close to intrusive bodies (hydrothermal contribution?)"
   ]
  },
  {
   "cell_type": "code",
   "execution_count": null,
   "metadata": {},
   "outputs": [],
   "source": [
    "fig = plt.pyplot.figure(figsize=(40,20)) \n",
    "gr = 'pgl'\n",
    "box = sea.boxplot(x=\"cli\", y=gr, data=df_box3)\n",
    "box.set_title('Ore: ' + gr)\n",
    "#setting yaxis to emphasize the box\n",
    "box.set(ylim=(0, 0.3))\n",
    "sea.set_context(\"notebook\", font_scale=2.0, rc={\"lines.linewidth\": 2.5})\n",
    "fig.savefig('boxplot_ore_'+gr+'_cl.jpeg', transparent=None)"
   ]
  },
  {
   "cell_type": "markdown",
   "metadata": {},
   "source": [
    "## Algl"
   ]
  },
  {
   "cell_type": "code",
   "execution_count": null,
   "metadata": {
    "scrolled": false
   },
   "outputs": [],
   "source": [
    "fig = plt.pyplot.figure(figsize=(40,20)) \n",
    "gr = 'algl'\n",
    "box = sea.boxplot(x=\"cli\", y=gr, data=df_box3)\n",
    "box.set_title('Ore: ' + gr)\n",
    "sea.set_context(\"notebook\", font_scale=2.0, rc={\"lines.linewidth\": 2.5})\n",
    "fig.savefig('boxplot_ore_'+gr+'.jpeg', transparent=None)"
   ]
  },
  {
   "cell_type": "markdown",
   "metadata": {},
   "source": [
    "## Mngl"
   ]
  },
  {
   "cell_type": "code",
   "execution_count": null,
   "metadata": {},
   "outputs": [],
   "source": [
    "fig = plt.pyplot.figure(figsize=(40,20)) \n",
    "gr = 'mngl'\n",
    "box = sea.boxplot(x=\"cli\", y=gr, data=df_box3)\n",
    "box.set_title('Ore: ' + gr)\n",
    "sea.set_context(\"notebook\", font_scale=2.0, rc={\"lines.linewidth\": 2.5})\n",
    "fig.savefig('boxplot_ore_'+gr+'.jpeg', transparent=None)"
   ]
  },
  {
   "cell_type": "markdown",
   "metadata": {},
   "source": [
    "##### In some situations, the FMN shows manganese grades compatible with the Mn ores in our operations. If these bodies are regionalized and define modelable space, it doesn't take much volume to be compatible with the annual production of Mn. Base for comparison: 3Mwt / year @ 30% Mngl (CKS ROM)"
   ]
  },
  {
   "cell_type": "markdown",
   "metadata": {},
   "source": [
    "##### Some samples can be located close to chemical traps (high PH + reductive/oxidative water levels), or even litostructural traps (dykes and other barriers)"
   ]
  },
  {
   "cell_type": "code",
   "execution_count": null,
   "metadata": {},
   "outputs": [],
   "source": [
    "# result is a list, order is preserved\n",
    "low_mn_rocks = [e for e in ore_rocks if e not in mn_rocks] \n",
    "\n",
    "df_box_low_mn = df_box[df_box['cli'].isin(low_mn_rocks)]\n",
    "\n",
    "fig = plt.pyplot.figure(figsize=(40,20)) \n",
    "gr = 'mngl'\n",
    "box = sea.boxplot(x=\"cli\", y=gr, data=df_box_low_mn)\n",
    "box.set_title('Ore: ' + gr)\n",
    "sea.set_context(\"notebook\", font_scale=2.0, rc={\"lines.linewidth\": 2.5})\n",
    "fig.savefig('boxplot_ore_'+gr+'_low_mn.jpeg', transparent=None)"
   ]
  },
  {
   "cell_type": "code",
   "execution_count": null,
   "metadata": {
    "scrolled": true
   },
   "outputs": [],
   "source": [
    "# only high manganese\n",
    "df_box_mn = df_box[df_box['cli'].isin(mn_rocks)]\n",
    "\n",
    "fig = plt.pyplot.figure(figsize=(40,20)) \n",
    "gr = 'mngl'\n",
    "box = sea.boxplot(x=gr, y=\"cli\",data=df_box_mn)\n",
    "box.set_title('Ore: ' + gr)\n",
    "sea.set_context(\"notebook\", font_scale=2.0, rc={\"lines.linewidth\": 2.5})\n",
    "fig.savefig('boxplot_ore_'+gr+'_mn_rocks.jpeg', transparent=None)"
   ]
  },
  {
   "cell_type": "markdown",
   "metadata": {},
   "source": [
    "## Pfgl"
   ]
  },
  {
   "cell_type": "code",
   "execution_count": null,
   "metadata": {},
   "outputs": [],
   "source": [
    "fig = plt.pyplot.figure(figsize=(40,20)) \n",
    "gr = 'pfgl'\n",
    "box = sea.boxplot(x=\"cli\", y=gr, data=df_box3)\n",
    "box.set_title('Ore: ' + gr)\n",
    "sea.set_context(\"notebook\", font_scale=2.0, rc={\"lines.linewidth\": 2.5})\n",
    "fig.savefig('boxplot_ore_'+gr+'.jpeg', transparent=None)\n"
   ]
  },
  {
   "cell_type": "markdown",
   "metadata": {},
   "source": [
    "## Tigl"
   ]
  },
  {
   "cell_type": "code",
   "execution_count": null,
   "metadata": {
    "scrolled": true
   },
   "outputs": [],
   "source": [
    "fig = plt.pyplot.figure(figsize=(40,20)) \n",
    "gr = 'tigl'\n",
    "box = sea.boxplot(x=\"cli\", y=gr, data=df_box3)\n",
    "box.set_title('Ore: ' + gr)\n",
    "sea.set_context(\"notebook\", font_scale=2.0, rc={\"lines.linewidth\": 2.5})\n",
    "fig.savefig('boxplot_ore_'+gr+'.jpeg', transparent=None)"
   ]
  },
  {
   "cell_type": "code",
   "execution_count": null,
   "metadata": {},
   "outputs": [],
   "source": [
    "df_ti = df_box[df_box['cli'].isin(['AG','FL', 'IN', 'DO', 'IGO'])]\n",
    "\n",
    "fig = plt.pyplot.figure(figsize=(40,20)) \n",
    "gr = 'mggl'\n",
    "box = sea.boxplot(x=\"cli\", y=gr, data=df_box3)\n",
    "box.set_title('Ore: ' + gr)\n",
    "sea.set_context(\"notebook\", font_scale=2.0, rc={\"lines.linewidth\": 2.5})\n",
    "fig.savefig('boxplot_ore_'+gr+'.jpeg', transparent=None)"
   ]
  },
  {
   "cell_type": "markdown",
   "metadata": {},
   "source": [
    "## Mggl"
   ]
  },
  {
   "cell_type": "code",
   "execution_count": null,
   "metadata": {},
   "outputs": [],
   "source": [
    "fig = plt.pyplot.figure(figsize=(40,20)) \n",
    "gr = 'mggl'\n",
    "box = sea.boxplot(x=\"cli\", y=gr, data=df_box3)\n",
    "box.set_title('Ore: ' + gr)\n",
    "sea.set_context(\"notebook\", font_scale=2.0, rc={\"lines.linewidth\": 2.5})\n",
    "fig.savefig('boxplot_ore_'+gr+'.jpeg', transparent=None)"
   ]
  },
  {
   "cell_type": "markdown",
   "metadata": {},
   "source": [
    "## Cagl"
   ]
  },
  {
   "cell_type": "code",
   "execution_count": null,
   "metadata": {
    "scrolled": true
   },
   "outputs": [],
   "source": [
    "fig = plt.pyplot.figure(figsize=(40,20)) \n",
    "gr = 'cagl'\n",
    "box = sea.boxplot(x=\"cli\", y=gr, data=df_box3)\n",
    "box.set_title('Ore: ' + gr)\n",
    "sea.set_context(\"notebook\", font_scale=2.0, rc={\"lines.linewidth\": 2.5})\n",
    "fig.savefig('boxplot_ore_'+gr+'.jpeg', transparent=None)"
   ]
  },
  {
   "cell_type": "markdown",
   "metadata": {},
   "source": [
    "##### Standard plot is useless in this case... Spliting carbonatic rocks..\n"
   ]
  },
  {
   "cell_type": "code",
   "execution_count": null,
   "metadata": {},
   "outputs": [],
   "source": [
    "df_box_sil  = df_box3[~df_box3['cli'].isin(carb_rocks)]\n",
    "df_box_carb = df_box3[df_box3['cli'].isin(carb_rocks)]"
   ]
  },
  {
   "cell_type": "code",
   "execution_count": null,
   "metadata": {},
   "outputs": [],
   "source": [
    "fig = plt.pyplot.figure(figsize=(40,20)) \n",
    "gr = 'cagl'\n",
    "box = sea.boxplot(x=\"cli\", y=gr, data=df_box_sil)\n",
    "#setting yaxis to emphasize the box\n",
    "box.set(ylim=(0, 2))\n",
    "box.set_title('Ore: ' + gr)\n",
    "sea.set_context(\"notebook\", font_scale=2.0, rc={\"lines.linewidth\": 2.5})\n",
    "fig.savefig('boxplot_ore_'+gr+'.jpeg', transparent=None)"
   ]
  },
  {
   "cell_type": "code",
   "execution_count": null,
   "metadata": {},
   "outputs": [],
   "source": [
    "fig = plt.pyplot.figure(figsize=(40,20)) \n",
    "gr = 'cagl'\n",
    "box = sea.boxplot(x=gr, y=\"cli\", data=df_box_carb)\n",
    "\n",
    "box.set_title('Ore: ' + gr)\n",
    "sea.set_context(\"notebook\", font_scale=2.0, rc={\"lines.linewidth\": 2.5})\n",
    "fig.savefig('boxplot_ore_'+gr+'.jpeg', transparent=None)"
   ]
  },
  {
   "cell_type": "markdown",
   "metadata": {
    "scrolled": true
   },
   "source": [
    "## G1"
   ]
  },
  {
   "cell_type": "code",
   "execution_count": null,
   "metadata": {},
   "outputs": [],
   "source": [
    "fig = plt.pyplot.figure(figsize=(40,20)) \n",
    "gr = 'g1'\n",
    "box = sea.boxplot(x=\"cli\", y=gr, data=df_box3)\n",
    "box.set_title('Ore: ' + gr)\n",
    "sea.set_context(\"notebook\", font_scale=2.0, rc={\"lines.linewidth\": 2.5})\n",
    "fig.savefig('boxplot_ore_'+gr+'.jpeg', transparent=None)"
   ]
  },
  {
   "cell_type": "markdown",
   "metadata": {},
   "source": [
    "## G2"
   ]
  },
  {
   "cell_type": "code",
   "execution_count": null,
   "metadata": {},
   "outputs": [],
   "source": [
    "fig = plt.pyplot.figure(figsize=(40,20)) \n",
    "gr = 'g2'\n",
    "box = sea.boxplot(x=\"cli\", y=gr, data=df_box3)\n",
    "box.set_title('Ore: ' + gr)\n",
    "sea.set_context(\"notebook\", font_scale=2.0, rc={\"lines.linewidth\": 2.5})\n",
    "fig.savefig('boxplot_ore_'+gr+'.jpeg', transparent=None)"
   ]
  },
  {
   "cell_type": "markdown",
   "metadata": {},
   "source": [
    "## G3"
   ]
  },
  {
   "cell_type": "code",
   "execution_count": null,
   "metadata": {},
   "outputs": [],
   "source": [
    "fig = plt.pyplot.figure(figsize=(40,20)) \n",
    "gr = 'g3'\n",
    "box = sea.boxplot(x=\"cli\", y=gr, data=df_box3)\n",
    "box.set_title('Ore: ' + gr)\n",
    "sea.set_context(\"notebook\", font_scale=2.0, rc={\"lines.linewidth\": 2.5})\n",
    "fig.savefig('boxplot_ore_'+gr+'.jpeg', transparent=None)"
   ]
  },
  {
   "cell_type": "markdown",
   "metadata": {
    "scrolled": true
   },
   "source": [
    "## G4"
   ]
  },
  {
   "cell_type": "code",
   "execution_count": null,
   "metadata": {},
   "outputs": [],
   "source": [
    "fig = plt.pyplot.figure(figsize=(40,20)) \n",
    "gr = 'g4'\n",
    "box = sea.boxplot(x=\"cli\", y=gr, data=df_box3)\n",
    "box.set_title('Ore: ' + gr)\n",
    "sea.set_context(\"notebook\", font_scale=2.0, rc={\"lines.linewidth\": 2.5})\n",
    "fig.savefig('boxplot_ore_'+gr+'.jpeg', transparent=None)"
   ]
  },
  {
   "cell_type": "code",
   "execution_count": null,
   "metadata": {},
   "outputs": [],
   "source": []
  },
  {
   "cell_type": "code",
   "execution_count": null,
   "metadata": {},
   "outputs": [],
   "source": []
  },
  {
   "cell_type": "code",
   "execution_count": null,
   "metadata": {},
   "outputs": [],
   "source": []
  },
  {
   "cell_type": "code",
   "execution_count": null,
   "metadata": {},
   "outputs": [],
   "source": [
    "\n",
    "df_gl = fso.loc[0:, 'cli':'pfgl']"
   ]
  },
  {
   "cell_type": "code",
   "execution_count": null,
   "metadata": {},
   "outputs": [],
   "source": [
    "df_gl.dropna(how='any').shape"
   ]
  },
  {
   "cell_type": "code",
   "execution_count": null,
   "metadata": {
    "scrolled": true
   },
   "outputs": [],
   "source": [
    "df_gl2 = df_gl[df_gl['cli'].isin(str_ore)].dropna(how='any')\n",
    "df_gl2"
   ]
  },
  {
   "cell_type": "code",
   "execution_count": null,
   "metadata": {},
   "outputs": [],
   "source": [
    "sea.pairplot(df_gl2, kind=\"scatter\", hue=\"cli\",  palette=\"Set2\")\n",
    "plt.pyplot.show()"
   ]
  },
  {
   "cell_type": "code",
   "execution_count": null,
   "metadata": {},
   "outputs": [],
   "source": [
    "df_gl3 = df_gl2[df_gl2['cli'].isin(basin_rock)]"
   ]
  },
  {
   "cell_type": "code",
   "execution_count": null,
   "metadata": {},
   "outputs": [],
   "source": [
    "df_gl3.head()"
   ]
  },
  {
   "cell_type": "code",
   "execution_count": null,
   "metadata": {},
   "outputs": [],
   "source": [
    "sea.pairplot(df_gl3, kind=\"scatter\", hue=\"cli\",  palette=\"Set2\")\n",
    "plt.pyplot.show()"
   ]
  },
  {
   "cell_type": "code",
   "execution_count": null,
   "metadata": {},
   "outputs": [],
   "source": []
  },
  {
   "cell_type": "code",
   "execution_count": null,
   "metadata": {},
   "outputs": [],
   "source": []
  },
  {
   "cell_type": "code",
   "execution_count": null,
   "metadata": {},
   "outputs": [],
   "source": [
    "cac.groupby(['geocod'])['fegl'].describe()\n"
   ]
  },
  {
   "cell_type": "code",
   "execution_count": null,
   "metadata": {},
   "outputs": [],
   "source": [
    "cac[cac['compid']=='10M_FLP'].hist(by='geocod', column='fegl', histtype='step', bins=20, figsize=(15,10), alpha=0.5)"
   ]
  },
  {
   "cell_type": "code",
   "execution_count": null,
   "metadata": {},
   "outputs": [],
   "source": [
    "# EXAMPLE: filterinfDataframe = dfObj[(dfObj['Sale'] > 30) & (dfObj['Sale'] < 33) ]"
   ]
  },
  {
   "cell_type": "code",
   "execution_count": null,
   "metadata": {
    "scrolled": true
   },
   "outputs": [],
   "source": [
    "cac[(cac['geocod'].isin(fresh_clean)) & (cac['compid']=='10M_FLP')].groupby(['geocod']).fegl.plot.hist(stacked=True, \\\n",
    "                                                                                                    \n",
    "    histtype='step', bins=20, figsize=(10,10), legend=True)"
   ]
  },
  {
   "cell_type": "code",
   "execution_count": null,
   "metadata": {
    "scrolled": true
   },
   "outputs": [],
   "source": [
    "cac[(cac['geocod'].isin(fresh_clean)) & (cac['compid']=='10M_FLP')].groupby(['geocod']).fegl.plot.hist(stacked=True, \\\n",
    "                                                                                                    \n",
    "    histtype='step', bins=20, figsize=(10,10), legend=True, density=True)"
   ]
  },
  {
   "cell_type": "code",
   "execution_count": null,
   "metadata": {},
   "outputs": [],
   "source": []
  },
  {
   "cell_type": "code",
   "execution_count": null,
   "metadata": {},
   "outputs": [],
   "source": [
    "sea.set_theme()"
   ]
  },
  {
   "cell_type": "code",
   "execution_count": null,
   "metadata": {},
   "outputs": [],
   "source": [
    "penguins=sea.load_dataset(\"penguins\")"
   ]
  },
  {
   "cell_type": "code",
   "execution_count": null,
   "metadata": {},
   "outputs": [],
   "source": []
  },
  {
   "cell_type": "code",
   "execution_count": null,
   "metadata": {},
   "outputs": [],
   "source": [
    "g=sea.PairGrid(penguins,hue=\"species\",corner=True)\n",
    "g.map_lower(sea.kdeplot,hue=None,levels=5,color=\".2\")\n",
    "g.map_lower(sea.scatterplot,marker=\"+\")\n",
    "g.map_diag(sea.histplot,element=\"step\",linewidth=0,kde=True)\n",
    "g.add_legend(frameon=True)\n",
    "g.legend.set_bbox_to_anchor((.61,.6))"
   ]
  },
  {
   "cell_type": "code",
   "execution_count": null,
   "metadata": {},
   "outputs": [],
   "source": [
    "print(sea.__version__)"
   ]
  },
  {
   "cell_type": "code",
   "execution_count": null,
   "metadata": {},
   "outputs": [],
   "source": [
    "g = sea.PairGrid(penguins, hue=\"species\", corner=True)\n",
    "g.map_lower(sea.kdeplot, hue=None, levels=5, color=\".2\")\n",
    "g.map_lower(sea.scatterplot, marker=\"+\")\n",
    "g.map_diag(sea.histplot, element=\"step\", linewidth=0, kde=True)\n",
    "g.add_legend(frameon=True)\n",
    "g.legend.set_bbox_to_anchor((.61, .6))"
   ]
  },
  {
   "cell_type": "code",
   "execution_count": null,
   "metadata": {},
   "outputs": [],
   "source": []
  },
  {
   "cell_type": "code",
   "execution_count": null,
   "metadata": {},
   "outputs": [],
   "source": []
  },
  {
   "cell_type": "code",
   "execution_count": null,
   "metadata": {},
   "outputs": [],
   "source": []
  }
 ],
 "metadata": {
  "kernelspec": {
   "display_name": "Python 3 (ipykernel)",
   "language": "python",
   "name": "python3"
  },
  "language_info": {
   "codemirror_mode": {
    "name": "ipython",
    "version": 3
   },
   "file_extension": ".py",
   "mimetype": "text/x-python",
   "name": "python",
   "nbconvert_exporter": "python",
   "pygments_lexer": "ipython3",
   "version": "3.8.10"
  }
 },
 "nbformat": 4,
 "nbformat_minor": 4
}
