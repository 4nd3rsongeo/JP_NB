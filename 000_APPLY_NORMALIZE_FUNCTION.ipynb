{
 "cells": [
  {
   "cell_type": "code",
   "execution_count": 2,
   "id": "b69b57b2",
   "metadata": {},
   "outputs": [
    {
     "name": "stdout",
     "output_type": "stream",
     "text": [
      "Original DataFrame:\n",
      "    X   Y\n",
      "0  1  45\n",
      "1  2  65\n",
      "2  3  89\n",
      "\n",
      "Normalized:\n",
      "     X   Y\n",
      "0 -0.5  45\n",
      "1 -0.5  65\n",
      "2 -0.5  89\n"
     ]
    }
   ],
   "source": [
    "\n",
    "# Import pandas package\n",
    "import pandas as pd\n",
    "\n",
    "import numpy as np\n",
    " \n",
    "def normalize(x, y):\n",
    "    x_new = ((x - np.mean([x, y])) /\n",
    "             (max(x, y) - min(x, y)))\n",
    "     \n",
    "    # print(x_new)\n",
    "    return x_new\n",
    " \n",
    "def main():\n",
    "     \n",
    "    # create a dictionary with three fields each\n",
    "    data = {\n",
    "        'X':[1, 2, 3],\n",
    "        'Y':[45, 65, 89] }\n",
    "     \n",
    "    # Convert the dictionary into DataFrame\n",
    "    df = pd.DataFrame(data)\n",
    "    print(\"Original DataFrame:\\n\", df)\n",
    "     \n",
    "    df['X'] = df.apply(lambda row : normalize(row['X'],\n",
    "                                  row['Y']), axis = 1)\n",
    "  \n",
    "    print('\\nNormalized:')\n",
    "    print(df)\n",
    "  \n",
    "if __name__ == '__main__':\n",
    "    main()"
   ]
  },
  {
   "cell_type": "code",
   "execution_count": null,
   "id": "8bc38053",
   "metadata": {},
   "outputs": [],
   "source": []
  }
 ],
 "metadata": {
  "kernelspec": {
   "display_name": "Python 3 (ipykernel)",
   "language": "python",
   "name": "python3"
  },
  "language_info": {
   "codemirror_mode": {
    "name": "ipython",
    "version": 3
   },
   "file_extension": ".py",
   "mimetype": "text/x-python",
   "name": "python",
   "nbconvert_exporter": "python",
   "pygments_lexer": "ipython3",
   "version": "3.8.10"
  }
 },
 "nbformat": 4,
 "nbformat_minor": 5
}
