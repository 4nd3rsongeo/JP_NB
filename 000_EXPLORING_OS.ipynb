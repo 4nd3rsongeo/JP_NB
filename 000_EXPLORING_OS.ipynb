{
 "cells": [
  {
   "cell_type": "code",
   "execution_count": 1,
   "id": "316b7446",
   "metadata": {},
   "outputs": [],
   "source": [
    "import os"
   ]
  },
  {
   "cell_type": "code",
   "execution_count": 3,
   "id": "f2eaa135",
   "metadata": {},
   "outputs": [],
   "source": [
    "# caminho da pasta\n",
    "path = 'c:\\dados\\jp_nb'"
   ]
  },
  {
   "cell_type": "code",
   "execution_count": 10,
   "id": "0a3f0237",
   "metadata": {},
   "outputs": [],
   "source": [
    "# listar tudo numa pasta\n",
    "arquivos=os.listdir()"
   ]
  },
  {
   "cell_type": "code",
   "execution_count": 11,
   "id": "cc427185",
   "metadata": {},
   "outputs": [],
   "source": [
    "# current working directory\n",
    "caminho=os.getcwd()"
   ]
  },
  {
   "cell_type": "code",
   "execution_count": 12,
   "id": "77bc75e4",
   "metadata": {},
   "outputs": [
    {
     "data": {
      "text/plain": [
       "'c:\\\\DADOS\\\\JP_NB'"
      ]
     },
     "execution_count": 12,
     "metadata": {},
     "output_type": "execute_result"
    }
   ],
   "source": [
    "caminho"
   ]
  },
  {
   "cell_type": "code",
   "execution_count": 13,
   "id": "e23f153d",
   "metadata": {},
   "outputs": [
    {
     "data": {
      "text/plain": [
       "'novo.xlsx'"
      ]
     },
     "execution_count": 13,
     "metadata": {},
     "output_type": "execute_result"
    }
   ],
   "source": [
    "# copiar arquivos\n",
    "import shutil\n",
    "\n",
    "shutil.copy2('Empresas.xlsx','novo.xlsx' )"
   ]
  },
  {
   "cell_type": "code",
   "execution_count": 16,
   "id": "266980dd",
   "metadata": {},
   "outputs": [],
   "source": [
    "for arq in arquivos:\n",
    "    if '.xlsx' in arq:\n",
    "        os.rename(arq, f'pastateste\\{arq}')"
   ]
  },
  {
   "cell_type": "code",
   "execution_count": null,
   "id": "88a75acb",
   "metadata": {},
   "outputs": [],
   "source": []
  }
 ],
 "metadata": {
  "kernelspec": {
   "display_name": "Python 3 (ipykernel)",
   "language": "python",
   "name": "python3"
  },
  "language_info": {
   "codemirror_mode": {
    "name": "ipython",
    "version": 3
   },
   "file_extension": ".py",
   "mimetype": "text/x-python",
   "name": "python",
   "nbconvert_exporter": "python",
   "pygments_lexer": "ipython3",
   "version": "3.9.12"
  }
 },
 "nbformat": 4,
 "nbformat_minor": 5
}
