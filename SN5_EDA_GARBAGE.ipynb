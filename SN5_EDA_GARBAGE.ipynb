{
 "cells": [
  {
   "cell_type": "code",
   "execution_count": 1,
   "id": "a339957c",
   "metadata": {},
   "outputs": [],
   "source": [
    "import pandas as pd"
   ]
  },
  {
   "cell_type": "code",
   "execution_count": null,
   "id": "607cbae0",
   "metadata": {},
   "outputs": [],
   "source": [
    "df = pd.DataFrame(dict(age=[5, 6, np.NaN],\n",
    "                   born=[pd.NaT, pd.Timestamp('1939-05-27'),\n",
    "                         pd.Timestamp('1940-04-25')],\n",
    "                   name=['Alfred', 'Batman', ''],\n",
    "                   toy=[None, 'Batmobile', 'Joker']))"
   ]
  },
  {
   "cell_type": "code",
   "execution_count": null,
   "id": "fa8912e8",
   "metadata": {},
   "outputs": [],
   "source": [
    "df"
   ]
  },
  {
   "cell_type": "code",
   "execution_count": null,
   "id": "416753bb",
   "metadata": {},
   "outputs": [],
   "source": [
    "df.notna()"
   ]
  },
  {
   "cell_type": "code",
   "execution_count": null,
   "id": "353831d8",
   "metadata": {},
   "outputs": [],
   "source": [
    "df_gl.dropna(how='any').shape"
   ]
  },
  {
   "cell_type": "code",
   "execution_count": null,
   "id": "7c6dc787",
   "metadata": {},
   "outputs": [],
   "source": [
    "df_gl2 = df_gl[df_gl['cli'].isin(str_ore)].dropna(how='any')\n",
    "df_gl2"
   ]
  },
  {
   "cell_type": "code",
   "execution_count": null,
   "id": "650e9b6f",
   "metadata": {},
   "outputs": [],
   "source": [
    "sea.pairplot(df_gl2, kind=\"scatter\", hue=\"cli\",  palette=\"Set2\",  corner=True)\n",
    "plt.pyplot.show()"
   ]
  },
  {
   "cell_type": "code",
   "execution_count": null,
   "id": "2310103d",
   "metadata": {},
   "outputs": [],
   "source": [
    "df_gl3 = df_gl2[df_gl2['cli'].isin(basin_rocks)]"
   ]
  },
  {
   "cell_type": "code",
   "execution_count": null,
   "id": "64d17560",
   "metadata": {},
   "outputs": [],
   "source": [
    "df_gl3.head()"
   ]
  },
  {
   "cell_type": "code",
   "execution_count": null,
   "id": "0e892692",
   "metadata": {},
   "outputs": [],
   "source": [
    "sea.pairplot(df_gl3, kind=\"scatter\", hue=\"cli\",  palette=\"Set2\", corner=True)\n",
    "plt.pyplot.show()"
   ]
  },
  {
   "cell_type": "code",
   "execution_count": null,
   "id": "8e4096a4",
   "metadata": {},
   "outputs": [],
   "source": [
    "fso.groupby(['cli'])['fegl'].describe()"
   ]
  },
  {
   "cell_type": "code",
   "execution_count": null,
   "id": "82c59cdb",
   "metadata": {},
   "outputs": [],
   "source": [
    "fso[fso['fegl']>=0.01].hist(by='cli', column='fegl', histtype='step', bins=20, figsize=(15,10), alpha=0.5)"
   ]
  },
  {
   "cell_type": "code",
   "execution_count": null,
   "id": "d8d16567",
   "metadata": {},
   "outputs": [],
   "source": [
    "fso[fso['fegl']>=0.01].hist(by='cli', column='sigl', histtype='step', bins=20, figsize=(15,10), alpha=0.5)"
   ]
  },
  {
   "cell_type": "code",
   "execution_count": null,
   "id": "acc9d7a9",
   "metadata": {},
   "outputs": [],
   "source": []
  },
  {
   "cell_type": "code",
   "execution_count": null,
   "id": "a855715b",
   "metadata": {},
   "outputs": [],
   "source": []
  }
 ],
 "metadata": {
  "kernelspec": {
   "display_name": "Python 3 (ipykernel)",
   "language": "python",
   "name": "python3"
  },
  "language_info": {
   "codemirror_mode": {
    "name": "ipython",
    "version": 3
   },
   "file_extension": ".py",
   "mimetype": "text/x-python",
   "name": "python",
   "nbconvert_exporter": "python",
   "pygments_lexer": "ipython3",
   "version": "3.8.10"
  }
 },
 "nbformat": 4,
 "nbformat_minor": 5
}
