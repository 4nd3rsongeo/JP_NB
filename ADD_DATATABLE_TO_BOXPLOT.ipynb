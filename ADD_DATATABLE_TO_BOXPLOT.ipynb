{
 "cells": [
  {
   "cell_type": "code",
   "execution_count": 6,
   "id": "fb3355fd",
   "metadata": {},
   "outputs": [],
   "source": [
    "import matplotlib.pyplot as plt\n",
    "import numpy as np\n",
    "import pandas as pd\n",
    "\n",
    "charsize=[10,10]\n",
    "\n",
    "\n",
    "df = pd.DataFrame({\"count\" : np.sort(np.random.rand(100))*100})\n",
    "\n",
    "summary=pd.DataFrame(df['count'].describe())\n",
    "\n"
   ]
  },
  {
   "cell_type": "code",
   "execution_count": null,
   "id": "9fce3de3",
   "metadata": {},
   "outputs": [],
   "source": [
    "#https://stackoverflow.com/questions/47332924/plot-table-alongside-sns-barplot"
   ]
  },
  {
   "cell_type": "markdown",
   "id": "cc1d7403",
   "metadata": {},
   "source": [
    "### USING BBOX"
   ]
  },
  {
   "cell_type": "code",
   "execution_count": 13,
   "id": "7274c77f",
   "metadata": {},
   "outputs": [],
   "source": [
    "#You may freely position the table on your graph using the bbox argument,\n",
    "# bbox = [left, bottom, width, height] where left, bottom, width, height are fractions of the axes."
   ]
  },
  {
   "cell_type": "code",
   "execution_count": 14,
   "id": "3417bcf3",
   "metadata": {},
   "outputs": [
    {
     "data": {
      "image/png": "[encoded data removed]",
      "text/plain": [
       "<Figure size 432x288 with 1 Axes>"
      ]
     },
     "metadata": {
      "needs_background": "light"
     },
     "output_type": "display_data"
    }
   ],
   "source": [
    "import matplotlib.pyplot as plt\n",
    "import numpy as np\n",
    "import pandas as pd\n",
    "\n",
    "df = pd.DataFrame({\"count\" : np.sort(np.random.rand(100))*100})\n",
    "\n",
    "summary=pd.DataFrame(df['count'].describe())\n",
    "\n",
    "plt.barh(range(len(df)),df[\"count\"])\n",
    "\n",
    "plt.table(cellText=summary.values,\n",
    "          rowLabels=summary.index,\n",
    "          colLabels=summary.columns,\n",
    "          cellLoc = 'right', rowLoc = 'center',\n",
    "          loc='right', bbox=[.65,.05,.3,.5])\n",
    "\n",
    "plt.savefig(\"out.png\")\n",
    "plt.show()"
   ]
  },
  {
   "cell_type": "code",
   "execution_count": null,
   "id": "3049699d",
   "metadata": {},
   "outputs": [],
   "source": [
    "#This would also allow to put the table outside the axes by choosing the paramters larger than 1.\n",
    "#In order to make space for the table, you can then shrink the subplots, plt.subplots_adjust(right=0.75)."
   ]
  },
  {
   "cell_type": "code",
   "execution_count": 15,
   "id": "95d2f83d",
   "metadata": {},
   "outputs": [
    {
     "data": {
      "image/png": "[encoded data removed]",
      "text/plain": [
       "<Figure size 432x288 with 1 Axes>"
      ]
     },
     "metadata": {
      "needs_background": "light"
     },
     "output_type": "display_data"
    }
   ],
   "source": [
    "plt.table(cellText=summary.values,\n",
    "          rowLabels=summary.index,\n",
    "          colLabels=summary.columns,\n",
    "          cellLoc = 'right', rowLoc = 'center',\n",
    "          loc='right', bbox=[1,.3,.3,.5])\n",
    "\n",
    "plt.subplots_adjust(right=0.75)"
   ]
  },
  {
   "cell_type": "markdown",
   "id": "72b5b9b3",
   "metadata": {},
   "source": [
    "### USING DEDICATED SUBPLOT"
   ]
  },
  {
   "cell_type": "code",
   "execution_count": 16,
   "id": "62d020f1",
   "metadata": {},
   "outputs": [],
   "source": [
    "#Quick look to tables"
   ]
  },
  {
   "cell_type": "code",
   "execution_count": 7,
   "id": "64f3e333",
   "metadata": {},
   "outputs": [
    {
     "data": {
      "text/html": [
       "<div>\n",
       "<style scoped>\n",
       "    .dataframe tbody tr th:only-of-type {\n",
       "        vertical-align: middle;\n",
       "    }\n",
       "\n",
       "    .dataframe tbody tr th {\n",
       "        vertical-align: top;\n",
       "    }\n",
       "\n",
       "    .dataframe thead th {\n",
       "        text-align: right;\n",
       "    }\n",
       "</style>\n",
       "<table border=\"1\" class=\"dataframe\">\n",
       "  <thead>\n",
       "    <tr style=\"text-align: right;\">\n",
       "      <th></th>\n",
       "      <th>count</th>\n",
       "    </tr>\n",
       "  </thead>\n",
       "  <tbody>\n",
       "    <tr>\n",
       "      <th>0</th>\n",
       "      <td>1.859026</td>\n",
       "    </tr>\n",
       "    <tr>\n",
       "      <th>1</th>\n",
       "      <td>2.066667</td>\n",
       "    </tr>\n",
       "    <tr>\n",
       "      <th>2</th>\n",
       "      <td>3.367093</td>\n",
       "    </tr>\n",
       "    <tr>\n",
       "      <th>3</th>\n",
       "      <td>3.789976</td>\n",
       "    </tr>\n",
       "    <tr>\n",
       "      <th>4</th>\n",
       "      <td>4.459404</td>\n",
       "    </tr>\n",
       "    <tr>\n",
       "      <th>...</th>\n",
       "      <td>...</td>\n",
       "    </tr>\n",
       "    <tr>\n",
       "      <th>95</th>\n",
       "      <td>95.959238</td>\n",
       "    </tr>\n",
       "    <tr>\n",
       "      <th>96</th>\n",
       "      <td>96.638963</td>\n",
       "    </tr>\n",
       "    <tr>\n",
       "      <th>97</th>\n",
       "      <td>96.724343</td>\n",
       "    </tr>\n",
       "    <tr>\n",
       "      <th>98</th>\n",
       "      <td>97.734301</td>\n",
       "    </tr>\n",
       "    <tr>\n",
       "      <th>99</th>\n",
       "      <td>98.669528</td>\n",
       "    </tr>\n",
       "  </tbody>\n",
       "</table>\n",
       "<p>100 rows × 1 columns</p>\n",
       "</div>"
      ],
      "text/plain": [
       "        count\n",
       "0    1.859026\n",
       "1    2.066667\n",
       "2    3.367093\n",
       "3    3.789976\n",
       "4    4.459404\n",
       "..        ...\n",
       "95  95.959238\n",
       "96  96.638963\n",
       "97  96.724343\n",
       "98  97.734301\n",
       "99  98.669528\n",
       "\n",
       "[100 rows x 1 columns]"
      ]
     },
     "execution_count": 7,
     "metadata": {},
     "output_type": "execute_result"
    }
   ],
   "source": [
    "df"
   ]
  },
  {
   "cell_type": "code",
   "execution_count": 8,
   "id": "72f6b37d",
   "metadata": {},
   "outputs": [
    {
     "data": {
      "text/html": [
       "<div>\n",
       "<style scoped>\n",
       "    .dataframe tbody tr th:only-of-type {\n",
       "        vertical-align: middle;\n",
       "    }\n",
       "\n",
       "    .dataframe tbody tr th {\n",
       "        vertical-align: top;\n",
       "    }\n",
       "\n",
       "    .dataframe thead th {\n",
       "        text-align: right;\n",
       "    }\n",
       "</style>\n",
       "<table border=\"1\" class=\"dataframe\">\n",
       "  <thead>\n",
       "    <tr style=\"text-align: right;\">\n",
       "      <th></th>\n",
       "      <th>count</th>\n",
       "    </tr>\n",
       "  </thead>\n",
       "  <tbody>\n",
       "    <tr>\n",
       "      <th>count</th>\n",
       "      <td>100.000000</td>\n",
       "    </tr>\n",
       "    <tr>\n",
       "      <th>mean</th>\n",
       "      <td>47.846111</td>\n",
       "    </tr>\n",
       "    <tr>\n",
       "      <th>std</th>\n",
       "      <td>30.486163</td>\n",
       "    </tr>\n",
       "    <tr>\n",
       "      <th>min</th>\n",
       "      <td>1.859026</td>\n",
       "    </tr>\n",
       "    <tr>\n",
       "      <th>25%</th>\n",
       "      <td>17.715566</td>\n",
       "    </tr>\n",
       "    <tr>\n",
       "      <th>50%</th>\n",
       "      <td>44.652574</td>\n",
       "    </tr>\n",
       "    <tr>\n",
       "      <th>75%</th>\n",
       "      <td>74.141414</td>\n",
       "    </tr>\n",
       "    <tr>\n",
       "      <th>max</th>\n",
       "      <td>98.669528</td>\n",
       "    </tr>\n",
       "  </tbody>\n",
       "</table>\n",
       "</div>"
      ],
      "text/plain": [
       "            count\n",
       "count  100.000000\n",
       "mean    47.846111\n",
       "std     30.486163\n",
       "min      1.859026\n",
       "25%     17.715566\n",
       "50%     44.652574\n",
       "75%     74.141414\n",
       "max     98.669528"
      ]
     },
     "execution_count": 8,
     "metadata": {},
     "output_type": "execute_result"
    }
   ],
   "source": [
    "summary\n"
   ]
  },
  {
   "cell_type": "code",
   "execution_count": 32,
   "id": "8b07a229",
   "metadata": {},
   "outputs": [
    {
     "data": {
      "image/png": "[encoded data removed]",
      "text/plain": [
       "<Figure size 432x288 with 2 Axes>"
      ]
     },
     "metadata": {
      "needs_background": "light"
     },
     "output_type": "display_data"
    }
   ],
   "source": [
    "df = pd.DataFrame({\"count\" : np.sort(np.random.rand(100))*100})\n",
    "\n",
    "summary=pd.DataFrame(df['count'].describe())\n",
    "\n",
    "fig,(ax,tabax) = plt.subplots(ncols=2, gridspec_kw={'width_ratios': [3, 1]})\n",
    "ax.barh(range(len(df)),df[\"count\"])\n",
    "\n",
    "tabax.axis(\"off\")\n",
    "tabax.table(cellText=summary.values,\n",
    "          rowLabels=summary.index,\n",
    "          colLabels=summary.columns,\n",
    "          cellLoc = 'right', rowLoc = 'center',\n",
    "          loc='center')\n",
    "\n",
    "plt.savefig(\"out.png\")\n",
    "plt.show()"
   ]
  },
  {
   "cell_type": "code",
   "execution_count": 91,
   "id": "f4b38faa",
   "metadata": {},
   "outputs": [
    {
     "data": {
      "image/png": "[encoded data removed]",
      "text/plain": [
       "<Figure size 432x288 with 2 Axes>"
      ]
     },
     "metadata": {
      "needs_background": "light"
     },
     "output_type": "display_data"
    }
   ],
   "source": [
    "df = pd.DataFrame({\"count\" : np.sort(np.random.rand(100))*100})\n",
    "widths=[1,1]\n",
    "heights=[4,1]\n",
    "\n",
    "summary=pd.DataFrame(df['count'].describe())\n",
    "\n",
    "fig=plt.figure(constrained_layout=True)\n",
    "\n",
    "spec = fig.add_gridspec(nrows=2, ncols=2, width_ratios=widths, height_ratios=heights)\n",
    "\n",
    "    \n",
    "graf1 = fig.add_subplot(spec[0,1])\n",
    "label = 'Width: {}\\nHeight: {}'.format(widths[1], heights[0])\n",
    "graf1.annotate(label, (0.1, 0.5), xycoords='axes fraction', va= 'center')\n",
    "\n",
    "graf2= fig.add_subplot(spec[1,1])\n",
    "label2 = 'Width: {}\\nHeight: {}'.format(widths[1], heights[1])\n",
    "graf2.annotate(label2, (0.1, 0.5), xycoords='axes fraction', va= 'center')\n",
    "    \n",
    "graf1.barh(range(len(df)),df[\"count\"])\n",
    "graf2.axis(\"off\")\n",
    "graf2.table(cellText=summary.values,\n",
    "          rowLabels=summary.index,\n",
    "          colLabels=summary.columns,\n",
    "          cellLoc = 'right', rowLoc = 'center',\n",
    "          loc='center')\n",
    "plt.savefig('attached_data_to_chart.png')\n",
    "plt.show()"
   ]
  },
  {
   "cell_type": "code",
   "execution_count": null,
   "id": "96142683",
   "metadata": {},
   "outputs": [],
   "source": []
  },
  {
   "cell_type": "code",
   "execution_count": null,
   "id": "b93a9f98",
   "metadata": {},
   "outputs": [],
   "source": []
  }
 ],
 "metadata": {
  "kernelspec": {
   "display_name": "Python 3 (ipykernel)",
   "language": "python",
   "name": "python3"
  },
  "language_info": {
   "codemirror_mode": {
    "name": "ipython",
    "version": 3
   },
   "file_extension": ".py",
   "mimetype": "text/x-python",
   "name": "python",
   "nbconvert_exporter": "python",
   "pygments_lexer": "ipython3",
   "version": "3.8.10"
  }
 },
 "nbformat": 4,
 "nbformat_minor": 5
}
