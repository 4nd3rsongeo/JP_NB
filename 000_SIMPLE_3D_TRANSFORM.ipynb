{
 "cells": [
  {
   "cell_type": "code",
   "execution_count": 1,
   "id": "a8612b87",
   "metadata": {},
   "outputs": [],
   "source": [
    "import pandas as pd\n",
    "import numpy as np"
   ]
  },
  {
   "cell_type": "code",
   "execution_count": 10,
   "id": "d3afa182",
   "metadata": {},
   "outputs": [],
   "source": [
    "def M3DT(coord_vector, alpha_d, beta_d, theta_d):\n",
    "    \n",
    "    alpha = np.radians(alpha_d)\n",
    "    beta  = np.radians(beta_d)\n",
    "    theta = np.radians(theta_d)    \n",
    "    \n",
    "    a11 = np.cos(alpha)*np.cos(theta) + np.sin(alpha)*np.sin(beta)*np.sin(theta)\n",
    "    a12 = -np.sin(alpha)*np.cos(theta) + np.cos(alpha)*np.sin(beta)*np.sin(theta)\n",
    "    a13 = -np.cos(beta)*np.sin(theta)\n",
    "    \n",
    "    a21 = np.sin(alpha)*np.cos(beta)\n",
    "    a22 = np.cos(alpha)*np.cos(beta)\n",
    "    a23 = np.sin(beta)\n",
    "    \n",
    "    a31 = np.cos(alpha)*np.sin(theta)-np.sin(alpha)*np.sin(beta)*np.cos(theta)\n",
    "    a32 = -np.sin(alpha)*np.sin(theta)-np.cos(alpha)*np.sin(beta)*np.cos(theta)\n",
    "    a33 = np.cos(beta)*np.cos(theta)\n",
    "    \n",
    "    #x,y,z = df.loc[444,'XI'], df.loc[444,'XI'], df.loc[444,'XI']\n",
    "    \n",
    "    mt = np.array([[a11,a12,a13], [a21,a22,a23], [a31, a32, a33]])\n",
    "    #s = np.array([[x],[y],[z]])   \n",
    "        \n",
    "    t_coord = mt.dot(coord_vector)\n",
    "    return t_coord\n",
    "    "
   ]
  },
  {
   "cell_type": "code",
   "execution_count": 6,
   "id": "588e6bcb",
   "metadata": {},
   "outputs": [],
   "source": [
    "vector=[[1],[0],[10]]"
   ]
  },
  {
   "cell_type": "code",
   "execution_count": 7,
   "id": "3501fdfa",
   "metadata": {},
   "outputs": [],
   "source": [
    "nv=M3DT(vector, 90,0,0)"
   ]
  },
  {
   "cell_type": "code",
   "execution_count": 9,
   "id": "3c007667",
   "metadata": {},
   "outputs": [
    {
     "data": {
      "text/plain": [
       "array([[ 0.],\n",
       "       [ 1.],\n",
       "       [10.]])"
      ]
     },
     "execution_count": 9,
     "metadata": {},
     "output_type": "execute_result"
    }
   ],
   "source": [
    "nv.round(3)"
   ]
  },
  {
   "cell_type": "code",
   "execution_count": null,
   "id": "72a37c40",
   "metadata": {},
   "outputs": [],
   "source": []
  }
 ],
 "metadata": {
  "kernelspec": {
   "display_name": "Python 3 (ipykernel)",
   "language": "python",
   "name": "python3"
  },
  "language_info": {
   "codemirror_mode": {
    "name": "ipython",
    "version": 3
   },
   "file_extension": ".py",
   "mimetype": "text/x-python",
   "name": "python",
   "nbconvert_exporter": "python",
   "pygments_lexer": "ipython3",
   "version": "3.8.10"
  }
 },
 "nbformat": 4,
 "nbformat_minor": 5
}
